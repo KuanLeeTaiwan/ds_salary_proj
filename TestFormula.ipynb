{
 "cells": [
  {
   "cell_type": "code",
   "execution_count": 1,
   "id": "6c63ca08",
   "metadata": {},
   "outputs": [],
   "source": [
    "import glassdoorscraper\n",
    "import pandas as pd"
   ]
  },
  {
   "cell_type": "code",
   "execution_count": 2,
   "id": "5e09bc07",
   "metadata": {},
   "outputs": [],
   "source": [
    "keyword = 'Data Scientist'\n",
    "path = \"C:/Users/momo8/Documents/ds_salary_proj/chromedriver.exe\"\n",
    "df = glassdoorscraper.glassdoorscraper(path,keyword,10000,30)"
   ]
  },
  {
   "cell_type": "code",
   "execution_count": 5,
   "id": "508b0059",
   "metadata": {},
   "outputs": [],
   "source": [
    "df = pd.DataFrame(df)"
   ]
  },
  {
   "cell_type": "code",
   "execution_count": 6,
   "id": "7aacf42d",
   "metadata": {},
   "outputs": [],
   "source": [
    "df.to_csv('glassdoor.csv')"
   ]
  }
 ],
 "metadata": {
  "kernelspec": {
   "display_name": "Python 3 (ipykernel)",
   "language": "python",
   "name": "python3"
  },
  "language_info": {
   "codemirror_mode": {
    "name": "ipython",
    "version": 3
   },
   "file_extension": ".py",
   "mimetype": "text/x-python",
   "name": "python",
   "nbconvert_exporter": "python",
   "pygments_lexer": "ipython3",
   "version": "3.9.7"
  }
 },
 "nbformat": 4,
 "nbformat_minor": 5
}
