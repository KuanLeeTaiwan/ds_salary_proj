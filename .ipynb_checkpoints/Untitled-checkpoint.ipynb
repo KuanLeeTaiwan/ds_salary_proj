{
 "cells": [
  {
   "cell_type": "code",
   "execution_count": 1,
   "id": "15a588fd",
   "metadata": {},
   "outputs": [
    {
     "name": "stdout",
     "output_type": "stream",
     "text": [
      "Connected successfully to https://datapane.com as klee\n"
     ]
    }
   ],
   "source": [
    "import pandas as pd\n",
    "import numpy as np\n",
    "import glassdoorscraper \n",
    "import matplotlib.pyplot as plt\n",
    "import plotly.express as px\n",
    "import datapane as dp\n",
    "from collections import Counter\n",
    "import spacy\n",
    "from plotly.subplots import make_subplots\n",
    "import plotly.graph_objects as go\n",
    "!datapane login --token=ed736472d42e1c27ebb425eee63aa0a80e37cec6"
   ]
  },
  {
   "cell_type": "code",
   "execution_count": 337,
   "id": "b3e04d03",
   "metadata": {},
   "outputs": [
    {
     "ename": "KeyError",
     "evalue": "\"['Unnamed: 0.1'] not found in axis\"",
     "output_type": "error",
     "traceback": [
      "\u001b[1;31m---------------------------------------------------------------------------\u001b[0m",
      "\u001b[1;31mKeyError\u001b[0m                                  Traceback (most recent call last)",
      "\u001b[1;32m~\\AppData\\Local\\Temp/ipykernel_13448/4144715231.py\u001b[0m in \u001b[0;36m<module>\u001b[1;34m\u001b[0m\n\u001b[0;32m      1\u001b[0m \u001b[1;31m#Show raw data table\u001b[0m\u001b[1;33m\u001b[0m\u001b[1;33m\u001b[0m\u001b[0m\n\u001b[0;32m      2\u001b[0m \u001b[0mdfraw\u001b[0m \u001b[1;33m=\u001b[0m \u001b[0mpd\u001b[0m\u001b[1;33m.\u001b[0m\u001b[0mread_csv\u001b[0m\u001b[1;33m(\u001b[0m\u001b[1;34m'rawdata.csv'\u001b[0m\u001b[1;33m,\u001b[0m\u001b[0mheader\u001b[0m\u001b[1;33m=\u001b[0m\u001b[1;36m0\u001b[0m\u001b[1;33m)\u001b[0m\u001b[1;33m\u001b[0m\u001b[1;33m\u001b[0m\u001b[0m\n\u001b[1;32m----> 3\u001b[1;33m \u001b[0mdfraw\u001b[0m\u001b[1;33m.\u001b[0m\u001b[0mdrop\u001b[0m\u001b[1;33m(\u001b[0m\u001b[0mcolumns\u001b[0m\u001b[1;33m=\u001b[0m\u001b[1;33m[\u001b[0m\u001b[1;34m'Unnamed: 0'\u001b[0m\u001b[1;33m,\u001b[0m\u001b[1;34m'Unnamed: 0.1'\u001b[0m\u001b[1;33m]\u001b[0m\u001b[1;33m,\u001b[0m\u001b[0minplace\u001b[0m\u001b[1;33m=\u001b[0m\u001b[1;32mTrue\u001b[0m\u001b[1;33m)\u001b[0m\u001b[1;33m\u001b[0m\u001b[1;33m\u001b[0m\u001b[0m\n\u001b[0m\u001b[0;32m      4\u001b[0m dp.Report(\n\u001b[0;32m      5\u001b[0m     \u001b[0mdp\u001b[0m\u001b[1;33m.\u001b[0m\u001b[0mDataTable\u001b[0m\u001b[1;33m(\u001b[0m\u001b[0mdfraw\u001b[0m\u001b[1;33m)\u001b[0m\u001b[1;33m\u001b[0m\u001b[1;33m\u001b[0m\u001b[0m\n",
      "\u001b[1;32m~\\anaconda3\\lib\\site-packages\\pandas\\util\\_decorators.py\u001b[0m in \u001b[0;36mwrapper\u001b[1;34m(*args, **kwargs)\u001b[0m\n\u001b[0;32m    309\u001b[0m                     \u001b[0mstacklevel\u001b[0m\u001b[1;33m=\u001b[0m\u001b[0mstacklevel\u001b[0m\u001b[1;33m,\u001b[0m\u001b[1;33m\u001b[0m\u001b[1;33m\u001b[0m\u001b[0m\n\u001b[0;32m    310\u001b[0m                 )\n\u001b[1;32m--> 311\u001b[1;33m             \u001b[1;32mreturn\u001b[0m \u001b[0mfunc\u001b[0m\u001b[1;33m(\u001b[0m\u001b[1;33m*\u001b[0m\u001b[0margs\u001b[0m\u001b[1;33m,\u001b[0m \u001b[1;33m**\u001b[0m\u001b[0mkwargs\u001b[0m\u001b[1;33m)\u001b[0m\u001b[1;33m\u001b[0m\u001b[1;33m\u001b[0m\u001b[0m\n\u001b[0m\u001b[0;32m    312\u001b[0m \u001b[1;33m\u001b[0m\u001b[0m\n\u001b[0;32m    313\u001b[0m         \u001b[1;32mreturn\u001b[0m \u001b[0mwrapper\u001b[0m\u001b[1;33m\u001b[0m\u001b[1;33m\u001b[0m\u001b[0m\n",
      "\u001b[1;32m~\\anaconda3\\lib\\site-packages\\pandas\\core\\frame.py\u001b[0m in \u001b[0;36mdrop\u001b[1;34m(self, labels, axis, index, columns, level, inplace, errors)\u001b[0m\n\u001b[0;32m   4946\u001b[0m                 \u001b[0mweight\u001b[0m  \u001b[1;36m1.0\u001b[0m     \u001b[1;36m0.8\u001b[0m\u001b[1;33m\u001b[0m\u001b[1;33m\u001b[0m\u001b[0m\n\u001b[0;32m   4947\u001b[0m         \"\"\"\n\u001b[1;32m-> 4948\u001b[1;33m         return super().drop(\n\u001b[0m\u001b[0;32m   4949\u001b[0m             \u001b[0mlabels\u001b[0m\u001b[1;33m=\u001b[0m\u001b[0mlabels\u001b[0m\u001b[1;33m,\u001b[0m\u001b[1;33m\u001b[0m\u001b[1;33m\u001b[0m\u001b[0m\n\u001b[0;32m   4950\u001b[0m             \u001b[0maxis\u001b[0m\u001b[1;33m=\u001b[0m\u001b[0maxis\u001b[0m\u001b[1;33m,\u001b[0m\u001b[1;33m\u001b[0m\u001b[1;33m\u001b[0m\u001b[0m\n",
      "\u001b[1;32m~\\anaconda3\\lib\\site-packages\\pandas\\core\\generic.py\u001b[0m in \u001b[0;36mdrop\u001b[1;34m(self, labels, axis, index, columns, level, inplace, errors)\u001b[0m\n\u001b[0;32m   4277\u001b[0m         \u001b[1;32mfor\u001b[0m \u001b[0maxis\u001b[0m\u001b[1;33m,\u001b[0m \u001b[0mlabels\u001b[0m \u001b[1;32min\u001b[0m \u001b[0maxes\u001b[0m\u001b[1;33m.\u001b[0m\u001b[0mitems\u001b[0m\u001b[1;33m(\u001b[0m\u001b[1;33m)\u001b[0m\u001b[1;33m:\u001b[0m\u001b[1;33m\u001b[0m\u001b[1;33m\u001b[0m\u001b[0m\n\u001b[0;32m   4278\u001b[0m             \u001b[1;32mif\u001b[0m \u001b[0mlabels\u001b[0m \u001b[1;32mis\u001b[0m \u001b[1;32mnot\u001b[0m \u001b[1;32mNone\u001b[0m\u001b[1;33m:\u001b[0m\u001b[1;33m\u001b[0m\u001b[1;33m\u001b[0m\u001b[0m\n\u001b[1;32m-> 4279\u001b[1;33m                 \u001b[0mobj\u001b[0m \u001b[1;33m=\u001b[0m \u001b[0mobj\u001b[0m\u001b[1;33m.\u001b[0m\u001b[0m_drop_axis\u001b[0m\u001b[1;33m(\u001b[0m\u001b[0mlabels\u001b[0m\u001b[1;33m,\u001b[0m \u001b[0maxis\u001b[0m\u001b[1;33m,\u001b[0m \u001b[0mlevel\u001b[0m\u001b[1;33m=\u001b[0m\u001b[0mlevel\u001b[0m\u001b[1;33m,\u001b[0m \u001b[0merrors\u001b[0m\u001b[1;33m=\u001b[0m\u001b[0merrors\u001b[0m\u001b[1;33m)\u001b[0m\u001b[1;33m\u001b[0m\u001b[1;33m\u001b[0m\u001b[0m\n\u001b[0m\u001b[0;32m   4280\u001b[0m \u001b[1;33m\u001b[0m\u001b[0m\n\u001b[0;32m   4281\u001b[0m         \u001b[1;32mif\u001b[0m \u001b[0minplace\u001b[0m\u001b[1;33m:\u001b[0m\u001b[1;33m\u001b[0m\u001b[1;33m\u001b[0m\u001b[0m\n",
      "\u001b[1;32m~\\anaconda3\\lib\\site-packages\\pandas\\core\\generic.py\u001b[0m in \u001b[0;36m_drop_axis\u001b[1;34m(self, labels, axis, level, errors, consolidate, only_slice)\u001b[0m\n\u001b[0;32m   4321\u001b[0m                 \u001b[0mnew_axis\u001b[0m \u001b[1;33m=\u001b[0m \u001b[0maxis\u001b[0m\u001b[1;33m.\u001b[0m\u001b[0mdrop\u001b[0m\u001b[1;33m(\u001b[0m\u001b[0mlabels\u001b[0m\u001b[1;33m,\u001b[0m \u001b[0mlevel\u001b[0m\u001b[1;33m=\u001b[0m\u001b[0mlevel\u001b[0m\u001b[1;33m,\u001b[0m \u001b[0merrors\u001b[0m\u001b[1;33m=\u001b[0m\u001b[0merrors\u001b[0m\u001b[1;33m)\u001b[0m\u001b[1;33m\u001b[0m\u001b[1;33m\u001b[0m\u001b[0m\n\u001b[0;32m   4322\u001b[0m             \u001b[1;32melse\u001b[0m\u001b[1;33m:\u001b[0m\u001b[1;33m\u001b[0m\u001b[1;33m\u001b[0m\u001b[0m\n\u001b[1;32m-> 4323\u001b[1;33m                 \u001b[0mnew_axis\u001b[0m \u001b[1;33m=\u001b[0m \u001b[0maxis\u001b[0m\u001b[1;33m.\u001b[0m\u001b[0mdrop\u001b[0m\u001b[1;33m(\u001b[0m\u001b[0mlabels\u001b[0m\u001b[1;33m,\u001b[0m \u001b[0merrors\u001b[0m\u001b[1;33m=\u001b[0m\u001b[0merrors\u001b[0m\u001b[1;33m)\u001b[0m\u001b[1;33m\u001b[0m\u001b[1;33m\u001b[0m\u001b[0m\n\u001b[0m\u001b[0;32m   4324\u001b[0m             \u001b[0mindexer\u001b[0m \u001b[1;33m=\u001b[0m \u001b[0maxis\u001b[0m\u001b[1;33m.\u001b[0m\u001b[0mget_indexer\u001b[0m\u001b[1;33m(\u001b[0m\u001b[0mnew_axis\u001b[0m\u001b[1;33m)\u001b[0m\u001b[1;33m\u001b[0m\u001b[1;33m\u001b[0m\u001b[0m\n\u001b[0;32m   4325\u001b[0m \u001b[1;33m\u001b[0m\u001b[0m\n",
      "\u001b[1;32m~\\anaconda3\\lib\\site-packages\\pandas\\core\\indexes\\base.py\u001b[0m in \u001b[0;36mdrop\u001b[1;34m(self, labels, errors)\u001b[0m\n\u001b[0;32m   6642\u001b[0m         \u001b[1;32mif\u001b[0m \u001b[0mmask\u001b[0m\u001b[1;33m.\u001b[0m\u001b[0many\u001b[0m\u001b[1;33m(\u001b[0m\u001b[1;33m)\u001b[0m\u001b[1;33m:\u001b[0m\u001b[1;33m\u001b[0m\u001b[1;33m\u001b[0m\u001b[0m\n\u001b[0;32m   6643\u001b[0m             \u001b[1;32mif\u001b[0m \u001b[0merrors\u001b[0m \u001b[1;33m!=\u001b[0m \u001b[1;34m\"ignore\"\u001b[0m\u001b[1;33m:\u001b[0m\u001b[1;33m\u001b[0m\u001b[1;33m\u001b[0m\u001b[0m\n\u001b[1;32m-> 6644\u001b[1;33m                 \u001b[1;32mraise\u001b[0m \u001b[0mKeyError\u001b[0m\u001b[1;33m(\u001b[0m\u001b[1;34mf\"{list(labels[mask])} not found in axis\"\u001b[0m\u001b[1;33m)\u001b[0m\u001b[1;33m\u001b[0m\u001b[1;33m\u001b[0m\u001b[0m\n\u001b[0m\u001b[0;32m   6645\u001b[0m             \u001b[0mindexer\u001b[0m \u001b[1;33m=\u001b[0m \u001b[0mindexer\u001b[0m\u001b[1;33m[\u001b[0m\u001b[1;33m~\u001b[0m\u001b[0mmask\u001b[0m\u001b[1;33m]\u001b[0m\u001b[1;33m\u001b[0m\u001b[1;33m\u001b[0m\u001b[0m\n\u001b[0;32m   6646\u001b[0m         \u001b[1;32mreturn\u001b[0m \u001b[0mself\u001b[0m\u001b[1;33m.\u001b[0m\u001b[0mdelete\u001b[0m\u001b[1;33m(\u001b[0m\u001b[0mindexer\u001b[0m\u001b[1;33m)\u001b[0m\u001b[1;33m\u001b[0m\u001b[1;33m\u001b[0m\u001b[0m\n",
      "\u001b[1;31mKeyError\u001b[0m: \"['Unnamed: 0.1'] not found in axis\""
     ]
    }
   ],
   "source": [
    "#Show raw data table\n",
    "dfraw = pd.read_csv('rawdata.csv',header=0)\n",
    "dfraw.drop(columns=['Unnamed: 0','Unnamed: 0.1'],inplace=True)\n",
    "dp.Report(\n",
    "    dp.DataTable(dfraw)\n",
    ").upload(name=\"DS_Raw_ByKuan\")"
   ]
  },
  {
   "cell_type": "code",
   "execution_count": 339,
   "id": "909704a0",
   "metadata": {},
   "outputs": [],
   "source": [
    "#Show Cleaned data\n",
    "df = pd.read_csv('glassdoor_cleaned.csv',header=0)\n",
    "df.drop(columns=['Unnamed: 0','Unnamed: 0.1'],inplace=True)\n",
    "#dp.Report(\n",
    "#    dp.DataTable(df)\n",
    "# ).upload(name=\"DS_Data_ByKuan\")"
   ]
  },
  {
   "cell_type": "code",
   "execution_count": 345,
   "id": "e74eb0ef",
   "metadata": {},
   "outputs": [
    {
     "data": {
      "application/vnd.plotly.v1+json": {
       "config": {
        "plotlyServerURL": "https://plot.ly"
       },
       "data": [
        {
         "geo": "geo",
         "hovertemplate": "Title=Data Analyst<br>Name=%{marker.size}<br>Location=%{location}<extra></extra>",
         "legendgroup": "Data Analyst",
         "locationmode": "USA-states",
         "locations": [
          "AZ",
          "CA",
          "CO",
          "IL",
          "MD",
          "MO",
          "OR",
          "TX",
          "MD",
          "Remote"
         ],
         "marker": {
          "color": "#636efa",
          "size": [
           1,
           2,
           1,
           3,
           1,
           3,
           1,
           1,
           3,
           31
          ],
          "sizemode": "area",
          "sizeref": 0.0569,
          "symbol": "circle"
         },
         "mode": "markers",
         "name": "Data Analyst",
         "showlegend": true,
         "type": "scattergeo"
        },
        {
         "geo": "geo",
         "hovertemplate": "Title=Data Engineer<br>Name=%{marker.size}<br>Location=%{location}<extra></extra>",
         "legendgroup": "Data Engineer",
         "locationmode": "USA-states",
         "locations": [
          "AZ",
          "CA",
          "IL",
          "KS",
          "MD",
          "TX",
          "Remote"
         ],
         "marker": {
          "color": "#EF553B",
          "size": [
           1,
           2,
           1,
           1,
           1,
           1,
           9
          ],
          "sizemode": "area",
          "sizeref": 0.0569,
          "symbol": "circle"
         },
         "mode": "markers",
         "name": "Data Engineer",
         "showlegend": true,
         "type": "scattergeo"
        },
        {
         "geo": "geo",
         "hovertemplate": "Title=Data Scietist<br>Name=%{marker.size}<br>Location=%{location}<extra></extra>",
         "legendgroup": "Data Scietist",
         "locationmode": "USA-states",
         "locations": [
          "AZ",
          "CA",
          "CO",
          "DC",
          "GA",
          "IL",
          "KS",
          "MA",
          "MD",
          "MO",
          "NV",
          "NY",
          "OH",
          "OR",
          "PA",
          "SC",
          "TX",
          "UT",
          "VA",
          "WA",
          "MD",
          "NV",
          "NoLocation",
          "Remote"
         ],
         "marker": {
          "color": "#00cc96",
          "size": [
           6,
           30,
           11,
           36,
           1,
           48,
           1,
           10,
           36,
           37,
           1,
           1,
           2,
           29,
           9,
           20,
           25,
           2,
           20,
           12,
           32,
           2,
           3,
           569
          ],
          "sizemode": "area",
          "sizeref": 0.0569,
          "symbol": "circle"
         },
         "mode": "markers",
         "name": "Data Scietist",
         "showlegend": true,
         "type": "scattergeo"
        },
        {
         "geo": "geo",
         "hovertemplate": "Title=ML<br>Name=%{marker.size}<br>Location=%{location}<extra></extra>",
         "legendgroup": "ML",
         "locationmode": "USA-states",
         "locations": [
          "IL",
          "MD",
          "MO",
          "OR",
          "SC",
          "MD",
          "Remote"
         ],
         "marker": {
          "color": "#ab63fa",
          "size": [
           5,
           3,
           8,
           1,
           2,
           1,
           18
          ],
          "sizemode": "area",
          "sizeref": 0.0569,
          "symbol": "circle"
         },
         "mode": "markers",
         "name": "ML",
         "showlegend": true,
         "type": "scattergeo"
        }
       ],
       "layout": {
        "geo": {
         "center": {},
         "domain": {
          "x": [
           0,
           1
          ],
          "y": [
           0,
           1
          ]
         },
         "projection": {
          "type": "albers usa"
         }
        },
        "legend": {
         "itemsizing": "constant",
         "title": {
          "text": "Title"
         },
         "tracegroupgap": 0
        },
        "margin": {
         "t": 60
        },
        "template": {
         "data": {
          "bar": [
           {
            "error_x": {
             "color": "#2a3f5f"
            },
            "error_y": {
             "color": "#2a3f5f"
            },
            "marker": {
             "line": {
              "color": "#E5ECF6",
              "width": 0.5
             },
             "pattern": {
              "fillmode": "overlay",
              "size": 10,
              "solidity": 0.2
             }
            },
            "type": "bar"
           }
          ],
          "barpolar": [
           {
            "marker": {
             "line": {
              "color": "#E5ECF6",
              "width": 0.5
             },
             "pattern": {
              "fillmode": "overlay",
              "size": 10,
              "solidity": 0.2
             }
            },
            "type": "barpolar"
           }
          ],
          "carpet": [
           {
            "aaxis": {
             "endlinecolor": "#2a3f5f",
             "gridcolor": "white",
             "linecolor": "white",
             "minorgridcolor": "white",
             "startlinecolor": "#2a3f5f"
            },
            "baxis": {
             "endlinecolor": "#2a3f5f",
             "gridcolor": "white",
             "linecolor": "white",
             "minorgridcolor": "white",
             "startlinecolor": "#2a3f5f"
            },
            "type": "carpet"
           }
          ],
          "choropleth": [
           {
            "colorbar": {
             "outlinewidth": 0,
             "ticks": ""
            },
            "type": "choropleth"
           }
          ],
          "contour": [
           {
            "colorbar": {
             "outlinewidth": 0,
             "ticks": ""
            },
            "colorscale": [
             [
              0,
              "#0d0887"
             ],
             [
              0.1111111111111111,
              "#46039f"
             ],
             [
              0.2222222222222222,
              "#7201a8"
             ],
             [
              0.3333333333333333,
              "#9c179e"
             ],
             [
              0.4444444444444444,
              "#bd3786"
             ],
             [
              0.5555555555555556,
              "#d8576b"
             ],
             [
              0.6666666666666666,
              "#ed7953"
             ],
             [
              0.7777777777777778,
              "#fb9f3a"
             ],
             [
              0.8888888888888888,
              "#fdca26"
             ],
             [
              1,
              "#f0f921"
             ]
            ],
            "type": "contour"
           }
          ],
          "contourcarpet": [
           {
            "colorbar": {
             "outlinewidth": 0,
             "ticks": ""
            },
            "type": "contourcarpet"
           }
          ],
          "heatmap": [
           {
            "colorbar": {
             "outlinewidth": 0,
             "ticks": ""
            },
            "colorscale": [
             [
              0,
              "#0d0887"
             ],
             [
              0.1111111111111111,
              "#46039f"
             ],
             [
              0.2222222222222222,
              "#7201a8"
             ],
             [
              0.3333333333333333,
              "#9c179e"
             ],
             [
              0.4444444444444444,
              "#bd3786"
             ],
             [
              0.5555555555555556,
              "#d8576b"
             ],
             [
              0.6666666666666666,
              "#ed7953"
             ],
             [
              0.7777777777777778,
              "#fb9f3a"
             ],
             [
              0.8888888888888888,
              "#fdca26"
             ],
             [
              1,
              "#f0f921"
             ]
            ],
            "type": "heatmap"
           }
          ],
          "heatmapgl": [
           {
            "colorbar": {
             "outlinewidth": 0,
             "ticks": ""
            },
            "colorscale": [
             [
              0,
              "#0d0887"
             ],
             [
              0.1111111111111111,
              "#46039f"
             ],
             [
              0.2222222222222222,
              "#7201a8"
             ],
             [
              0.3333333333333333,
              "#9c179e"
             ],
             [
              0.4444444444444444,
              "#bd3786"
             ],
             [
              0.5555555555555556,
              "#d8576b"
             ],
             [
              0.6666666666666666,
              "#ed7953"
             ],
             [
              0.7777777777777778,
              "#fb9f3a"
             ],
             [
              0.8888888888888888,
              "#fdca26"
             ],
             [
              1,
              "#f0f921"
             ]
            ],
            "type": "heatmapgl"
           }
          ],
          "histogram": [
           {
            "marker": {
             "pattern": {
              "fillmode": "overlay",
              "size": 10,
              "solidity": 0.2
             }
            },
            "type": "histogram"
           }
          ],
          "histogram2d": [
           {
            "colorbar": {
             "outlinewidth": 0,
             "ticks": ""
            },
            "colorscale": [
             [
              0,
              "#0d0887"
             ],
             [
              0.1111111111111111,
              "#46039f"
             ],
             [
              0.2222222222222222,
              "#7201a8"
             ],
             [
              0.3333333333333333,
              "#9c179e"
             ],
             [
              0.4444444444444444,
              "#bd3786"
             ],
             [
              0.5555555555555556,
              "#d8576b"
             ],
             [
              0.6666666666666666,
              "#ed7953"
             ],
             [
              0.7777777777777778,
              "#fb9f3a"
             ],
             [
              0.8888888888888888,
              "#fdca26"
             ],
             [
              1,
              "#f0f921"
             ]
            ],
            "type": "histogram2d"
           }
          ],
          "histogram2dcontour": [
           {
            "colorbar": {
             "outlinewidth": 0,
             "ticks": ""
            },
            "colorscale": [
             [
              0,
              "#0d0887"
             ],
             [
              0.1111111111111111,
              "#46039f"
             ],
             [
              0.2222222222222222,
              "#7201a8"
             ],
             [
              0.3333333333333333,
              "#9c179e"
             ],
             [
              0.4444444444444444,
              "#bd3786"
             ],
             [
              0.5555555555555556,
              "#d8576b"
             ],
             [
              0.6666666666666666,
              "#ed7953"
             ],
             [
              0.7777777777777778,
              "#fb9f3a"
             ],
             [
              0.8888888888888888,
              "#fdca26"
             ],
             [
              1,
              "#f0f921"
             ]
            ],
            "type": "histogram2dcontour"
           }
          ],
          "mesh3d": [
           {
            "colorbar": {
             "outlinewidth": 0,
             "ticks": ""
            },
            "type": "mesh3d"
           }
          ],
          "parcoords": [
           {
            "line": {
             "colorbar": {
              "outlinewidth": 0,
              "ticks": ""
             }
            },
            "type": "parcoords"
           }
          ],
          "pie": [
           {
            "automargin": true,
            "type": "pie"
           }
          ],
          "scatter": [
           {
            "marker": {
             "colorbar": {
              "outlinewidth": 0,
              "ticks": ""
             }
            },
            "type": "scatter"
           }
          ],
          "scatter3d": [
           {
            "line": {
             "colorbar": {
              "outlinewidth": 0,
              "ticks": ""
             }
            },
            "marker": {
             "colorbar": {
              "outlinewidth": 0,
              "ticks": ""
             }
            },
            "type": "scatter3d"
           }
          ],
          "scattercarpet": [
           {
            "marker": {
             "colorbar": {
              "outlinewidth": 0,
              "ticks": ""
             }
            },
            "type": "scattercarpet"
           }
          ],
          "scattergeo": [
           {
            "marker": {
             "colorbar": {
              "outlinewidth": 0,
              "ticks": ""
             }
            },
            "type": "scattergeo"
           }
          ],
          "scattergl": [
           {
            "marker": {
             "colorbar": {
              "outlinewidth": 0,
              "ticks": ""
             }
            },
            "type": "scattergl"
           }
          ],
          "scattermapbox": [
           {
            "marker": {
             "colorbar": {
              "outlinewidth": 0,
              "ticks": ""
             }
            },
            "type": "scattermapbox"
           }
          ],
          "scatterpolar": [
           {
            "marker": {
             "colorbar": {
              "outlinewidth": 0,
              "ticks": ""
             }
            },
            "type": "scatterpolar"
           }
          ],
          "scatterpolargl": [
           {
            "marker": {
             "colorbar": {
              "outlinewidth": 0,
              "ticks": ""
             }
            },
            "type": "scatterpolargl"
           }
          ],
          "scatterternary": [
           {
            "marker": {
             "colorbar": {
              "outlinewidth": 0,
              "ticks": ""
             }
            },
            "type": "scatterternary"
           }
          ],
          "surface": [
           {
            "colorbar": {
             "outlinewidth": 0,
             "ticks": ""
            },
            "colorscale": [
             [
              0,
              "#0d0887"
             ],
             [
              0.1111111111111111,
              "#46039f"
             ],
             [
              0.2222222222222222,
              "#7201a8"
             ],
             [
              0.3333333333333333,
              "#9c179e"
             ],
             [
              0.4444444444444444,
              "#bd3786"
             ],
             [
              0.5555555555555556,
              "#d8576b"
             ],
             [
              0.6666666666666666,
              "#ed7953"
             ],
             [
              0.7777777777777778,
              "#fb9f3a"
             ],
             [
              0.8888888888888888,
              "#fdca26"
             ],
             [
              1,
              "#f0f921"
             ]
            ],
            "type": "surface"
           }
          ],
          "table": [
           {
            "cells": {
             "fill": {
              "color": "#EBF0F8"
             },
             "line": {
              "color": "white"
             }
            },
            "header": {
             "fill": {
              "color": "#C8D4E3"
             },
             "line": {
              "color": "white"
             }
            },
            "type": "table"
           }
          ]
         },
         "layout": {
          "annotationdefaults": {
           "arrowcolor": "#2a3f5f",
           "arrowhead": 0,
           "arrowwidth": 1
          },
          "autotypenumbers": "strict",
          "coloraxis": {
           "colorbar": {
            "outlinewidth": 0,
            "ticks": ""
           }
          },
          "colorscale": {
           "diverging": [
            [
             0,
             "#8e0152"
            ],
            [
             0.1,
             "#c51b7d"
            ],
            [
             0.2,
             "#de77ae"
            ],
            [
             0.3,
             "#f1b6da"
            ],
            [
             0.4,
             "#fde0ef"
            ],
            [
             0.5,
             "#f7f7f7"
            ],
            [
             0.6,
             "#e6f5d0"
            ],
            [
             0.7,
             "#b8e186"
            ],
            [
             0.8,
             "#7fbc41"
            ],
            [
             0.9,
             "#4d9221"
            ],
            [
             1,
             "#276419"
            ]
           ],
           "sequential": [
            [
             0,
             "#0d0887"
            ],
            [
             0.1111111111111111,
             "#46039f"
            ],
            [
             0.2222222222222222,
             "#7201a8"
            ],
            [
             0.3333333333333333,
             "#9c179e"
            ],
            [
             0.4444444444444444,
             "#bd3786"
            ],
            [
             0.5555555555555556,
             "#d8576b"
            ],
            [
             0.6666666666666666,
             "#ed7953"
            ],
            [
             0.7777777777777778,
             "#fb9f3a"
            ],
            [
             0.8888888888888888,
             "#fdca26"
            ],
            [
             1,
             "#f0f921"
            ]
           ],
           "sequentialminus": [
            [
             0,
             "#0d0887"
            ],
            [
             0.1111111111111111,
             "#46039f"
            ],
            [
             0.2222222222222222,
             "#7201a8"
            ],
            [
             0.3333333333333333,
             "#9c179e"
            ],
            [
             0.4444444444444444,
             "#bd3786"
            ],
            [
             0.5555555555555556,
             "#d8576b"
            ],
            [
             0.6666666666666666,
             "#ed7953"
            ],
            [
             0.7777777777777778,
             "#fb9f3a"
            ],
            [
             0.8888888888888888,
             "#fdca26"
            ],
            [
             1,
             "#f0f921"
            ]
           ]
          },
          "colorway": [
           "#636efa",
           "#EF553B",
           "#00cc96",
           "#ab63fa",
           "#FFA15A",
           "#19d3f3",
           "#FF6692",
           "#B6E880",
           "#FF97FF",
           "#FECB52"
          ],
          "font": {
           "color": "#2a3f5f"
          },
          "geo": {
           "bgcolor": "white",
           "lakecolor": "white",
           "landcolor": "#E5ECF6",
           "showlakes": true,
           "showland": true,
           "subunitcolor": "white"
          },
          "hoverlabel": {
           "align": "left"
          },
          "hovermode": "closest",
          "mapbox": {
           "style": "light"
          },
          "paper_bgcolor": "white",
          "plot_bgcolor": "#E5ECF6",
          "polar": {
           "angularaxis": {
            "gridcolor": "white",
            "linecolor": "white",
            "ticks": ""
           },
           "bgcolor": "#E5ECF6",
           "radialaxis": {
            "gridcolor": "white",
            "linecolor": "white",
            "ticks": ""
           }
          },
          "scene": {
           "xaxis": {
            "backgroundcolor": "#E5ECF6",
            "gridcolor": "white",
            "gridwidth": 2,
            "linecolor": "white",
            "showbackground": true,
            "ticks": "",
            "zerolinecolor": "white"
           },
           "yaxis": {
            "backgroundcolor": "#E5ECF6",
            "gridcolor": "white",
            "gridwidth": 2,
            "linecolor": "white",
            "showbackground": true,
            "ticks": "",
            "zerolinecolor": "white"
           },
           "zaxis": {
            "backgroundcolor": "#E5ECF6",
            "gridcolor": "white",
            "gridwidth": 2,
            "linecolor": "white",
            "showbackground": true,
            "ticks": "",
            "zerolinecolor": "white"
           }
          },
          "shapedefaults": {
           "line": {
            "color": "#2a3f5f"
           }
          },
          "ternary": {
           "aaxis": {
            "gridcolor": "white",
            "linecolor": "white",
            "ticks": ""
           },
           "baxis": {
            "gridcolor": "white",
            "linecolor": "white",
            "ticks": ""
           },
           "bgcolor": "#E5ECF6",
           "caxis": {
            "gridcolor": "white",
            "linecolor": "white",
            "ticks": ""
           }
          },
          "title": {
           "x": 0.05
          },
          "xaxis": {
           "automargin": true,
           "gridcolor": "white",
           "linecolor": "white",
           "ticks": "",
           "title": {
            "standoff": 15
           },
           "zerolinecolor": "white",
           "zerolinewidth": 2
          },
          "yaxis": {
           "automargin": true,
           "gridcolor": "white",
           "linecolor": "white",
           "ticks": "",
           "title": {
            "standoff": 15
           },
           "zerolinecolor": "white",
           "zerolinewidth": 2
          }
         }
        }
       }
      },
      "text/html": [
       "<div>                            <div id=\"f035eb3d-f513-4852-a25a-43c3c7db27e0\" class=\"plotly-graph-div\" style=\"height:525px; width:100%;\"></div>            <script type=\"text/javascript\">                require([\"plotly\"], function(Plotly) {                    window.PLOTLYENV=window.PLOTLYENV || {};                                    if (document.getElementById(\"f035eb3d-f513-4852-a25a-43c3c7db27e0\")) {                    Plotly.newPlot(                        \"f035eb3d-f513-4852-a25a-43c3c7db27e0\",                        [{\"geo\":\"geo\",\"hovertemplate\":\"Title=Data Analyst<br>Name=%{marker.size}<br>Location=%{location}<extra></extra>\",\"legendgroup\":\"Data Analyst\",\"locationmode\":\"USA-states\",\"locations\":[\"AZ\",\"CA\",\"CO\",\"IL\",\"MD\",\"MO\",\"OR\",\"TX\",\"MD\",\"Remote\"],\"marker\":{\"color\":\"#636efa\",\"size\":[1,2,1,3,1,3,1,1,3,31],\"sizemode\":\"area\",\"sizeref\":0.0569,\"symbol\":\"circle\"},\"mode\":\"markers\",\"name\":\"Data Analyst\",\"showlegend\":true,\"type\":\"scattergeo\"},{\"geo\":\"geo\",\"hovertemplate\":\"Title=Data Engineer<br>Name=%{marker.size}<br>Location=%{location}<extra></extra>\",\"legendgroup\":\"Data Engineer\",\"locationmode\":\"USA-states\",\"locations\":[\"AZ\",\"CA\",\"IL\",\"KS\",\"MD\",\"TX\",\"Remote\"],\"marker\":{\"color\":\"#EF553B\",\"size\":[1,2,1,1,1,1,9],\"sizemode\":\"area\",\"sizeref\":0.0569,\"symbol\":\"circle\"},\"mode\":\"markers\",\"name\":\"Data Engineer\",\"showlegend\":true,\"type\":\"scattergeo\"},{\"geo\":\"geo\",\"hovertemplate\":\"Title=Data Scietist<br>Name=%{marker.size}<br>Location=%{location}<extra></extra>\",\"legendgroup\":\"Data Scietist\",\"locationmode\":\"USA-states\",\"locations\":[\"AZ\",\"CA\",\"CO\",\"DC\",\"GA\",\"IL\",\"KS\",\"MA\",\"MD\",\"MO\",\"NV\",\"NY\",\"OH\",\"OR\",\"PA\",\"SC\",\"TX\",\"UT\",\"VA\",\"WA\",\"MD\",\"NV\",\"NoLocation\",\"Remote\"],\"marker\":{\"color\":\"#00cc96\",\"size\":[6,30,11,36,1,48,1,10,36,37,1,1,2,29,9,20,25,2,20,12,32,2,3,569],\"sizemode\":\"area\",\"sizeref\":0.0569,\"symbol\":\"circle\"},\"mode\":\"markers\",\"name\":\"Data Scietist\",\"showlegend\":true,\"type\":\"scattergeo\"},{\"geo\":\"geo\",\"hovertemplate\":\"Title=ML<br>Name=%{marker.size}<br>Location=%{location}<extra></extra>\",\"legendgroup\":\"ML\",\"locationmode\":\"USA-states\",\"locations\":[\"IL\",\"MD\",\"MO\",\"OR\",\"SC\",\"MD\",\"Remote\"],\"marker\":{\"color\":\"#ab63fa\",\"size\":[5,3,8,1,2,1,18],\"sizemode\":\"area\",\"sizeref\":0.0569,\"symbol\":\"circle\"},\"mode\":\"markers\",\"name\":\"ML\",\"showlegend\":true,\"type\":\"scattergeo\"}],                        {\"template\":{\"data\":{\"bar\":[{\"error_x\":{\"color\":\"#2a3f5f\"},\"error_y\":{\"color\":\"#2a3f5f\"},\"marker\":{\"line\":{\"color\":\"#E5ECF6\",\"width\":0.5},\"pattern\":{\"fillmode\":\"overlay\",\"size\":10,\"solidity\":0.2}},\"type\":\"bar\"}],\"barpolar\":[{\"marker\":{\"line\":{\"color\":\"#E5ECF6\",\"width\":0.5},\"pattern\":{\"fillmode\":\"overlay\",\"size\":10,\"solidity\":0.2}},\"type\":\"barpolar\"}],\"carpet\":[{\"aaxis\":{\"endlinecolor\":\"#2a3f5f\",\"gridcolor\":\"white\",\"linecolor\":\"white\",\"minorgridcolor\":\"white\",\"startlinecolor\":\"#2a3f5f\"},\"baxis\":{\"endlinecolor\":\"#2a3f5f\",\"gridcolor\":\"white\",\"linecolor\":\"white\",\"minorgridcolor\":\"white\",\"startlinecolor\":\"#2a3f5f\"},\"type\":\"carpet\"}],\"choropleth\":[{\"colorbar\":{\"outlinewidth\":0,\"ticks\":\"\"},\"type\":\"choropleth\"}],\"contour\":[{\"colorbar\":{\"outlinewidth\":0,\"ticks\":\"\"},\"colorscale\":[[0.0,\"#0d0887\"],[0.1111111111111111,\"#46039f\"],[0.2222222222222222,\"#7201a8\"],[0.3333333333333333,\"#9c179e\"],[0.4444444444444444,\"#bd3786\"],[0.5555555555555556,\"#d8576b\"],[0.6666666666666666,\"#ed7953\"],[0.7777777777777778,\"#fb9f3a\"],[0.8888888888888888,\"#fdca26\"],[1.0,\"#f0f921\"]],\"type\":\"contour\"}],\"contourcarpet\":[{\"colorbar\":{\"outlinewidth\":0,\"ticks\":\"\"},\"type\":\"contourcarpet\"}],\"heatmap\":[{\"colorbar\":{\"outlinewidth\":0,\"ticks\":\"\"},\"colorscale\":[[0.0,\"#0d0887\"],[0.1111111111111111,\"#46039f\"],[0.2222222222222222,\"#7201a8\"],[0.3333333333333333,\"#9c179e\"],[0.4444444444444444,\"#bd3786\"],[0.5555555555555556,\"#d8576b\"],[0.6666666666666666,\"#ed7953\"],[0.7777777777777778,\"#fb9f3a\"],[0.8888888888888888,\"#fdca26\"],[1.0,\"#f0f921\"]],\"type\":\"heatmap\"}],\"heatmapgl\":[{\"colorbar\":{\"outlinewidth\":0,\"ticks\":\"\"},\"colorscale\":[[0.0,\"#0d0887\"],[0.1111111111111111,\"#46039f\"],[0.2222222222222222,\"#7201a8\"],[0.3333333333333333,\"#9c179e\"],[0.4444444444444444,\"#bd3786\"],[0.5555555555555556,\"#d8576b\"],[0.6666666666666666,\"#ed7953\"],[0.7777777777777778,\"#fb9f3a\"],[0.8888888888888888,\"#fdca26\"],[1.0,\"#f0f921\"]],\"type\":\"heatmapgl\"}],\"histogram\":[{\"marker\":{\"pattern\":{\"fillmode\":\"overlay\",\"size\":10,\"solidity\":0.2}},\"type\":\"histogram\"}],\"histogram2d\":[{\"colorbar\":{\"outlinewidth\":0,\"ticks\":\"\"},\"colorscale\":[[0.0,\"#0d0887\"],[0.1111111111111111,\"#46039f\"],[0.2222222222222222,\"#7201a8\"],[0.3333333333333333,\"#9c179e\"],[0.4444444444444444,\"#bd3786\"],[0.5555555555555556,\"#d8576b\"],[0.6666666666666666,\"#ed7953\"],[0.7777777777777778,\"#fb9f3a\"],[0.8888888888888888,\"#fdca26\"],[1.0,\"#f0f921\"]],\"type\":\"histogram2d\"}],\"histogram2dcontour\":[{\"colorbar\":{\"outlinewidth\":0,\"ticks\":\"\"},\"colorscale\":[[0.0,\"#0d0887\"],[0.1111111111111111,\"#46039f\"],[0.2222222222222222,\"#7201a8\"],[0.3333333333333333,\"#9c179e\"],[0.4444444444444444,\"#bd3786\"],[0.5555555555555556,\"#d8576b\"],[0.6666666666666666,\"#ed7953\"],[0.7777777777777778,\"#fb9f3a\"],[0.8888888888888888,\"#fdca26\"],[1.0,\"#f0f921\"]],\"type\":\"histogram2dcontour\"}],\"mesh3d\":[{\"colorbar\":{\"outlinewidth\":0,\"ticks\":\"\"},\"type\":\"mesh3d\"}],\"parcoords\":[{\"line\":{\"colorbar\":{\"outlinewidth\":0,\"ticks\":\"\"}},\"type\":\"parcoords\"}],\"pie\":[{\"automargin\":true,\"type\":\"pie\"}],\"scatter\":[{\"marker\":{\"colorbar\":{\"outlinewidth\":0,\"ticks\":\"\"}},\"type\":\"scatter\"}],\"scatter3d\":[{\"line\":{\"colorbar\":{\"outlinewidth\":0,\"ticks\":\"\"}},\"marker\":{\"colorbar\":{\"outlinewidth\":0,\"ticks\":\"\"}},\"type\":\"scatter3d\"}],\"scattercarpet\":[{\"marker\":{\"colorbar\":{\"outlinewidth\":0,\"ticks\":\"\"}},\"type\":\"scattercarpet\"}],\"scattergeo\":[{\"marker\":{\"colorbar\":{\"outlinewidth\":0,\"ticks\":\"\"}},\"type\":\"scattergeo\"}],\"scattergl\":[{\"marker\":{\"colorbar\":{\"outlinewidth\":0,\"ticks\":\"\"}},\"type\":\"scattergl\"}],\"scattermapbox\":[{\"marker\":{\"colorbar\":{\"outlinewidth\":0,\"ticks\":\"\"}},\"type\":\"scattermapbox\"}],\"scatterpolar\":[{\"marker\":{\"colorbar\":{\"outlinewidth\":0,\"ticks\":\"\"}},\"type\":\"scatterpolar\"}],\"scatterpolargl\":[{\"marker\":{\"colorbar\":{\"outlinewidth\":0,\"ticks\":\"\"}},\"type\":\"scatterpolargl\"}],\"scatterternary\":[{\"marker\":{\"colorbar\":{\"outlinewidth\":0,\"ticks\":\"\"}},\"type\":\"scatterternary\"}],\"surface\":[{\"colorbar\":{\"outlinewidth\":0,\"ticks\":\"\"},\"colorscale\":[[0.0,\"#0d0887\"],[0.1111111111111111,\"#46039f\"],[0.2222222222222222,\"#7201a8\"],[0.3333333333333333,\"#9c179e\"],[0.4444444444444444,\"#bd3786\"],[0.5555555555555556,\"#d8576b\"],[0.6666666666666666,\"#ed7953\"],[0.7777777777777778,\"#fb9f3a\"],[0.8888888888888888,\"#fdca26\"],[1.0,\"#f0f921\"]],\"type\":\"surface\"}],\"table\":[{\"cells\":{\"fill\":{\"color\":\"#EBF0F8\"},\"line\":{\"color\":\"white\"}},\"header\":{\"fill\":{\"color\":\"#C8D4E3\"},\"line\":{\"color\":\"white\"}},\"type\":\"table\"}]},\"layout\":{\"annotationdefaults\":{\"arrowcolor\":\"#2a3f5f\",\"arrowhead\":0,\"arrowwidth\":1},\"autotypenumbers\":\"strict\",\"coloraxis\":{\"colorbar\":{\"outlinewidth\":0,\"ticks\":\"\"}},\"colorscale\":{\"diverging\":[[0,\"#8e0152\"],[0.1,\"#c51b7d\"],[0.2,\"#de77ae\"],[0.3,\"#f1b6da\"],[0.4,\"#fde0ef\"],[0.5,\"#f7f7f7\"],[0.6,\"#e6f5d0\"],[0.7,\"#b8e186\"],[0.8,\"#7fbc41\"],[0.9,\"#4d9221\"],[1,\"#276419\"]],\"sequential\":[[0.0,\"#0d0887\"],[0.1111111111111111,\"#46039f\"],[0.2222222222222222,\"#7201a8\"],[0.3333333333333333,\"#9c179e\"],[0.4444444444444444,\"#bd3786\"],[0.5555555555555556,\"#d8576b\"],[0.6666666666666666,\"#ed7953\"],[0.7777777777777778,\"#fb9f3a\"],[0.8888888888888888,\"#fdca26\"],[1.0,\"#f0f921\"]],\"sequentialminus\":[[0.0,\"#0d0887\"],[0.1111111111111111,\"#46039f\"],[0.2222222222222222,\"#7201a8\"],[0.3333333333333333,\"#9c179e\"],[0.4444444444444444,\"#bd3786\"],[0.5555555555555556,\"#d8576b\"],[0.6666666666666666,\"#ed7953\"],[0.7777777777777778,\"#fb9f3a\"],[0.8888888888888888,\"#fdca26\"],[1.0,\"#f0f921\"]]},\"colorway\":[\"#636efa\",\"#EF553B\",\"#00cc96\",\"#ab63fa\",\"#FFA15A\",\"#19d3f3\",\"#FF6692\",\"#B6E880\",\"#FF97FF\",\"#FECB52\"],\"font\":{\"color\":\"#2a3f5f\"},\"geo\":{\"bgcolor\":\"white\",\"lakecolor\":\"white\",\"landcolor\":\"#E5ECF6\",\"showlakes\":true,\"showland\":true,\"subunitcolor\":\"white\"},\"hoverlabel\":{\"align\":\"left\"},\"hovermode\":\"closest\",\"mapbox\":{\"style\":\"light\"},\"paper_bgcolor\":\"white\",\"plot_bgcolor\":\"#E5ECF6\",\"polar\":{\"angularaxis\":{\"gridcolor\":\"white\",\"linecolor\":\"white\",\"ticks\":\"\"},\"bgcolor\":\"#E5ECF6\",\"radialaxis\":{\"gridcolor\":\"white\",\"linecolor\":\"white\",\"ticks\":\"\"}},\"scene\":{\"xaxis\":{\"backgroundcolor\":\"#E5ECF6\",\"gridcolor\":\"white\",\"gridwidth\":2,\"linecolor\":\"white\",\"showbackground\":true,\"ticks\":\"\",\"zerolinecolor\":\"white\"},\"yaxis\":{\"backgroundcolor\":\"#E5ECF6\",\"gridcolor\":\"white\",\"gridwidth\":2,\"linecolor\":\"white\",\"showbackground\":true,\"ticks\":\"\",\"zerolinecolor\":\"white\"},\"zaxis\":{\"backgroundcolor\":\"#E5ECF6\",\"gridcolor\":\"white\",\"gridwidth\":2,\"linecolor\":\"white\",\"showbackground\":true,\"ticks\":\"\",\"zerolinecolor\":\"white\"}},\"shapedefaults\":{\"line\":{\"color\":\"#2a3f5f\"}},\"ternary\":{\"aaxis\":{\"gridcolor\":\"white\",\"linecolor\":\"white\",\"ticks\":\"\"},\"baxis\":{\"gridcolor\":\"white\",\"linecolor\":\"white\",\"ticks\":\"\"},\"bgcolor\":\"#E5ECF6\",\"caxis\":{\"gridcolor\":\"white\",\"linecolor\":\"white\",\"ticks\":\"\"}},\"title\":{\"x\":0.05},\"xaxis\":{\"automargin\":true,\"gridcolor\":\"white\",\"linecolor\":\"white\",\"ticks\":\"\",\"title\":{\"standoff\":15},\"zerolinecolor\":\"white\",\"zerolinewidth\":2},\"yaxis\":{\"automargin\":true,\"gridcolor\":\"white\",\"linecolor\":\"white\",\"ticks\":\"\",\"title\":{\"standoff\":15},\"zerolinecolor\":\"white\",\"zerolinewidth\":2}}},\"geo\":{\"domain\":{\"x\":[0.0,1.0],\"y\":[0.0,1.0]},\"projection\":{\"type\":\"albers usa\"},\"center\":{}},\"legend\":{\"title\":{\"text\":\"Title\"},\"tracegroupgap\":0,\"itemsizing\":\"constant\"},\"margin\":{\"t\":60}},                        {\"responsive\": true}                    ).then(function(){\n",
       "                            \n",
       "var gd = document.getElementById('f035eb3d-f513-4852-a25a-43c3c7db27e0');\n",
       "var x = new MutationObserver(function (mutations, observer) {{\n",
       "        var display = window.getComputedStyle(gd).display;\n",
       "        if (!display || display === 'none') {{\n",
       "            console.log([gd, 'removed!']);\n",
       "            Plotly.purge(gd);\n",
       "            observer.disconnect();\n",
       "        }}\n",
       "}});\n",
       "\n",
       "// Listen for the removal of the full notebook cells\n",
       "var notebookContainer = gd.closest('#notebook-container');\n",
       "if (notebookContainer) {{\n",
       "    x.observe(notebookContainer, {childList: true});\n",
       "}}\n",
       "\n",
       "// Listen for the clearing of the current output cell\n",
       "var outputEl = gd.closest('.output');\n",
       "if (outputEl) {{\n",
       "    x.observe(outputEl, {childList: true});\n",
       "}}\n",
       "\n",
       "                        })                };                });            </script>        </div>"
      ]
     },
     "metadata": {},
     "output_type": "display_data"
    }
   ],
   "source": [
    "# Show Geo\n",
    "dfg = pd.DataFrame(df.groupby(['Location','Title']).count()).reset_index()\n",
    "dfg['Location'] = dfg['Location'].apply(lambda x: x.strip())\n",
    "fig = px.scatter_geo(dfg, locations=\"Location\",\n",
    "                     color=\"Title\", # which column to use to set the color of markers # column added to hover information\n",
    "                     size=\"Name\",\n",
    "                     size_max=100,# size of markers\n",
    "                     projection=\"albers usa\",\n",
    "                    locationmode='USA-states')\n",
    "fig.show()\n",
    "#dp.Report(\n",
    " #   dp.Plot(fig)\n",
    "#).upload(name=\"Ds_Plot1_ByKuan\")"
   ]
  },
  {
   "cell_type": "code",
   "execution_count": 384,
   "id": "2155871a",
   "metadata": {},
   "outputs": [
    {
     "data": {
      "application/vnd.plotly.v1+json": {
       "config": {
        "plotlyServerURL": "https://plot.ly"
       },
       "data": [
        {
         "geo": "geo",
         "hovertemplate": "Revenue=%{marker.size}<br>Location=%{location}<br>Salary=%{marker.color}<extra></extra>",
         "legendgroup": "",
         "locationmode": "USA-states",
         "locations": [
          "AZ",
          "CA",
          "CO",
          "DC",
          "GA",
          "IL",
          "KS",
          "MA",
          "MD",
          "MO",
          "NV",
          "NY",
          "OH",
          "OR",
          "PA",
          "SC",
          "TX",
          "UT",
          "VA",
          "WA",
          "MD",
          "NV",
          "NoLocation",
          "Remote"
         ],
         "marker": {
          "color": [
           122750,
           142910,
           125250,
           144000,
           201500,
           142910,
           139305.5,
           143750,
           129770,
           139250,
           156800,
           156800,
           128750,
           149850,
           142910,
           145000,
           142910,
           152400,
           146455,
           150000,
           149850,
           148750,
           142910,
           140000
          ],
          "coloraxis": "coloraxis",
          "size": [
           3500,
           5500,
           3500,
           3500,
           3500,
           3500,
           6750,
           3500,
           3500,
           3500,
           10000,
           10000,
           1768.75,
           3500,
           7500,
           3500,
           300,
           10000,
           3500,
           3500,
           5500,
           10000,
           3500,
           3500
          ],
          "sizemode": "area",
          "sizeref": 25,
          "symbol": "circle"
         },
         "mode": "markers",
         "name": "",
         "showlegend": false,
         "type": "scattergeo"
        }
       ],
       "layout": {
        "coloraxis": {
         "colorbar": {
          "title": {
           "text": "Salary"
          }
         },
         "colorscale": [
          [
           0,
           "#0d0887"
          ],
          [
           0.1111111111111111,
           "#46039f"
          ],
          [
           0.2222222222222222,
           "#7201a8"
          ],
          [
           0.3333333333333333,
           "#9c179e"
          ],
          [
           0.4444444444444444,
           "#bd3786"
          ],
          [
           0.5555555555555556,
           "#d8576b"
          ],
          [
           0.6666666666666666,
           "#ed7953"
          ],
          [
           0.7777777777777778,
           "#fb9f3a"
          ],
          [
           0.8888888888888888,
           "#fdca26"
          ],
          [
           1,
           "#f0f921"
          ]
         ]
        },
        "geo": {
         "center": {},
         "domain": {
          "x": [
           0,
           1
          ],
          "y": [
           0,
           1
          ]
         },
         "projection": {
          "type": "albers usa"
         }
        },
        "legend": {
         "itemsizing": "constant",
         "tracegroupgap": 0
        },
        "margin": {
         "t": 60
        },
        "template": {
         "data": {
          "bar": [
           {
            "error_x": {
             "color": "#2a3f5f"
            },
            "error_y": {
             "color": "#2a3f5f"
            },
            "marker": {
             "line": {
              "color": "#E5ECF6",
              "width": 0.5
             },
             "pattern": {
              "fillmode": "overlay",
              "size": 10,
              "solidity": 0.2
             }
            },
            "type": "bar"
           }
          ],
          "barpolar": [
           {
            "marker": {
             "line": {
              "color": "#E5ECF6",
              "width": 0.5
             },
             "pattern": {
              "fillmode": "overlay",
              "size": 10,
              "solidity": 0.2
             }
            },
            "type": "barpolar"
           }
          ],
          "carpet": [
           {
            "aaxis": {
             "endlinecolor": "#2a3f5f",
             "gridcolor": "white",
             "linecolor": "white",
             "minorgridcolor": "white",
             "startlinecolor": "#2a3f5f"
            },
            "baxis": {
             "endlinecolor": "#2a3f5f",
             "gridcolor": "white",
             "linecolor": "white",
             "minorgridcolor": "white",
             "startlinecolor": "#2a3f5f"
            },
            "type": "carpet"
           }
          ],
          "choropleth": [
           {
            "colorbar": {
             "outlinewidth": 0,
             "ticks": ""
            },
            "type": "choropleth"
           }
          ],
          "contour": [
           {
            "colorbar": {
             "outlinewidth": 0,
             "ticks": ""
            },
            "colorscale": [
             [
              0,
              "#0d0887"
             ],
             [
              0.1111111111111111,
              "#46039f"
             ],
             [
              0.2222222222222222,
              "#7201a8"
             ],
             [
              0.3333333333333333,
              "#9c179e"
             ],
             [
              0.4444444444444444,
              "#bd3786"
             ],
             [
              0.5555555555555556,
              "#d8576b"
             ],
             [
              0.6666666666666666,
              "#ed7953"
             ],
             [
              0.7777777777777778,
              "#fb9f3a"
             ],
             [
              0.8888888888888888,
              "#fdca26"
             ],
             [
              1,
              "#f0f921"
             ]
            ],
            "type": "contour"
           }
          ],
          "contourcarpet": [
           {
            "colorbar": {
             "outlinewidth": 0,
             "ticks": ""
            },
            "type": "contourcarpet"
           }
          ],
          "heatmap": [
           {
            "colorbar": {
             "outlinewidth": 0,
             "ticks": ""
            },
            "colorscale": [
             [
              0,
              "#0d0887"
             ],
             [
              0.1111111111111111,
              "#46039f"
             ],
             [
              0.2222222222222222,
              "#7201a8"
             ],
             [
              0.3333333333333333,
              "#9c179e"
             ],
             [
              0.4444444444444444,
              "#bd3786"
             ],
             [
              0.5555555555555556,
              "#d8576b"
             ],
             [
              0.6666666666666666,
              "#ed7953"
             ],
             [
              0.7777777777777778,
              "#fb9f3a"
             ],
             [
              0.8888888888888888,
              "#fdca26"
             ],
             [
              1,
              "#f0f921"
             ]
            ],
            "type": "heatmap"
           }
          ],
          "heatmapgl": [
           {
            "colorbar": {
             "outlinewidth": 0,
             "ticks": ""
            },
            "colorscale": [
             [
              0,
              "#0d0887"
             ],
             [
              0.1111111111111111,
              "#46039f"
             ],
             [
              0.2222222222222222,
              "#7201a8"
             ],
             [
              0.3333333333333333,
              "#9c179e"
             ],
             [
              0.4444444444444444,
              "#bd3786"
             ],
             [
              0.5555555555555556,
              "#d8576b"
             ],
             [
              0.6666666666666666,
              "#ed7953"
             ],
             [
              0.7777777777777778,
              "#fb9f3a"
             ],
             [
              0.8888888888888888,
              "#fdca26"
             ],
             [
              1,
              "#f0f921"
             ]
            ],
            "type": "heatmapgl"
           }
          ],
          "histogram": [
           {
            "marker": {
             "pattern": {
              "fillmode": "overlay",
              "size": 10,
              "solidity": 0.2
             }
            },
            "type": "histogram"
           }
          ],
          "histogram2d": [
           {
            "colorbar": {
             "outlinewidth": 0,
             "ticks": ""
            },
            "colorscale": [
             [
              0,
              "#0d0887"
             ],
             [
              0.1111111111111111,
              "#46039f"
             ],
             [
              0.2222222222222222,
              "#7201a8"
             ],
             [
              0.3333333333333333,
              "#9c179e"
             ],
             [
              0.4444444444444444,
              "#bd3786"
             ],
             [
              0.5555555555555556,
              "#d8576b"
             ],
             [
              0.6666666666666666,
              "#ed7953"
             ],
             [
              0.7777777777777778,
              "#fb9f3a"
             ],
             [
              0.8888888888888888,
              "#fdca26"
             ],
             [
              1,
              "#f0f921"
             ]
            ],
            "type": "histogram2d"
           }
          ],
          "histogram2dcontour": [
           {
            "colorbar": {
             "outlinewidth": 0,
             "ticks": ""
            },
            "colorscale": [
             [
              0,
              "#0d0887"
             ],
             [
              0.1111111111111111,
              "#46039f"
             ],
             [
              0.2222222222222222,
              "#7201a8"
             ],
             [
              0.3333333333333333,
              "#9c179e"
             ],
             [
              0.4444444444444444,
              "#bd3786"
             ],
             [
              0.5555555555555556,
              "#d8576b"
             ],
             [
              0.6666666666666666,
              "#ed7953"
             ],
             [
              0.7777777777777778,
              "#fb9f3a"
             ],
             [
              0.8888888888888888,
              "#fdca26"
             ],
             [
              1,
              "#f0f921"
             ]
            ],
            "type": "histogram2dcontour"
           }
          ],
          "mesh3d": [
           {
            "colorbar": {
             "outlinewidth": 0,
             "ticks": ""
            },
            "type": "mesh3d"
           }
          ],
          "parcoords": [
           {
            "line": {
             "colorbar": {
              "outlinewidth": 0,
              "ticks": ""
             }
            },
            "type": "parcoords"
           }
          ],
          "pie": [
           {
            "automargin": true,
            "type": "pie"
           }
          ],
          "scatter": [
           {
            "marker": {
             "colorbar": {
              "outlinewidth": 0,
              "ticks": ""
             }
            },
            "type": "scatter"
           }
          ],
          "scatter3d": [
           {
            "line": {
             "colorbar": {
              "outlinewidth": 0,
              "ticks": ""
             }
            },
            "marker": {
             "colorbar": {
              "outlinewidth": 0,
              "ticks": ""
             }
            },
            "type": "scatter3d"
           }
          ],
          "scattercarpet": [
           {
            "marker": {
             "colorbar": {
              "outlinewidth": 0,
              "ticks": ""
             }
            },
            "type": "scattercarpet"
           }
          ],
          "scattergeo": [
           {
            "marker": {
             "colorbar": {
              "outlinewidth": 0,
              "ticks": ""
             }
            },
            "type": "scattergeo"
           }
          ],
          "scattergl": [
           {
            "marker": {
             "colorbar": {
              "outlinewidth": 0,
              "ticks": ""
             }
            },
            "type": "scattergl"
           }
          ],
          "scattermapbox": [
           {
            "marker": {
             "colorbar": {
              "outlinewidth": 0,
              "ticks": ""
             }
            },
            "type": "scattermapbox"
           }
          ],
          "scatterpolar": [
           {
            "marker": {
             "colorbar": {
              "outlinewidth": 0,
              "ticks": ""
             }
            },
            "type": "scatterpolar"
           }
          ],
          "scatterpolargl": [
           {
            "marker": {
             "colorbar": {
              "outlinewidth": 0,
              "ticks": ""
             }
            },
            "type": "scatterpolargl"
           }
          ],
          "scatterternary": [
           {
            "marker": {
             "colorbar": {
              "outlinewidth": 0,
              "ticks": ""
             }
            },
            "type": "scatterternary"
           }
          ],
          "surface": [
           {
            "colorbar": {
             "outlinewidth": 0,
             "ticks": ""
            },
            "colorscale": [
             [
              0,
              "#0d0887"
             ],
             [
              0.1111111111111111,
              "#46039f"
             ],
             [
              0.2222222222222222,
              "#7201a8"
             ],
             [
              0.3333333333333333,
              "#9c179e"
             ],
             [
              0.4444444444444444,
              "#bd3786"
             ],
             [
              0.5555555555555556,
              "#d8576b"
             ],
             [
              0.6666666666666666,
              "#ed7953"
             ],
             [
              0.7777777777777778,
              "#fb9f3a"
             ],
             [
              0.8888888888888888,
              "#fdca26"
             ],
             [
              1,
              "#f0f921"
             ]
            ],
            "type": "surface"
           }
          ],
          "table": [
           {
            "cells": {
             "fill": {
              "color": "#EBF0F8"
             },
             "line": {
              "color": "white"
             }
            },
            "header": {
             "fill": {
              "color": "#C8D4E3"
             },
             "line": {
              "color": "white"
             }
            },
            "type": "table"
           }
          ]
         },
         "layout": {
          "annotationdefaults": {
           "arrowcolor": "#2a3f5f",
           "arrowhead": 0,
           "arrowwidth": 1
          },
          "autotypenumbers": "strict",
          "coloraxis": {
           "colorbar": {
            "outlinewidth": 0,
            "ticks": ""
           }
          },
          "colorscale": {
           "diverging": [
            [
             0,
             "#8e0152"
            ],
            [
             0.1,
             "#c51b7d"
            ],
            [
             0.2,
             "#de77ae"
            ],
            [
             0.3,
             "#f1b6da"
            ],
            [
             0.4,
             "#fde0ef"
            ],
            [
             0.5,
             "#f7f7f7"
            ],
            [
             0.6,
             "#e6f5d0"
            ],
            [
             0.7,
             "#b8e186"
            ],
            [
             0.8,
             "#7fbc41"
            ],
            [
             0.9,
             "#4d9221"
            ],
            [
             1,
             "#276419"
            ]
           ],
           "sequential": [
            [
             0,
             "#0d0887"
            ],
            [
             0.1111111111111111,
             "#46039f"
            ],
            [
             0.2222222222222222,
             "#7201a8"
            ],
            [
             0.3333333333333333,
             "#9c179e"
            ],
            [
             0.4444444444444444,
             "#bd3786"
            ],
            [
             0.5555555555555556,
             "#d8576b"
            ],
            [
             0.6666666666666666,
             "#ed7953"
            ],
            [
             0.7777777777777778,
             "#fb9f3a"
            ],
            [
             0.8888888888888888,
             "#fdca26"
            ],
            [
             1,
             "#f0f921"
            ]
           ],
           "sequentialminus": [
            [
             0,
             "#0d0887"
            ],
            [
             0.1111111111111111,
             "#46039f"
            ],
            [
             0.2222222222222222,
             "#7201a8"
            ],
            [
             0.3333333333333333,
             "#9c179e"
            ],
            [
             0.4444444444444444,
             "#bd3786"
            ],
            [
             0.5555555555555556,
             "#d8576b"
            ],
            [
             0.6666666666666666,
             "#ed7953"
            ],
            [
             0.7777777777777778,
             "#fb9f3a"
            ],
            [
             0.8888888888888888,
             "#fdca26"
            ],
            [
             1,
             "#f0f921"
            ]
           ]
          },
          "colorway": [
           "#636efa",
           "#EF553B",
           "#00cc96",
           "#ab63fa",
           "#FFA15A",
           "#19d3f3",
           "#FF6692",
           "#B6E880",
           "#FF97FF",
           "#FECB52"
          ],
          "font": {
           "color": "#2a3f5f"
          },
          "geo": {
           "bgcolor": "white",
           "lakecolor": "white",
           "landcolor": "#E5ECF6",
           "showlakes": true,
           "showland": true,
           "subunitcolor": "white"
          },
          "hoverlabel": {
           "align": "left"
          },
          "hovermode": "closest",
          "mapbox": {
           "style": "light"
          },
          "paper_bgcolor": "white",
          "plot_bgcolor": "#E5ECF6",
          "polar": {
           "angularaxis": {
            "gridcolor": "white",
            "linecolor": "white",
            "ticks": ""
           },
           "bgcolor": "#E5ECF6",
           "radialaxis": {
            "gridcolor": "white",
            "linecolor": "white",
            "ticks": ""
           }
          },
          "scene": {
           "xaxis": {
            "backgroundcolor": "#E5ECF6",
            "gridcolor": "white",
            "gridwidth": 2,
            "linecolor": "white",
            "showbackground": true,
            "ticks": "",
            "zerolinecolor": "white"
           },
           "yaxis": {
            "backgroundcolor": "#E5ECF6",
            "gridcolor": "white",
            "gridwidth": 2,
            "linecolor": "white",
            "showbackground": true,
            "ticks": "",
            "zerolinecolor": "white"
           },
           "zaxis": {
            "backgroundcolor": "#E5ECF6",
            "gridcolor": "white",
            "gridwidth": 2,
            "linecolor": "white",
            "showbackground": true,
            "ticks": "",
            "zerolinecolor": "white"
           }
          },
          "shapedefaults": {
           "line": {
            "color": "#2a3f5f"
           }
          },
          "ternary": {
           "aaxis": {
            "gridcolor": "white",
            "linecolor": "white",
            "ticks": ""
           },
           "baxis": {
            "gridcolor": "white",
            "linecolor": "white",
            "ticks": ""
           },
           "bgcolor": "#E5ECF6",
           "caxis": {
            "gridcolor": "white",
            "linecolor": "white",
            "ticks": ""
           }
          },
          "title": {
           "x": 0.05
          },
          "xaxis": {
           "automargin": true,
           "gridcolor": "white",
           "linecolor": "white",
           "ticks": "",
           "title": {
            "standoff": 15
           },
           "zerolinecolor": "white",
           "zerolinewidth": 2
          },
          "yaxis": {
           "automargin": true,
           "gridcolor": "white",
           "linecolor": "white",
           "ticks": "",
           "title": {
            "standoff": 15
           },
           "zerolinecolor": "white",
           "zerolinewidth": 2
          }
         }
        }
       }
      },
      "text/html": [
       "<div>                            <div id=\"e8c3d88a-51f8-463a-ace1-4a4e51c8ed58\" class=\"plotly-graph-div\" style=\"height:525px; width:100%;\"></div>            <script type=\"text/javascript\">                require([\"plotly\"], function(Plotly) {                    window.PLOTLYENV=window.PLOTLYENV || {};                                    if (document.getElementById(\"e8c3d88a-51f8-463a-ace1-4a4e51c8ed58\")) {                    Plotly.newPlot(                        \"e8c3d88a-51f8-463a-ace1-4a4e51c8ed58\",                        [{\"geo\":\"geo\",\"hovertemplate\":\"Revenue=%{marker.size}<br>Location=%{location}<br>Salary=%{marker.color}<extra></extra>\",\"legendgroup\":\"\",\"locationmode\":\"USA-states\",\"locations\":[\"AZ\",\"CA\",\"CO\",\"DC\",\"GA\",\"IL\",\"KS\",\"MA\",\"MD\",\"MO\",\"NV\",\"NY\",\"OH\",\"OR\",\"PA\",\"SC\",\"TX\",\"UT\",\"VA\",\"WA\",\"MD\",\"NV\",\"NoLocation\",\"Remote\"],\"marker\":{\"color\":[122750.0,142910.0,125250.0,144000.0,201500.0,142910.0,139305.5,143750.0,129770.0,139250.0,156800.0,156800.0,128750.0,149850.0,142910.0,145000.0,142910.0,152400.0,146455.0,150000.0,149850.0,148750.0,142910.0,140000.0],\"coloraxis\":\"coloraxis\",\"size\":[3500.0,5500.0,3500.0,3500.0,3500.0,3500.0,6750.0,3500.0,3500.0,3500.0,10000.0,10000.0,1768.75,3500.0,7500.0,3500.0,300.0,10000.0,3500.0,3500.0,5500.0,10000.0,3500.0,3500.0],\"sizemode\":\"area\",\"sizeref\":25.0,\"symbol\":\"circle\"},\"mode\":\"markers\",\"name\":\"\",\"showlegend\":false,\"type\":\"scattergeo\"}],                        {\"template\":{\"data\":{\"bar\":[{\"error_x\":{\"color\":\"#2a3f5f\"},\"error_y\":{\"color\":\"#2a3f5f\"},\"marker\":{\"line\":{\"color\":\"#E5ECF6\",\"width\":0.5},\"pattern\":{\"fillmode\":\"overlay\",\"size\":10,\"solidity\":0.2}},\"type\":\"bar\"}],\"barpolar\":[{\"marker\":{\"line\":{\"color\":\"#E5ECF6\",\"width\":0.5},\"pattern\":{\"fillmode\":\"overlay\",\"size\":10,\"solidity\":0.2}},\"type\":\"barpolar\"}],\"carpet\":[{\"aaxis\":{\"endlinecolor\":\"#2a3f5f\",\"gridcolor\":\"white\",\"linecolor\":\"white\",\"minorgridcolor\":\"white\",\"startlinecolor\":\"#2a3f5f\"},\"baxis\":{\"endlinecolor\":\"#2a3f5f\",\"gridcolor\":\"white\",\"linecolor\":\"white\",\"minorgridcolor\":\"white\",\"startlinecolor\":\"#2a3f5f\"},\"type\":\"carpet\"}],\"choropleth\":[{\"colorbar\":{\"outlinewidth\":0,\"ticks\":\"\"},\"type\":\"choropleth\"}],\"contour\":[{\"colorbar\":{\"outlinewidth\":0,\"ticks\":\"\"},\"colorscale\":[[0.0,\"#0d0887\"],[0.1111111111111111,\"#46039f\"],[0.2222222222222222,\"#7201a8\"],[0.3333333333333333,\"#9c179e\"],[0.4444444444444444,\"#bd3786\"],[0.5555555555555556,\"#d8576b\"],[0.6666666666666666,\"#ed7953\"],[0.7777777777777778,\"#fb9f3a\"],[0.8888888888888888,\"#fdca26\"],[1.0,\"#f0f921\"]],\"type\":\"contour\"}],\"contourcarpet\":[{\"colorbar\":{\"outlinewidth\":0,\"ticks\":\"\"},\"type\":\"contourcarpet\"}],\"heatmap\":[{\"colorbar\":{\"outlinewidth\":0,\"ticks\":\"\"},\"colorscale\":[[0.0,\"#0d0887\"],[0.1111111111111111,\"#46039f\"],[0.2222222222222222,\"#7201a8\"],[0.3333333333333333,\"#9c179e\"],[0.4444444444444444,\"#bd3786\"],[0.5555555555555556,\"#d8576b\"],[0.6666666666666666,\"#ed7953\"],[0.7777777777777778,\"#fb9f3a\"],[0.8888888888888888,\"#fdca26\"],[1.0,\"#f0f921\"]],\"type\":\"heatmap\"}],\"heatmapgl\":[{\"colorbar\":{\"outlinewidth\":0,\"ticks\":\"\"},\"colorscale\":[[0.0,\"#0d0887\"],[0.1111111111111111,\"#46039f\"],[0.2222222222222222,\"#7201a8\"],[0.3333333333333333,\"#9c179e\"],[0.4444444444444444,\"#bd3786\"],[0.5555555555555556,\"#d8576b\"],[0.6666666666666666,\"#ed7953\"],[0.7777777777777778,\"#fb9f3a\"],[0.8888888888888888,\"#fdca26\"],[1.0,\"#f0f921\"]],\"type\":\"heatmapgl\"}],\"histogram\":[{\"marker\":{\"pattern\":{\"fillmode\":\"overlay\",\"size\":10,\"solidity\":0.2}},\"type\":\"histogram\"}],\"histogram2d\":[{\"colorbar\":{\"outlinewidth\":0,\"ticks\":\"\"},\"colorscale\":[[0.0,\"#0d0887\"],[0.1111111111111111,\"#46039f\"],[0.2222222222222222,\"#7201a8\"],[0.3333333333333333,\"#9c179e\"],[0.4444444444444444,\"#bd3786\"],[0.5555555555555556,\"#d8576b\"],[0.6666666666666666,\"#ed7953\"],[0.7777777777777778,\"#fb9f3a\"],[0.8888888888888888,\"#fdca26\"],[1.0,\"#f0f921\"]],\"type\":\"histogram2d\"}],\"histogram2dcontour\":[{\"colorbar\":{\"outlinewidth\":0,\"ticks\":\"\"},\"colorscale\":[[0.0,\"#0d0887\"],[0.1111111111111111,\"#46039f\"],[0.2222222222222222,\"#7201a8\"],[0.3333333333333333,\"#9c179e\"],[0.4444444444444444,\"#bd3786\"],[0.5555555555555556,\"#d8576b\"],[0.6666666666666666,\"#ed7953\"],[0.7777777777777778,\"#fb9f3a\"],[0.8888888888888888,\"#fdca26\"],[1.0,\"#f0f921\"]],\"type\":\"histogram2dcontour\"}],\"mesh3d\":[{\"colorbar\":{\"outlinewidth\":0,\"ticks\":\"\"},\"type\":\"mesh3d\"}],\"parcoords\":[{\"line\":{\"colorbar\":{\"outlinewidth\":0,\"ticks\":\"\"}},\"type\":\"parcoords\"}],\"pie\":[{\"automargin\":true,\"type\":\"pie\"}],\"scatter\":[{\"marker\":{\"colorbar\":{\"outlinewidth\":0,\"ticks\":\"\"}},\"type\":\"scatter\"}],\"scatter3d\":[{\"line\":{\"colorbar\":{\"outlinewidth\":0,\"ticks\":\"\"}},\"marker\":{\"colorbar\":{\"outlinewidth\":0,\"ticks\":\"\"}},\"type\":\"scatter3d\"}],\"scattercarpet\":[{\"marker\":{\"colorbar\":{\"outlinewidth\":0,\"ticks\":\"\"}},\"type\":\"scattercarpet\"}],\"scattergeo\":[{\"marker\":{\"colorbar\":{\"outlinewidth\":0,\"ticks\":\"\"}},\"type\":\"scattergeo\"}],\"scattergl\":[{\"marker\":{\"colorbar\":{\"outlinewidth\":0,\"ticks\":\"\"}},\"type\":\"scattergl\"}],\"scattermapbox\":[{\"marker\":{\"colorbar\":{\"outlinewidth\":0,\"ticks\":\"\"}},\"type\":\"scattermapbox\"}],\"scatterpolar\":[{\"marker\":{\"colorbar\":{\"outlinewidth\":0,\"ticks\":\"\"}},\"type\":\"scatterpolar\"}],\"scatterpolargl\":[{\"marker\":{\"colorbar\":{\"outlinewidth\":0,\"ticks\":\"\"}},\"type\":\"scatterpolargl\"}],\"scatterternary\":[{\"marker\":{\"colorbar\":{\"outlinewidth\":0,\"ticks\":\"\"}},\"type\":\"scatterternary\"}],\"surface\":[{\"colorbar\":{\"outlinewidth\":0,\"ticks\":\"\"},\"colorscale\":[[0.0,\"#0d0887\"],[0.1111111111111111,\"#46039f\"],[0.2222222222222222,\"#7201a8\"],[0.3333333333333333,\"#9c179e\"],[0.4444444444444444,\"#bd3786\"],[0.5555555555555556,\"#d8576b\"],[0.6666666666666666,\"#ed7953\"],[0.7777777777777778,\"#fb9f3a\"],[0.8888888888888888,\"#fdca26\"],[1.0,\"#f0f921\"]],\"type\":\"surface\"}],\"table\":[{\"cells\":{\"fill\":{\"color\":\"#EBF0F8\"},\"line\":{\"color\":\"white\"}},\"header\":{\"fill\":{\"color\":\"#C8D4E3\"},\"line\":{\"color\":\"white\"}},\"type\":\"table\"}]},\"layout\":{\"annotationdefaults\":{\"arrowcolor\":\"#2a3f5f\",\"arrowhead\":0,\"arrowwidth\":1},\"autotypenumbers\":\"strict\",\"coloraxis\":{\"colorbar\":{\"outlinewidth\":0,\"ticks\":\"\"}},\"colorscale\":{\"diverging\":[[0,\"#8e0152\"],[0.1,\"#c51b7d\"],[0.2,\"#de77ae\"],[0.3,\"#f1b6da\"],[0.4,\"#fde0ef\"],[0.5,\"#f7f7f7\"],[0.6,\"#e6f5d0\"],[0.7,\"#b8e186\"],[0.8,\"#7fbc41\"],[0.9,\"#4d9221\"],[1,\"#276419\"]],\"sequential\":[[0.0,\"#0d0887\"],[0.1111111111111111,\"#46039f\"],[0.2222222222222222,\"#7201a8\"],[0.3333333333333333,\"#9c179e\"],[0.4444444444444444,\"#bd3786\"],[0.5555555555555556,\"#d8576b\"],[0.6666666666666666,\"#ed7953\"],[0.7777777777777778,\"#fb9f3a\"],[0.8888888888888888,\"#fdca26\"],[1.0,\"#f0f921\"]],\"sequentialminus\":[[0.0,\"#0d0887\"],[0.1111111111111111,\"#46039f\"],[0.2222222222222222,\"#7201a8\"],[0.3333333333333333,\"#9c179e\"],[0.4444444444444444,\"#bd3786\"],[0.5555555555555556,\"#d8576b\"],[0.6666666666666666,\"#ed7953\"],[0.7777777777777778,\"#fb9f3a\"],[0.8888888888888888,\"#fdca26\"],[1.0,\"#f0f921\"]]},\"colorway\":[\"#636efa\",\"#EF553B\",\"#00cc96\",\"#ab63fa\",\"#FFA15A\",\"#19d3f3\",\"#FF6692\",\"#B6E880\",\"#FF97FF\",\"#FECB52\"],\"font\":{\"color\":\"#2a3f5f\"},\"geo\":{\"bgcolor\":\"white\",\"lakecolor\":\"white\",\"landcolor\":\"#E5ECF6\",\"showlakes\":true,\"showland\":true,\"subunitcolor\":\"white\"},\"hoverlabel\":{\"align\":\"left\"},\"hovermode\":\"closest\",\"mapbox\":{\"style\":\"light\"},\"paper_bgcolor\":\"white\",\"plot_bgcolor\":\"#E5ECF6\",\"polar\":{\"angularaxis\":{\"gridcolor\":\"white\",\"linecolor\":\"white\",\"ticks\":\"\"},\"bgcolor\":\"#E5ECF6\",\"radialaxis\":{\"gridcolor\":\"white\",\"linecolor\":\"white\",\"ticks\":\"\"}},\"scene\":{\"xaxis\":{\"backgroundcolor\":\"#E5ECF6\",\"gridcolor\":\"white\",\"gridwidth\":2,\"linecolor\":\"white\",\"showbackground\":true,\"ticks\":\"\",\"zerolinecolor\":\"white\"},\"yaxis\":{\"backgroundcolor\":\"#E5ECF6\",\"gridcolor\":\"white\",\"gridwidth\":2,\"linecolor\":\"white\",\"showbackground\":true,\"ticks\":\"\",\"zerolinecolor\":\"white\"},\"zaxis\":{\"backgroundcolor\":\"#E5ECF6\",\"gridcolor\":\"white\",\"gridwidth\":2,\"linecolor\":\"white\",\"showbackground\":true,\"ticks\":\"\",\"zerolinecolor\":\"white\"}},\"shapedefaults\":{\"line\":{\"color\":\"#2a3f5f\"}},\"ternary\":{\"aaxis\":{\"gridcolor\":\"white\",\"linecolor\":\"white\",\"ticks\":\"\"},\"baxis\":{\"gridcolor\":\"white\",\"linecolor\":\"white\",\"ticks\":\"\"},\"bgcolor\":\"#E5ECF6\",\"caxis\":{\"gridcolor\":\"white\",\"linecolor\":\"white\",\"ticks\":\"\"}},\"title\":{\"x\":0.05},\"xaxis\":{\"automargin\":true,\"gridcolor\":\"white\",\"linecolor\":\"white\",\"ticks\":\"\",\"title\":{\"standoff\":15},\"zerolinecolor\":\"white\",\"zerolinewidth\":2},\"yaxis\":{\"automargin\":true,\"gridcolor\":\"white\",\"linecolor\":\"white\",\"ticks\":\"\",\"title\":{\"standoff\":15},\"zerolinecolor\":\"white\",\"zerolinewidth\":2}}},\"geo\":{\"domain\":{\"x\":[0.0,1.0],\"y\":[0.0,1.0]},\"projection\":{\"type\":\"albers usa\"},\"center\":{}},\"coloraxis\":{\"colorbar\":{\"title\":{\"text\":\"Salary\"}},\"colorscale\":[[0.0,\"#0d0887\"],[0.1111111111111111,\"#46039f\"],[0.2222222222222222,\"#7201a8\"],[0.3333333333333333,\"#9c179e\"],[0.4444444444444444,\"#bd3786\"],[0.5555555555555556,\"#d8576b\"],[0.6666666666666666,\"#ed7953\"],[0.7777777777777778,\"#fb9f3a\"],[0.8888888888888888,\"#fdca26\"],[1.0,\"#f0f921\"]]},\"legend\":{\"tracegroupgap\":0,\"itemsizing\":\"constant\"},\"margin\":{\"t\":60}},                        {\"responsive\": true}                    ).then(function(){\n",
       "                            \n",
       "var gd = document.getElementById('e8c3d88a-51f8-463a-ace1-4a4e51c8ed58');\n",
       "var x = new MutationObserver(function (mutations, observer) {{\n",
       "        var display = window.getComputedStyle(gd).display;\n",
       "        if (!display || display === 'none') {{\n",
       "            console.log([gd, 'removed!']);\n",
       "            Plotly.purge(gd);\n",
       "            observer.disconnect();\n",
       "        }}\n",
       "}});\n",
       "\n",
       "// Listen for the removal of the full notebook cells\n",
       "var notebookContainer = gd.closest('#notebook-container');\n",
       "if (notebookContainer) {{\n",
       "    x.observe(notebookContainer, {childList: true});\n",
       "}}\n",
       "\n",
       "// Listen for the clearing of the current output cell\n",
       "var outputEl = gd.closest('.output');\n",
       "if (outputEl) {{\n",
       "    x.observe(outputEl, {childList: true});\n",
       "}}\n",
       "\n",
       "                        })                };                });            </script>        </div>"
      ]
     },
     "metadata": {},
     "output_type": "display_data"
    }
   ],
   "source": [
    "dfg2 = pd.DataFrame(df.groupby(['Location'])['Salary'].median()).reset_index()\n",
    "dfg3 = pd.DataFrame(df.groupby(['Location'])['Revenue'].median()).reset_index()\n",
    "dfg3.rename(columns={'Location':'X'},inplace=True)\n",
    "dfg4 = pd.concat([dfg2,dfg3],join='inner',axis=1)\n",
    "dfg4['Location'] = dfg4['Location'].apply(lambda x: x.strip())\n",
    "\n",
    "fig = px.scatter_geo(dfg4, locations=\"Location\",\n",
    "                     color=\"Salary\", # which column to use to set the color of markers # column added to hover information\n",
    "                     size=\"Revenue\",\n",
    "                     size_max=20,# size of markers\n",
    "                     projection=\"albers usa\",\n",
    "                    locationmode='USA-states')\n",
    "fig.show()\n",
    "#dp.Report(\n",
    " #   dp.Plot(fig)\n",
    "#).upload(name=\"Ds_Plot1_ByKuan\")"
   ]
  },
  {
   "cell_type": "code",
   "execution_count": 7,
   "id": "fcb7e031",
   "metadata": {},
   "outputs": [
    {
     "ename": "KeyboardInterrupt",
     "evalue": "",
     "output_type": "error",
     "traceback": [
      "\u001b[1;31m---------------------------------------------------------------------------\u001b[0m",
      "\u001b[1;31mKeyboardInterrupt\u001b[0m                         Traceback (most recent call last)",
      "\u001b[1;32m~\\AppData\\Local\\Temp/ipykernel_14012/1965744402.py\u001b[0m in \u001b[0;36m<module>\u001b[1;34m\u001b[0m\n\u001b[0;32m      6\u001b[0m \u001b[1;33m\u001b[0m\u001b[0m\n\u001b[0;32m      7\u001b[0m \u001b[1;32mfor\u001b[0m \u001b[0mx\u001b[0m \u001b[1;32min\u001b[0m \u001b[0mrange\u001b[0m\u001b[1;33m(\u001b[0m\u001b[1;36m0\u001b[0m\u001b[1;33m,\u001b[0m\u001b[1;36m41\u001b[0m\u001b[1;33m)\u001b[0m\u001b[1;33m:\u001b[0m\u001b[1;33m\u001b[0m\u001b[1;33m\u001b[0m\u001b[0m\n\u001b[1;32m----> 8\u001b[1;33m     \u001b[0mdoc\u001b[0m \u001b[1;33m=\u001b[0m \u001b[0mnlp\u001b[0m\u001b[1;33m(\u001b[0m\u001b[0mdfreq\u001b[0m\u001b[1;33m.\u001b[0m\u001b[0miloc\u001b[0m\u001b[1;33m[\u001b[0m\u001b[0mx\u001b[0m\u001b[1;33m,\u001b[0m\u001b[1;36m1\u001b[0m\u001b[1;33m]\u001b[0m\u001b[1;33m)\u001b[0m\u001b[1;33m\u001b[0m\u001b[1;33m\u001b[0m\u001b[0m\n\u001b[0m\u001b[0;32m      9\u001b[0m     nouns = [token.text\n\u001b[0;32m     10\u001b[0m          \u001b[1;32mfor\u001b[0m \u001b[0mtoken\u001b[0m \u001b[1;32min\u001b[0m \u001b[0mdoc\u001b[0m\u001b[1;33m\u001b[0m\u001b[1;33m\u001b[0m\u001b[0m\n",
      "\u001b[1;32m~\\anaconda3\\lib\\site-packages\\spacy\\language.py\u001b[0m in \u001b[0;36m__call__\u001b[1;34m(self, text, disable, component_cfg)\u001b[0m\n\u001b[0;32m   1015\u001b[0m                 \u001b[0merror_handler\u001b[0m \u001b[1;33m=\u001b[0m \u001b[0mproc\u001b[0m\u001b[1;33m.\u001b[0m\u001b[0mget_error_handler\u001b[0m\u001b[1;33m(\u001b[0m\u001b[1;33m)\u001b[0m\u001b[1;33m\u001b[0m\u001b[1;33m\u001b[0m\u001b[0m\n\u001b[0;32m   1016\u001b[0m             \u001b[1;32mtry\u001b[0m\u001b[1;33m:\u001b[0m\u001b[1;33m\u001b[0m\u001b[1;33m\u001b[0m\u001b[0m\n\u001b[1;32m-> 1017\u001b[1;33m                 \u001b[0mdoc\u001b[0m \u001b[1;33m=\u001b[0m \u001b[0mproc\u001b[0m\u001b[1;33m(\u001b[0m\u001b[0mdoc\u001b[0m\u001b[1;33m,\u001b[0m \u001b[1;33m**\u001b[0m\u001b[0mcomponent_cfg\u001b[0m\u001b[1;33m.\u001b[0m\u001b[0mget\u001b[0m\u001b[1;33m(\u001b[0m\u001b[0mname\u001b[0m\u001b[1;33m,\u001b[0m \u001b[1;33m{\u001b[0m\u001b[1;33m}\u001b[0m\u001b[1;33m)\u001b[0m\u001b[1;33m)\u001b[0m  \u001b[1;31m# type: ignore[call-arg]\u001b[0m\u001b[1;33m\u001b[0m\u001b[1;33m\u001b[0m\u001b[0m\n\u001b[0m\u001b[0;32m   1018\u001b[0m             \u001b[1;32mexcept\u001b[0m \u001b[0mKeyError\u001b[0m \u001b[1;32mas\u001b[0m \u001b[0me\u001b[0m\u001b[1;33m:\u001b[0m\u001b[1;33m\u001b[0m\u001b[1;33m\u001b[0m\u001b[0m\n\u001b[0;32m   1019\u001b[0m                 \u001b[1;31m# This typically happens if a component is not initialized\u001b[0m\u001b[1;33m\u001b[0m\u001b[1;33m\u001b[0m\u001b[0m\n",
      "\u001b[1;32m~\\anaconda3\\lib\\site-packages\\spacy\\pipeline\\trainable_pipe.pyx\u001b[0m in \u001b[0;36mspacy.pipeline.trainable_pipe.TrainablePipe.__call__\u001b[1;34m()\u001b[0m\n",
      "\u001b[1;32m~\\anaconda3\\lib\\site-packages\\spacy\\pipeline\\tok2vec.py\u001b[0m in \u001b[0;36mpredict\u001b[1;34m(self, docs)\u001b[0m\n\u001b[0;32m    119\u001b[0m         \u001b[0mDOCS\u001b[0m\u001b[1;33m:\u001b[0m \u001b[0mhttps\u001b[0m\u001b[1;33m:\u001b[0m\u001b[1;33m//\u001b[0m\u001b[0mspacy\u001b[0m\u001b[1;33m.\u001b[0m\u001b[0mio\u001b[0m\u001b[1;33m/\u001b[0m\u001b[0mapi\u001b[0m\u001b[1;33m/\u001b[0m\u001b[0mtok2vec\u001b[0m\u001b[1;31m#predict\u001b[0m\u001b[1;33m\u001b[0m\u001b[1;33m\u001b[0m\u001b[0m\n\u001b[0;32m    120\u001b[0m         \"\"\"\n\u001b[1;32m--> 121\u001b[1;33m         \u001b[0mtokvecs\u001b[0m \u001b[1;33m=\u001b[0m \u001b[0mself\u001b[0m\u001b[1;33m.\u001b[0m\u001b[0mmodel\u001b[0m\u001b[1;33m.\u001b[0m\u001b[0mpredict\u001b[0m\u001b[1;33m(\u001b[0m\u001b[0mdocs\u001b[0m\u001b[1;33m)\u001b[0m\u001b[1;33m\u001b[0m\u001b[1;33m\u001b[0m\u001b[0m\n\u001b[0m\u001b[0;32m    122\u001b[0m         \u001b[0mbatch_id\u001b[0m \u001b[1;33m=\u001b[0m \u001b[0mTok2VecListener\u001b[0m\u001b[1;33m.\u001b[0m\u001b[0mget_batch_id\u001b[0m\u001b[1;33m(\u001b[0m\u001b[0mdocs\u001b[0m\u001b[1;33m)\u001b[0m\u001b[1;33m\u001b[0m\u001b[1;33m\u001b[0m\u001b[0m\n\u001b[0;32m    123\u001b[0m         \u001b[1;32mfor\u001b[0m \u001b[0mlistener\u001b[0m \u001b[1;32min\u001b[0m \u001b[0mself\u001b[0m\u001b[1;33m.\u001b[0m\u001b[0mlisteners\u001b[0m\u001b[1;33m:\u001b[0m\u001b[1;33m\u001b[0m\u001b[1;33m\u001b[0m\u001b[0m\n",
      "\u001b[1;32m~\\anaconda3\\lib\\site-packages\\thinc\\model.py\u001b[0m in \u001b[0;36mpredict\u001b[1;34m(self, X)\u001b[0m\n\u001b[0;32m    313\u001b[0m         \u001b[0monly\u001b[0m \u001b[0mthe\u001b[0m \u001b[0moutput\u001b[0m\u001b[1;33m,\u001b[0m \u001b[0minstead\u001b[0m \u001b[0mof\u001b[0m \u001b[0mthe\u001b[0m\u001b[0;31m \u001b[0m\u001b[0;31m`\u001b[0m\u001b[1;33m(\u001b[0m\u001b[0moutput\u001b[0m\u001b[1;33m,\u001b[0m \u001b[0mcallback\u001b[0m\u001b[1;33m)\u001b[0m\u001b[0;31m`\u001b[0m \u001b[0mtuple\u001b[0m\u001b[1;33m.\u001b[0m\u001b[1;33m\u001b[0m\u001b[1;33m\u001b[0m\u001b[0m\n\u001b[0;32m    314\u001b[0m         \"\"\"\n\u001b[1;32m--> 315\u001b[1;33m         \u001b[1;32mreturn\u001b[0m \u001b[0mself\u001b[0m\u001b[1;33m.\u001b[0m\u001b[0m_func\u001b[0m\u001b[1;33m(\u001b[0m\u001b[0mself\u001b[0m\u001b[1;33m,\u001b[0m \u001b[0mX\u001b[0m\u001b[1;33m,\u001b[0m \u001b[0mis_train\u001b[0m\u001b[1;33m=\u001b[0m\u001b[1;32mFalse\u001b[0m\u001b[1;33m)\u001b[0m\u001b[1;33m[\u001b[0m\u001b[1;36m0\u001b[0m\u001b[1;33m]\u001b[0m\u001b[1;33m\u001b[0m\u001b[1;33m\u001b[0m\u001b[0m\n\u001b[0m\u001b[0;32m    316\u001b[0m \u001b[1;33m\u001b[0m\u001b[0m\n\u001b[0;32m    317\u001b[0m     \u001b[1;32mdef\u001b[0m \u001b[0mfinish_update\u001b[0m\u001b[1;33m(\u001b[0m\u001b[0mself\u001b[0m\u001b[1;33m,\u001b[0m \u001b[0moptimizer\u001b[0m\u001b[1;33m:\u001b[0m \u001b[0mOptimizer\u001b[0m\u001b[1;33m)\u001b[0m \u001b[1;33m->\u001b[0m \u001b[1;32mNone\u001b[0m\u001b[1;33m:\u001b[0m\u001b[1;33m\u001b[0m\u001b[1;33m\u001b[0m\u001b[0m\n",
      "\u001b[1;32m~\\anaconda3\\lib\\site-packages\\thinc\\layers\\chain.py\u001b[0m in \u001b[0;36mforward\u001b[1;34m(model, X, is_train)\u001b[0m\n\u001b[0;32m     52\u001b[0m     \u001b[0mcallbacks\u001b[0m \u001b[1;33m=\u001b[0m \u001b[1;33m[\u001b[0m\u001b[1;33m]\u001b[0m\u001b[1;33m\u001b[0m\u001b[1;33m\u001b[0m\u001b[0m\n\u001b[0;32m     53\u001b[0m     \u001b[1;32mfor\u001b[0m \u001b[0mlayer\u001b[0m \u001b[1;32min\u001b[0m \u001b[0mmodel\u001b[0m\u001b[1;33m.\u001b[0m\u001b[0mlayers\u001b[0m\u001b[1;33m:\u001b[0m\u001b[1;33m\u001b[0m\u001b[1;33m\u001b[0m\u001b[0m\n\u001b[1;32m---> 54\u001b[1;33m         \u001b[0mY\u001b[0m\u001b[1;33m,\u001b[0m \u001b[0minc_layer_grad\u001b[0m \u001b[1;33m=\u001b[0m \u001b[0mlayer\u001b[0m\u001b[1;33m(\u001b[0m\u001b[0mX\u001b[0m\u001b[1;33m,\u001b[0m \u001b[0mis_train\u001b[0m\u001b[1;33m=\u001b[0m\u001b[0mis_train\u001b[0m\u001b[1;33m)\u001b[0m\u001b[1;33m\u001b[0m\u001b[1;33m\u001b[0m\u001b[0m\n\u001b[0m\u001b[0;32m     55\u001b[0m         \u001b[0mcallbacks\u001b[0m\u001b[1;33m.\u001b[0m\u001b[0mappend\u001b[0m\u001b[1;33m(\u001b[0m\u001b[0minc_layer_grad\u001b[0m\u001b[1;33m)\u001b[0m\u001b[1;33m\u001b[0m\u001b[1;33m\u001b[0m\u001b[0m\n\u001b[0;32m     56\u001b[0m         \u001b[0mX\u001b[0m \u001b[1;33m=\u001b[0m \u001b[0mY\u001b[0m\u001b[1;33m\u001b[0m\u001b[1;33m\u001b[0m\u001b[0m\n",
      "\u001b[1;32m~\\anaconda3\\lib\\site-packages\\thinc\\model.py\u001b[0m in \u001b[0;36m__call__\u001b[1;34m(self, X, is_train)\u001b[0m\n\u001b[0;32m    289\u001b[0m         \"\"\"Call the model's `forward` function, returning the output and a\n\u001b[0;32m    290\u001b[0m         callback to compute the gradients via backpropagation.\"\"\"\n\u001b[1;32m--> 291\u001b[1;33m         \u001b[1;32mreturn\u001b[0m \u001b[0mself\u001b[0m\u001b[1;33m.\u001b[0m\u001b[0m_func\u001b[0m\u001b[1;33m(\u001b[0m\u001b[0mself\u001b[0m\u001b[1;33m,\u001b[0m \u001b[0mX\u001b[0m\u001b[1;33m,\u001b[0m \u001b[0mis_train\u001b[0m\u001b[1;33m=\u001b[0m\u001b[0mis_train\u001b[0m\u001b[1;33m)\u001b[0m\u001b[1;33m\u001b[0m\u001b[1;33m\u001b[0m\u001b[0m\n\u001b[0m\u001b[0;32m    292\u001b[0m \u001b[1;33m\u001b[0m\u001b[0m\n\u001b[0;32m    293\u001b[0m     \u001b[1;32mdef\u001b[0m \u001b[0minitialize\u001b[0m\u001b[1;33m(\u001b[0m\u001b[0mself\u001b[0m\u001b[1;33m,\u001b[0m \u001b[0mX\u001b[0m\u001b[1;33m:\u001b[0m \u001b[0mOptional\u001b[0m\u001b[1;33m[\u001b[0m\u001b[0mInT\u001b[0m\u001b[1;33m]\u001b[0m \u001b[1;33m=\u001b[0m \u001b[1;32mNone\u001b[0m\u001b[1;33m,\u001b[0m \u001b[0mY\u001b[0m\u001b[1;33m:\u001b[0m \u001b[0mOptional\u001b[0m\u001b[1;33m[\u001b[0m\u001b[0mOutT\u001b[0m\u001b[1;33m]\u001b[0m \u001b[1;33m=\u001b[0m \u001b[1;32mNone\u001b[0m\u001b[1;33m)\u001b[0m \u001b[1;33m->\u001b[0m \u001b[1;34m\"Model\"\u001b[0m\u001b[1;33m:\u001b[0m\u001b[1;33m\u001b[0m\u001b[1;33m\u001b[0m\u001b[0m\n",
      "\u001b[1;32m~\\anaconda3\\lib\\site-packages\\thinc\\layers\\with_array.py\u001b[0m in \u001b[0;36mforward\u001b[1;34m(model, Xseq, is_train)\u001b[0m\n\u001b[0;32m     38\u001b[0m         \u001b[1;32mreturn\u001b[0m \u001b[0mmodel\u001b[0m\u001b[1;33m.\u001b[0m\u001b[0mlayers\u001b[0m\u001b[1;33m[\u001b[0m\u001b[1;36m0\u001b[0m\u001b[1;33m]\u001b[0m\u001b[1;33m(\u001b[0m\u001b[0mXseq\u001b[0m\u001b[1;33m,\u001b[0m \u001b[0mis_train\u001b[0m\u001b[1;33m)\u001b[0m\u001b[1;33m\u001b[0m\u001b[1;33m\u001b[0m\u001b[0m\n\u001b[0;32m     39\u001b[0m     \u001b[1;32melse\u001b[0m\u001b[1;33m:\u001b[0m\u001b[1;33m\u001b[0m\u001b[1;33m\u001b[0m\u001b[0m\n\u001b[1;32m---> 40\u001b[1;33m         \u001b[1;32mreturn\u001b[0m \u001b[0m_list_forward\u001b[0m\u001b[1;33m(\u001b[0m\u001b[0mcast\u001b[0m\u001b[1;33m(\u001b[0m\u001b[0mModel\u001b[0m\u001b[1;33m[\u001b[0m\u001b[0mList2d\u001b[0m\u001b[1;33m,\u001b[0m \u001b[0mList2d\u001b[0m\u001b[1;33m]\u001b[0m\u001b[1;33m,\u001b[0m \u001b[0mmodel\u001b[0m\u001b[1;33m)\u001b[0m\u001b[1;33m,\u001b[0m \u001b[0mXseq\u001b[0m\u001b[1;33m,\u001b[0m \u001b[0mis_train\u001b[0m\u001b[1;33m)\u001b[0m\u001b[1;33m\u001b[0m\u001b[1;33m\u001b[0m\u001b[0m\n\u001b[0m\u001b[0;32m     41\u001b[0m \u001b[1;33m\u001b[0m\u001b[0m\n\u001b[0;32m     42\u001b[0m \u001b[1;33m\u001b[0m\u001b[0m\n",
      "\u001b[1;32m~\\anaconda3\\lib\\site-packages\\thinc\\layers\\with_array.py\u001b[0m in \u001b[0;36m_list_forward\u001b[1;34m(model, Xs, is_train)\u001b[0m\n\u001b[0;32m     74\u001b[0m     \u001b[0mlengths\u001b[0m \u001b[1;33m=\u001b[0m \u001b[0mlayer\u001b[0m\u001b[1;33m.\u001b[0m\u001b[0mops\u001b[0m\u001b[1;33m.\u001b[0m\u001b[0masarray1i\u001b[0m\u001b[1;33m(\u001b[0m\u001b[1;33m[\u001b[0m\u001b[0mlen\u001b[0m\u001b[1;33m(\u001b[0m\u001b[0mseq\u001b[0m\u001b[1;33m)\u001b[0m \u001b[1;32mfor\u001b[0m \u001b[0mseq\u001b[0m \u001b[1;32min\u001b[0m \u001b[0mXs\u001b[0m\u001b[1;33m]\u001b[0m\u001b[1;33m)\u001b[0m\u001b[1;33m\u001b[0m\u001b[1;33m\u001b[0m\u001b[0m\n\u001b[0;32m     75\u001b[0m     \u001b[0mXf\u001b[0m \u001b[1;33m=\u001b[0m \u001b[0mlayer\u001b[0m\u001b[1;33m.\u001b[0m\u001b[0mops\u001b[0m\u001b[1;33m.\u001b[0m\u001b[0mflatten\u001b[0m\u001b[1;33m(\u001b[0m\u001b[0mXs\u001b[0m\u001b[1;33m,\u001b[0m \u001b[0mpad\u001b[0m\u001b[1;33m=\u001b[0m\u001b[0mpad\u001b[0m\u001b[1;33m)\u001b[0m  \u001b[1;31m# type: ignore\u001b[0m\u001b[1;33m\u001b[0m\u001b[1;33m\u001b[0m\u001b[0m\n\u001b[1;32m---> 76\u001b[1;33m     \u001b[0mYf\u001b[0m\u001b[1;33m,\u001b[0m \u001b[0mget_dXf\u001b[0m \u001b[1;33m=\u001b[0m \u001b[0mlayer\u001b[0m\u001b[1;33m(\u001b[0m\u001b[0mXf\u001b[0m\u001b[1;33m,\u001b[0m \u001b[0mis_train\u001b[0m\u001b[1;33m)\u001b[0m\u001b[1;33m\u001b[0m\u001b[1;33m\u001b[0m\u001b[0m\n\u001b[0m\u001b[0;32m     77\u001b[0m \u001b[1;33m\u001b[0m\u001b[0m\n\u001b[0;32m     78\u001b[0m     \u001b[1;32mdef\u001b[0m \u001b[0mbackprop\u001b[0m\u001b[1;33m(\u001b[0m\u001b[0mdYs\u001b[0m\u001b[1;33m:\u001b[0m \u001b[0mList2d\u001b[0m\u001b[1;33m)\u001b[0m \u001b[1;33m->\u001b[0m \u001b[0mList2d\u001b[0m\u001b[1;33m:\u001b[0m\u001b[1;33m\u001b[0m\u001b[1;33m\u001b[0m\u001b[0m\n",
      "\u001b[1;32m~\\anaconda3\\lib\\site-packages\\thinc\\model.py\u001b[0m in \u001b[0;36m__call__\u001b[1;34m(self, X, is_train)\u001b[0m\n\u001b[0;32m    289\u001b[0m         \"\"\"Call the model's `forward` function, returning the output and a\n\u001b[0;32m    290\u001b[0m         callback to compute the gradients via backpropagation.\"\"\"\n\u001b[1;32m--> 291\u001b[1;33m         \u001b[1;32mreturn\u001b[0m \u001b[0mself\u001b[0m\u001b[1;33m.\u001b[0m\u001b[0m_func\u001b[0m\u001b[1;33m(\u001b[0m\u001b[0mself\u001b[0m\u001b[1;33m,\u001b[0m \u001b[0mX\u001b[0m\u001b[1;33m,\u001b[0m \u001b[0mis_train\u001b[0m\u001b[1;33m=\u001b[0m\u001b[0mis_train\u001b[0m\u001b[1;33m)\u001b[0m\u001b[1;33m\u001b[0m\u001b[1;33m\u001b[0m\u001b[0m\n\u001b[0m\u001b[0;32m    292\u001b[0m \u001b[1;33m\u001b[0m\u001b[0m\n\u001b[0;32m    293\u001b[0m     \u001b[1;32mdef\u001b[0m \u001b[0minitialize\u001b[0m\u001b[1;33m(\u001b[0m\u001b[0mself\u001b[0m\u001b[1;33m,\u001b[0m \u001b[0mX\u001b[0m\u001b[1;33m:\u001b[0m \u001b[0mOptional\u001b[0m\u001b[1;33m[\u001b[0m\u001b[0mInT\u001b[0m\u001b[1;33m]\u001b[0m \u001b[1;33m=\u001b[0m \u001b[1;32mNone\u001b[0m\u001b[1;33m,\u001b[0m \u001b[0mY\u001b[0m\u001b[1;33m:\u001b[0m \u001b[0mOptional\u001b[0m\u001b[1;33m[\u001b[0m\u001b[0mOutT\u001b[0m\u001b[1;33m]\u001b[0m \u001b[1;33m=\u001b[0m \u001b[1;32mNone\u001b[0m\u001b[1;33m)\u001b[0m \u001b[1;33m->\u001b[0m \u001b[1;34m\"Model\"\u001b[0m\u001b[1;33m:\u001b[0m\u001b[1;33m\u001b[0m\u001b[1;33m\u001b[0m\u001b[0m\n",
      "\u001b[1;32m~\\anaconda3\\lib\\site-packages\\thinc\\layers\\chain.py\u001b[0m in \u001b[0;36mforward\u001b[1;34m(model, X, is_train)\u001b[0m\n\u001b[0;32m     52\u001b[0m     \u001b[0mcallbacks\u001b[0m \u001b[1;33m=\u001b[0m \u001b[1;33m[\u001b[0m\u001b[1;33m]\u001b[0m\u001b[1;33m\u001b[0m\u001b[1;33m\u001b[0m\u001b[0m\n\u001b[0;32m     53\u001b[0m     \u001b[1;32mfor\u001b[0m \u001b[0mlayer\u001b[0m \u001b[1;32min\u001b[0m \u001b[0mmodel\u001b[0m\u001b[1;33m.\u001b[0m\u001b[0mlayers\u001b[0m\u001b[1;33m:\u001b[0m\u001b[1;33m\u001b[0m\u001b[1;33m\u001b[0m\u001b[0m\n\u001b[1;32m---> 54\u001b[1;33m         \u001b[0mY\u001b[0m\u001b[1;33m,\u001b[0m \u001b[0minc_layer_grad\u001b[0m \u001b[1;33m=\u001b[0m \u001b[0mlayer\u001b[0m\u001b[1;33m(\u001b[0m\u001b[0mX\u001b[0m\u001b[1;33m,\u001b[0m \u001b[0mis_train\u001b[0m\u001b[1;33m=\u001b[0m\u001b[0mis_train\u001b[0m\u001b[1;33m)\u001b[0m\u001b[1;33m\u001b[0m\u001b[1;33m\u001b[0m\u001b[0m\n\u001b[0m\u001b[0;32m     55\u001b[0m         \u001b[0mcallbacks\u001b[0m\u001b[1;33m.\u001b[0m\u001b[0mappend\u001b[0m\u001b[1;33m(\u001b[0m\u001b[0minc_layer_grad\u001b[0m\u001b[1;33m)\u001b[0m\u001b[1;33m\u001b[0m\u001b[1;33m\u001b[0m\u001b[0m\n\u001b[0;32m     56\u001b[0m         \u001b[0mX\u001b[0m \u001b[1;33m=\u001b[0m \u001b[0mY\u001b[0m\u001b[1;33m\u001b[0m\u001b[1;33m\u001b[0m\u001b[0m\n",
      "\u001b[1;32m~\\anaconda3\\lib\\site-packages\\thinc\\model.py\u001b[0m in \u001b[0;36m__call__\u001b[1;34m(self, X, is_train)\u001b[0m\n\u001b[0;32m    289\u001b[0m         \"\"\"Call the model's `forward` function, returning the output and a\n\u001b[0;32m    290\u001b[0m         callback to compute the gradients via backpropagation.\"\"\"\n\u001b[1;32m--> 291\u001b[1;33m         \u001b[1;32mreturn\u001b[0m \u001b[0mself\u001b[0m\u001b[1;33m.\u001b[0m\u001b[0m_func\u001b[0m\u001b[1;33m(\u001b[0m\u001b[0mself\u001b[0m\u001b[1;33m,\u001b[0m \u001b[0mX\u001b[0m\u001b[1;33m,\u001b[0m \u001b[0mis_train\u001b[0m\u001b[1;33m=\u001b[0m\u001b[0mis_train\u001b[0m\u001b[1;33m)\u001b[0m\u001b[1;33m\u001b[0m\u001b[1;33m\u001b[0m\u001b[0m\n\u001b[0m\u001b[0;32m    292\u001b[0m \u001b[1;33m\u001b[0m\u001b[0m\n\u001b[0;32m    293\u001b[0m     \u001b[1;32mdef\u001b[0m \u001b[0minitialize\u001b[0m\u001b[1;33m(\u001b[0m\u001b[0mself\u001b[0m\u001b[1;33m,\u001b[0m \u001b[0mX\u001b[0m\u001b[1;33m:\u001b[0m \u001b[0mOptional\u001b[0m\u001b[1;33m[\u001b[0m\u001b[0mInT\u001b[0m\u001b[1;33m]\u001b[0m \u001b[1;33m=\u001b[0m \u001b[1;32mNone\u001b[0m\u001b[1;33m,\u001b[0m \u001b[0mY\u001b[0m\u001b[1;33m:\u001b[0m \u001b[0mOptional\u001b[0m\u001b[1;33m[\u001b[0m\u001b[0mOutT\u001b[0m\u001b[1;33m]\u001b[0m \u001b[1;33m=\u001b[0m \u001b[1;32mNone\u001b[0m\u001b[1;33m)\u001b[0m \u001b[1;33m->\u001b[0m \u001b[1;34m\"Model\"\u001b[0m\u001b[1;33m:\u001b[0m\u001b[1;33m\u001b[0m\u001b[1;33m\u001b[0m\u001b[0m\n",
      "\u001b[1;32m~\\anaconda3\\lib\\site-packages\\thinc\\layers\\residual.py\u001b[0m in \u001b[0;36mforward\u001b[1;34m(model, X, is_train)\u001b[0m\n\u001b[0;32m     38\u001b[0m             \u001b[1;32mreturn\u001b[0m \u001b[0md_output\u001b[0m \u001b[1;33m+\u001b[0m \u001b[0mdX\u001b[0m\u001b[1;33m\u001b[0m\u001b[1;33m\u001b[0m\u001b[0m\n\u001b[0;32m     39\u001b[0m \u001b[1;33m\u001b[0m\u001b[0m\n\u001b[1;32m---> 40\u001b[1;33m     \u001b[0mY\u001b[0m\u001b[1;33m,\u001b[0m \u001b[0mbackprop_layer\u001b[0m \u001b[1;33m=\u001b[0m \u001b[0mmodel\u001b[0m\u001b[1;33m.\u001b[0m\u001b[0mlayers\u001b[0m\u001b[1;33m[\u001b[0m\u001b[1;36m0\u001b[0m\u001b[1;33m]\u001b[0m\u001b[1;33m(\u001b[0m\u001b[0mX\u001b[0m\u001b[1;33m,\u001b[0m \u001b[0mis_train\u001b[0m\u001b[1;33m)\u001b[0m\u001b[1;33m\u001b[0m\u001b[1;33m\u001b[0m\u001b[0m\n\u001b[0m\u001b[0;32m     41\u001b[0m     \u001b[1;32mif\u001b[0m \u001b[0misinstance\u001b[0m\u001b[1;33m(\u001b[0m\u001b[0mX\u001b[0m\u001b[1;33m,\u001b[0m \u001b[0mlist\u001b[0m\u001b[1;33m)\u001b[0m\u001b[1;33m:\u001b[0m\u001b[1;33m\u001b[0m\u001b[1;33m\u001b[0m\u001b[0m\n\u001b[0;32m     42\u001b[0m         \u001b[1;32mreturn\u001b[0m \u001b[1;33m[\u001b[0m\u001b[0mX\u001b[0m\u001b[1;33m[\u001b[0m\u001b[0mi\u001b[0m\u001b[1;33m]\u001b[0m \u001b[1;33m+\u001b[0m \u001b[0mY\u001b[0m\u001b[1;33m[\u001b[0m\u001b[0mi\u001b[0m\u001b[1;33m]\u001b[0m \u001b[1;32mfor\u001b[0m \u001b[0mi\u001b[0m \u001b[1;32min\u001b[0m \u001b[0mrange\u001b[0m\u001b[1;33m(\u001b[0m\u001b[0mlen\u001b[0m\u001b[1;33m(\u001b[0m\u001b[0mX\u001b[0m\u001b[1;33m)\u001b[0m\u001b[1;33m)\u001b[0m\u001b[1;33m]\u001b[0m\u001b[1;33m,\u001b[0m \u001b[0mbackprop\u001b[0m\u001b[1;33m\u001b[0m\u001b[1;33m\u001b[0m\u001b[0m\n",
      "\u001b[1;32m~\\anaconda3\\lib\\site-packages\\thinc\\model.py\u001b[0m in \u001b[0;36m__call__\u001b[1;34m(self, X, is_train)\u001b[0m\n\u001b[0;32m    289\u001b[0m         \"\"\"Call the model's `forward` function, returning the output and a\n\u001b[0;32m    290\u001b[0m         callback to compute the gradients via backpropagation.\"\"\"\n\u001b[1;32m--> 291\u001b[1;33m         \u001b[1;32mreturn\u001b[0m \u001b[0mself\u001b[0m\u001b[1;33m.\u001b[0m\u001b[0m_func\u001b[0m\u001b[1;33m(\u001b[0m\u001b[0mself\u001b[0m\u001b[1;33m,\u001b[0m \u001b[0mX\u001b[0m\u001b[1;33m,\u001b[0m \u001b[0mis_train\u001b[0m\u001b[1;33m=\u001b[0m\u001b[0mis_train\u001b[0m\u001b[1;33m)\u001b[0m\u001b[1;33m\u001b[0m\u001b[1;33m\u001b[0m\u001b[0m\n\u001b[0m\u001b[0;32m    292\u001b[0m \u001b[1;33m\u001b[0m\u001b[0m\n\u001b[0;32m    293\u001b[0m     \u001b[1;32mdef\u001b[0m \u001b[0minitialize\u001b[0m\u001b[1;33m(\u001b[0m\u001b[0mself\u001b[0m\u001b[1;33m,\u001b[0m \u001b[0mX\u001b[0m\u001b[1;33m:\u001b[0m \u001b[0mOptional\u001b[0m\u001b[1;33m[\u001b[0m\u001b[0mInT\u001b[0m\u001b[1;33m]\u001b[0m \u001b[1;33m=\u001b[0m \u001b[1;32mNone\u001b[0m\u001b[1;33m,\u001b[0m \u001b[0mY\u001b[0m\u001b[1;33m:\u001b[0m \u001b[0mOptional\u001b[0m\u001b[1;33m[\u001b[0m\u001b[0mOutT\u001b[0m\u001b[1;33m]\u001b[0m \u001b[1;33m=\u001b[0m \u001b[1;32mNone\u001b[0m\u001b[1;33m)\u001b[0m \u001b[1;33m->\u001b[0m \u001b[1;34m\"Model\"\u001b[0m\u001b[1;33m:\u001b[0m\u001b[1;33m\u001b[0m\u001b[1;33m\u001b[0m\u001b[0m\n",
      "\u001b[1;32m~\\anaconda3\\lib\\site-packages\\thinc\\layers\\chain.py\u001b[0m in \u001b[0;36mforward\u001b[1;34m(model, X, is_train)\u001b[0m\n\u001b[0;32m     52\u001b[0m     \u001b[0mcallbacks\u001b[0m \u001b[1;33m=\u001b[0m \u001b[1;33m[\u001b[0m\u001b[1;33m]\u001b[0m\u001b[1;33m\u001b[0m\u001b[1;33m\u001b[0m\u001b[0m\n\u001b[0;32m     53\u001b[0m     \u001b[1;32mfor\u001b[0m \u001b[0mlayer\u001b[0m \u001b[1;32min\u001b[0m \u001b[0mmodel\u001b[0m\u001b[1;33m.\u001b[0m\u001b[0mlayers\u001b[0m\u001b[1;33m:\u001b[0m\u001b[1;33m\u001b[0m\u001b[1;33m\u001b[0m\u001b[0m\n\u001b[1;32m---> 54\u001b[1;33m         \u001b[0mY\u001b[0m\u001b[1;33m,\u001b[0m \u001b[0minc_layer_grad\u001b[0m \u001b[1;33m=\u001b[0m \u001b[0mlayer\u001b[0m\u001b[1;33m(\u001b[0m\u001b[0mX\u001b[0m\u001b[1;33m,\u001b[0m \u001b[0mis_train\u001b[0m\u001b[1;33m=\u001b[0m\u001b[0mis_train\u001b[0m\u001b[1;33m)\u001b[0m\u001b[1;33m\u001b[0m\u001b[1;33m\u001b[0m\u001b[0m\n\u001b[0m\u001b[0;32m     55\u001b[0m         \u001b[0mcallbacks\u001b[0m\u001b[1;33m.\u001b[0m\u001b[0mappend\u001b[0m\u001b[1;33m(\u001b[0m\u001b[0minc_layer_grad\u001b[0m\u001b[1;33m)\u001b[0m\u001b[1;33m\u001b[0m\u001b[1;33m\u001b[0m\u001b[0m\n\u001b[0;32m     56\u001b[0m         \u001b[0mX\u001b[0m \u001b[1;33m=\u001b[0m \u001b[0mY\u001b[0m\u001b[1;33m\u001b[0m\u001b[1;33m\u001b[0m\u001b[0m\n",
      "\u001b[1;32m~\\anaconda3\\lib\\site-packages\\thinc\\model.py\u001b[0m in \u001b[0;36m__call__\u001b[1;34m(self, X, is_train)\u001b[0m\n\u001b[0;32m    289\u001b[0m         \"\"\"Call the model's `forward` function, returning the output and a\n\u001b[0;32m    290\u001b[0m         callback to compute the gradients via backpropagation.\"\"\"\n\u001b[1;32m--> 291\u001b[1;33m         \u001b[1;32mreturn\u001b[0m \u001b[0mself\u001b[0m\u001b[1;33m.\u001b[0m\u001b[0m_func\u001b[0m\u001b[1;33m(\u001b[0m\u001b[0mself\u001b[0m\u001b[1;33m,\u001b[0m \u001b[0mX\u001b[0m\u001b[1;33m,\u001b[0m \u001b[0mis_train\u001b[0m\u001b[1;33m=\u001b[0m\u001b[0mis_train\u001b[0m\u001b[1;33m)\u001b[0m\u001b[1;33m\u001b[0m\u001b[1;33m\u001b[0m\u001b[0m\n\u001b[0m\u001b[0;32m    292\u001b[0m \u001b[1;33m\u001b[0m\u001b[0m\n\u001b[0;32m    293\u001b[0m     \u001b[1;32mdef\u001b[0m \u001b[0minitialize\u001b[0m\u001b[1;33m(\u001b[0m\u001b[0mself\u001b[0m\u001b[1;33m,\u001b[0m \u001b[0mX\u001b[0m\u001b[1;33m:\u001b[0m \u001b[0mOptional\u001b[0m\u001b[1;33m[\u001b[0m\u001b[0mInT\u001b[0m\u001b[1;33m]\u001b[0m \u001b[1;33m=\u001b[0m \u001b[1;32mNone\u001b[0m\u001b[1;33m,\u001b[0m \u001b[0mY\u001b[0m\u001b[1;33m:\u001b[0m \u001b[0mOptional\u001b[0m\u001b[1;33m[\u001b[0m\u001b[0mOutT\u001b[0m\u001b[1;33m]\u001b[0m \u001b[1;33m=\u001b[0m \u001b[1;32mNone\u001b[0m\u001b[1;33m)\u001b[0m \u001b[1;33m->\u001b[0m \u001b[1;34m\"Model\"\u001b[0m\u001b[1;33m:\u001b[0m\u001b[1;33m\u001b[0m\u001b[1;33m\u001b[0m\u001b[0m\n",
      "\u001b[1;32m~\\anaconda3\\lib\\site-packages\\thinc\\layers\\chain.py\u001b[0m in \u001b[0;36mforward\u001b[1;34m(model, X, is_train)\u001b[0m\n\u001b[0;32m     52\u001b[0m     \u001b[0mcallbacks\u001b[0m \u001b[1;33m=\u001b[0m \u001b[1;33m[\u001b[0m\u001b[1;33m]\u001b[0m\u001b[1;33m\u001b[0m\u001b[1;33m\u001b[0m\u001b[0m\n\u001b[0;32m     53\u001b[0m     \u001b[1;32mfor\u001b[0m \u001b[0mlayer\u001b[0m \u001b[1;32min\u001b[0m \u001b[0mmodel\u001b[0m\u001b[1;33m.\u001b[0m\u001b[0mlayers\u001b[0m\u001b[1;33m:\u001b[0m\u001b[1;33m\u001b[0m\u001b[1;33m\u001b[0m\u001b[0m\n\u001b[1;32m---> 54\u001b[1;33m         \u001b[0mY\u001b[0m\u001b[1;33m,\u001b[0m \u001b[0minc_layer_grad\u001b[0m \u001b[1;33m=\u001b[0m \u001b[0mlayer\u001b[0m\u001b[1;33m(\u001b[0m\u001b[0mX\u001b[0m\u001b[1;33m,\u001b[0m \u001b[0mis_train\u001b[0m\u001b[1;33m=\u001b[0m\u001b[0mis_train\u001b[0m\u001b[1;33m)\u001b[0m\u001b[1;33m\u001b[0m\u001b[1;33m\u001b[0m\u001b[0m\n\u001b[0m\u001b[0;32m     55\u001b[0m         \u001b[0mcallbacks\u001b[0m\u001b[1;33m.\u001b[0m\u001b[0mappend\u001b[0m\u001b[1;33m(\u001b[0m\u001b[0minc_layer_grad\u001b[0m\u001b[1;33m)\u001b[0m\u001b[1;33m\u001b[0m\u001b[1;33m\u001b[0m\u001b[0m\n\u001b[0;32m     56\u001b[0m         \u001b[0mX\u001b[0m \u001b[1;33m=\u001b[0m \u001b[0mY\u001b[0m\u001b[1;33m\u001b[0m\u001b[1;33m\u001b[0m\u001b[0m\n",
      "\u001b[1;32m~\\anaconda3\\lib\\site-packages\\thinc\\model.py\u001b[0m in \u001b[0;36m__call__\u001b[1;34m(self, X, is_train)\u001b[0m\n\u001b[0;32m    289\u001b[0m         \"\"\"Call the model's `forward` function, returning the output and a\n\u001b[0;32m    290\u001b[0m         callback to compute the gradients via backpropagation.\"\"\"\n\u001b[1;32m--> 291\u001b[1;33m         \u001b[1;32mreturn\u001b[0m \u001b[0mself\u001b[0m\u001b[1;33m.\u001b[0m\u001b[0m_func\u001b[0m\u001b[1;33m(\u001b[0m\u001b[0mself\u001b[0m\u001b[1;33m,\u001b[0m \u001b[0mX\u001b[0m\u001b[1;33m,\u001b[0m \u001b[0mis_train\u001b[0m\u001b[1;33m=\u001b[0m\u001b[0mis_train\u001b[0m\u001b[1;33m)\u001b[0m\u001b[1;33m\u001b[0m\u001b[1;33m\u001b[0m\u001b[0m\n\u001b[0m\u001b[0;32m    292\u001b[0m \u001b[1;33m\u001b[0m\u001b[0m\n\u001b[0;32m    293\u001b[0m     \u001b[1;32mdef\u001b[0m \u001b[0minitialize\u001b[0m\u001b[1;33m(\u001b[0m\u001b[0mself\u001b[0m\u001b[1;33m,\u001b[0m \u001b[0mX\u001b[0m\u001b[1;33m:\u001b[0m \u001b[0mOptional\u001b[0m\u001b[1;33m[\u001b[0m\u001b[0mInT\u001b[0m\u001b[1;33m]\u001b[0m \u001b[1;33m=\u001b[0m \u001b[1;32mNone\u001b[0m\u001b[1;33m,\u001b[0m \u001b[0mY\u001b[0m\u001b[1;33m:\u001b[0m \u001b[0mOptional\u001b[0m\u001b[1;33m[\u001b[0m\u001b[0mOutT\u001b[0m\u001b[1;33m]\u001b[0m \u001b[1;33m=\u001b[0m \u001b[1;32mNone\u001b[0m\u001b[1;33m)\u001b[0m \u001b[1;33m->\u001b[0m \u001b[1;34m\"Model\"\u001b[0m\u001b[1;33m:\u001b[0m\u001b[1;33m\u001b[0m\u001b[1;33m\u001b[0m\u001b[0m\n",
      "\u001b[1;32m~\\anaconda3\\lib\\site-packages\\thinc\\layers\\chain.py\u001b[0m in \u001b[0;36mforward\u001b[1;34m(model, X, is_train)\u001b[0m\n\u001b[0;32m     52\u001b[0m     \u001b[0mcallbacks\u001b[0m \u001b[1;33m=\u001b[0m \u001b[1;33m[\u001b[0m\u001b[1;33m]\u001b[0m\u001b[1;33m\u001b[0m\u001b[1;33m\u001b[0m\u001b[0m\n\u001b[0;32m     53\u001b[0m     \u001b[1;32mfor\u001b[0m \u001b[0mlayer\u001b[0m \u001b[1;32min\u001b[0m \u001b[0mmodel\u001b[0m\u001b[1;33m.\u001b[0m\u001b[0mlayers\u001b[0m\u001b[1;33m:\u001b[0m\u001b[1;33m\u001b[0m\u001b[1;33m\u001b[0m\u001b[0m\n\u001b[1;32m---> 54\u001b[1;33m         \u001b[0mY\u001b[0m\u001b[1;33m,\u001b[0m \u001b[0minc_layer_grad\u001b[0m \u001b[1;33m=\u001b[0m \u001b[0mlayer\u001b[0m\u001b[1;33m(\u001b[0m\u001b[0mX\u001b[0m\u001b[1;33m,\u001b[0m \u001b[0mis_train\u001b[0m\u001b[1;33m=\u001b[0m\u001b[0mis_train\u001b[0m\u001b[1;33m)\u001b[0m\u001b[1;33m\u001b[0m\u001b[1;33m\u001b[0m\u001b[0m\n\u001b[0m\u001b[0;32m     55\u001b[0m         \u001b[0mcallbacks\u001b[0m\u001b[1;33m.\u001b[0m\u001b[0mappend\u001b[0m\u001b[1;33m(\u001b[0m\u001b[0minc_layer_grad\u001b[0m\u001b[1;33m)\u001b[0m\u001b[1;33m\u001b[0m\u001b[1;33m\u001b[0m\u001b[0m\n\u001b[0;32m     56\u001b[0m         \u001b[0mX\u001b[0m \u001b[1;33m=\u001b[0m \u001b[0mY\u001b[0m\u001b[1;33m\u001b[0m\u001b[1;33m\u001b[0m\u001b[0m\n",
      "\u001b[1;32m~\\anaconda3\\lib\\site-packages\\thinc\\model.py\u001b[0m in \u001b[0;36m__call__\u001b[1;34m(self, X, is_train)\u001b[0m\n\u001b[0;32m    289\u001b[0m         \"\"\"Call the model's `forward` function, returning the output and a\n\u001b[0;32m    290\u001b[0m         callback to compute the gradients via backpropagation.\"\"\"\n\u001b[1;32m--> 291\u001b[1;33m         \u001b[1;32mreturn\u001b[0m \u001b[0mself\u001b[0m\u001b[1;33m.\u001b[0m\u001b[0m_func\u001b[0m\u001b[1;33m(\u001b[0m\u001b[0mself\u001b[0m\u001b[1;33m,\u001b[0m \u001b[0mX\u001b[0m\u001b[1;33m,\u001b[0m \u001b[0mis_train\u001b[0m\u001b[1;33m=\u001b[0m\u001b[0mis_train\u001b[0m\u001b[1;33m)\u001b[0m\u001b[1;33m\u001b[0m\u001b[1;33m\u001b[0m\u001b[0m\n\u001b[0m\u001b[0;32m    292\u001b[0m \u001b[1;33m\u001b[0m\u001b[0m\n\u001b[0;32m    293\u001b[0m     \u001b[1;32mdef\u001b[0m \u001b[0minitialize\u001b[0m\u001b[1;33m(\u001b[0m\u001b[0mself\u001b[0m\u001b[1;33m,\u001b[0m \u001b[0mX\u001b[0m\u001b[1;33m:\u001b[0m \u001b[0mOptional\u001b[0m\u001b[1;33m[\u001b[0m\u001b[0mInT\u001b[0m\u001b[1;33m]\u001b[0m \u001b[1;33m=\u001b[0m \u001b[1;32mNone\u001b[0m\u001b[1;33m,\u001b[0m \u001b[0mY\u001b[0m\u001b[1;33m:\u001b[0m \u001b[0mOptional\u001b[0m\u001b[1;33m[\u001b[0m\u001b[0mOutT\u001b[0m\u001b[1;33m]\u001b[0m \u001b[1;33m=\u001b[0m \u001b[1;32mNone\u001b[0m\u001b[1;33m)\u001b[0m \u001b[1;33m->\u001b[0m \u001b[1;34m\"Model\"\u001b[0m\u001b[1;33m:\u001b[0m\u001b[1;33m\u001b[0m\u001b[1;33m\u001b[0m\u001b[0m\n",
      "\u001b[1;32m~\\anaconda3\\lib\\site-packages\\thinc\\layers\\maxout.py\u001b[0m in \u001b[0;36mforward\u001b[1;34m(model, X, is_train)\u001b[0m\n\u001b[0;32m     47\u001b[0m     \u001b[0mW\u001b[0m \u001b[1;33m=\u001b[0m \u001b[0mmodel\u001b[0m\u001b[1;33m.\u001b[0m\u001b[0mget_param\u001b[0m\u001b[1;33m(\u001b[0m\u001b[1;34m\"W\"\u001b[0m\u001b[1;33m)\u001b[0m\u001b[1;33m\u001b[0m\u001b[1;33m\u001b[0m\u001b[0m\n\u001b[0;32m     48\u001b[0m     \u001b[0mW\u001b[0m \u001b[1;33m=\u001b[0m \u001b[0mmodel\u001b[0m\u001b[1;33m.\u001b[0m\u001b[0mops\u001b[0m\u001b[1;33m.\u001b[0m\u001b[0mreshape2f\u001b[0m\u001b[1;33m(\u001b[0m\u001b[0mW\u001b[0m\u001b[1;33m,\u001b[0m \u001b[0mnO\u001b[0m \u001b[1;33m*\u001b[0m \u001b[0mnP\u001b[0m\u001b[1;33m,\u001b[0m \u001b[0mnI\u001b[0m\u001b[1;33m)\u001b[0m\u001b[1;33m\u001b[0m\u001b[1;33m\u001b[0m\u001b[0m\n\u001b[1;32m---> 49\u001b[1;33m     \u001b[0mY\u001b[0m \u001b[1;33m=\u001b[0m \u001b[0mmodel\u001b[0m\u001b[1;33m.\u001b[0m\u001b[0mops\u001b[0m\u001b[1;33m.\u001b[0m\u001b[0mgemm\u001b[0m\u001b[1;33m(\u001b[0m\u001b[0mX\u001b[0m\u001b[1;33m,\u001b[0m \u001b[0mW\u001b[0m\u001b[1;33m,\u001b[0m \u001b[0mtrans2\u001b[0m\u001b[1;33m=\u001b[0m\u001b[1;32mTrue\u001b[0m\u001b[1;33m)\u001b[0m\u001b[1;33m\u001b[0m\u001b[1;33m\u001b[0m\u001b[0m\n\u001b[0m\u001b[0;32m     50\u001b[0m     \u001b[0mY\u001b[0m \u001b[1;33m+=\u001b[0m \u001b[0mmodel\u001b[0m\u001b[1;33m.\u001b[0m\u001b[0mops\u001b[0m\u001b[1;33m.\u001b[0m\u001b[0mreshape1f\u001b[0m\u001b[1;33m(\u001b[0m\u001b[0mb\u001b[0m\u001b[1;33m,\u001b[0m \u001b[0mnO\u001b[0m \u001b[1;33m*\u001b[0m \u001b[0mnP\u001b[0m\u001b[1;33m)\u001b[0m\u001b[1;33m\u001b[0m\u001b[1;33m\u001b[0m\u001b[0m\n\u001b[0;32m     51\u001b[0m     \u001b[0mZ\u001b[0m \u001b[1;33m=\u001b[0m \u001b[0mmodel\u001b[0m\u001b[1;33m.\u001b[0m\u001b[0mops\u001b[0m\u001b[1;33m.\u001b[0m\u001b[0mreshape3f\u001b[0m\u001b[1;33m(\u001b[0m\u001b[0mY\u001b[0m\u001b[1;33m,\u001b[0m \u001b[0mY\u001b[0m\u001b[1;33m.\u001b[0m\u001b[0mshape\u001b[0m\u001b[1;33m[\u001b[0m\u001b[1;36m0\u001b[0m\u001b[1;33m]\u001b[0m\u001b[1;33m,\u001b[0m \u001b[0mnO\u001b[0m\u001b[1;33m,\u001b[0m \u001b[0mnP\u001b[0m\u001b[1;33m)\u001b[0m\u001b[1;33m\u001b[0m\u001b[1;33m\u001b[0m\u001b[0m\n",
      "\u001b[1;31mKeyboardInterrupt\u001b[0m: "
     ]
    }
   ],
   "source": [
    "# Calculat the similarity\n",
    "nlp = spacy.load('en_core_web_sm')\n",
    "dfreq = pd.DataFrame(dfraw.groupby('Industry')['Dscrb'].sum()).reset_index()\n",
    "listA = []\n",
    "\n",
    "\n",
    "for x in range(0,41): \n",
    "    doc = nlp(dfreq.iloc[x,1])\n",
    "    nouns = [token.text\n",
    "         for token in doc\n",
    "         if (not token.is_stop and\n",
    "             not token.is_punct and\n",
    "             token.pos_ == \"NOUN\")]\n",
    "    word_freq = Counter(nouns)\n",
    "    common_words = word_freq.most_common(10)\n",
    "    listA.append(common_words)\n"
   ]
  },
  {
   "cell_type": "code",
   "execution_count": 16,
   "id": "5efec0ee",
   "metadata": {
    "scrolled": true
   },
   "outputs": [
    {
     "data": {
      "text/markdown": [
       "Uploading report and associated data - *please wait...*"
      ],
      "text/plain": [
       "<IPython.core.display.Markdown object>"
      ]
     },
     "metadata": {},
     "output_type": "display_data"
    },
    {
     "data": {
      "text/markdown": [
       "Your report only contains a single element - did you know you can include additional plots, tables and text in a single report? More info <a href='https://docs.datapane.com/reports/blocks/layout-pages-and-selects' target='_blank'>here</a>"
      ],
      "text/plain": [
       "<IPython.core.display.Markdown object>"
      ]
     },
     "metadata": {},
     "output_type": "display_data"
    },
    {
     "data": {
      "text/markdown": [
       "Report successfully uploaded. View and share your report <a href='https://datapane.com/u/klee/reports/9ArbGnA/ds-plot2-01-bykuan/' target='_blank'>here</a>, or edit your report <a href='https://datapane.com/u/klee/reports/9ArbGnA/ds-plot2-01-bykuan/edit/' target='_blank'>here</a>."
      ],
      "text/plain": [
       "<IPython.core.display.Markdown object>"
      ]
     },
     "metadata": {},
     "output_type": "display_data"
    },
    {
     "data": {
      "text/markdown": [
       "Uploading report and associated data - *please wait...*"
      ],
      "text/plain": [
       "<IPython.core.display.Markdown object>"
      ]
     },
     "metadata": {},
     "output_type": "display_data"
    },
    {
     "data": {
      "text/markdown": [
       "Your report only contains a single element - did you know you can include additional plots, tables and text in a single report? More info <a href='https://docs.datapane.com/reports/blocks/layout-pages-and-selects' target='_blank'>here</a>"
      ],
      "text/plain": [
       "<IPython.core.display.Markdown object>"
      ]
     },
     "metadata": {},
     "output_type": "display_data"
    },
    {
     "data": {
      "text/markdown": [
       "Report successfully uploaded. View and share your report <a href='https://datapane.com/u/klee/reports/BAmGMV7/ds-plot2-02-bykuan/' target='_blank'>here</a>, or edit your report <a href='https://datapane.com/u/klee/reports/BAmGMV7/ds-plot2-02-bykuan/edit/' target='_blank'>here</a>."
      ],
      "text/plain": [
       "<IPython.core.display.Markdown object>"
      ]
     },
     "metadata": {},
     "output_type": "display_data"
    },
    {
     "data": {
      "text/markdown": [
       "Uploading report and associated data - *please wait...*"
      ],
      "text/plain": [
       "<IPython.core.display.Markdown object>"
      ]
     },
     "metadata": {},
     "output_type": "display_data"
    },
    {
     "data": {
      "text/markdown": [
       "Your report only contains a single element - did you know you can include additional plots, tables and text in a single report? More info <a href='https://docs.datapane.com/reports/blocks/layout-pages-and-selects' target='_blank'>here</a>"
      ],
      "text/plain": [
       "<IPython.core.display.Markdown object>"
      ]
     },
     "metadata": {},
     "output_type": "display_data"
    },
    {
     "data": {
      "text/markdown": [
       "Report successfully uploaded. View and share your report <a href='https://datapane.com/u/klee/reports/J35yqd3/ds-plot2-03-bykuan/' target='_blank'>here</a>, or edit your report <a href='https://datapane.com/u/klee/reports/J35yqd3/ds-plot2-03-bykuan/edit/' target='_blank'>here</a>."
      ],
      "text/plain": [
       "<IPython.core.display.Markdown object>"
      ]
     },
     "metadata": {},
     "output_type": "display_data"
    },
    {
     "data": {
      "text/markdown": [
       "Uploading report and associated data - *please wait...*"
      ],
      "text/plain": [
       "<IPython.core.display.Markdown object>"
      ]
     },
     "metadata": {},
     "output_type": "display_data"
    },
    {
     "data": {
      "text/markdown": [
       "Your report only contains a single element - did you know you can include additional plots, tables and text in a single report? More info <a href='https://docs.datapane.com/reports/blocks/layout-pages-and-selects' target='_blank'>here</a>"
      ],
      "text/plain": [
       "<IPython.core.display.Markdown object>"
      ]
     },
     "metadata": {},
     "output_type": "display_data"
    },
    {
     "data": {
      "text/markdown": [
       "Report successfully uploaded. View and share your report <a href='https://datapane.com/u/klee/reports/j3LY057/ds-plot2-04-bykuan/' target='_blank'>here</a>, or edit your report <a href='https://datapane.com/u/klee/reports/j3LY057/ds-plot2-04-bykuan/edit/' target='_blank'>here</a>."
      ],
      "text/plain": [
       "<IPython.core.display.Markdown object>"
      ]
     },
     "metadata": {},
     "output_type": "display_data"
    },
    {
     "data": {
      "text/markdown": [
       "Uploading report and associated data - *please wait...*"
      ],
      "text/plain": [
       "<IPython.core.display.Markdown object>"
      ]
     },
     "metadata": {},
     "output_type": "display_data"
    },
    {
     "data": {
      "text/markdown": [
       "Your report only contains a single element - did you know you can include additional plots, tables and text in a single report? More info <a href='https://docs.datapane.com/reports/blocks/layout-pages-and-selects' target='_blank'>here</a>"
      ],
      "text/plain": [
       "<IPython.core.display.Markdown object>"
      ]
     },
     "metadata": {},
     "output_type": "display_data"
    },
    {
     "data": {
      "text/markdown": [
       "Report successfully uploaded. View and share your report <a href='https://datapane.com/u/klee/reports/E7Pwae3/ds-plot2-05-bykuan/' target='_blank'>here</a>, or edit your report <a href='https://datapane.com/u/klee/reports/E7Pwae3/ds-plot2-05-bykuan/edit/' target='_blank'>here</a>."
      ],
      "text/plain": [
       "<IPython.core.display.Markdown object>"
      ]
     },
     "metadata": {},
     "output_type": "display_data"
    }
   ],
   "source": [
    "# Show freq plot\n",
    "#dd = pd.DataFrame(listA)\n",
    "li=[]\n",
    "for filename in dfreq['Industry']:\n",
    "    df = pd.read_csv(filename+'.csv', index_col=None, header=0)\n",
    "    df['word'] = filename+'_'+df['word'] \n",
    "    li.append(df)\n",
    "\n",
    "frame = pd.concat(li, axis=0, ignore_index=True)\n",
    "frame['Industry'] = frame['word'].apply(lambda x: x.split('_')[0])\n",
    "frame['word'] = frame['word'].apply(lambda x: x.split('_')[1])\n",
    "#frame1 = frame[frame['Industry'] == (x in frame['Industry'].unique()[:20])]\n",
    "frame1 = frame.iloc[:79,:]\n",
    "frame2 = frame.iloc[80:159,:]\n",
    "frame3 = frame.iloc[160:239,:]\n",
    "frame4 = frame.iloc[240:319,:]\n",
    "frame5 = frame.iloc[320:,:]\n",
    "fig1 = px.line(frame1, y='times', x='word',color='Industry',log_y=True\n",
    "         ,width=1000, height=800,markers=True,symbol='Industry')\n",
    "fig2 = px.line(frame2, y='times', x='word',color='Industry',log_y=True\n",
    "         ,width=1000, height=800,markers=True,symbol='Industry')\n",
    "fig3 = px.line(frame3, y='times', x='word',color='Industry',log_y=True\n",
    "         ,width=1000, height=800,markers=True,symbol='Industry')\n",
    "fig4 = px.line(frame4, y='times', x='word',color='Industry',log_y=True\n",
    "         ,width=1000, height=800,markers=True,symbol='Industry')\n",
    "fig5 = px.line(frame5, y='times', x='word',color='Industry',log_y=True\n",
    "         ,width=1000, height=800,markers=True,symbol='Industry')\n",
    "\n",
    "\n",
    "dp.Report(\n",
    "   dp.Plot(fig1)\n",
    ").upload(name=\"Ds_Plot2_01_ByKuan\")\n",
    "\n",
    "dp.Report(\n",
    "   dp.Plot(fig2)\n",
    ").upload(name=\"Ds_Plot2_02_ByKuan\")\n",
    "dp.Report(\n",
    "   dp.Plot(fig3)\n",
    ").upload(name=\"Ds_Plot2_03_ByKuan\")\n",
    "\n",
    "dp.Report(\n",
    "   dp.Plot(fig4)\n",
    ").upload(name=\"Ds_Plot2_04_ByKuan\")\n",
    "dp.Report(\n",
    "   dp.Plot(fig5)\n",
    ").upload(name=\"Ds_Plot2_05_ByKuan\")\n",
    "\n"
   ]
  },
  {
   "cell_type": "code",
   "execution_count": 122,
   "id": "0509b9e8",
   "metadata": {},
   "outputs": [],
   "source": [
    "df = pd.read_csv('glassdoor_cleaned.csv',header=0)\n",
    "df.drop(columns=['Unnamed: 0','Unnamed: 0.1'],inplace=True)"
   ]
  },
  {
   "cell_type": "code",
   "execution_count": 5,
   "id": "aceb3190",
   "metadata": {
    "scrolled": true
   },
   "outputs": [
    {
     "data": {
      "text/plain": [
       "Index(['Name', 'Title', 'Location', 'Salary', 'Rating', 'Size', 'Founded',\n",
       "       'Type', 'Industry', 'Sector', 'Revenue', 'Dscrb', 'Seniority', 'Python',\n",
       "       'R', 'SQL', 'Spark', 'Aws', 'Excel', 'PowerBI', 'Tableau'],\n",
       "      dtype='object')"
      ]
     },
     "execution_count": 5,
     "metadata": {},
     "output_type": "execute_result"
    }
   ],
   "source": [
    "df.columns"
   ]
  },
  {
   "cell_type": "code",
   "execution_count": 100,
   "id": "98547d71",
   "metadata": {
    "scrolled": true
   },
   "outputs": [
    {
     "data": {
      "text/markdown": [
       "Uploading report and associated data - *please wait...*"
      ],
      "text/plain": [
       "<IPython.core.display.Markdown object>"
      ]
     },
     "metadata": {},
     "output_type": "display_data"
    },
    {
     "data": {
      "text/markdown": [
       "Your report only contains a single element - did you know you can include additional plots, tables and text in a single report? More info <a href='https://docs.datapane.com/reports/blocks/layout-pages-and-selects' target='_blank'>here</a>"
      ],
      "text/plain": [
       "<IPython.core.display.Markdown object>"
      ]
     },
     "metadata": {},
     "output_type": "display_data"
    },
    {
     "data": {
      "text/markdown": [
       "Report successfully uploaded. View and share your report <a href='https://datapane.com/u/klee/reports/J35yqn3/ds-plot3-bykuan/' target='_blank'>here</a>, or edit your report <a href='https://datapane.com/u/klee/reports/J35yqn3/ds-plot3-bykuan/edit/' target='_blank'>here</a>."
      ],
      "text/plain": [
       "<IPython.core.display.Markdown object>"
      ]
     },
     "metadata": {},
     "output_type": "display_data"
    }
   ],
   "source": [
    "dfg = df.groupby(['Title']).sum()\n",
    "dfg = dfg.iloc[:,1:]\n",
    "dfg=dfg.T\n",
    "dfg.reset_index(inplace=True)\n",
    "\n",
    "updatemenus = list([\n",
    "    dict(active=0,\n",
    "         buttons=list([\n",
    "            dict(label='Log Scale',\n",
    "                 method='update',\n",
    "                 args=[{'visible': [True, True]},\n",
    "                       {'title': 'Log scale',\n",
    "                        'yaxis': {'type': 'log'}}]),\n",
    "        \n",
    "            ]),\n",
    "        )\n",
    "    ])\n",
    "\n",
    "layout = dict(updatemenus=updatemenus)\n",
    "\n",
    "fig = go.Figure(layout=layout)\n",
    "fig.add_trace(go.Bar(\n",
    "    x=dfg['index'],\n",
    "    y=dfg['Data Analyst'],\n",
    "    marker_color='rgb(179,226,205)',\n",
    "    name='Data Analyst'\n",
    "))\n",
    "fig.add_trace(go.Bar(\n",
    "    x=dfg['index'],\n",
    "    y=dfg['Data Scietist'],\n",
    "    marker_color='rgb(190,186,218)',\n",
    "    name='Data Scietist'\n",
    "))\n",
    "fig.add_trace(go.Bar(\n",
    "    x=dfg['index'],\n",
    "    y=dfg['ML'],\n",
    "    marker_color='rgb(252,205,229)',\n",
    "    name='ML'\n",
    "))\n",
    "fig.add_trace(go.Bar(\n",
    "    x=dfg['index'],\n",
    "    y=dfg['Data Engineer'],\n",
    "    marker_color='rgb(229,196,148)',\n",
    "    name='Data Engineer'\n",
    "))\n",
    "\n",
    "\n",
    "dp.Report(\n",
    "   dp.Plot(fig)\n",
    ").upload(name=\"Ds_Plot3_ByKuan\")"
   ]
  },
  {
   "cell_type": "code",
   "execution_count": 130,
   "id": "d7e33ba4",
   "metadata": {
    "scrolled": false
   },
   "outputs": [],
   "source": [
    "# care convert type this way\n",
    "df['Rating'] = df['Rating'].apply(lambda x: np.nan if x ==\"NoRating\" else float(x))\n",
    "df['Rating'].fillna(df['Rating'].median(),inplace=True)"
   ]
  },
  {
   "cell_type": "code",
   "execution_count": 139,
   "id": "0e73040f",
   "metadata": {},
   "outputs": [
    {
     "data": {
      "application/vnd.plotly.v1+json": {
       "config": {
        "plotlyServerURL": "https://plot.ly"
       },
       "data": [
        {
         "hovertemplate": "Size=10000+<br>Rating=%{x}<br>Salary=%{y}<extra></extra>",
         "legendgroup": "10000+",
         "marker": {
          "color": "#636efa",
          "size": 10,
          "symbol": "circle"
         },
         "mode": "markers",
         "name": "10000+",
         "showlegend": true,
         "type": "scattergl",
         "x": [
          4.5,
          4,
          4,
          4.4,
          4.4,
          4.4,
          3.9,
          4,
          4.4,
          3.9,
          3.8,
          4.4,
          4.4,
          3.9,
          3.2,
          4,
          4.4,
          3.5,
          3.8,
          4.4,
          4.4,
          3.5,
          5,
          3.9,
          3.8,
          4.4,
          4.4,
          4.4,
          3.5,
          3.5,
          3.5,
          4.3,
          3.9,
          3.8,
          4.4,
          4.4,
          4.4,
          4,
          3.5,
          3.5,
          4,
          4,
          3.8,
          4.4,
          4.4,
          3.9,
          4.4,
          4.4,
          4,
          4.5,
          4,
          3.8,
          4.4,
          4.4,
          4.4,
          3.9,
          4.4,
          4,
          3.8,
          4,
          4.4,
          4.4,
          4.4,
          4.4,
          3.9,
          4,
          4,
          4.4,
          4.4,
          4.4,
          3.9,
          4.4,
          4,
          4,
          4.4,
          4.4,
          3.9,
          4.4,
          4.4,
          4,
          4,
          4.4,
          4.4,
          4.4,
          3.9,
          4.4,
          4,
          4.4,
          3.8,
          4.4,
          3.9,
          4.4,
          4.4,
          4,
          4,
          3.8,
          4.4,
          4.4,
          3.9,
          3.9,
          3.5,
          4,
          3.8,
          4,
          3.9,
          4.4,
          4.4,
          4.4,
          4.4,
          4.4,
          4.4,
          5,
          3.5,
          4,
          3.8,
          4,
          3.9,
          4.4,
          4.4,
          5,
          3.9,
          3.8,
          3.9,
          4,
          4.4,
          4.4,
          3.5,
          3.9,
          5,
          4.4,
          4.4,
          3.9,
          4.4,
          3.9,
          3.8,
          4.4,
          4.4,
          3.9,
          3.9,
          3.5,
          4.4,
          4.4,
          3.9,
          3.9,
          3.8,
          4.5,
          4.4,
          4.4,
          3.9,
          3.9,
          3.5,
          4.5,
          4.4,
          4.4,
          3.9,
          3.9,
          3.8,
          4.5,
          4.4,
          4.4,
          3.9,
          3.9,
          3.5,
          4.5,
          4.4,
          4,
          4.4,
          4.4,
          3.9,
          3.9,
          4.5,
          4.4,
          4.4,
          3.9,
          3.9,
          4.4,
          4.4,
          3.9,
          4.4,
          4.4,
          4.4,
          4.4,
          3.9,
          4.4,
          4.4,
          4.4,
          4.4,
          4.5,
          4.4,
          4.4,
          4.5,
          4.4,
          4.4,
          4.4,
          4,
          4,
          4,
          5,
          3.9,
          4.4,
          3.5,
          3.5,
          4.1,
          3.9,
          4,
          3.5,
          5,
          4.3,
          4,
          3.9,
          4,
          4,
          4.4,
          3.8,
          4.1,
          3.9,
          4.1,
          4,
          3.5,
          3.5,
          4,
          4,
          4.4,
          3.8,
          4,
          3.9,
          4,
          5,
          5,
          3.9,
          4.2,
          3.9,
          3.8,
          3.3,
          3.9,
          4,
          4,
          4.4,
          4.4,
          3.8,
          3.9,
          4,
          5,
          5,
          3.9,
          4.3,
          4.2,
          3.8,
          3.3,
          3.9,
          4,
          4,
          3.8,
          4,
          4.4,
          3.9,
          4.4,
          3.9,
          3.5,
          4,
          3.9,
          4,
          4,
          4.4,
          4,
          4,
          3.9,
          4.4,
          3.9,
          3.9,
          5,
          4.3,
          4,
          4.4,
          4,
          4.4,
          4,
          3.9,
          4,
          3.9,
          4,
          3.9,
          5,
          5,
          4,
          4.4,
          4,
          4.4,
          3.9,
          4,
          3.9,
          4,
          5,
          4,
          4,
          4,
          4.4,
          3.9,
          4,
          4.4,
          4,
          3.8,
          3.9,
          4,
          4.1,
          5,
          4,
          4,
          4,
          4.4,
          4,
          3.9,
          4.4,
          3.9,
          4.1,
          4.4,
          3.8,
          4.4,
          4,
          3.8,
          4,
          4,
          4.4,
          3.9,
          4,
          4.4,
          3.9,
          4.1,
          4.4,
          4.4,
          3.8,
          4.1,
          4,
          3.5,
          4,
          5,
          3.9,
          4,
          4.4,
          4,
          3.9,
          4.4,
          4.1,
          4.4,
          3.8,
          3.9,
          4,
          3.5,
          4,
          4,
          5,
          4.3,
          4,
          4.4,
          4,
          4.4,
          4.4,
          3.9,
          4.1,
          4.4,
          3.9,
          3.8,
          4.4,
          4.1,
          3.5,
          3.5,
          4,
          4.4,
          4,
          4.4,
          3.9,
          4.4,
          4.1,
          4.4,
          3.9,
          3.8,
          4.4,
          4.1,
          4,
          3.5,
          4,
          4.4,
          4,
          4.4,
          4.4,
          3.9,
          4.1,
          4.1,
          3.5,
          3.8,
          4.4,
          4.4,
          3.8,
          4,
          4,
          4.4,
          4,
          4.4,
          4.4,
          3.9,
          4.1,
          3.5,
          4.1,
          3.5,
          4.4,
          3.8,
          3.8,
          4,
          3.9,
          4,
          4,
          3.5,
          4.4,
          4.4,
          3.9,
          3.8,
          4.1,
          3.8,
          4.1,
          3.5,
          4,
          4.4,
          4,
          3.5,
          4.4,
          4.4,
          3.8,
          3.9,
          4.1,
          4.1,
          3.5,
          4.4,
          4,
          4.4,
          4,
          3.5,
          4.4,
          3.8,
          4.4,
          3.9,
          4.1,
          4.1,
          3.8,
          3.5,
          3.9,
          4,
          4.4,
          4,
          4.4,
          3.5,
          3.9,
          4.4,
          3.8,
          4.1,
          3.5,
          4.1,
          3.5,
          3.9,
          4,
          4.4,
          4,
          4.4,
          3.5,
          3.9,
          3.8,
          4.1,
          3.5,
          4.1,
          3.5,
          3.9,
          3.9,
          4,
          4.4,
          4,
          4.4,
          3.5,
          3.9,
          3.8,
          4.1,
          3.5,
          3.5,
          4.1,
          3.5,
          3.9,
          4,
          4.4,
          4,
          3.5,
          4.4,
          3.8,
          3.9,
          4.1,
          3.5,
          3.8,
          4.1,
          3.5,
          3.9,
          4,
          4.4,
          4,
          4.4,
          4.4,
          3.5,
          3.9,
          3.8,
          4.1,
          3.5,
          3.5,
          4.1,
          4,
          4,
          4.4,
          3.5,
          3.7,
          3.8,
          4.1,
          3.5,
          4.1,
          4,
          4.4,
          4,
          4.4,
          3.7,
          4.1,
          3.5,
          3.8,
          4.1,
          4,
          4.4,
          3.5,
          4,
          4.4,
          4,
          4.4,
          3.5,
          3.9,
          4.1,
          3.5,
          4.1,
          4,
          3.8,
          4,
          4.4,
          4,
          3.5,
          3.9,
          4.4,
          4.1,
          3.5,
          4,
          4,
          4.4,
          4,
          3.5,
          3.9,
          4.4,
          4.1,
          3.5,
          4,
          1,
          3,
          3,
          3,
          3,
          3,
          3,
          3,
          3,
          3,
          3,
          3,
          3,
          3,
          3,
          3,
          3,
          3,
          3,
          3,
          3,
          3,
          3,
          3,
          1,
          3,
          1,
          3
         ],
         "xaxis": "x",
         "y": [
          132500,
          120500,
          142910,
          125000,
          188000,
          115000,
          156800,
          89200,
          144000,
          125500,
          158611,
          115000,
          144000,
          125500,
          115000,
          89200,
          201500,
          140350,
          158611,
          115000,
          144000,
          140350,
          175000,
          190000,
          158611,
          115000,
          144000,
          201500,
          138500,
          113600,
          140350,
          140000,
          117500,
          158611,
          115000,
          273500,
          144000,
          139500,
          138500,
          113600,
          172600,
          142910,
          158611,
          125000,
          188000,
          156800,
          273500,
          115000,
          172600,
          132500,
          142910,
          158611,
          125000,
          188000,
          273500,
          156800,
          115000,
          172600,
          158611,
          142910,
          125000,
          188000,
          115000,
          273500,
          156800,
          120500,
          142910,
          125000,
          188000,
          115000,
          156800,
          273500,
          120500,
          142910,
          125000,
          188000,
          156800,
          115000,
          273500,
          172600,
          142910,
          125000,
          188000,
          115000,
          156800,
          273500,
          142910,
          125000,
          158611,
          188000,
          156800,
          273500,
          115000,
          172600,
          142910,
          158611,
          125000,
          188000,
          156800,
          125500,
          138500,
          172600,
          158611,
          142910,
          156800,
          188000,
          273500,
          125000,
          144000,
          201500,
          115000,
          155000,
          138500,
          172600,
          158611,
          142910,
          156800,
          125000,
          188000,
          155000,
          125500,
          138500,
          156800,
          142910,
          125000,
          188000,
          138500,
          125500,
          155000,
          188000,
          125000,
          156800,
          144000,
          125500,
          138500,
          188000,
          125000,
          156800,
          125500,
          138500,
          188000,
          125000,
          156800,
          125500,
          138500,
          132500,
          188000,
          125000,
          156800,
          125500,
          138500,
          132500,
          125000,
          188000,
          156800,
          125500,
          138500,
          132500,
          125000,
          188000,
          156800,
          125500,
          138500,
          132500,
          188000,
          142910,
          125000,
          115000,
          156800,
          125500,
          132500,
          125000,
          188000,
          156800,
          125500,
          125000,
          188000,
          125500,
          228500,
          188000,
          115000,
          144000,
          127300,
          228500,
          188000,
          115000,
          144000,
          132500,
          228500,
          188000,
          132500,
          188000,
          125000,
          115000,
          102652,
          103127,
          110100,
          155000,
          125500,
          151000,
          107500,
          138500,
          140000,
          156800,
          127300,
          110290,
          130000,
          140000,
          155000,
          91852.8,
          120500,
          142910,
          219500,
          178000,
          157500,
          156800,
          140000,
          127300,
          149850,
          110290,
          126800,
          142910,
          219500,
          178000,
          126650,
          156800,
          126800,
          155000,
          175000,
          146000,
          103123.2,
          78720,
          126350,
          85410,
          170000,
          157200,
          142910,
          273500,
          219500,
          178000,
          156800,
          126800,
          155000,
          175000,
          146000,
          120000,
          103123.2,
          126350,
          85410,
          170000,
          157200,
          120500,
          178000,
          142910,
          273500,
          125500,
          219500,
          156800,
          124000,
          126800,
          156800,
          127300,
          157200,
          273500,
          142910,
          126650,
          125500,
          219500,
          156800,
          146000,
          175000,
          140000,
          157200,
          273500,
          142910,
          219500,
          126650,
          125500,
          127300,
          156800,
          126800,
          120000,
          175000,
          155000,
          157200,
          273500,
          142910,
          219500,
          125500,
          126650,
          156800,
          127300,
          155000,
          126800,
          126800,
          157200,
          273500,
          125500,
          142910,
          219500,
          126650,
          178000,
          156800,
          127300,
          140000,
          155000,
          126800,
          126800,
          157200,
          273500,
          142910,
          125500,
          219500,
          156800,
          157500,
          201500,
          178000,
          151000,
          126650,
          124000,
          127300,
          157200,
          273500,
          125500,
          142910,
          219500,
          156800,
          157500,
          151000,
          201500,
          178000,
          140000,
          110100,
          149850,
          127300,
          155000,
          156800,
          157200,
          273500,
          142910,
          125500,
          219500,
          157500,
          151000,
          178000,
          156800,
          126650,
          149850,
          127300,
          126800,
          155000,
          140000,
          157200,
          273500,
          142910,
          219500,
          295000,
          125500,
          157500,
          151000,
          156800,
          178000,
          201500,
          140000,
          138500,
          149850,
          157200,
          273500,
          142910,
          219500,
          125500,
          295000,
          157500,
          151000,
          156800,
          178000,
          201500,
          140000,
          126650,
          149850,
          157200,
          273500,
          142910,
          219500,
          295000,
          125500,
          157500,
          140000,
          149850,
          178000,
          151000,
          201500,
          138500,
          110100,
          157200,
          273500,
          142910,
          219500,
          295000,
          125500,
          157500,
          124000,
          140000,
          149850,
          151000,
          178000,
          138500,
          126650,
          156800,
          157200,
          142910,
          79680,
          219500,
          295000,
          125500,
          178000,
          157500,
          124000,
          140000,
          149850,
          157200,
          273500,
          142910,
          79680,
          219500,
          295000,
          178000,
          125500,
          157500,
          140000,
          149850,
          151000,
          157200,
          273500,
          142910,
          79680,
          219500,
          178000,
          295000,
          125500,
          157500,
          140000,
          149850,
          138500,
          156800,
          157200,
          273500,
          142910,
          219500,
          79680,
          125500,
          295000,
          178000,
          157500,
          149850,
          140000,
          138500,
          156800,
          157200,
          273500,
          142910,
          219500,
          79680,
          125500,
          178000,
          157500,
          149850,
          140000,
          138500,
          156800,
          156800,
          157200,
          273500,
          142910,
          219500,
          79680,
          125500,
          178000,
          157500,
          124000,
          149850,
          140000,
          138500,
          156800,
          157200,
          273500,
          142910,
          79680,
          219500,
          178000,
          125500,
          157500,
          124000,
          149850,
          140000,
          138500,
          156800,
          157200,
          273500,
          142910,
          219500,
          295000,
          79680,
          125500,
          178000,
          157500,
          124000,
          149850,
          140000,
          157200,
          142910,
          219500,
          79680,
          125500,
          178000,
          157500,
          149850,
          140000,
          157200,
          273500,
          142910,
          219500,
          125500,
          157500,
          149850,
          178000,
          140000,
          103127,
          151000,
          138500,
          157200,
          273500,
          142910,
          219500,
          79680,
          125500,
          157500,
          149850,
          140000,
          103127,
          178000,
          157200,
          273500,
          142910,
          79680,
          125500,
          219500,
          157500,
          149850,
          103127,
          157200,
          273500,
          142910,
          79680,
          125500,
          219500,
          157500,
          149850,
          103127,
          130000,
          150000,
          150000,
          150000,
          150000,
          150000,
          150000,
          150000,
          150000,
          150000,
          150000,
          150000,
          150000,
          150000,
          150000,
          150000,
          150000,
          150000,
          150000,
          150000,
          150000,
          150000,
          150000,
          150000,
          130000,
          150000,
          130000,
          150000
         ],
         "yaxis": "y"
        },
        {
         "hovertemplate": "<b>OLS trendline</b><br>Salary = 34347.9 * Rating + 19620.1<br>R<sup>2</sup>=0.124153<br><br>Size=10000+<br>Rating=%{x}<br>Salary=%{y} <b>(trend)</b><extra></extra>",
         "legendgroup": "10000+",
         "marker": {
          "color": "#636efa",
          "size": 10,
          "symbol": "circle"
         },
         "mode": "lines",
         "name": "10000+",
         "showlegend": false,
         "type": "scattergl",
         "x": [
          1,
          1,
          1,
          3,
          3,
          3,
          3,
          3,
          3,
          3,
          3,
          3,
          3,
          3,
          3,
          3,
          3,
          3,
          3,
          3,
          3,
          3,
          3,
          3,
          3,
          3,
          3,
          3,
          3.2,
          3.3,
          3.3,
          3.5,
          3.5,
          3.5,
          3.5,
          3.5,
          3.5,
          3.5,
          3.5,
          3.5,
          3.5,
          3.5,
          3.5,
          3.5,
          3.5,
          3.5,
          3.5,
          3.5,
          3.5,
          3.5,
          3.5,
          3.5,
          3.5,
          3.5,
          3.5,
          3.5,
          3.5,
          3.5,
          3.5,
          3.5,
          3.5,
          3.5,
          3.5,
          3.5,
          3.5,
          3.5,
          3.5,
          3.5,
          3.5,
          3.5,
          3.5,
          3.5,
          3.5,
          3.5,
          3.5,
          3.5,
          3.5,
          3.5,
          3.5,
          3.5,
          3.5,
          3.5,
          3.5,
          3.5,
          3.5,
          3.5,
          3.5,
          3.5,
          3.5,
          3.5,
          3.7,
          3.7,
          3.8,
          3.8,
          3.8,
          3.8,
          3.8,
          3.8,
          3.8,
          3.8,
          3.8,
          3.8,
          3.8,
          3.8,
          3.8,
          3.8,
          3.8,
          3.8,
          3.8,
          3.8,
          3.8,
          3.8,
          3.8,
          3.8,
          3.8,
          3.8,
          3.8,
          3.8,
          3.8,
          3.8,
          3.8,
          3.8,
          3.8,
          3.8,
          3.8,
          3.8,
          3.8,
          3.8,
          3.8,
          3.8,
          3.8,
          3.8,
          3.8,
          3.8,
          3.8,
          3.8,
          3.8,
          3.8,
          3.9,
          3.9,
          3.9,
          3.9,
          3.9,
          3.9,
          3.9,
          3.9,
          3.9,
          3.9,
          3.9,
          3.9,
          3.9,
          3.9,
          3.9,
          3.9,
          3.9,
          3.9,
          3.9,
          3.9,
          3.9,
          3.9,
          3.9,
          3.9,
          3.9,
          3.9,
          3.9,
          3.9,
          3.9,
          3.9,
          3.9,
          3.9,
          3.9,
          3.9,
          3.9,
          3.9,
          3.9,
          3.9,
          3.9,
          3.9,
          3.9,
          3.9,
          3.9,
          3.9,
          3.9,
          3.9,
          3.9,
          3.9,
          3.9,
          3.9,
          3.9,
          3.9,
          3.9,
          3.9,
          3.9,
          3.9,
          3.9,
          3.9,
          3.9,
          3.9,
          3.9,
          3.9,
          3.9,
          3.9,
          3.9,
          3.9,
          3.9,
          3.9,
          3.9,
          3.9,
          3.9,
          3.9,
          3.9,
          3.9,
          3.9,
          3.9,
          3.9,
          3.9,
          3.9,
          3.9,
          3.9,
          3.9,
          3.9,
          3.9,
          3.9,
          3.9,
          3.9,
          3.9,
          3.9,
          3.9,
          3.9,
          3.9,
          4,
          4,
          4,
          4,
          4,
          4,
          4,
          4,
          4,
          4,
          4,
          4,
          4,
          4,
          4,
          4,
          4,
          4,
          4,
          4,
          4,
          4,
          4,
          4,
          4,
          4,
          4,
          4,
          4,
          4,
          4,
          4,
          4,
          4,
          4,
          4,
          4,
          4,
          4,
          4,
          4,
          4,
          4,
          4,
          4,
          4,
          4,
          4,
          4,
          4,
          4,
          4,
          4,
          4,
          4,
          4,
          4,
          4,
          4,
          4,
          4,
          4,
          4,
          4,
          4,
          4,
          4,
          4,
          4,
          4,
          4,
          4,
          4,
          4,
          4,
          4,
          4,
          4,
          4,
          4,
          4,
          4,
          4,
          4,
          4,
          4,
          4,
          4,
          4,
          4,
          4,
          4,
          4,
          4,
          4,
          4,
          4,
          4,
          4,
          4,
          4,
          4,
          4,
          4,
          4,
          4,
          4,
          4,
          4,
          4,
          4,
          4,
          4,
          4,
          4,
          4,
          4,
          4,
          4,
          4,
          4.1,
          4.1,
          4.1,
          4.1,
          4.1,
          4.1,
          4.1,
          4.1,
          4.1,
          4.1,
          4.1,
          4.1,
          4.1,
          4.1,
          4.1,
          4.1,
          4.1,
          4.1,
          4.1,
          4.1,
          4.1,
          4.1,
          4.1,
          4.1,
          4.1,
          4.1,
          4.1,
          4.1,
          4.1,
          4.1,
          4.1,
          4.1,
          4.1,
          4.1,
          4.1,
          4.1,
          4.1,
          4.1,
          4.1,
          4.1,
          4.2,
          4.2,
          4.3,
          4.3,
          4.3,
          4.3,
          4.3,
          4.4,
          4.4,
          4.4,
          4.4,
          4.4,
          4.4,
          4.4,
          4.4,
          4.4,
          4.4,
          4.4,
          4.4,
          4.4,
          4.4,
          4.4,
          4.4,
          4.4,
          4.4,
          4.4,
          4.4,
          4.4,
          4.4,
          4.4,
          4.4,
          4.4,
          4.4,
          4.4,
          4.4,
          4.4,
          4.4,
          4.4,
          4.4,
          4.4,
          4.4,
          4.4,
          4.4,
          4.4,
          4.4,
          4.4,
          4.4,
          4.4,
          4.4,
          4.4,
          4.4,
          4.4,
          4.4,
          4.4,
          4.4,
          4.4,
          4.4,
          4.4,
          4.4,
          4.4,
          4.4,
          4.4,
          4.4,
          4.4,
          4.4,
          4.4,
          4.4,
          4.4,
          4.4,
          4.4,
          4.4,
          4.4,
          4.4,
          4.4,
          4.4,
          4.4,
          4.4,
          4.4,
          4.4,
          4.4,
          4.4,
          4.4,
          4.4,
          4.4,
          4.4,
          4.4,
          4.4,
          4.4,
          4.4,
          4.4,
          4.4,
          4.4,
          4.4,
          4.4,
          4.4,
          4.4,
          4.4,
          4.4,
          4.4,
          4.4,
          4.4,
          4.4,
          4.4,
          4.4,
          4.4,
          4.4,
          4.4,
          4.4,
          4.4,
          4.4,
          4.4,
          4.4,
          4.4,
          4.4,
          4.4,
          4.4,
          4.4,
          4.4,
          4.4,
          4.4,
          4.4,
          4.4,
          4.4,
          4.4,
          4.4,
          4.4,
          4.4,
          4.4,
          4.4,
          4.4,
          4.4,
          4.4,
          4.4,
          4.4,
          4.4,
          4.4,
          4.4,
          4.4,
          4.4,
          4.4,
          4.4,
          4.4,
          4.4,
          4.4,
          4.4,
          4.4,
          4.4,
          4.4,
          4.4,
          4.4,
          4.4,
          4.4,
          4.4,
          4.4,
          4.4,
          4.4,
          4.4,
          4.4,
          4.4,
          4.4,
          4.4,
          4.4,
          4.4,
          4.4,
          4.4,
          4.4,
          4.4,
          4.4,
          4.4,
          4.4,
          4.4,
          4.5,
          4.5,
          4.5,
          4.5,
          4.5,
          4.5,
          4.5,
          4.5,
          4.5,
          5,
          5,
          5,
          5,
          5,
          5,
          5,
          5,
          5,
          5,
          5,
          5,
          5,
          5,
          5,
          5,
          5
         ],
         "xaxis": "x",
         "y": [
          53967.99848832453,
          53967.99848832453,
          53967.99848832453,
          122663.84666257832,
          122663.84666257832,
          122663.84666257832,
          122663.84666257832,
          122663.84666257832,
          122663.84666257832,
          122663.84666257832,
          122663.84666257832,
          122663.84666257832,
          122663.84666257832,
          122663.84666257832,
          122663.84666257832,
          122663.84666257832,
          122663.84666257832,
          122663.84666257832,
          122663.84666257832,
          122663.84666257832,
          122663.84666257832,
          122663.84666257832,
          122663.84666257832,
          122663.84666257832,
          122663.84666257832,
          122663.84666257832,
          122663.84666257832,
          122663.84666257832,
          129533.4314800037,
          132968.22388871637,
          132968.22388871637,
          139837.80870614178,
          139837.80870614178,
          139837.80870614178,
          139837.80870614178,
          139837.80870614178,
          139837.80870614178,
          139837.80870614178,
          139837.80870614178,
          139837.80870614178,
          139837.80870614178,
          139837.80870614178,
          139837.80870614178,
          139837.80870614178,
          139837.80870614178,
          139837.80870614178,
          139837.80870614178,
          139837.80870614178,
          139837.80870614178,
          139837.80870614178,
          139837.80870614178,
          139837.80870614178,
          139837.80870614178,
          139837.80870614178,
          139837.80870614178,
          139837.80870614178,
          139837.80870614178,
          139837.80870614178,
          139837.80870614178,
          139837.80870614178,
          139837.80870614178,
          139837.80870614178,
          139837.80870614178,
          139837.80870614178,
          139837.80870614178,
          139837.80870614178,
          139837.80870614178,
          139837.80870614178,
          139837.80870614178,
          139837.80870614178,
          139837.80870614178,
          139837.80870614178,
          139837.80870614178,
          139837.80870614178,
          139837.80870614178,
          139837.80870614178,
          139837.80870614178,
          139837.80870614178,
          139837.80870614178,
          139837.80870614178,
          139837.80870614178,
          139837.80870614178,
          139837.80870614178,
          139837.80870614178,
          139837.80870614178,
          139837.80870614178,
          139837.80870614178,
          139837.80870614178,
          139837.80870614178,
          139837.80870614178,
          146707.39352356712,
          146707.39352356712,
          150142.1859322798,
          150142.1859322798,
          150142.1859322798,
          150142.1859322798,
          150142.1859322798,
          150142.1859322798,
          150142.1859322798,
          150142.1859322798,
          150142.1859322798,
          150142.1859322798,
          150142.1859322798,
          150142.1859322798,
          150142.1859322798,
          150142.1859322798,
          150142.1859322798,
          150142.1859322798,
          150142.1859322798,
          150142.1859322798,
          150142.1859322798,
          150142.1859322798,
          150142.1859322798,
          150142.1859322798,
          150142.1859322798,
          150142.1859322798,
          150142.1859322798,
          150142.1859322798,
          150142.1859322798,
          150142.1859322798,
          150142.1859322798,
          150142.1859322798,
          150142.1859322798,
          150142.1859322798,
          150142.1859322798,
          150142.1859322798,
          150142.1859322798,
          150142.1859322798,
          150142.1859322798,
          150142.1859322798,
          150142.1859322798,
          150142.1859322798,
          150142.1859322798,
          150142.1859322798,
          150142.1859322798,
          150142.1859322798,
          150142.1859322798,
          150142.1859322798,
          153576.9783409925,
          153576.9783409925,
          153576.9783409925,
          153576.9783409925,
          153576.9783409925,
          153576.9783409925,
          153576.9783409925,
          153576.9783409925,
          153576.9783409925,
          153576.9783409925,
          153576.9783409925,
          153576.9783409925,
          153576.9783409925,
          153576.9783409925,
          153576.9783409925,
          153576.9783409925,
          153576.9783409925,
          153576.9783409925,
          153576.9783409925,
          153576.9783409925,
          153576.9783409925,
          153576.9783409925,
          153576.9783409925,
          153576.9783409925,
          153576.9783409925,
          153576.9783409925,
          153576.9783409925,
          153576.9783409925,
          153576.9783409925,
          153576.9783409925,
          153576.9783409925,
          153576.9783409925,
          153576.9783409925,
          153576.9783409925,
          153576.9783409925,
          153576.9783409925,
          153576.9783409925,
          153576.9783409925,
          153576.9783409925,
          153576.9783409925,
          153576.9783409925,
          153576.9783409925,
          153576.9783409925,
          153576.9783409925,
          153576.9783409925,
          153576.9783409925,
          153576.9783409925,
          153576.9783409925,
          153576.9783409925,
          153576.9783409925,
          153576.9783409925,
          153576.9783409925,
          153576.9783409925,
          153576.9783409925,
          153576.9783409925,
          153576.9783409925,
          153576.9783409925,
          153576.9783409925,
          153576.9783409925,
          153576.9783409925,
          153576.9783409925,
          153576.9783409925,
          153576.9783409925,
          153576.9783409925,
          153576.9783409925,
          153576.9783409925,
          153576.9783409925,
          153576.9783409925,
          153576.9783409925,
          153576.9783409925,
          153576.9783409925,
          153576.9783409925,
          153576.9783409925,
          153576.9783409925,
          153576.9783409925,
          153576.9783409925,
          153576.9783409925,
          153576.9783409925,
          153576.9783409925,
          153576.9783409925,
          153576.9783409925,
          153576.9783409925,
          153576.9783409925,
          153576.9783409925,
          153576.9783409925,
          153576.9783409925,
          153576.9783409925,
          153576.9783409925,
          153576.9783409925,
          153576.9783409925,
          153576.9783409925,
          153576.9783409925,
          157011.7707497052,
          157011.7707497052,
          157011.7707497052,
          157011.7707497052,
          157011.7707497052,
          157011.7707497052,
          157011.7707497052,
          157011.7707497052,
          157011.7707497052,
          157011.7707497052,
          157011.7707497052,
          157011.7707497052,
          157011.7707497052,
          157011.7707497052,
          157011.7707497052,
          157011.7707497052,
          157011.7707497052,
          157011.7707497052,
          157011.7707497052,
          157011.7707497052,
          157011.7707497052,
          157011.7707497052,
          157011.7707497052,
          157011.7707497052,
          157011.7707497052,
          157011.7707497052,
          157011.7707497052,
          157011.7707497052,
          157011.7707497052,
          157011.7707497052,
          157011.7707497052,
          157011.7707497052,
          157011.7707497052,
          157011.7707497052,
          157011.7707497052,
          157011.7707497052,
          157011.7707497052,
          157011.7707497052,
          157011.7707497052,
          157011.7707497052,
          157011.7707497052,
          157011.7707497052,
          157011.7707497052,
          157011.7707497052,
          157011.7707497052,
          157011.7707497052,
          157011.7707497052,
          157011.7707497052,
          157011.7707497052,
          157011.7707497052,
          157011.7707497052,
          157011.7707497052,
          157011.7707497052,
          157011.7707497052,
          157011.7707497052,
          157011.7707497052,
          157011.7707497052,
          157011.7707497052,
          157011.7707497052,
          157011.7707497052,
          157011.7707497052,
          157011.7707497052,
          157011.7707497052,
          157011.7707497052,
          157011.7707497052,
          157011.7707497052,
          157011.7707497052,
          157011.7707497052,
          157011.7707497052,
          157011.7707497052,
          157011.7707497052,
          157011.7707497052,
          157011.7707497052,
          157011.7707497052,
          157011.7707497052,
          157011.7707497052,
          157011.7707497052,
          157011.7707497052,
          157011.7707497052,
          157011.7707497052,
          157011.7707497052,
          157011.7707497052,
          157011.7707497052,
          157011.7707497052,
          157011.7707497052,
          157011.7707497052,
          157011.7707497052,
          157011.7707497052,
          157011.7707497052,
          157011.7707497052,
          157011.7707497052,
          157011.7707497052,
          157011.7707497052,
          157011.7707497052,
          157011.7707497052,
          157011.7707497052,
          157011.7707497052,
          157011.7707497052,
          157011.7707497052,
          157011.7707497052,
          157011.7707497052,
          157011.7707497052,
          157011.7707497052,
          157011.7707497052,
          157011.7707497052,
          157011.7707497052,
          157011.7707497052,
          157011.7707497052,
          157011.7707497052,
          157011.7707497052,
          157011.7707497052,
          157011.7707497052,
          157011.7707497052,
          157011.7707497052,
          157011.7707497052,
          157011.7707497052,
          157011.7707497052,
          157011.7707497052,
          157011.7707497052,
          157011.7707497052,
          160446.56315841788,
          160446.56315841788,
          160446.56315841788,
          160446.56315841788,
          160446.56315841788,
          160446.56315841788,
          160446.56315841788,
          160446.56315841788,
          160446.56315841788,
          160446.56315841788,
          160446.56315841788,
          160446.56315841788,
          160446.56315841788,
          160446.56315841788,
          160446.56315841788,
          160446.56315841788,
          160446.56315841788,
          160446.56315841788,
          160446.56315841788,
          160446.56315841788,
          160446.56315841788,
          160446.56315841788,
          160446.56315841788,
          160446.56315841788,
          160446.56315841788,
          160446.56315841788,
          160446.56315841788,
          160446.56315841788,
          160446.56315841788,
          160446.56315841788,
          160446.56315841788,
          160446.56315841788,
          160446.56315841788,
          160446.56315841788,
          160446.56315841788,
          160446.56315841788,
          160446.56315841788,
          160446.56315841788,
          160446.56315841788,
          160446.56315841788,
          163881.35556713058,
          163881.35556713058,
          167316.14797584325,
          167316.14797584325,
          167316.14797584325,
          167316.14797584325,
          167316.14797584325,
          170750.940384556,
          170750.940384556,
          170750.940384556,
          170750.940384556,
          170750.940384556,
          170750.940384556,
          170750.940384556,
          170750.940384556,
          170750.940384556,
          170750.940384556,
          170750.940384556,
          170750.940384556,
          170750.940384556,
          170750.940384556,
          170750.940384556,
          170750.940384556,
          170750.940384556,
          170750.940384556,
          170750.940384556,
          170750.940384556,
          170750.940384556,
          170750.940384556,
          170750.940384556,
          170750.940384556,
          170750.940384556,
          170750.940384556,
          170750.940384556,
          170750.940384556,
          170750.940384556,
          170750.940384556,
          170750.940384556,
          170750.940384556,
          170750.940384556,
          170750.940384556,
          170750.940384556,
          170750.940384556,
          170750.940384556,
          170750.940384556,
          170750.940384556,
          170750.940384556,
          170750.940384556,
          170750.940384556,
          170750.940384556,
          170750.940384556,
          170750.940384556,
          170750.940384556,
          170750.940384556,
          170750.940384556,
          170750.940384556,
          170750.940384556,
          170750.940384556,
          170750.940384556,
          170750.940384556,
          170750.940384556,
          170750.940384556,
          170750.940384556,
          170750.940384556,
          170750.940384556,
          170750.940384556,
          170750.940384556,
          170750.940384556,
          170750.940384556,
          170750.940384556,
          170750.940384556,
          170750.940384556,
          170750.940384556,
          170750.940384556,
          170750.940384556,
          170750.940384556,
          170750.940384556,
          170750.940384556,
          170750.940384556,
          170750.940384556,
          170750.940384556,
          170750.940384556,
          170750.940384556,
          170750.940384556,
          170750.940384556,
          170750.940384556,
          170750.940384556,
          170750.940384556,
          170750.940384556,
          170750.940384556,
          170750.940384556,
          170750.940384556,
          170750.940384556,
          170750.940384556,
          170750.940384556,
          170750.940384556,
          170750.940384556,
          170750.940384556,
          170750.940384556,
          170750.940384556,
          170750.940384556,
          170750.940384556,
          170750.940384556,
          170750.940384556,
          170750.940384556,
          170750.940384556,
          170750.940384556,
          170750.940384556,
          170750.940384556,
          170750.940384556,
          170750.940384556,
          170750.940384556,
          170750.940384556,
          170750.940384556,
          170750.940384556,
          170750.940384556,
          170750.940384556,
          170750.940384556,
          170750.940384556,
          170750.940384556,
          170750.940384556,
          170750.940384556,
          170750.940384556,
          170750.940384556,
          170750.940384556,
          170750.940384556,
          170750.940384556,
          170750.940384556,
          170750.940384556,
          170750.940384556,
          170750.940384556,
          170750.940384556,
          170750.940384556,
          170750.940384556,
          170750.940384556,
          170750.940384556,
          170750.940384556,
          170750.940384556,
          170750.940384556,
          170750.940384556,
          170750.940384556,
          170750.940384556,
          170750.940384556,
          170750.940384556,
          170750.940384556,
          170750.940384556,
          170750.940384556,
          170750.940384556,
          170750.940384556,
          170750.940384556,
          170750.940384556,
          170750.940384556,
          170750.940384556,
          170750.940384556,
          170750.940384556,
          170750.940384556,
          170750.940384556,
          170750.940384556,
          170750.940384556,
          170750.940384556,
          170750.940384556,
          170750.940384556,
          170750.940384556,
          170750.940384556,
          170750.940384556,
          170750.940384556,
          170750.940384556,
          170750.940384556,
          170750.940384556,
          170750.940384556,
          170750.940384556,
          174185.73279326866,
          174185.73279326866,
          174185.73279326866,
          174185.73279326866,
          174185.73279326866,
          174185.73279326866,
          174185.73279326866,
          174185.73279326866,
          174185.73279326866,
          191359.6948368321,
          191359.6948368321,
          191359.6948368321,
          191359.6948368321,
          191359.6948368321,
          191359.6948368321,
          191359.6948368321,
          191359.6948368321,
          191359.6948368321,
          191359.6948368321,
          191359.6948368321,
          191359.6948368321,
          191359.6948368321,
          191359.6948368321,
          191359.6948368321,
          191359.6948368321,
          191359.6948368321
         ],
         "yaxis": "y"
        },
        {
         "hovertemplate": "Size=125.5<br>Rating=%{x}<br>Salary=%{y}<extra></extra>",
         "legendgroup": "125.5",
         "marker": {
          "color": "#EF553B",
          "size": 10,
          "symbol": "circle"
         },
         "mode": "markers",
         "name": "125.5",
         "showlegend": true,
         "type": "scattergl",
         "x": [
          4.7,
          4.1,
          3.4,
          3.9,
          4.9,
          3.4,
          4.1,
          3.4,
          4.5,
          3.4,
          3.4,
          3.4,
          3.4,
          3.4,
          3.4,
          3.4,
          3.9,
          3.9,
          3.9,
          3.9,
          3.4,
          3.4,
          3.4,
          3.4,
          3.4,
          3.9,
          3.4,
          3.9,
          3.4,
          3.4,
          3.4,
          3.4,
          3.9,
          3.9,
          3.4,
          3.9,
          3.9,
          3.4,
          4.7,
          3.9,
          3.4,
          3.9,
          4.4,
          4.1,
          3.9,
          4.1,
          3.9,
          3.9,
          4.4,
          4.1,
          4,
          4.4,
          4.1,
          4,
          4.4,
          4,
          4.4,
          4.4,
          4.4,
          4.4,
          4
         ],
         "xaxis": "x",
         "y": [
          115000,
          110400,
          150000,
          144000,
          150000,
          150000,
          115200,
          150000,
          120000,
          150000,
          150000,
          150000,
          150000,
          150000,
          150000,
          150000,
          144000,
          144000,
          144000,
          144000,
          150000,
          150000,
          150000,
          150000,
          150000,
          107500,
          150000,
          107500,
          150000,
          150000,
          150000,
          150000,
          144000,
          107500,
          150000,
          144000,
          107500,
          150000,
          115000,
          144000,
          150000,
          144000,
          104102.4,
          110400,
          144000,
          115200,
          107500,
          107500,
          104102.4,
          115200,
          150000,
          104102.4,
          115200,
          150000,
          104102.4,
          150000,
          104102.4,
          104102.4,
          104102.4,
          104102.4,
          72960
         ],
         "yaxis": "y"
        },
        {
         "hovertemplate": "<b>OLS trendline</b><br>Salary = -33806.2 * Rating + 262682<br>R<sup>2</sup>=0.458841<br><br>Size=125.5<br>Rating=%{x}<br>Salary=%{y} <b>(trend)</b><extra></extra>",
         "legendgroup": "125.5",
         "marker": {
          "color": "#EF553B",
          "size": 10,
          "symbol": "circle"
         },
         "mode": "lines",
         "name": "125.5",
         "showlegend": false,
         "type": "scattergl",
         "x": [
          3.4,
          3.4,
          3.4,
          3.4,
          3.4,
          3.4,
          3.4,
          3.4,
          3.4,
          3.4,
          3.4,
          3.4,
          3.4,
          3.4,
          3.4,
          3.4,
          3.4,
          3.4,
          3.4,
          3.4,
          3.4,
          3.4,
          3.4,
          3.9,
          3.9,
          3.9,
          3.9,
          3.9,
          3.9,
          3.9,
          3.9,
          3.9,
          3.9,
          3.9,
          3.9,
          3.9,
          3.9,
          3.9,
          3.9,
          4,
          4,
          4,
          4,
          4.1,
          4.1,
          4.1,
          4.1,
          4.1,
          4.1,
          4.4,
          4.4,
          4.4,
          4.4,
          4.4,
          4.4,
          4.4,
          4.4,
          4.5,
          4.7,
          4.7,
          4.9
         ],
         "xaxis": "x",
         "y": [
          147740.85966624197,
          147740.85966624197,
          147740.85966624197,
          147740.85966624197,
          147740.85966624197,
          147740.85966624197,
          147740.85966624197,
          147740.85966624197,
          147740.85966624197,
          147740.85966624197,
          147740.85966624197,
          147740.85966624197,
          147740.85966624197,
          147740.85966624197,
          147740.85966624197,
          147740.85966624197,
          147740.85966624197,
          147740.85966624197,
          147740.85966624197,
          147740.85966624197,
          147740.85966624197,
          147740.85966624197,
          147740.85966624197,
          130837.74384536504,
          130837.74384536504,
          130837.74384536504,
          130837.74384536504,
          130837.74384536504,
          130837.74384536504,
          130837.74384536504,
          130837.74384536504,
          130837.74384536504,
          130837.74384536504,
          130837.74384536504,
          130837.74384536504,
          130837.74384536504,
          130837.74384536504,
          130837.74384536504,
          130837.74384536504,
          127457.12068118964,
          127457.12068118964,
          127457.12068118964,
          127457.12068118964,
          124076.49751701427,
          124076.49751701427,
          124076.49751701427,
          124076.49751701427,
          124076.49751701427,
          124076.49751701427,
          113934.62802448808,
          113934.62802448808,
          113934.62802448808,
          113934.62802448808,
          113934.62802448808,
          113934.62802448808,
          113934.62802448808,
          113934.62802448808,
          110554.00486031268,
          103792.75853196191,
          103792.75853196191,
          97031.51220361111
         ],
         "yaxis": "y"
        },
        {
         "hovertemplate": "Size=350.5<br>Rating=%{x}<br>Salary=%{y}<extra></extra>",
         "legendgroup": "350.5",
         "marker": {
          "color": "#00cc96",
          "size": 10,
          "symbol": "circle"
         },
         "mode": "markers",
         "name": "350.5",
         "showlegend": true,
         "type": "scattergl",
         "x": [
          3.8,
          3.8,
          3.3,
          4.1,
          3.8,
          4.1,
          3.8,
          3.8,
          3.8,
          3.8,
          3.3,
          3.8,
          3.8,
          3.3,
          3.8,
          3.8,
          3.3,
          3.8,
          3.8,
          3.3,
          3.8,
          3.8,
          3.3,
          3.8,
          3.8,
          3.3,
          3.8,
          3.3,
          3.8,
          3.8,
          3.3,
          3.3,
          3.3,
          4.1,
          3.3,
          3.8,
          3.3,
          3.8,
          3.3,
          3.8,
          3.3,
          3.8,
          3.3,
          3.8,
          3.3,
          3.8,
          3.3,
          3.8,
          3.3,
          3.8,
          3.3,
          3.8,
          3.3,
          3.8,
          3.3,
          3.8,
          3.3,
          3.8,
          3.3,
          3.3,
          4,
          4.1,
          4.1,
          4.1,
          4.1,
          4.1,
          4.1,
          4.1,
          4.1,
          4.1,
          4.1,
          4.1,
          4.1,
          3.3,
          3.3,
          3.3,
          3.3,
          3.3,
          3.3,
          3.3,
          3.3,
          3.3,
          3.3,
          3.3,
          3.3,
          3.3,
          2.6
         ],
         "xaxis": "x",
         "y": [
          129770,
          120000,
          100000,
          140000,
          120000,
          165000,
          120000,
          120000,
          129770,
          120000,
          100000,
          129770,
          120000,
          100000,
          129770,
          120000,
          100000,
          129770,
          120000,
          100000,
          129770,
          120000,
          100000,
          129770,
          120000,
          100000,
          120000,
          100000,
          129770,
          120000,
          100000,
          100000,
          100000,
          135000,
          100000,
          129770,
          100000,
          129770,
          100000,
          129770,
          100000,
          129770,
          100000,
          129770,
          100000,
          129770,
          100000,
          129770,
          100000,
          129770,
          100000,
          129770,
          100000,
          129770,
          100000,
          129770,
          100000,
          129770,
          100000,
          100000,
          130000,
          165000,
          140000,
          165000,
          165000,
          140000,
          140000,
          165000,
          140000,
          165000,
          140000,
          165000,
          140000,
          100000,
          100000,
          100000,
          100000,
          100000,
          100000,
          100000,
          100000,
          100000,
          100000,
          100000,
          100000,
          100000,
          145000
         ],
         "yaxis": "y"
        },
        {
         "hovertemplate": "<b>OLS trendline</b><br>Salary = 50413.5 * Rating + -63274.5<br>R<sup>2</sup>=0.694950<br><br>Size=350.5<br>Rating=%{x}<br>Salary=%{y} <b>(trend)</b><extra></extra>",
         "legendgroup": "350.5",
         "marker": {
          "color": "#00cc96",
          "size": 10,
          "symbol": "circle"
         },
         "mode": "lines",
         "name": "350.5",
         "showlegend": false,
         "type": "scattergl",
         "x": [
          2.6,
          3.3,
          3.3,
          3.3,
          3.3,
          3.3,
          3.3,
          3.3,
          3.3,
          3.3,
          3.3,
          3.3,
          3.3,
          3.3,
          3.3,
          3.3,
          3.3,
          3.3,
          3.3,
          3.3,
          3.3,
          3.3,
          3.3,
          3.3,
          3.3,
          3.3,
          3.3,
          3.3,
          3.3,
          3.3,
          3.3,
          3.3,
          3.3,
          3.3,
          3.3,
          3.3,
          3.3,
          3.3,
          3.3,
          3.8,
          3.8,
          3.8,
          3.8,
          3.8,
          3.8,
          3.8,
          3.8,
          3.8,
          3.8,
          3.8,
          3.8,
          3.8,
          3.8,
          3.8,
          3.8,
          3.8,
          3.8,
          3.8,
          3.8,
          3.8,
          3.8,
          3.8,
          3.8,
          3.8,
          3.8,
          3.8,
          3.8,
          3.8,
          3.8,
          3.8,
          3.8,
          4,
          4.1,
          4.1,
          4.1,
          4.1,
          4.1,
          4.1,
          4.1,
          4.1,
          4.1,
          4.1,
          4.1,
          4.1,
          4.1,
          4.1,
          4.1
         ],
         "xaxis": "x",
         "y": [
          67800.48530860341,
          103089.91663263098,
          103089.91663263098,
          103089.91663263098,
          103089.91663263098,
          103089.91663263098,
          103089.91663263098,
          103089.91663263098,
          103089.91663263098,
          103089.91663263098,
          103089.91663263098,
          103089.91663263098,
          103089.91663263098,
          103089.91663263098,
          103089.91663263098,
          103089.91663263098,
          103089.91663263098,
          103089.91663263098,
          103089.91663263098,
          103089.91663263098,
          103089.91663263098,
          103089.91663263098,
          103089.91663263098,
          103089.91663263098,
          103089.91663263098,
          103089.91663263098,
          103089.91663263098,
          103089.91663263098,
          103089.91663263098,
          103089.91663263098,
          103089.91663263098,
          103089.91663263098,
          103089.91663263098,
          103089.91663263098,
          103089.91663263098,
          103089.91663263098,
          103089.91663263098,
          103089.91663263098,
          103089.91663263098,
          128296.65329265065,
          128296.65329265065,
          128296.65329265065,
          128296.65329265065,
          128296.65329265065,
          128296.65329265065,
          128296.65329265065,
          128296.65329265065,
          128296.65329265065,
          128296.65329265065,
          128296.65329265065,
          128296.65329265065,
          128296.65329265065,
          128296.65329265065,
          128296.65329265065,
          128296.65329265065,
          128296.65329265065,
          128296.65329265065,
          128296.65329265065,
          128296.65329265065,
          128296.65329265065,
          128296.65329265065,
          128296.65329265065,
          128296.65329265065,
          128296.65329265065,
          128296.65329265065,
          128296.65329265065,
          128296.65329265065,
          128296.65329265065,
          128296.65329265065,
          128296.65329265065,
          128296.65329265065,
          138379.34795665854,
          143420.69528866248,
          143420.69528866248,
          143420.69528866248,
          143420.69528866248,
          143420.69528866248,
          143420.69528866248,
          143420.69528866248,
          143420.69528866248,
          143420.69528866248,
          143420.69528866248,
          143420.69528866248,
          143420.69528866248,
          143420.69528866248,
          143420.69528866248,
          143420.69528866248
         ],
         "yaxis": "y"
        },
        {
         "hovertemplate": "Size=NoSize<br>Rating=%{x}<br>Salary=%{y}<extra></extra>",
         "legendgroup": "NoSize",
         "marker": {
          "color": "#ab63fa",
          "size": 10,
          "symbol": "circle"
         },
         "mode": "markers",
         "name": "NoSize",
         "showlegend": true,
         "type": "scattergl",
         "x": [
          4,
          3.5,
          4,
          3.5,
          3.5,
          3.5,
          3.5,
          3.5,
          3.5,
          3.5,
          3.5,
          3.5,
          3.5,
          3.5,
          3.5,
          3.5,
          3.5,
          3.5,
          3.5,
          3.5,
          3.5,
          3.5,
          3.5,
          3.5,
          3.5,
          3.5,
          3.5,
          3.5,
          3.5,
          3.5,
          3.5,
          3.5,
          3.5,
          3.5,
          3.5,
          3.5,
          3.5,
          3.5,
          3.5,
          3.5,
          3.5,
          3.5,
          4,
          4,
          4,
          4,
          4,
          4,
          4,
          4,
          4,
          4,
          4,
          4,
          4,
          4,
          4,
          4,
          4,
          4,
          4,
          4,
          4,
          4,
          4,
          4,
          4,
          4,
          4,
          4,
          4,
          4,
          4,
          4,
          4,
          4,
          4,
          4,
          4,
          4,
          4,
          4,
          4,
          4,
          4,
          4,
          4,
          4,
          4,
          4,
          4,
          4,
          4,
          4,
          4,
          4,
          4,
          4,
          4,
          4,
          4,
          4,
          4,
          4,
          4,
          4,
          4,
          4,
          4,
          4,
          4,
          4,
          4,
          4,
          4,
          4,
          4,
          4,
          4,
          4,
          4,
          4,
          4,
          4,
          4,
          4,
          4,
          4,
          4,
          4,
          4,
          4,
          4,
          4,
          4,
          4,
          4,
          4,
          4,
          4,
          4,
          4,
          4,
          4,
          4,
          4,
          4,
          4,
          4,
          4,
          4,
          4,
          4,
          4,
          4,
          4,
          4,
          4,
          4,
          4,
          4,
          4,
          4,
          4,
          4,
          4,
          4,
          4,
          4,
          4,
          4,
          4,
          4,
          4,
          4,
          4,
          4,
          4,
          4,
          4,
          4,
          4,
          4,
          4,
          4,
          4,
          4,
          4,
          4,
          4,
          4,
          4,
          4,
          4,
          4,
          4,
          4,
          4,
          4,
          4,
          4,
          4,
          4,
          4,
          4,
          4,
          4,
          4,
          4,
          4,
          4,
          4,
          4,
          4,
          4,
          4,
          4,
          4,
          4,
          4,
          4,
          4,
          4,
          4,
          4,
          4,
          4,
          4,
          4,
          4,
          4,
          4,
          4,
          4,
          4,
          4,
          4,
          4,
          4,
          4,
          4,
          4,
          4,
          4,
          4,
          4,
          4,
          4,
          4,
          4,
          4,
          4,
          4,
          4,
          4,
          4,
          4,
          4,
          4,
          4,
          4,
          4,
          4,
          4,
          4,
          4,
          4,
          4,
          4,
          4,
          4,
          4,
          4,
          4,
          4,
          4,
          4,
          4,
          4,
          4
         ],
         "xaxis": "x",
         "y": [
          105000,
          101589,
          105000,
          101589,
          101589,
          101589,
          101589,
          101589,
          101589,
          101589,
          101589,
          101589,
          101589,
          101589,
          101589,
          101589,
          101589,
          101589,
          101589,
          101589,
          101589,
          101589,
          101589,
          101589,
          101589,
          101589,
          101589,
          101589,
          101589,
          101589,
          101589,
          101589,
          101589,
          101589,
          101589,
          101589,
          101589,
          101589,
          101589,
          101589,
          101589,
          101589,
          95000,
          202500,
          125000,
          125000,
          70000,
          100442,
          125000,
          145000,
          125000,
          125000,
          75319,
          115000,
          157500,
          80000,
          90000,
          157500,
          80000,
          90000,
          157500,
          80000,
          157500,
          157500,
          80000,
          157500,
          125000,
          145000,
          125000,
          125000,
          125000,
          145000,
          125000,
          125000,
          125000,
          145000,
          125000,
          125000,
          145000,
          125000,
          125000,
          125000,
          145000,
          125000,
          125000,
          125000,
          145000,
          125000,
          125000,
          115000,
          125000,
          145000,
          125000,
          125000,
          125000,
          125000,
          145000,
          115000,
          125000,
          125000,
          145000,
          125000,
          125000,
          145000,
          130000,
          125000,
          125000,
          145000,
          125000,
          125000,
          125000,
          145000,
          125000,
          145000,
          125000,
          130000,
          125000,
          145000,
          125000,
          130000,
          125000,
          145000,
          125000,
          125000,
          145000,
          125000,
          145000,
          125000,
          125000,
          125000,
          145000,
          125000,
          125000,
          90000,
          125000,
          125000,
          145000,
          130000,
          125000,
          90000,
          145000,
          130000,
          90000,
          100442,
          125000,
          125000,
          125000,
          145000,
          125000,
          90000,
          125000,
          100442,
          145000,
          125000,
          125000,
          125000,
          90000,
          125000,
          100442,
          145000,
          125000,
          125000,
          130000,
          125000,
          125000,
          90000,
          100442,
          145000,
          125000,
          125000,
          130000,
          76881,
          130000,
          182500,
          190000,
          208000,
          187000,
          125000,
          130000,
          208000,
          187000,
          125000,
          130000,
          208000,
          208000,
          137500,
          208000,
          125000,
          208000,
          208000,
          187000,
          208000,
          187000,
          208000,
          187000,
          182500,
          208000,
          187000,
          182500,
          187000,
          182500,
          208000,
          187000,
          182500,
          208000,
          187000,
          208000,
          187000,
          182500,
          208000,
          187000,
          182500,
          208000,
          145000,
          187000,
          125000,
          182500,
          208000,
          145000,
          187000,
          125000,
          182500,
          208000,
          145000,
          187000,
          125000,
          182500,
          208000,
          145000,
          187000,
          125000,
          182500,
          208000,
          145000,
          187000,
          125000,
          182500,
          208000,
          145000,
          187000,
          125000,
          182500,
          208000,
          145000,
          187000,
          125000,
          182500,
          208000,
          145000,
          187000,
          125000,
          182500,
          208000,
          145000,
          187000,
          125000,
          182500,
          208000,
          145000,
          187000,
          125000,
          182500,
          75319,
          208000,
          145000,
          187000,
          125000,
          182500,
          208000,
          145000,
          187000,
          125000,
          182500,
          75319,
          208000,
          145000,
          187000,
          125000,
          182500,
          75319
         ],
         "yaxis": "y"
        },
        {
         "hovertemplate": "<b>OLS trendline</b><br>Salary = 88941.7 * Rating + -209707<br>R<sup>2</sup>=0.180310<br><br>Size=NoSize<br>Rating=%{x}<br>Salary=%{y} <b>(trend)</b><extra></extra>",
         "legendgroup": "NoSize",
         "marker": {
          "color": "#ab63fa",
          "size": 10,
          "symbol": "circle"
         },
         "mode": "lines",
         "name": "NoSize",
         "showlegend": false,
         "type": "scattergl",
         "x": [
          3.5,
          3.5,
          3.5,
          3.5,
          3.5,
          3.5,
          3.5,
          3.5,
          3.5,
          3.5,
          3.5,
          3.5,
          3.5,
          3.5,
          3.5,
          3.5,
          3.5,
          3.5,
          3.5,
          3.5,
          3.5,
          3.5,
          3.5,
          3.5,
          3.5,
          3.5,
          3.5,
          3.5,
          3.5,
          3.5,
          3.5,
          3.5,
          3.5,
          3.5,
          3.5,
          3.5,
          3.5,
          3.5,
          3.5,
          3.5,
          4,
          4,
          4,
          4,
          4,
          4,
          4,
          4,
          4,
          4,
          4,
          4,
          4,
          4,
          4,
          4,
          4,
          4,
          4,
          4,
          4,
          4,
          4,
          4,
          4,
          4,
          4,
          4,
          4,
          4,
          4,
          4,
          4,
          4,
          4,
          4,
          4,
          4,
          4,
          4,
          4,
          4,
          4,
          4,
          4,
          4,
          4,
          4,
          4,
          4,
          4,
          4,
          4,
          4,
          4,
          4,
          4,
          4,
          4,
          4,
          4,
          4,
          4,
          4,
          4,
          4,
          4,
          4,
          4,
          4,
          4,
          4,
          4,
          4,
          4,
          4,
          4,
          4,
          4,
          4,
          4,
          4,
          4,
          4,
          4,
          4,
          4,
          4,
          4,
          4,
          4,
          4,
          4,
          4,
          4,
          4,
          4,
          4,
          4,
          4,
          4,
          4,
          4,
          4,
          4,
          4,
          4,
          4,
          4,
          4,
          4,
          4,
          4,
          4,
          4,
          4,
          4,
          4,
          4,
          4,
          4,
          4,
          4,
          4,
          4,
          4,
          4,
          4,
          4,
          4,
          4,
          4,
          4,
          4,
          4,
          4,
          4,
          4,
          4,
          4,
          4,
          4,
          4,
          4,
          4,
          4,
          4,
          4,
          4,
          4,
          4,
          4,
          4,
          4,
          4,
          4,
          4,
          4,
          4,
          4,
          4,
          4,
          4,
          4,
          4,
          4,
          4,
          4,
          4,
          4,
          4,
          4,
          4,
          4,
          4,
          4,
          4,
          4,
          4,
          4,
          4,
          4,
          4,
          4,
          4,
          4,
          4,
          4,
          4,
          4,
          4,
          4,
          4,
          4,
          4,
          4,
          4,
          4,
          4,
          4,
          4,
          4,
          4,
          4,
          4,
          4,
          4,
          4,
          4,
          4,
          4,
          4,
          4,
          4,
          4,
          4,
          4,
          4,
          4,
          4,
          4,
          4,
          4,
          4,
          4,
          4,
          4,
          4,
          4,
          4,
          4,
          4,
          4,
          4,
          4,
          4,
          4,
          4,
          4,
          4
         ],
         "xaxis": "x",
         "y": [
          101588.99999999983,
          101588.99999999983,
          101588.99999999983,
          101588.99999999983,
          101588.99999999983,
          101588.99999999983,
          101588.99999999983,
          101588.99999999983,
          101588.99999999983,
          101588.99999999983,
          101588.99999999983,
          101588.99999999983,
          101588.99999999983,
          101588.99999999983,
          101588.99999999983,
          101588.99999999983,
          101588.99999999983,
          101588.99999999983,
          101588.99999999983,
          101588.99999999983,
          101588.99999999983,
          101588.99999999983,
          101588.99999999983,
          101588.99999999983,
          101588.99999999983,
          101588.99999999983,
          101588.99999999983,
          101588.99999999983,
          101588.99999999983,
          101588.99999999983,
          101588.99999999983,
          101588.99999999983,
          101588.99999999983,
          101588.99999999983,
          101588.99999999983,
          101588.99999999983,
          101588.99999999983,
          101588.99999999983,
          101588.99999999983,
          101588.99999999983,
          146059.86249999987,
          146059.86249999987,
          146059.86249999987,
          146059.86249999987,
          146059.86249999987,
          146059.86249999987,
          146059.86249999987,
          146059.86249999987,
          146059.86249999987,
          146059.86249999987,
          146059.86249999987,
          146059.86249999987,
          146059.86249999987,
          146059.86249999987,
          146059.86249999987,
          146059.86249999987,
          146059.86249999987,
          146059.86249999987,
          146059.86249999987,
          146059.86249999987,
          146059.86249999987,
          146059.86249999987,
          146059.86249999987,
          146059.86249999987,
          146059.86249999987,
          146059.86249999987,
          146059.86249999987,
          146059.86249999987,
          146059.86249999987,
          146059.86249999987,
          146059.86249999987,
          146059.86249999987,
          146059.86249999987,
          146059.86249999987,
          146059.86249999987,
          146059.86249999987,
          146059.86249999987,
          146059.86249999987,
          146059.86249999987,
          146059.86249999987,
          146059.86249999987,
          146059.86249999987,
          146059.86249999987,
          146059.86249999987,
          146059.86249999987,
          146059.86249999987,
          146059.86249999987,
          146059.86249999987,
          146059.86249999987,
          146059.86249999987,
          146059.86249999987,
          146059.86249999987,
          146059.86249999987,
          146059.86249999987,
          146059.86249999987,
          146059.86249999987,
          146059.86249999987,
          146059.86249999987,
          146059.86249999987,
          146059.86249999987,
          146059.86249999987,
          146059.86249999987,
          146059.86249999987,
          146059.86249999987,
          146059.86249999987,
          146059.86249999987,
          146059.86249999987,
          146059.86249999987,
          146059.86249999987,
          146059.86249999987,
          146059.86249999987,
          146059.86249999987,
          146059.86249999987,
          146059.86249999987,
          146059.86249999987,
          146059.86249999987,
          146059.86249999987,
          146059.86249999987,
          146059.86249999987,
          146059.86249999987,
          146059.86249999987,
          146059.86249999987,
          146059.86249999987,
          146059.86249999987,
          146059.86249999987,
          146059.86249999987,
          146059.86249999987,
          146059.86249999987,
          146059.86249999987,
          146059.86249999987,
          146059.86249999987,
          146059.86249999987,
          146059.86249999987,
          146059.86249999987,
          146059.86249999987,
          146059.86249999987,
          146059.86249999987,
          146059.86249999987,
          146059.86249999987,
          146059.86249999987,
          146059.86249999987,
          146059.86249999987,
          146059.86249999987,
          146059.86249999987,
          146059.86249999987,
          146059.86249999987,
          146059.86249999987,
          146059.86249999987,
          146059.86249999987,
          146059.86249999987,
          146059.86249999987,
          146059.86249999987,
          146059.86249999987,
          146059.86249999987,
          146059.86249999987,
          146059.86249999987,
          146059.86249999987,
          146059.86249999987,
          146059.86249999987,
          146059.86249999987,
          146059.86249999987,
          146059.86249999987,
          146059.86249999987,
          146059.86249999987,
          146059.86249999987,
          146059.86249999987,
          146059.86249999987,
          146059.86249999987,
          146059.86249999987,
          146059.86249999987,
          146059.86249999987,
          146059.86249999987,
          146059.86249999987,
          146059.86249999987,
          146059.86249999987,
          146059.86249999987,
          146059.86249999987,
          146059.86249999987,
          146059.86249999987,
          146059.86249999987,
          146059.86249999987,
          146059.86249999987,
          146059.86249999987,
          146059.86249999987,
          146059.86249999987,
          146059.86249999987,
          146059.86249999987,
          146059.86249999987,
          146059.86249999987,
          146059.86249999987,
          146059.86249999987,
          146059.86249999987,
          146059.86249999987,
          146059.86249999987,
          146059.86249999987,
          146059.86249999987,
          146059.86249999987,
          146059.86249999987,
          146059.86249999987,
          146059.86249999987,
          146059.86249999987,
          146059.86249999987,
          146059.86249999987,
          146059.86249999987,
          146059.86249999987,
          146059.86249999987,
          146059.86249999987,
          146059.86249999987,
          146059.86249999987,
          146059.86249999987,
          146059.86249999987,
          146059.86249999987,
          146059.86249999987,
          146059.86249999987,
          146059.86249999987,
          146059.86249999987,
          146059.86249999987,
          146059.86249999987,
          146059.86249999987,
          146059.86249999987,
          146059.86249999987,
          146059.86249999987,
          146059.86249999987,
          146059.86249999987,
          146059.86249999987,
          146059.86249999987,
          146059.86249999987,
          146059.86249999987,
          146059.86249999987,
          146059.86249999987,
          146059.86249999987,
          146059.86249999987,
          146059.86249999987,
          146059.86249999987,
          146059.86249999987,
          146059.86249999987,
          146059.86249999987,
          146059.86249999987,
          146059.86249999987,
          146059.86249999987,
          146059.86249999987,
          146059.86249999987,
          146059.86249999987,
          146059.86249999987,
          146059.86249999987,
          146059.86249999987,
          146059.86249999987,
          146059.86249999987,
          146059.86249999987,
          146059.86249999987,
          146059.86249999987,
          146059.86249999987,
          146059.86249999987,
          146059.86249999987,
          146059.86249999987,
          146059.86249999987,
          146059.86249999987,
          146059.86249999987,
          146059.86249999987,
          146059.86249999987,
          146059.86249999987,
          146059.86249999987,
          146059.86249999987,
          146059.86249999987,
          146059.86249999987,
          146059.86249999987,
          146059.86249999987,
          146059.86249999987,
          146059.86249999987,
          146059.86249999987,
          146059.86249999987,
          146059.86249999987,
          146059.86249999987,
          146059.86249999987,
          146059.86249999987,
          146059.86249999987,
          146059.86249999987,
          146059.86249999987,
          146059.86249999987,
          146059.86249999987
         ],
         "yaxis": "y"
        },
        {
         "hovertemplate": "Size=750.5<br>Rating=%{x}<br>Salary=%{y}<extra></extra>",
         "legendgroup": "750.5",
         "marker": {
          "color": "#FFA15A",
          "size": 10,
          "symbol": "circle"
         },
         "mode": "markers",
         "name": "750.5",
         "showlegend": true,
         "type": "scattergl",
         "x": [
          3.7,
          4,
          3.8,
          3.7,
          3.7,
          3.7,
          3.7,
          3.7,
          3.8,
          3.7,
          3.8,
          3.7,
          3.7,
          3.8,
          3.8,
          3.7,
          3.8,
          3.8,
          3.8,
          3.8,
          4,
          4,
          4,
          4,
          4,
          4,
          4,
          4
         ],
         "xaxis": "x",
         "y": [
          104000,
          163200,
          125000,
          104000,
          104000,
          104000,
          104000,
          104000,
          125000,
          104000,
          125000,
          104000,
          104000,
          125000,
          125000,
          104000,
          125000,
          125000,
          125000,
          125000,
          105600,
          163200,
          163200,
          105600,
          105600,
          163200,
          105600,
          105600
         ],
         "yaxis": "y"
        },
        {
         "hovertemplate": "<b>OLS trendline</b><br>Salary = 83647.1 * Rating + -200756<br>R<sup>2</sup>=0.271164<br><br>Size=750.5<br>Rating=%{x}<br>Salary=%{y} <b>(trend)</b><extra></extra>",
         "legendgroup": "750.5",
         "marker": {
          "color": "#FFA15A",
          "size": 10,
          "symbol": "circle"
         },
         "mode": "lines",
         "name": "750.5",
         "showlegend": false,
         "type": "scattergl",
         "x": [
          3.7,
          3.7,
          3.7,
          3.7,
          3.7,
          3.7,
          3.7,
          3.7,
          3.7,
          3.7,
          3.8,
          3.8,
          3.8,
          3.8,
          3.8,
          3.8,
          3.8,
          3.8,
          3.8,
          4,
          4,
          4,
          4,
          4,
          4,
          4,
          4,
          4
         ],
         "xaxis": "x",
         "y": [
          108738.23529411727,
          108738.23529411727,
          108738.23529411727,
          108738.23529411727,
          108738.23529411727,
          108738.23529411727,
          108738.23529411727,
          108738.23529411727,
          108738.23529411727,
          108738.23529411727,
          117102.94117647017,
          117102.94117647017,
          117102.94117647017,
          117102.94117647017,
          117102.94117647017,
          117102.94117647017,
          117102.94117647017,
          117102.94117647017,
          117102.94117647017,
          133832.35294117607,
          133832.35294117607,
          133832.35294117607,
          133832.35294117607,
          133832.35294117607,
          133832.35294117607,
          133832.35294117607,
          133832.35294117607,
          133832.35294117607
         ],
         "yaxis": "y"
        },
        {
         "hovertemplate": "Size=7500.5<br>Rating=%{x}<br>Salary=%{y}<extra></extra>",
         "legendgroup": "7500.5",
         "marker": {
          "color": "#19d3f3",
          "size": 10,
          "symbol": "circle"
         },
         "mode": "markers",
         "name": "7500.5",
         "showlegend": true,
         "type": "scattergl",
         "x": [
          3.4
         ],
         "xaxis": "x",
         "y": [
          74880
         ],
         "yaxis": "y"
        },
        {
         "hovertemplate": "Size=7500.5<extra></extra>",
         "legendgroup": "7500.5",
         "marker": {
          "color": "#19d3f3",
          "size": 10,
          "symbol": "circle"
         },
         "mode": "lines",
         "name": "7500.5",
         "showlegend": false,
         "type": "scattergl",
         "xaxis": "x",
         "yaxis": "y"
        }
       ],
       "layout": {
        "legend": {
         "title": {
          "text": "Size"
         },
         "tracegroupgap": 0
        },
        "margin": {
         "t": 60
        },
        "template": {
         "data": {
          "bar": [
           {
            "error_x": {
             "color": "#2a3f5f"
            },
            "error_y": {
             "color": "#2a3f5f"
            },
            "marker": {
             "line": {
              "color": "#E5ECF6",
              "width": 0.5
             },
             "pattern": {
              "fillmode": "overlay",
              "size": 10,
              "solidity": 0.2
             }
            },
            "type": "bar"
           }
          ],
          "barpolar": [
           {
            "marker": {
             "line": {
              "color": "#E5ECF6",
              "width": 0.5
             },
             "pattern": {
              "fillmode": "overlay",
              "size": 10,
              "solidity": 0.2
             }
            },
            "type": "barpolar"
           }
          ],
          "carpet": [
           {
            "aaxis": {
             "endlinecolor": "#2a3f5f",
             "gridcolor": "white",
             "linecolor": "white",
             "minorgridcolor": "white",
             "startlinecolor": "#2a3f5f"
            },
            "baxis": {
             "endlinecolor": "#2a3f5f",
             "gridcolor": "white",
             "linecolor": "white",
             "minorgridcolor": "white",
             "startlinecolor": "#2a3f5f"
            },
            "type": "carpet"
           }
          ],
          "choropleth": [
           {
            "colorbar": {
             "outlinewidth": 0,
             "ticks": ""
            },
            "type": "choropleth"
           }
          ],
          "contour": [
           {
            "colorbar": {
             "outlinewidth": 0,
             "ticks": ""
            },
            "colorscale": [
             [
              0,
              "#0d0887"
             ],
             [
              0.1111111111111111,
              "#46039f"
             ],
             [
              0.2222222222222222,
              "#7201a8"
             ],
             [
              0.3333333333333333,
              "#9c179e"
             ],
             [
              0.4444444444444444,
              "#bd3786"
             ],
             [
              0.5555555555555556,
              "#d8576b"
             ],
             [
              0.6666666666666666,
              "#ed7953"
             ],
             [
              0.7777777777777778,
              "#fb9f3a"
             ],
             [
              0.8888888888888888,
              "#fdca26"
             ],
             [
              1,
              "#f0f921"
             ]
            ],
            "type": "contour"
           }
          ],
          "contourcarpet": [
           {
            "colorbar": {
             "outlinewidth": 0,
             "ticks": ""
            },
            "type": "contourcarpet"
           }
          ],
          "heatmap": [
           {
            "colorbar": {
             "outlinewidth": 0,
             "ticks": ""
            },
            "colorscale": [
             [
              0,
              "#0d0887"
             ],
             [
              0.1111111111111111,
              "#46039f"
             ],
             [
              0.2222222222222222,
              "#7201a8"
             ],
             [
              0.3333333333333333,
              "#9c179e"
             ],
             [
              0.4444444444444444,
              "#bd3786"
             ],
             [
              0.5555555555555556,
              "#d8576b"
             ],
             [
              0.6666666666666666,
              "#ed7953"
             ],
             [
              0.7777777777777778,
              "#fb9f3a"
             ],
             [
              0.8888888888888888,
              "#fdca26"
             ],
             [
              1,
              "#f0f921"
             ]
            ],
            "type": "heatmap"
           }
          ],
          "heatmapgl": [
           {
            "colorbar": {
             "outlinewidth": 0,
             "ticks": ""
            },
            "colorscale": [
             [
              0,
              "#0d0887"
             ],
             [
              0.1111111111111111,
              "#46039f"
             ],
             [
              0.2222222222222222,
              "#7201a8"
             ],
             [
              0.3333333333333333,
              "#9c179e"
             ],
             [
              0.4444444444444444,
              "#bd3786"
             ],
             [
              0.5555555555555556,
              "#d8576b"
             ],
             [
              0.6666666666666666,
              "#ed7953"
             ],
             [
              0.7777777777777778,
              "#fb9f3a"
             ],
             [
              0.8888888888888888,
              "#fdca26"
             ],
             [
              1,
              "#f0f921"
             ]
            ],
            "type": "heatmapgl"
           }
          ],
          "histogram": [
           {
            "marker": {
             "pattern": {
              "fillmode": "overlay",
              "size": 10,
              "solidity": 0.2
             }
            },
            "type": "histogram"
           }
          ],
          "histogram2d": [
           {
            "colorbar": {
             "outlinewidth": 0,
             "ticks": ""
            },
            "colorscale": [
             [
              0,
              "#0d0887"
             ],
             [
              0.1111111111111111,
              "#46039f"
             ],
             [
              0.2222222222222222,
              "#7201a8"
             ],
             [
              0.3333333333333333,
              "#9c179e"
             ],
             [
              0.4444444444444444,
              "#bd3786"
             ],
             [
              0.5555555555555556,
              "#d8576b"
             ],
             [
              0.6666666666666666,
              "#ed7953"
             ],
             [
              0.7777777777777778,
              "#fb9f3a"
             ],
             [
              0.8888888888888888,
              "#fdca26"
             ],
             [
              1,
              "#f0f921"
             ]
            ],
            "type": "histogram2d"
           }
          ],
          "histogram2dcontour": [
           {
            "colorbar": {
             "outlinewidth": 0,
             "ticks": ""
            },
            "colorscale": [
             [
              0,
              "#0d0887"
             ],
             [
              0.1111111111111111,
              "#46039f"
             ],
             [
              0.2222222222222222,
              "#7201a8"
             ],
             [
              0.3333333333333333,
              "#9c179e"
             ],
             [
              0.4444444444444444,
              "#bd3786"
             ],
             [
              0.5555555555555556,
              "#d8576b"
             ],
             [
              0.6666666666666666,
              "#ed7953"
             ],
             [
              0.7777777777777778,
              "#fb9f3a"
             ],
             [
              0.8888888888888888,
              "#fdca26"
             ],
             [
              1,
              "#f0f921"
             ]
            ],
            "type": "histogram2dcontour"
           }
          ],
          "mesh3d": [
           {
            "colorbar": {
             "outlinewidth": 0,
             "ticks": ""
            },
            "type": "mesh3d"
           }
          ],
          "parcoords": [
           {
            "line": {
             "colorbar": {
              "outlinewidth": 0,
              "ticks": ""
             }
            },
            "type": "parcoords"
           }
          ],
          "pie": [
           {
            "automargin": true,
            "type": "pie"
           }
          ],
          "scatter": [
           {
            "marker": {
             "colorbar": {
              "outlinewidth": 0,
              "ticks": ""
             }
            },
            "type": "scatter"
           }
          ],
          "scatter3d": [
           {
            "line": {
             "colorbar": {
              "outlinewidth": 0,
              "ticks": ""
             }
            },
            "marker": {
             "colorbar": {
              "outlinewidth": 0,
              "ticks": ""
             }
            },
            "type": "scatter3d"
           }
          ],
          "scattercarpet": [
           {
            "marker": {
             "colorbar": {
              "outlinewidth": 0,
              "ticks": ""
             }
            },
            "type": "scattercarpet"
           }
          ],
          "scattergeo": [
           {
            "marker": {
             "colorbar": {
              "outlinewidth": 0,
              "ticks": ""
             }
            },
            "type": "scattergeo"
           }
          ],
          "scattergl": [
           {
            "marker": {
             "colorbar": {
              "outlinewidth": 0,
              "ticks": ""
             }
            },
            "type": "scattergl"
           }
          ],
          "scattermapbox": [
           {
            "marker": {
             "colorbar": {
              "outlinewidth": 0,
              "ticks": ""
             }
            },
            "type": "scattermapbox"
           }
          ],
          "scatterpolar": [
           {
            "marker": {
             "colorbar": {
              "outlinewidth": 0,
              "ticks": ""
             }
            },
            "type": "scatterpolar"
           }
          ],
          "scatterpolargl": [
           {
            "marker": {
             "colorbar": {
              "outlinewidth": 0,
              "ticks": ""
             }
            },
            "type": "scatterpolargl"
           }
          ],
          "scatterternary": [
           {
            "marker": {
             "colorbar": {
              "outlinewidth": 0,
              "ticks": ""
             }
            },
            "type": "scatterternary"
           }
          ],
          "surface": [
           {
            "colorbar": {
             "outlinewidth": 0,
             "ticks": ""
            },
            "colorscale": [
             [
              0,
              "#0d0887"
             ],
             [
              0.1111111111111111,
              "#46039f"
             ],
             [
              0.2222222222222222,
              "#7201a8"
             ],
             [
              0.3333333333333333,
              "#9c179e"
             ],
             [
              0.4444444444444444,
              "#bd3786"
             ],
             [
              0.5555555555555556,
              "#d8576b"
             ],
             [
              0.6666666666666666,
              "#ed7953"
             ],
             [
              0.7777777777777778,
              "#fb9f3a"
             ],
             [
              0.8888888888888888,
              "#fdca26"
             ],
             [
              1,
              "#f0f921"
             ]
            ],
            "type": "surface"
           }
          ],
          "table": [
           {
            "cells": {
             "fill": {
              "color": "#EBF0F8"
             },
             "line": {
              "color": "white"
             }
            },
            "header": {
             "fill": {
              "color": "#C8D4E3"
             },
             "line": {
              "color": "white"
             }
            },
            "type": "table"
           }
          ]
         },
         "layout": {
          "annotationdefaults": {
           "arrowcolor": "#2a3f5f",
           "arrowhead": 0,
           "arrowwidth": 1
          },
          "autotypenumbers": "strict",
          "coloraxis": {
           "colorbar": {
            "outlinewidth": 0,
            "ticks": ""
           }
          },
          "colorscale": {
           "diverging": [
            [
             0,
             "#8e0152"
            ],
            [
             0.1,
             "#c51b7d"
            ],
            [
             0.2,
             "#de77ae"
            ],
            [
             0.3,
             "#f1b6da"
            ],
            [
             0.4,
             "#fde0ef"
            ],
            [
             0.5,
             "#f7f7f7"
            ],
            [
             0.6,
             "#e6f5d0"
            ],
            [
             0.7,
             "#b8e186"
            ],
            [
             0.8,
             "#7fbc41"
            ],
            [
             0.9,
             "#4d9221"
            ],
            [
             1,
             "#276419"
            ]
           ],
           "sequential": [
            [
             0,
             "#0d0887"
            ],
            [
             0.1111111111111111,
             "#46039f"
            ],
            [
             0.2222222222222222,
             "#7201a8"
            ],
            [
             0.3333333333333333,
             "#9c179e"
            ],
            [
             0.4444444444444444,
             "#bd3786"
            ],
            [
             0.5555555555555556,
             "#d8576b"
            ],
            [
             0.6666666666666666,
             "#ed7953"
            ],
            [
             0.7777777777777778,
             "#fb9f3a"
            ],
            [
             0.8888888888888888,
             "#fdca26"
            ],
            [
             1,
             "#f0f921"
            ]
           ],
           "sequentialminus": [
            [
             0,
             "#0d0887"
            ],
            [
             0.1111111111111111,
             "#46039f"
            ],
            [
             0.2222222222222222,
             "#7201a8"
            ],
            [
             0.3333333333333333,
             "#9c179e"
            ],
            [
             0.4444444444444444,
             "#bd3786"
            ],
            [
             0.5555555555555556,
             "#d8576b"
            ],
            [
             0.6666666666666666,
             "#ed7953"
            ],
            [
             0.7777777777777778,
             "#fb9f3a"
            ],
            [
             0.8888888888888888,
             "#fdca26"
            ],
            [
             1,
             "#f0f921"
            ]
           ]
          },
          "colorway": [
           "#636efa",
           "#EF553B",
           "#00cc96",
           "#ab63fa",
           "#FFA15A",
           "#19d3f3",
           "#FF6692",
           "#B6E880",
           "#FF97FF",
           "#FECB52"
          ],
          "font": {
           "color": "#2a3f5f"
          },
          "geo": {
           "bgcolor": "white",
           "lakecolor": "white",
           "landcolor": "#E5ECF6",
           "showlakes": true,
           "showland": true,
           "subunitcolor": "white"
          },
          "hoverlabel": {
           "align": "left"
          },
          "hovermode": "closest",
          "mapbox": {
           "style": "light"
          },
          "paper_bgcolor": "white",
          "plot_bgcolor": "#E5ECF6",
          "polar": {
           "angularaxis": {
            "gridcolor": "white",
            "linecolor": "white",
            "ticks": ""
           },
           "bgcolor": "#E5ECF6",
           "radialaxis": {
            "gridcolor": "white",
            "linecolor": "white",
            "ticks": ""
           }
          },
          "scene": {
           "xaxis": {
            "backgroundcolor": "#E5ECF6",
            "gridcolor": "white",
            "gridwidth": 2,
            "linecolor": "white",
            "showbackground": true,
            "ticks": "",
            "zerolinecolor": "white"
           },
           "yaxis": {
            "backgroundcolor": "#E5ECF6",
            "gridcolor": "white",
            "gridwidth": 2,
            "linecolor": "white",
            "showbackground": true,
            "ticks": "",
            "zerolinecolor": "white"
           },
           "zaxis": {
            "backgroundcolor": "#E5ECF6",
            "gridcolor": "white",
            "gridwidth": 2,
            "linecolor": "white",
            "showbackground": true,
            "ticks": "",
            "zerolinecolor": "white"
           }
          },
          "shapedefaults": {
           "line": {
            "color": "#2a3f5f"
           }
          },
          "ternary": {
           "aaxis": {
            "gridcolor": "white",
            "linecolor": "white",
            "ticks": ""
           },
           "baxis": {
            "gridcolor": "white",
            "linecolor": "white",
            "ticks": ""
           },
           "bgcolor": "#E5ECF6",
           "caxis": {
            "gridcolor": "white",
            "linecolor": "white",
            "ticks": ""
           }
          },
          "title": {
           "x": 0.05
          },
          "xaxis": {
           "automargin": true,
           "gridcolor": "white",
           "linecolor": "white",
           "ticks": "",
           "title": {
            "standoff": 15
           },
           "zerolinecolor": "white",
           "zerolinewidth": 2
          },
          "yaxis": {
           "automargin": true,
           "gridcolor": "white",
           "linecolor": "white",
           "ticks": "",
           "title": {
            "standoff": 15
           },
           "zerolinecolor": "white",
           "zerolinewidth": 2
          }
         }
        },
        "xaxis": {
         "anchor": "y",
         "domain": [
          0,
          1
         ],
         "title": {
          "text": "Rating"
         }
        },
        "yaxis": {
         "anchor": "x",
         "domain": [
          0,
          1
         ],
         "title": {
          "text": "Salary"
         }
        }
       }
      },
      "text/html": [
       "<div>                            <div id=\"e8cf960b-298b-4296-9932-a6b88c5d844b\" class=\"plotly-graph-div\" style=\"height:525px; width:100%;\"></div>            <script type=\"text/javascript\">                require([\"plotly\"], function(Plotly) {                    window.PLOTLYENV=window.PLOTLYENV || {};                                    if (document.getElementById(\"e8cf960b-298b-4296-9932-a6b88c5d844b\")) {                    Plotly.newPlot(                        \"e8cf960b-298b-4296-9932-a6b88c5d844b\",                        [{\"hovertemplate\":\"Size=10000+<br>Rating=%{x}<br>Salary=%{y}<extra></extra>\",\"legendgroup\":\"10000+\",\"marker\":{\"color\":\"#636efa\",\"symbol\":\"circle\",\"size\":10},\"mode\":\"markers\",\"name\":\"10000+\",\"showlegend\":true,\"x\":[4.5,4.0,4.0,4.4,4.4,4.4,3.9,4.0,4.4,3.9,3.8,4.4,4.4,3.9,3.2,4.0,4.4,3.5,3.8,4.4,4.4,3.5,5.0,3.9,3.8,4.4,4.4,4.4,3.5,3.5,3.5,4.3,3.9,3.8,4.4,4.4,4.4,4.0,3.5,3.5,4.0,4.0,3.8,4.4,4.4,3.9,4.4,4.4,4.0,4.5,4.0,3.8,4.4,4.4,4.4,3.9,4.4,4.0,3.8,4.0,4.4,4.4,4.4,4.4,3.9,4.0,4.0,4.4,4.4,4.4,3.9,4.4,4.0,4.0,4.4,4.4,3.9,4.4,4.4,4.0,4.0,4.4,4.4,4.4,3.9,4.4,4.0,4.4,3.8,4.4,3.9,4.4,4.4,4.0,4.0,3.8,4.4,4.4,3.9,3.9,3.5,4.0,3.8,4.0,3.9,4.4,4.4,4.4,4.4,4.4,4.4,5.0,3.5,4.0,3.8,4.0,3.9,4.4,4.4,5.0,3.9,3.8,3.9,4.0,4.4,4.4,3.5,3.9,5.0,4.4,4.4,3.9,4.4,3.9,3.8,4.4,4.4,3.9,3.9,3.5,4.4,4.4,3.9,3.9,3.8,4.5,4.4,4.4,3.9,3.9,3.5,4.5,4.4,4.4,3.9,3.9,3.8,4.5,4.4,4.4,3.9,3.9,3.5,4.5,4.4,4.0,4.4,4.4,3.9,3.9,4.5,4.4,4.4,3.9,3.9,4.4,4.4,3.9,4.4,4.4,4.4,4.4,3.9,4.4,4.4,4.4,4.4,4.5,4.4,4.4,4.5,4.4,4.4,4.4,4.0,4.0,4.0,5.0,3.9,4.4,3.5,3.5,4.1,3.9,4.0,3.5,5.0,4.3,4.0,3.9,4.0,4.0,4.4,3.8,4.1,3.9,4.1,4.0,3.5,3.5,4.0,4.0,4.4,3.8,4.0,3.9,4.0,5.0,5.0,3.9,4.2,3.9,3.8,3.3,3.9,4.0,4.0,4.4,4.4,3.8,3.9,4.0,5.0,5.0,3.9,4.3,4.2,3.8,3.3,3.9,4.0,4.0,3.8,4.0,4.4,3.9,4.4,3.9,3.5,4.0,3.9,4.0,4.0,4.4,4.0,4.0,3.9,4.4,3.9,3.9,5.0,4.3,4.0,4.4,4.0,4.4,4.0,3.9,4.0,3.9,4.0,3.9,5.0,5.0,4.0,4.4,4.0,4.4,3.9,4.0,3.9,4.0,5.0,4.0,4.0,4.0,4.4,3.9,4.0,4.4,4.0,3.8,3.9,4.0,4.1,5.0,4.0,4.0,4.0,4.4,4.0,3.9,4.4,3.9,4.1,4.4,3.8,4.4,4.0,3.8,4.0,4.0,4.4,3.9,4.0,4.4,3.9,4.1,4.4,4.4,3.8,4.1,4.0,3.5,4.0,5.0,3.9,4.0,4.4,4.0,3.9,4.4,4.1,4.4,3.8,3.9,4.0,3.5,4.0,4.0,5.0,4.3,4.0,4.4,4.0,4.4,4.4,3.9,4.1,4.4,3.9,3.8,4.4,4.1,3.5,3.5,4.0,4.4,4.0,4.4,3.9,4.4,4.1,4.4,3.9,3.8,4.4,4.1,4.0,3.5,4.0,4.4,4.0,4.4,4.4,3.9,4.1,4.1,3.5,3.8,4.4,4.4,3.8,4.0,4.0,4.4,4.0,4.4,4.4,3.9,4.1,3.5,4.1,3.5,4.4,3.8,3.8,4.0,3.9,4.0,4.0,3.5,4.4,4.4,3.9,3.8,4.1,3.8,4.1,3.5,4.0,4.4,4.0,3.5,4.4,4.4,3.8,3.9,4.1,4.1,3.5,4.4,4.0,4.4,4.0,3.5,4.4,3.8,4.4,3.9,4.1,4.1,3.8,3.5,3.9,4.0,4.4,4.0,4.4,3.5,3.9,4.4,3.8,4.1,3.5,4.1,3.5,3.9,4.0,4.4,4.0,4.4,3.5,3.9,3.8,4.1,3.5,4.1,3.5,3.9,3.9,4.0,4.4,4.0,4.4,3.5,3.9,3.8,4.1,3.5,3.5,4.1,3.5,3.9,4.0,4.4,4.0,3.5,4.4,3.8,3.9,4.1,3.5,3.8,4.1,3.5,3.9,4.0,4.4,4.0,4.4,4.4,3.5,3.9,3.8,4.1,3.5,3.5,4.1,4.0,4.0,4.4,3.5,3.7,3.8,4.1,3.5,4.1,4.0,4.4,4.0,4.4,3.7,4.1,3.5,3.8,4.1,4.0,4.4,3.5,4.0,4.4,4.0,4.4,3.5,3.9,4.1,3.5,4.1,4.0,3.8,4.0,4.4,4.0,3.5,3.9,4.4,4.1,3.5,4.0,4.0,4.4,4.0,3.5,3.9,4.4,4.1,3.5,4.0,1.0,3.0,3.0,3.0,3.0,3.0,3.0,3.0,3.0,3.0,3.0,3.0,3.0,3.0,3.0,3.0,3.0,3.0,3.0,3.0,3.0,3.0,3.0,3.0,1.0,3.0,1.0,3.0],\"xaxis\":\"x\",\"y\":[132500.0,120500.0,142910.0,125000.0,188000.0,115000.0,156800.0,89200.0,144000.0,125500.0,158611.0,115000.0,144000.0,125500.0,115000.0,89200.0,201500.0,140350.0,158611.0,115000.0,144000.0,140350.0,175000.0,190000.0,158611.0,115000.0,144000.0,201500.0,138500.0,113600.0,140350.0,140000.0,117500.0,158611.0,115000.0,273500.0,144000.0,139500.0,138500.0,113600.0,172600.0,142910.0,158611.0,125000.0,188000.0,156800.0,273500.0,115000.0,172600.0,132500.0,142910.0,158611.0,125000.0,188000.0,273500.0,156800.0,115000.0,172600.0,158611.0,142910.0,125000.0,188000.0,115000.0,273500.0,156800.0,120500.0,142910.0,125000.0,188000.0,115000.0,156800.0,273500.0,120500.0,142910.0,125000.0,188000.0,156800.0,115000.0,273500.0,172600.0,142910.0,125000.0,188000.0,115000.0,156800.0,273500.0,142910.0,125000.0,158611.0,188000.0,156800.0,273500.0,115000.0,172600.0,142910.0,158611.0,125000.0,188000.0,156800.0,125500.0,138500.0,172600.0,158611.0,142910.0,156800.0,188000.0,273500.0,125000.0,144000.0,201500.0,115000.0,155000.0,138500.0,172600.0,158611.0,142910.0,156800.0,125000.0,188000.0,155000.0,125500.0,138500.0,156800.0,142910.0,125000.0,188000.0,138500.0,125500.0,155000.0,188000.0,125000.0,156800.0,144000.0,125500.0,138500.0,188000.0,125000.0,156800.0,125500.0,138500.0,188000.0,125000.0,156800.0,125500.0,138500.0,132500.0,188000.0,125000.0,156800.0,125500.0,138500.0,132500.0,125000.0,188000.0,156800.0,125500.0,138500.0,132500.0,125000.0,188000.0,156800.0,125500.0,138500.0,132500.0,188000.0,142910.0,125000.0,115000.0,156800.0,125500.0,132500.0,125000.0,188000.0,156800.0,125500.0,125000.0,188000.0,125500.0,228500.0,188000.0,115000.0,144000.0,127300.0,228500.0,188000.0,115000.0,144000.0,132500.0,228500.0,188000.0,132500.0,188000.0,125000.0,115000.0,102652.0,103127.0,110100.0,155000.0,125500.0,151000.0,107500.0,138500.0,140000.0,156800.0,127300.0,110290.0,130000.0,140000.0,155000.0,91852.8,120500.0,142910.0,219500.0,178000.0,157500.0,156800.0,140000.0,127300.0,149850.0,110290.0,126800.0,142910.0,219500.0,178000.0,126650.0,156800.0,126800.0,155000.0,175000.0,146000.0,103123.2,78720.0,126350.0,85410.0,170000.0,157200.0,142910.0,273500.0,219500.0,178000.0,156800.0,126800.0,155000.0,175000.0,146000.0,120000.0,103123.2,126350.0,85410.0,170000.0,157200.0,120500.0,178000.0,142910.0,273500.0,125500.0,219500.0,156800.0,124000.0,126800.0,156800.0,127300.0,157200.0,273500.0,142910.0,126650.0,125500.0,219500.0,156800.0,146000.0,175000.0,140000.0,157200.0,273500.0,142910.0,219500.0,126650.0,125500.0,127300.0,156800.0,126800.0,120000.0,175000.0,155000.0,157200.0,273500.0,142910.0,219500.0,125500.0,126650.0,156800.0,127300.0,155000.0,126800.0,126800.0,157200.0,273500.0,125500.0,142910.0,219500.0,126650.0,178000.0,156800.0,127300.0,140000.0,155000.0,126800.0,126800.0,157200.0,273500.0,142910.0,125500.0,219500.0,156800.0,157500.0,201500.0,178000.0,151000.0,126650.0,124000.0,127300.0,157200.0,273500.0,125500.0,142910.0,219500.0,156800.0,157500.0,151000.0,201500.0,178000.0,140000.0,110100.0,149850.0,127300.0,155000.0,156800.0,157200.0,273500.0,142910.0,125500.0,219500.0,157500.0,151000.0,178000.0,156800.0,126650.0,149850.0,127300.0,126800.0,155000.0,140000.0,157200.0,273500.0,142910.0,219500.0,295000.0,125500.0,157500.0,151000.0,156800.0,178000.0,201500.0,140000.0,138500.0,149850.0,157200.0,273500.0,142910.0,219500.0,125500.0,295000.0,157500.0,151000.0,156800.0,178000.0,201500.0,140000.0,126650.0,149850.0,157200.0,273500.0,142910.0,219500.0,295000.0,125500.0,157500.0,140000.0,149850.0,178000.0,151000.0,201500.0,138500.0,110100.0,157200.0,273500.0,142910.0,219500.0,295000.0,125500.0,157500.0,124000.0,140000.0,149850.0,151000.0,178000.0,138500.0,126650.0,156800.0,157200.0,142910.0,79680.0,219500.0,295000.0,125500.0,178000.0,157500.0,124000.0,140000.0,149850.0,157200.0,273500.0,142910.0,79680.0,219500.0,295000.0,178000.0,125500.0,157500.0,140000.0,149850.0,151000.0,157200.0,273500.0,142910.0,79680.0,219500.0,178000.0,295000.0,125500.0,157500.0,140000.0,149850.0,138500.0,156800.0,157200.0,273500.0,142910.0,219500.0,79680.0,125500.0,295000.0,178000.0,157500.0,149850.0,140000.0,138500.0,156800.0,157200.0,273500.0,142910.0,219500.0,79680.0,125500.0,178000.0,157500.0,149850.0,140000.0,138500.0,156800.0,156800.0,157200.0,273500.0,142910.0,219500.0,79680.0,125500.0,178000.0,157500.0,124000.0,149850.0,140000.0,138500.0,156800.0,157200.0,273500.0,142910.0,79680.0,219500.0,178000.0,125500.0,157500.0,124000.0,149850.0,140000.0,138500.0,156800.0,157200.0,273500.0,142910.0,219500.0,295000.0,79680.0,125500.0,178000.0,157500.0,124000.0,149850.0,140000.0,157200.0,142910.0,219500.0,79680.0,125500.0,178000.0,157500.0,149850.0,140000.0,157200.0,273500.0,142910.0,219500.0,125500.0,157500.0,149850.0,178000.0,140000.0,103127.0,151000.0,138500.0,157200.0,273500.0,142910.0,219500.0,79680.0,125500.0,157500.0,149850.0,140000.0,103127.0,178000.0,157200.0,273500.0,142910.0,79680.0,125500.0,219500.0,157500.0,149850.0,103127.0,157200.0,273500.0,142910.0,79680.0,125500.0,219500.0,157500.0,149850.0,103127.0,130000.0,150000.0,150000.0,150000.0,150000.0,150000.0,150000.0,150000.0,150000.0,150000.0,150000.0,150000.0,150000.0,150000.0,150000.0,150000.0,150000.0,150000.0,150000.0,150000.0,150000.0,150000.0,150000.0,150000.0,130000.0,150000.0,130000.0,150000.0],\"yaxis\":\"y\",\"type\":\"scattergl\"},{\"hovertemplate\":\"<b>OLS trendline</b><br>Salary = 34347.9 * Rating + 19620.1<br>R<sup>2</sup>=0.124153<br><br>Size=10000+<br>Rating=%{x}<br>Salary=%{y} <b>(trend)</b><extra></extra>\",\"legendgroup\":\"10000+\",\"marker\":{\"color\":\"#636efa\",\"symbol\":\"circle\",\"size\":10},\"mode\":\"lines\",\"name\":\"10000+\",\"showlegend\":false,\"x\":[1.0,1.0,1.0,3.0,3.0,3.0,3.0,3.0,3.0,3.0,3.0,3.0,3.0,3.0,3.0,3.0,3.0,3.0,3.0,3.0,3.0,3.0,3.0,3.0,3.0,3.0,3.0,3.0,3.2,3.3,3.3,3.5,3.5,3.5,3.5,3.5,3.5,3.5,3.5,3.5,3.5,3.5,3.5,3.5,3.5,3.5,3.5,3.5,3.5,3.5,3.5,3.5,3.5,3.5,3.5,3.5,3.5,3.5,3.5,3.5,3.5,3.5,3.5,3.5,3.5,3.5,3.5,3.5,3.5,3.5,3.5,3.5,3.5,3.5,3.5,3.5,3.5,3.5,3.5,3.5,3.5,3.5,3.5,3.5,3.5,3.5,3.5,3.5,3.5,3.5,3.7,3.7,3.8,3.8,3.8,3.8,3.8,3.8,3.8,3.8,3.8,3.8,3.8,3.8,3.8,3.8,3.8,3.8,3.8,3.8,3.8,3.8,3.8,3.8,3.8,3.8,3.8,3.8,3.8,3.8,3.8,3.8,3.8,3.8,3.8,3.8,3.8,3.8,3.8,3.8,3.8,3.8,3.8,3.8,3.8,3.8,3.8,3.8,3.9,3.9,3.9,3.9,3.9,3.9,3.9,3.9,3.9,3.9,3.9,3.9,3.9,3.9,3.9,3.9,3.9,3.9,3.9,3.9,3.9,3.9,3.9,3.9,3.9,3.9,3.9,3.9,3.9,3.9,3.9,3.9,3.9,3.9,3.9,3.9,3.9,3.9,3.9,3.9,3.9,3.9,3.9,3.9,3.9,3.9,3.9,3.9,3.9,3.9,3.9,3.9,3.9,3.9,3.9,3.9,3.9,3.9,3.9,3.9,3.9,3.9,3.9,3.9,3.9,3.9,3.9,3.9,3.9,3.9,3.9,3.9,3.9,3.9,3.9,3.9,3.9,3.9,3.9,3.9,3.9,3.9,3.9,3.9,3.9,3.9,3.9,3.9,3.9,3.9,3.9,3.9,4.0,4.0,4.0,4.0,4.0,4.0,4.0,4.0,4.0,4.0,4.0,4.0,4.0,4.0,4.0,4.0,4.0,4.0,4.0,4.0,4.0,4.0,4.0,4.0,4.0,4.0,4.0,4.0,4.0,4.0,4.0,4.0,4.0,4.0,4.0,4.0,4.0,4.0,4.0,4.0,4.0,4.0,4.0,4.0,4.0,4.0,4.0,4.0,4.0,4.0,4.0,4.0,4.0,4.0,4.0,4.0,4.0,4.0,4.0,4.0,4.0,4.0,4.0,4.0,4.0,4.0,4.0,4.0,4.0,4.0,4.0,4.0,4.0,4.0,4.0,4.0,4.0,4.0,4.0,4.0,4.0,4.0,4.0,4.0,4.0,4.0,4.0,4.0,4.0,4.0,4.0,4.0,4.0,4.0,4.0,4.0,4.0,4.0,4.0,4.0,4.0,4.0,4.0,4.0,4.0,4.0,4.0,4.0,4.0,4.0,4.0,4.0,4.0,4.0,4.0,4.0,4.0,4.0,4.0,4.0,4.1,4.1,4.1,4.1,4.1,4.1,4.1,4.1,4.1,4.1,4.1,4.1,4.1,4.1,4.1,4.1,4.1,4.1,4.1,4.1,4.1,4.1,4.1,4.1,4.1,4.1,4.1,4.1,4.1,4.1,4.1,4.1,4.1,4.1,4.1,4.1,4.1,4.1,4.1,4.1,4.2,4.2,4.3,4.3,4.3,4.3,4.3,4.4,4.4,4.4,4.4,4.4,4.4,4.4,4.4,4.4,4.4,4.4,4.4,4.4,4.4,4.4,4.4,4.4,4.4,4.4,4.4,4.4,4.4,4.4,4.4,4.4,4.4,4.4,4.4,4.4,4.4,4.4,4.4,4.4,4.4,4.4,4.4,4.4,4.4,4.4,4.4,4.4,4.4,4.4,4.4,4.4,4.4,4.4,4.4,4.4,4.4,4.4,4.4,4.4,4.4,4.4,4.4,4.4,4.4,4.4,4.4,4.4,4.4,4.4,4.4,4.4,4.4,4.4,4.4,4.4,4.4,4.4,4.4,4.4,4.4,4.4,4.4,4.4,4.4,4.4,4.4,4.4,4.4,4.4,4.4,4.4,4.4,4.4,4.4,4.4,4.4,4.4,4.4,4.4,4.4,4.4,4.4,4.4,4.4,4.4,4.4,4.4,4.4,4.4,4.4,4.4,4.4,4.4,4.4,4.4,4.4,4.4,4.4,4.4,4.4,4.4,4.4,4.4,4.4,4.4,4.4,4.4,4.4,4.4,4.4,4.4,4.4,4.4,4.4,4.4,4.4,4.4,4.4,4.4,4.4,4.4,4.4,4.4,4.4,4.4,4.4,4.4,4.4,4.4,4.4,4.4,4.4,4.4,4.4,4.4,4.4,4.4,4.4,4.4,4.4,4.4,4.4,4.4,4.4,4.4,4.4,4.4,4.4,4.4,4.4,4.5,4.5,4.5,4.5,4.5,4.5,4.5,4.5,4.5,5.0,5.0,5.0,5.0,5.0,5.0,5.0,5.0,5.0,5.0,5.0,5.0,5.0,5.0,5.0,5.0,5.0],\"xaxis\":\"x\",\"y\":[53967.99848832453,53967.99848832453,53967.99848832453,122663.84666257832,122663.84666257832,122663.84666257832,122663.84666257832,122663.84666257832,122663.84666257832,122663.84666257832,122663.84666257832,122663.84666257832,122663.84666257832,122663.84666257832,122663.84666257832,122663.84666257832,122663.84666257832,122663.84666257832,122663.84666257832,122663.84666257832,122663.84666257832,122663.84666257832,122663.84666257832,122663.84666257832,122663.84666257832,122663.84666257832,122663.84666257832,122663.84666257832,129533.4314800037,132968.22388871637,132968.22388871637,139837.80870614178,139837.80870614178,139837.80870614178,139837.80870614178,139837.80870614178,139837.80870614178,139837.80870614178,139837.80870614178,139837.80870614178,139837.80870614178,139837.80870614178,139837.80870614178,139837.80870614178,139837.80870614178,139837.80870614178,139837.80870614178,139837.80870614178,139837.80870614178,139837.80870614178,139837.80870614178,139837.80870614178,139837.80870614178,139837.80870614178,139837.80870614178,139837.80870614178,139837.80870614178,139837.80870614178,139837.80870614178,139837.80870614178,139837.80870614178,139837.80870614178,139837.80870614178,139837.80870614178,139837.80870614178,139837.80870614178,139837.80870614178,139837.80870614178,139837.80870614178,139837.80870614178,139837.80870614178,139837.80870614178,139837.80870614178,139837.80870614178,139837.80870614178,139837.80870614178,139837.80870614178,139837.80870614178,139837.80870614178,139837.80870614178,139837.80870614178,139837.80870614178,139837.80870614178,139837.80870614178,139837.80870614178,139837.80870614178,139837.80870614178,139837.80870614178,139837.80870614178,139837.80870614178,146707.39352356712,146707.39352356712,150142.1859322798,150142.1859322798,150142.1859322798,150142.1859322798,150142.1859322798,150142.1859322798,150142.1859322798,150142.1859322798,150142.1859322798,150142.1859322798,150142.1859322798,150142.1859322798,150142.1859322798,150142.1859322798,150142.1859322798,150142.1859322798,150142.1859322798,150142.1859322798,150142.1859322798,150142.1859322798,150142.1859322798,150142.1859322798,150142.1859322798,150142.1859322798,150142.1859322798,150142.1859322798,150142.1859322798,150142.1859322798,150142.1859322798,150142.1859322798,150142.1859322798,150142.1859322798,150142.1859322798,150142.1859322798,150142.1859322798,150142.1859322798,150142.1859322798,150142.1859322798,150142.1859322798,150142.1859322798,150142.1859322798,150142.1859322798,150142.1859322798,150142.1859322798,150142.1859322798,150142.1859322798,153576.9783409925,153576.9783409925,153576.9783409925,153576.9783409925,153576.9783409925,153576.9783409925,153576.9783409925,153576.9783409925,153576.9783409925,153576.9783409925,153576.9783409925,153576.9783409925,153576.9783409925,153576.9783409925,153576.9783409925,153576.9783409925,153576.9783409925,153576.9783409925,153576.9783409925,153576.9783409925,153576.9783409925,153576.9783409925,153576.9783409925,153576.9783409925,153576.9783409925,153576.9783409925,153576.9783409925,153576.9783409925,153576.9783409925,153576.9783409925,153576.9783409925,153576.9783409925,153576.9783409925,153576.9783409925,153576.9783409925,153576.9783409925,153576.9783409925,153576.9783409925,153576.9783409925,153576.9783409925,153576.9783409925,153576.9783409925,153576.9783409925,153576.9783409925,153576.9783409925,153576.9783409925,153576.9783409925,153576.9783409925,153576.9783409925,153576.9783409925,153576.9783409925,153576.9783409925,153576.9783409925,153576.9783409925,153576.9783409925,153576.9783409925,153576.9783409925,153576.9783409925,153576.9783409925,153576.9783409925,153576.9783409925,153576.9783409925,153576.9783409925,153576.9783409925,153576.9783409925,153576.9783409925,153576.9783409925,153576.9783409925,153576.9783409925,153576.9783409925,153576.9783409925,153576.9783409925,153576.9783409925,153576.9783409925,153576.9783409925,153576.9783409925,153576.9783409925,153576.9783409925,153576.9783409925,153576.9783409925,153576.9783409925,153576.9783409925,153576.9783409925,153576.9783409925,153576.9783409925,153576.9783409925,153576.9783409925,153576.9783409925,153576.9783409925,153576.9783409925,153576.9783409925,153576.9783409925,157011.7707497052,157011.7707497052,157011.7707497052,157011.7707497052,157011.7707497052,157011.7707497052,157011.7707497052,157011.7707497052,157011.7707497052,157011.7707497052,157011.7707497052,157011.7707497052,157011.7707497052,157011.7707497052,157011.7707497052,157011.7707497052,157011.7707497052,157011.7707497052,157011.7707497052,157011.7707497052,157011.7707497052,157011.7707497052,157011.7707497052,157011.7707497052,157011.7707497052,157011.7707497052,157011.7707497052,157011.7707497052,157011.7707497052,157011.7707497052,157011.7707497052,157011.7707497052,157011.7707497052,157011.7707497052,157011.7707497052,157011.7707497052,157011.7707497052,157011.7707497052,157011.7707497052,157011.7707497052,157011.7707497052,157011.7707497052,157011.7707497052,157011.7707497052,157011.7707497052,157011.7707497052,157011.7707497052,157011.7707497052,157011.7707497052,157011.7707497052,157011.7707497052,157011.7707497052,157011.7707497052,157011.7707497052,157011.7707497052,157011.7707497052,157011.7707497052,157011.7707497052,157011.7707497052,157011.7707497052,157011.7707497052,157011.7707497052,157011.7707497052,157011.7707497052,157011.7707497052,157011.7707497052,157011.7707497052,157011.7707497052,157011.7707497052,157011.7707497052,157011.7707497052,157011.7707497052,157011.7707497052,157011.7707497052,157011.7707497052,157011.7707497052,157011.7707497052,157011.7707497052,157011.7707497052,157011.7707497052,157011.7707497052,157011.7707497052,157011.7707497052,157011.7707497052,157011.7707497052,157011.7707497052,157011.7707497052,157011.7707497052,157011.7707497052,157011.7707497052,157011.7707497052,157011.7707497052,157011.7707497052,157011.7707497052,157011.7707497052,157011.7707497052,157011.7707497052,157011.7707497052,157011.7707497052,157011.7707497052,157011.7707497052,157011.7707497052,157011.7707497052,157011.7707497052,157011.7707497052,157011.7707497052,157011.7707497052,157011.7707497052,157011.7707497052,157011.7707497052,157011.7707497052,157011.7707497052,157011.7707497052,157011.7707497052,157011.7707497052,157011.7707497052,157011.7707497052,157011.7707497052,157011.7707497052,157011.7707497052,160446.56315841788,160446.56315841788,160446.56315841788,160446.56315841788,160446.56315841788,160446.56315841788,160446.56315841788,160446.56315841788,160446.56315841788,160446.56315841788,160446.56315841788,160446.56315841788,160446.56315841788,160446.56315841788,160446.56315841788,160446.56315841788,160446.56315841788,160446.56315841788,160446.56315841788,160446.56315841788,160446.56315841788,160446.56315841788,160446.56315841788,160446.56315841788,160446.56315841788,160446.56315841788,160446.56315841788,160446.56315841788,160446.56315841788,160446.56315841788,160446.56315841788,160446.56315841788,160446.56315841788,160446.56315841788,160446.56315841788,160446.56315841788,160446.56315841788,160446.56315841788,160446.56315841788,160446.56315841788,163881.35556713058,163881.35556713058,167316.14797584325,167316.14797584325,167316.14797584325,167316.14797584325,167316.14797584325,170750.940384556,170750.940384556,170750.940384556,170750.940384556,170750.940384556,170750.940384556,170750.940384556,170750.940384556,170750.940384556,170750.940384556,170750.940384556,170750.940384556,170750.940384556,170750.940384556,170750.940384556,170750.940384556,170750.940384556,170750.940384556,170750.940384556,170750.940384556,170750.940384556,170750.940384556,170750.940384556,170750.940384556,170750.940384556,170750.940384556,170750.940384556,170750.940384556,170750.940384556,170750.940384556,170750.940384556,170750.940384556,170750.940384556,170750.940384556,170750.940384556,170750.940384556,170750.940384556,170750.940384556,170750.940384556,170750.940384556,170750.940384556,170750.940384556,170750.940384556,170750.940384556,170750.940384556,170750.940384556,170750.940384556,170750.940384556,170750.940384556,170750.940384556,170750.940384556,170750.940384556,170750.940384556,170750.940384556,170750.940384556,170750.940384556,170750.940384556,170750.940384556,170750.940384556,170750.940384556,170750.940384556,170750.940384556,170750.940384556,170750.940384556,170750.940384556,170750.940384556,170750.940384556,170750.940384556,170750.940384556,170750.940384556,170750.940384556,170750.940384556,170750.940384556,170750.940384556,170750.940384556,170750.940384556,170750.940384556,170750.940384556,170750.940384556,170750.940384556,170750.940384556,170750.940384556,170750.940384556,170750.940384556,170750.940384556,170750.940384556,170750.940384556,170750.940384556,170750.940384556,170750.940384556,170750.940384556,170750.940384556,170750.940384556,170750.940384556,170750.940384556,170750.940384556,170750.940384556,170750.940384556,170750.940384556,170750.940384556,170750.940384556,170750.940384556,170750.940384556,170750.940384556,170750.940384556,170750.940384556,170750.940384556,170750.940384556,170750.940384556,170750.940384556,170750.940384556,170750.940384556,170750.940384556,170750.940384556,170750.940384556,170750.940384556,170750.940384556,170750.940384556,170750.940384556,170750.940384556,170750.940384556,170750.940384556,170750.940384556,170750.940384556,170750.940384556,170750.940384556,170750.940384556,170750.940384556,170750.940384556,170750.940384556,170750.940384556,170750.940384556,170750.940384556,170750.940384556,170750.940384556,170750.940384556,170750.940384556,170750.940384556,170750.940384556,170750.940384556,170750.940384556,170750.940384556,170750.940384556,170750.940384556,170750.940384556,170750.940384556,170750.940384556,170750.940384556,170750.940384556,170750.940384556,170750.940384556,170750.940384556,170750.940384556,170750.940384556,170750.940384556,170750.940384556,170750.940384556,170750.940384556,170750.940384556,170750.940384556,170750.940384556,170750.940384556,170750.940384556,170750.940384556,174185.73279326866,174185.73279326866,174185.73279326866,174185.73279326866,174185.73279326866,174185.73279326866,174185.73279326866,174185.73279326866,174185.73279326866,191359.6948368321,191359.6948368321,191359.6948368321,191359.6948368321,191359.6948368321,191359.6948368321,191359.6948368321,191359.6948368321,191359.6948368321,191359.6948368321,191359.6948368321,191359.6948368321,191359.6948368321,191359.6948368321,191359.6948368321,191359.6948368321,191359.6948368321],\"yaxis\":\"y\",\"type\":\"scattergl\"},{\"hovertemplate\":\"Size=125.5<br>Rating=%{x}<br>Salary=%{y}<extra></extra>\",\"legendgroup\":\"125.5\",\"marker\":{\"color\":\"#EF553B\",\"symbol\":\"circle\",\"size\":10},\"mode\":\"markers\",\"name\":\"125.5\",\"showlegend\":true,\"x\":[4.7,4.1,3.4,3.9,4.9,3.4,4.1,3.4,4.5,3.4,3.4,3.4,3.4,3.4,3.4,3.4,3.9,3.9,3.9,3.9,3.4,3.4,3.4,3.4,3.4,3.9,3.4,3.9,3.4,3.4,3.4,3.4,3.9,3.9,3.4,3.9,3.9,3.4,4.7,3.9,3.4,3.9,4.4,4.1,3.9,4.1,3.9,3.9,4.4,4.1,4.0,4.4,4.1,4.0,4.4,4.0,4.4,4.4,4.4,4.4,4.0],\"xaxis\":\"x\",\"y\":[115000.0,110400.0,150000.0,144000.0,150000.0,150000.0,115200.0,150000.0,120000.0,150000.0,150000.0,150000.0,150000.0,150000.0,150000.0,150000.0,144000.0,144000.0,144000.0,144000.0,150000.0,150000.0,150000.0,150000.0,150000.0,107500.0,150000.0,107500.0,150000.0,150000.0,150000.0,150000.0,144000.0,107500.0,150000.0,144000.0,107500.0,150000.0,115000.0,144000.0,150000.0,144000.0,104102.4,110400.0,144000.0,115200.0,107500.0,107500.0,104102.4,115200.0,150000.0,104102.4,115200.0,150000.0,104102.4,150000.0,104102.4,104102.4,104102.4,104102.4,72960.0],\"yaxis\":\"y\",\"type\":\"scattergl\"},{\"hovertemplate\":\"<b>OLS trendline</b><br>Salary = -33806.2 * Rating + 262682<br>R<sup>2</sup>=0.458841<br><br>Size=125.5<br>Rating=%{x}<br>Salary=%{y} <b>(trend)</b><extra></extra>\",\"legendgroup\":\"125.5\",\"marker\":{\"color\":\"#EF553B\",\"symbol\":\"circle\",\"size\":10},\"mode\":\"lines\",\"name\":\"125.5\",\"showlegend\":false,\"x\":[3.4,3.4,3.4,3.4,3.4,3.4,3.4,3.4,3.4,3.4,3.4,3.4,3.4,3.4,3.4,3.4,3.4,3.4,3.4,3.4,3.4,3.4,3.4,3.9,3.9,3.9,3.9,3.9,3.9,3.9,3.9,3.9,3.9,3.9,3.9,3.9,3.9,3.9,3.9,4.0,4.0,4.0,4.0,4.1,4.1,4.1,4.1,4.1,4.1,4.4,4.4,4.4,4.4,4.4,4.4,4.4,4.4,4.5,4.7,4.7,4.9],\"xaxis\":\"x\",\"y\":[147740.85966624197,147740.85966624197,147740.85966624197,147740.85966624197,147740.85966624197,147740.85966624197,147740.85966624197,147740.85966624197,147740.85966624197,147740.85966624197,147740.85966624197,147740.85966624197,147740.85966624197,147740.85966624197,147740.85966624197,147740.85966624197,147740.85966624197,147740.85966624197,147740.85966624197,147740.85966624197,147740.85966624197,147740.85966624197,147740.85966624197,130837.74384536504,130837.74384536504,130837.74384536504,130837.74384536504,130837.74384536504,130837.74384536504,130837.74384536504,130837.74384536504,130837.74384536504,130837.74384536504,130837.74384536504,130837.74384536504,130837.74384536504,130837.74384536504,130837.74384536504,130837.74384536504,127457.12068118964,127457.12068118964,127457.12068118964,127457.12068118964,124076.49751701427,124076.49751701427,124076.49751701427,124076.49751701427,124076.49751701427,124076.49751701427,113934.62802448808,113934.62802448808,113934.62802448808,113934.62802448808,113934.62802448808,113934.62802448808,113934.62802448808,113934.62802448808,110554.00486031268,103792.75853196191,103792.75853196191,97031.51220361111],\"yaxis\":\"y\",\"type\":\"scattergl\"},{\"hovertemplate\":\"Size=350.5<br>Rating=%{x}<br>Salary=%{y}<extra></extra>\",\"legendgroup\":\"350.5\",\"marker\":{\"color\":\"#00cc96\",\"symbol\":\"circle\",\"size\":10},\"mode\":\"markers\",\"name\":\"350.5\",\"showlegend\":true,\"x\":[3.8,3.8,3.3,4.1,3.8,4.1,3.8,3.8,3.8,3.8,3.3,3.8,3.8,3.3,3.8,3.8,3.3,3.8,3.8,3.3,3.8,3.8,3.3,3.8,3.8,3.3,3.8,3.3,3.8,3.8,3.3,3.3,3.3,4.1,3.3,3.8,3.3,3.8,3.3,3.8,3.3,3.8,3.3,3.8,3.3,3.8,3.3,3.8,3.3,3.8,3.3,3.8,3.3,3.8,3.3,3.8,3.3,3.8,3.3,3.3,4.0,4.1,4.1,4.1,4.1,4.1,4.1,4.1,4.1,4.1,4.1,4.1,4.1,3.3,3.3,3.3,3.3,3.3,3.3,3.3,3.3,3.3,3.3,3.3,3.3,3.3,2.6],\"xaxis\":\"x\",\"y\":[129770.0,120000.0,100000.0,140000.0,120000.0,165000.0,120000.0,120000.0,129770.0,120000.0,100000.0,129770.0,120000.0,100000.0,129770.0,120000.0,100000.0,129770.0,120000.0,100000.0,129770.0,120000.0,100000.0,129770.0,120000.0,100000.0,120000.0,100000.0,129770.0,120000.0,100000.0,100000.0,100000.0,135000.0,100000.0,129770.0,100000.0,129770.0,100000.0,129770.0,100000.0,129770.0,100000.0,129770.0,100000.0,129770.0,100000.0,129770.0,100000.0,129770.0,100000.0,129770.0,100000.0,129770.0,100000.0,129770.0,100000.0,129770.0,100000.0,100000.0,130000.0,165000.0,140000.0,165000.0,165000.0,140000.0,140000.0,165000.0,140000.0,165000.0,140000.0,165000.0,140000.0,100000.0,100000.0,100000.0,100000.0,100000.0,100000.0,100000.0,100000.0,100000.0,100000.0,100000.0,100000.0,100000.0,145000.0],\"yaxis\":\"y\",\"type\":\"scattergl\"},{\"hovertemplate\":\"<b>OLS trendline</b><br>Salary = 50413.5 * Rating + -63274.5<br>R<sup>2</sup>=0.694950<br><br>Size=350.5<br>Rating=%{x}<br>Salary=%{y} <b>(trend)</b><extra></extra>\",\"legendgroup\":\"350.5\",\"marker\":{\"color\":\"#00cc96\",\"symbol\":\"circle\",\"size\":10},\"mode\":\"lines\",\"name\":\"350.5\",\"showlegend\":false,\"x\":[2.6,3.3,3.3,3.3,3.3,3.3,3.3,3.3,3.3,3.3,3.3,3.3,3.3,3.3,3.3,3.3,3.3,3.3,3.3,3.3,3.3,3.3,3.3,3.3,3.3,3.3,3.3,3.3,3.3,3.3,3.3,3.3,3.3,3.3,3.3,3.3,3.3,3.3,3.3,3.8,3.8,3.8,3.8,3.8,3.8,3.8,3.8,3.8,3.8,3.8,3.8,3.8,3.8,3.8,3.8,3.8,3.8,3.8,3.8,3.8,3.8,3.8,3.8,3.8,3.8,3.8,3.8,3.8,3.8,3.8,3.8,4.0,4.1,4.1,4.1,4.1,4.1,4.1,4.1,4.1,4.1,4.1,4.1,4.1,4.1,4.1,4.1],\"xaxis\":\"x\",\"y\":[67800.48530860341,103089.91663263098,103089.91663263098,103089.91663263098,103089.91663263098,103089.91663263098,103089.91663263098,103089.91663263098,103089.91663263098,103089.91663263098,103089.91663263098,103089.91663263098,103089.91663263098,103089.91663263098,103089.91663263098,103089.91663263098,103089.91663263098,103089.91663263098,103089.91663263098,103089.91663263098,103089.91663263098,103089.91663263098,103089.91663263098,103089.91663263098,103089.91663263098,103089.91663263098,103089.91663263098,103089.91663263098,103089.91663263098,103089.91663263098,103089.91663263098,103089.91663263098,103089.91663263098,103089.91663263098,103089.91663263098,103089.91663263098,103089.91663263098,103089.91663263098,103089.91663263098,128296.65329265065,128296.65329265065,128296.65329265065,128296.65329265065,128296.65329265065,128296.65329265065,128296.65329265065,128296.65329265065,128296.65329265065,128296.65329265065,128296.65329265065,128296.65329265065,128296.65329265065,128296.65329265065,128296.65329265065,128296.65329265065,128296.65329265065,128296.65329265065,128296.65329265065,128296.65329265065,128296.65329265065,128296.65329265065,128296.65329265065,128296.65329265065,128296.65329265065,128296.65329265065,128296.65329265065,128296.65329265065,128296.65329265065,128296.65329265065,128296.65329265065,128296.65329265065,138379.34795665854,143420.69528866248,143420.69528866248,143420.69528866248,143420.69528866248,143420.69528866248,143420.69528866248,143420.69528866248,143420.69528866248,143420.69528866248,143420.69528866248,143420.69528866248,143420.69528866248,143420.69528866248,143420.69528866248,143420.69528866248],\"yaxis\":\"y\",\"type\":\"scattergl\"},{\"hovertemplate\":\"Size=NoSize<br>Rating=%{x}<br>Salary=%{y}<extra></extra>\",\"legendgroup\":\"NoSize\",\"marker\":{\"color\":\"#ab63fa\",\"symbol\":\"circle\",\"size\":10},\"mode\":\"markers\",\"name\":\"NoSize\",\"showlegend\":true,\"x\":[4.0,3.5,4.0,3.5,3.5,3.5,3.5,3.5,3.5,3.5,3.5,3.5,3.5,3.5,3.5,3.5,3.5,3.5,3.5,3.5,3.5,3.5,3.5,3.5,3.5,3.5,3.5,3.5,3.5,3.5,3.5,3.5,3.5,3.5,3.5,3.5,3.5,3.5,3.5,3.5,3.5,3.5,4.0,4.0,4.0,4.0,4.0,4.0,4.0,4.0,4.0,4.0,4.0,4.0,4.0,4.0,4.0,4.0,4.0,4.0,4.0,4.0,4.0,4.0,4.0,4.0,4.0,4.0,4.0,4.0,4.0,4.0,4.0,4.0,4.0,4.0,4.0,4.0,4.0,4.0,4.0,4.0,4.0,4.0,4.0,4.0,4.0,4.0,4.0,4.0,4.0,4.0,4.0,4.0,4.0,4.0,4.0,4.0,4.0,4.0,4.0,4.0,4.0,4.0,4.0,4.0,4.0,4.0,4.0,4.0,4.0,4.0,4.0,4.0,4.0,4.0,4.0,4.0,4.0,4.0,4.0,4.0,4.0,4.0,4.0,4.0,4.0,4.0,4.0,4.0,4.0,4.0,4.0,4.0,4.0,4.0,4.0,4.0,4.0,4.0,4.0,4.0,4.0,4.0,4.0,4.0,4.0,4.0,4.0,4.0,4.0,4.0,4.0,4.0,4.0,4.0,4.0,4.0,4.0,4.0,4.0,4.0,4.0,4.0,4.0,4.0,4.0,4.0,4.0,4.0,4.0,4.0,4.0,4.0,4.0,4.0,4.0,4.0,4.0,4.0,4.0,4.0,4.0,4.0,4.0,4.0,4.0,4.0,4.0,4.0,4.0,4.0,4.0,4.0,4.0,4.0,4.0,4.0,4.0,4.0,4.0,4.0,4.0,4.0,4.0,4.0,4.0,4.0,4.0,4.0,4.0,4.0,4.0,4.0,4.0,4.0,4.0,4.0,4.0,4.0,4.0,4.0,4.0,4.0,4.0,4.0,4.0,4.0,4.0,4.0,4.0,4.0,4.0,4.0,4.0,4.0,4.0,4.0,4.0,4.0,4.0,4.0,4.0,4.0,4.0,4.0,4.0,4.0,4.0,4.0,4.0,4.0,4.0,4.0,4.0,4.0,4.0,4.0,4.0,4.0,4.0,4.0,4.0,4.0,4.0,4.0,4.0,4.0,4.0,4.0,4.0,4.0,4.0,4.0,4.0,4.0,4.0,4.0,4.0,4.0],\"xaxis\":\"x\",\"y\":[105000.0,101589.0,105000.0,101589.0,101589.0,101589.0,101589.0,101589.0,101589.0,101589.0,101589.0,101589.0,101589.0,101589.0,101589.0,101589.0,101589.0,101589.0,101589.0,101589.0,101589.0,101589.0,101589.0,101589.0,101589.0,101589.0,101589.0,101589.0,101589.0,101589.0,101589.0,101589.0,101589.0,101589.0,101589.0,101589.0,101589.0,101589.0,101589.0,101589.0,101589.0,101589.0,95000.0,202500.0,125000.0,125000.0,70000.0,100442.0,125000.0,145000.0,125000.0,125000.0,75319.0,115000.0,157500.0,80000.0,90000.0,157500.0,80000.0,90000.0,157500.0,80000.0,157500.0,157500.0,80000.0,157500.0,125000.0,145000.0,125000.0,125000.0,125000.0,145000.0,125000.0,125000.0,125000.0,145000.0,125000.0,125000.0,145000.0,125000.0,125000.0,125000.0,145000.0,125000.0,125000.0,125000.0,145000.0,125000.0,125000.0,115000.0,125000.0,145000.0,125000.0,125000.0,125000.0,125000.0,145000.0,115000.0,125000.0,125000.0,145000.0,125000.0,125000.0,145000.0,130000.0,125000.0,125000.0,145000.0,125000.0,125000.0,125000.0,145000.0,125000.0,145000.0,125000.0,130000.0,125000.0,145000.0,125000.0,130000.0,125000.0,145000.0,125000.0,125000.0,145000.0,125000.0,145000.0,125000.0,125000.0,125000.0,145000.0,125000.0,125000.0,90000.0,125000.0,125000.0,145000.0,130000.0,125000.0,90000.0,145000.0,130000.0,90000.0,100442.0,125000.0,125000.0,125000.0,145000.0,125000.0,90000.0,125000.0,100442.0,145000.0,125000.0,125000.0,125000.0,90000.0,125000.0,100442.0,145000.0,125000.0,125000.0,130000.0,125000.0,125000.0,90000.0,100442.0,145000.0,125000.0,125000.0,130000.0,76881.0,130000.0,182500.0,190000.0,208000.0,187000.0,125000.0,130000.0,208000.0,187000.0,125000.0,130000.0,208000.0,208000.0,137500.0,208000.0,125000.0,208000.0,208000.0,187000.0,208000.0,187000.0,208000.0,187000.0,182500.0,208000.0,187000.0,182500.0,187000.0,182500.0,208000.0,187000.0,182500.0,208000.0,187000.0,208000.0,187000.0,182500.0,208000.0,187000.0,182500.0,208000.0,145000.0,187000.0,125000.0,182500.0,208000.0,145000.0,187000.0,125000.0,182500.0,208000.0,145000.0,187000.0,125000.0,182500.0,208000.0,145000.0,187000.0,125000.0,182500.0,208000.0,145000.0,187000.0,125000.0,182500.0,208000.0,145000.0,187000.0,125000.0,182500.0,208000.0,145000.0,187000.0,125000.0,182500.0,208000.0,145000.0,187000.0,125000.0,182500.0,208000.0,145000.0,187000.0,125000.0,182500.0,208000.0,145000.0,187000.0,125000.0,182500.0,75319.0,208000.0,145000.0,187000.0,125000.0,182500.0,208000.0,145000.0,187000.0,125000.0,182500.0,75319.0,208000.0,145000.0,187000.0,125000.0,182500.0,75319.0],\"yaxis\":\"y\",\"type\":\"scattergl\"},{\"hovertemplate\":\"<b>OLS trendline</b><br>Salary = 88941.7 * Rating + -209707<br>R<sup>2</sup>=0.180310<br><br>Size=NoSize<br>Rating=%{x}<br>Salary=%{y} <b>(trend)</b><extra></extra>\",\"legendgroup\":\"NoSize\",\"marker\":{\"color\":\"#ab63fa\",\"symbol\":\"circle\",\"size\":10},\"mode\":\"lines\",\"name\":\"NoSize\",\"showlegend\":false,\"x\":[3.5,3.5,3.5,3.5,3.5,3.5,3.5,3.5,3.5,3.5,3.5,3.5,3.5,3.5,3.5,3.5,3.5,3.5,3.5,3.5,3.5,3.5,3.5,3.5,3.5,3.5,3.5,3.5,3.5,3.5,3.5,3.5,3.5,3.5,3.5,3.5,3.5,3.5,3.5,3.5,4.0,4.0,4.0,4.0,4.0,4.0,4.0,4.0,4.0,4.0,4.0,4.0,4.0,4.0,4.0,4.0,4.0,4.0,4.0,4.0,4.0,4.0,4.0,4.0,4.0,4.0,4.0,4.0,4.0,4.0,4.0,4.0,4.0,4.0,4.0,4.0,4.0,4.0,4.0,4.0,4.0,4.0,4.0,4.0,4.0,4.0,4.0,4.0,4.0,4.0,4.0,4.0,4.0,4.0,4.0,4.0,4.0,4.0,4.0,4.0,4.0,4.0,4.0,4.0,4.0,4.0,4.0,4.0,4.0,4.0,4.0,4.0,4.0,4.0,4.0,4.0,4.0,4.0,4.0,4.0,4.0,4.0,4.0,4.0,4.0,4.0,4.0,4.0,4.0,4.0,4.0,4.0,4.0,4.0,4.0,4.0,4.0,4.0,4.0,4.0,4.0,4.0,4.0,4.0,4.0,4.0,4.0,4.0,4.0,4.0,4.0,4.0,4.0,4.0,4.0,4.0,4.0,4.0,4.0,4.0,4.0,4.0,4.0,4.0,4.0,4.0,4.0,4.0,4.0,4.0,4.0,4.0,4.0,4.0,4.0,4.0,4.0,4.0,4.0,4.0,4.0,4.0,4.0,4.0,4.0,4.0,4.0,4.0,4.0,4.0,4.0,4.0,4.0,4.0,4.0,4.0,4.0,4.0,4.0,4.0,4.0,4.0,4.0,4.0,4.0,4.0,4.0,4.0,4.0,4.0,4.0,4.0,4.0,4.0,4.0,4.0,4.0,4.0,4.0,4.0,4.0,4.0,4.0,4.0,4.0,4.0,4.0,4.0,4.0,4.0,4.0,4.0,4.0,4.0,4.0,4.0,4.0,4.0,4.0,4.0,4.0,4.0,4.0,4.0,4.0,4.0,4.0,4.0,4.0,4.0,4.0,4.0,4.0,4.0,4.0,4.0,4.0,4.0,4.0,4.0,4.0,4.0,4.0,4.0,4.0,4.0,4.0,4.0,4.0,4.0,4.0,4.0,4.0,4.0,4.0,4.0,4.0,4.0,4.0,4.0],\"xaxis\":\"x\",\"y\":[101588.99999999983,101588.99999999983,101588.99999999983,101588.99999999983,101588.99999999983,101588.99999999983,101588.99999999983,101588.99999999983,101588.99999999983,101588.99999999983,101588.99999999983,101588.99999999983,101588.99999999983,101588.99999999983,101588.99999999983,101588.99999999983,101588.99999999983,101588.99999999983,101588.99999999983,101588.99999999983,101588.99999999983,101588.99999999983,101588.99999999983,101588.99999999983,101588.99999999983,101588.99999999983,101588.99999999983,101588.99999999983,101588.99999999983,101588.99999999983,101588.99999999983,101588.99999999983,101588.99999999983,101588.99999999983,101588.99999999983,101588.99999999983,101588.99999999983,101588.99999999983,101588.99999999983,101588.99999999983,146059.86249999987,146059.86249999987,146059.86249999987,146059.86249999987,146059.86249999987,146059.86249999987,146059.86249999987,146059.86249999987,146059.86249999987,146059.86249999987,146059.86249999987,146059.86249999987,146059.86249999987,146059.86249999987,146059.86249999987,146059.86249999987,146059.86249999987,146059.86249999987,146059.86249999987,146059.86249999987,146059.86249999987,146059.86249999987,146059.86249999987,146059.86249999987,146059.86249999987,146059.86249999987,146059.86249999987,146059.86249999987,146059.86249999987,146059.86249999987,146059.86249999987,146059.86249999987,146059.86249999987,146059.86249999987,146059.86249999987,146059.86249999987,146059.86249999987,146059.86249999987,146059.86249999987,146059.86249999987,146059.86249999987,146059.86249999987,146059.86249999987,146059.86249999987,146059.86249999987,146059.86249999987,146059.86249999987,146059.86249999987,146059.86249999987,146059.86249999987,146059.86249999987,146059.86249999987,146059.86249999987,146059.86249999987,146059.86249999987,146059.86249999987,146059.86249999987,146059.86249999987,146059.86249999987,146059.86249999987,146059.86249999987,146059.86249999987,146059.86249999987,146059.86249999987,146059.86249999987,146059.86249999987,146059.86249999987,146059.86249999987,146059.86249999987,146059.86249999987,146059.86249999987,146059.86249999987,146059.86249999987,146059.86249999987,146059.86249999987,146059.86249999987,146059.86249999987,146059.86249999987,146059.86249999987,146059.86249999987,146059.86249999987,146059.86249999987,146059.86249999987,146059.86249999987,146059.86249999987,146059.86249999987,146059.86249999987,146059.86249999987,146059.86249999987,146059.86249999987,146059.86249999987,146059.86249999987,146059.86249999987,146059.86249999987,146059.86249999987,146059.86249999987,146059.86249999987,146059.86249999987,146059.86249999987,146059.86249999987,146059.86249999987,146059.86249999987,146059.86249999987,146059.86249999987,146059.86249999987,146059.86249999987,146059.86249999987,146059.86249999987,146059.86249999987,146059.86249999987,146059.86249999987,146059.86249999987,146059.86249999987,146059.86249999987,146059.86249999987,146059.86249999987,146059.86249999987,146059.86249999987,146059.86249999987,146059.86249999987,146059.86249999987,146059.86249999987,146059.86249999987,146059.86249999987,146059.86249999987,146059.86249999987,146059.86249999987,146059.86249999987,146059.86249999987,146059.86249999987,146059.86249999987,146059.86249999987,146059.86249999987,146059.86249999987,146059.86249999987,146059.86249999987,146059.86249999987,146059.86249999987,146059.86249999987,146059.86249999987,146059.86249999987,146059.86249999987,146059.86249999987,146059.86249999987,146059.86249999987,146059.86249999987,146059.86249999987,146059.86249999987,146059.86249999987,146059.86249999987,146059.86249999987,146059.86249999987,146059.86249999987,146059.86249999987,146059.86249999987,146059.86249999987,146059.86249999987,146059.86249999987,146059.86249999987,146059.86249999987,146059.86249999987,146059.86249999987,146059.86249999987,146059.86249999987,146059.86249999987,146059.86249999987,146059.86249999987,146059.86249999987,146059.86249999987,146059.86249999987,146059.86249999987,146059.86249999987,146059.86249999987,146059.86249999987,146059.86249999987,146059.86249999987,146059.86249999987,146059.86249999987,146059.86249999987,146059.86249999987,146059.86249999987,146059.86249999987,146059.86249999987,146059.86249999987,146059.86249999987,146059.86249999987,146059.86249999987,146059.86249999987,146059.86249999987,146059.86249999987,146059.86249999987,146059.86249999987,146059.86249999987,146059.86249999987,146059.86249999987,146059.86249999987,146059.86249999987,146059.86249999987,146059.86249999987,146059.86249999987,146059.86249999987,146059.86249999987,146059.86249999987,146059.86249999987,146059.86249999987,146059.86249999987,146059.86249999987,146059.86249999987,146059.86249999987,146059.86249999987,146059.86249999987,146059.86249999987,146059.86249999987,146059.86249999987,146059.86249999987,146059.86249999987,146059.86249999987,146059.86249999987,146059.86249999987,146059.86249999987,146059.86249999987,146059.86249999987,146059.86249999987,146059.86249999987,146059.86249999987,146059.86249999987,146059.86249999987,146059.86249999987,146059.86249999987,146059.86249999987,146059.86249999987,146059.86249999987,146059.86249999987,146059.86249999987,146059.86249999987,146059.86249999987,146059.86249999987,146059.86249999987,146059.86249999987,146059.86249999987],\"yaxis\":\"y\",\"type\":\"scattergl\"},{\"hovertemplate\":\"Size=750.5<br>Rating=%{x}<br>Salary=%{y}<extra></extra>\",\"legendgroup\":\"750.5\",\"marker\":{\"color\":\"#FFA15A\",\"symbol\":\"circle\",\"size\":10},\"mode\":\"markers\",\"name\":\"750.5\",\"showlegend\":true,\"x\":[3.7,4.0,3.8,3.7,3.7,3.7,3.7,3.7,3.8,3.7,3.8,3.7,3.7,3.8,3.8,3.7,3.8,3.8,3.8,3.8,4.0,4.0,4.0,4.0,4.0,4.0,4.0,4.0],\"xaxis\":\"x\",\"y\":[104000.0,163200.0,125000.0,104000.0,104000.0,104000.0,104000.0,104000.0,125000.0,104000.0,125000.0,104000.0,104000.0,125000.0,125000.0,104000.0,125000.0,125000.0,125000.0,125000.0,105600.0,163200.0,163200.0,105600.0,105600.0,163200.0,105600.0,105600.0],\"yaxis\":\"y\",\"type\":\"scattergl\"},{\"hovertemplate\":\"<b>OLS trendline</b><br>Salary = 83647.1 * Rating + -200756<br>R<sup>2</sup>=0.271164<br><br>Size=750.5<br>Rating=%{x}<br>Salary=%{y} <b>(trend)</b><extra></extra>\",\"legendgroup\":\"750.5\",\"marker\":{\"color\":\"#FFA15A\",\"symbol\":\"circle\",\"size\":10},\"mode\":\"lines\",\"name\":\"750.5\",\"showlegend\":false,\"x\":[3.7,3.7,3.7,3.7,3.7,3.7,3.7,3.7,3.7,3.7,3.8,3.8,3.8,3.8,3.8,3.8,3.8,3.8,3.8,4.0,4.0,4.0,4.0,4.0,4.0,4.0,4.0,4.0],\"xaxis\":\"x\",\"y\":[108738.23529411727,108738.23529411727,108738.23529411727,108738.23529411727,108738.23529411727,108738.23529411727,108738.23529411727,108738.23529411727,108738.23529411727,108738.23529411727,117102.94117647017,117102.94117647017,117102.94117647017,117102.94117647017,117102.94117647017,117102.94117647017,117102.94117647017,117102.94117647017,117102.94117647017,133832.35294117607,133832.35294117607,133832.35294117607,133832.35294117607,133832.35294117607,133832.35294117607,133832.35294117607,133832.35294117607,133832.35294117607],\"yaxis\":\"y\",\"type\":\"scattergl\"},{\"hovertemplate\":\"Size=7500.5<br>Rating=%{x}<br>Salary=%{y}<extra></extra>\",\"legendgroup\":\"7500.5\",\"marker\":{\"color\":\"#19d3f3\",\"symbol\":\"circle\",\"size\":10},\"mode\":\"markers\",\"name\":\"7500.5\",\"showlegend\":true,\"x\":[3.4],\"xaxis\":\"x\",\"y\":[74880.0],\"yaxis\":\"y\",\"type\":\"scattergl\"},{\"hovertemplate\":\"Size=7500.5<extra></extra>\",\"legendgroup\":\"7500.5\",\"marker\":{\"color\":\"#19d3f3\",\"symbol\":\"circle\",\"size\":10},\"mode\":\"lines\",\"name\":\"7500.5\",\"showlegend\":false,\"xaxis\":\"x\",\"yaxis\":\"y\",\"type\":\"scattergl\"}],                        {\"template\":{\"data\":{\"bar\":[{\"error_x\":{\"color\":\"#2a3f5f\"},\"error_y\":{\"color\":\"#2a3f5f\"},\"marker\":{\"line\":{\"color\":\"#E5ECF6\",\"width\":0.5},\"pattern\":{\"fillmode\":\"overlay\",\"size\":10,\"solidity\":0.2}},\"type\":\"bar\"}],\"barpolar\":[{\"marker\":{\"line\":{\"color\":\"#E5ECF6\",\"width\":0.5},\"pattern\":{\"fillmode\":\"overlay\",\"size\":10,\"solidity\":0.2}},\"type\":\"barpolar\"}],\"carpet\":[{\"aaxis\":{\"endlinecolor\":\"#2a3f5f\",\"gridcolor\":\"white\",\"linecolor\":\"white\",\"minorgridcolor\":\"white\",\"startlinecolor\":\"#2a3f5f\"},\"baxis\":{\"endlinecolor\":\"#2a3f5f\",\"gridcolor\":\"white\",\"linecolor\":\"white\",\"minorgridcolor\":\"white\",\"startlinecolor\":\"#2a3f5f\"},\"type\":\"carpet\"}],\"choropleth\":[{\"colorbar\":{\"outlinewidth\":0,\"ticks\":\"\"},\"type\":\"choropleth\"}],\"contour\":[{\"colorbar\":{\"outlinewidth\":0,\"ticks\":\"\"},\"colorscale\":[[0.0,\"#0d0887\"],[0.1111111111111111,\"#46039f\"],[0.2222222222222222,\"#7201a8\"],[0.3333333333333333,\"#9c179e\"],[0.4444444444444444,\"#bd3786\"],[0.5555555555555556,\"#d8576b\"],[0.6666666666666666,\"#ed7953\"],[0.7777777777777778,\"#fb9f3a\"],[0.8888888888888888,\"#fdca26\"],[1.0,\"#f0f921\"]],\"type\":\"contour\"}],\"contourcarpet\":[{\"colorbar\":{\"outlinewidth\":0,\"ticks\":\"\"},\"type\":\"contourcarpet\"}],\"heatmap\":[{\"colorbar\":{\"outlinewidth\":0,\"ticks\":\"\"},\"colorscale\":[[0.0,\"#0d0887\"],[0.1111111111111111,\"#46039f\"],[0.2222222222222222,\"#7201a8\"],[0.3333333333333333,\"#9c179e\"],[0.4444444444444444,\"#bd3786\"],[0.5555555555555556,\"#d8576b\"],[0.6666666666666666,\"#ed7953\"],[0.7777777777777778,\"#fb9f3a\"],[0.8888888888888888,\"#fdca26\"],[1.0,\"#f0f921\"]],\"type\":\"heatmap\"}],\"heatmapgl\":[{\"colorbar\":{\"outlinewidth\":0,\"ticks\":\"\"},\"colorscale\":[[0.0,\"#0d0887\"],[0.1111111111111111,\"#46039f\"],[0.2222222222222222,\"#7201a8\"],[0.3333333333333333,\"#9c179e\"],[0.4444444444444444,\"#bd3786\"],[0.5555555555555556,\"#d8576b\"],[0.6666666666666666,\"#ed7953\"],[0.7777777777777778,\"#fb9f3a\"],[0.8888888888888888,\"#fdca26\"],[1.0,\"#f0f921\"]],\"type\":\"heatmapgl\"}],\"histogram\":[{\"marker\":{\"pattern\":{\"fillmode\":\"overlay\",\"size\":10,\"solidity\":0.2}},\"type\":\"histogram\"}],\"histogram2d\":[{\"colorbar\":{\"outlinewidth\":0,\"ticks\":\"\"},\"colorscale\":[[0.0,\"#0d0887\"],[0.1111111111111111,\"#46039f\"],[0.2222222222222222,\"#7201a8\"],[0.3333333333333333,\"#9c179e\"],[0.4444444444444444,\"#bd3786\"],[0.5555555555555556,\"#d8576b\"],[0.6666666666666666,\"#ed7953\"],[0.7777777777777778,\"#fb9f3a\"],[0.8888888888888888,\"#fdca26\"],[1.0,\"#f0f921\"]],\"type\":\"histogram2d\"}],\"histogram2dcontour\":[{\"colorbar\":{\"outlinewidth\":0,\"ticks\":\"\"},\"colorscale\":[[0.0,\"#0d0887\"],[0.1111111111111111,\"#46039f\"],[0.2222222222222222,\"#7201a8\"],[0.3333333333333333,\"#9c179e\"],[0.4444444444444444,\"#bd3786\"],[0.5555555555555556,\"#d8576b\"],[0.6666666666666666,\"#ed7953\"],[0.7777777777777778,\"#fb9f3a\"],[0.8888888888888888,\"#fdca26\"],[1.0,\"#f0f921\"]],\"type\":\"histogram2dcontour\"}],\"mesh3d\":[{\"colorbar\":{\"outlinewidth\":0,\"ticks\":\"\"},\"type\":\"mesh3d\"}],\"parcoords\":[{\"line\":{\"colorbar\":{\"outlinewidth\":0,\"ticks\":\"\"}},\"type\":\"parcoords\"}],\"pie\":[{\"automargin\":true,\"type\":\"pie\"}],\"scatter\":[{\"marker\":{\"colorbar\":{\"outlinewidth\":0,\"ticks\":\"\"}},\"type\":\"scatter\"}],\"scatter3d\":[{\"line\":{\"colorbar\":{\"outlinewidth\":0,\"ticks\":\"\"}},\"marker\":{\"colorbar\":{\"outlinewidth\":0,\"ticks\":\"\"}},\"type\":\"scatter3d\"}],\"scattercarpet\":[{\"marker\":{\"colorbar\":{\"outlinewidth\":0,\"ticks\":\"\"}},\"type\":\"scattercarpet\"}],\"scattergeo\":[{\"marker\":{\"colorbar\":{\"outlinewidth\":0,\"ticks\":\"\"}},\"type\":\"scattergeo\"}],\"scattergl\":[{\"marker\":{\"colorbar\":{\"outlinewidth\":0,\"ticks\":\"\"}},\"type\":\"scattergl\"}],\"scattermapbox\":[{\"marker\":{\"colorbar\":{\"outlinewidth\":0,\"ticks\":\"\"}},\"type\":\"scattermapbox\"}],\"scatterpolar\":[{\"marker\":{\"colorbar\":{\"outlinewidth\":0,\"ticks\":\"\"}},\"type\":\"scatterpolar\"}],\"scatterpolargl\":[{\"marker\":{\"colorbar\":{\"outlinewidth\":0,\"ticks\":\"\"}},\"type\":\"scatterpolargl\"}],\"scatterternary\":[{\"marker\":{\"colorbar\":{\"outlinewidth\":0,\"ticks\":\"\"}},\"type\":\"scatterternary\"}],\"surface\":[{\"colorbar\":{\"outlinewidth\":0,\"ticks\":\"\"},\"colorscale\":[[0.0,\"#0d0887\"],[0.1111111111111111,\"#46039f\"],[0.2222222222222222,\"#7201a8\"],[0.3333333333333333,\"#9c179e\"],[0.4444444444444444,\"#bd3786\"],[0.5555555555555556,\"#d8576b\"],[0.6666666666666666,\"#ed7953\"],[0.7777777777777778,\"#fb9f3a\"],[0.8888888888888888,\"#fdca26\"],[1.0,\"#f0f921\"]],\"type\":\"surface\"}],\"table\":[{\"cells\":{\"fill\":{\"color\":\"#EBF0F8\"},\"line\":{\"color\":\"white\"}},\"header\":{\"fill\":{\"color\":\"#C8D4E3\"},\"line\":{\"color\":\"white\"}},\"type\":\"table\"}]},\"layout\":{\"annotationdefaults\":{\"arrowcolor\":\"#2a3f5f\",\"arrowhead\":0,\"arrowwidth\":1},\"autotypenumbers\":\"strict\",\"coloraxis\":{\"colorbar\":{\"outlinewidth\":0,\"ticks\":\"\"}},\"colorscale\":{\"diverging\":[[0,\"#8e0152\"],[0.1,\"#c51b7d\"],[0.2,\"#de77ae\"],[0.3,\"#f1b6da\"],[0.4,\"#fde0ef\"],[0.5,\"#f7f7f7\"],[0.6,\"#e6f5d0\"],[0.7,\"#b8e186\"],[0.8,\"#7fbc41\"],[0.9,\"#4d9221\"],[1,\"#276419\"]],\"sequential\":[[0.0,\"#0d0887\"],[0.1111111111111111,\"#46039f\"],[0.2222222222222222,\"#7201a8\"],[0.3333333333333333,\"#9c179e\"],[0.4444444444444444,\"#bd3786\"],[0.5555555555555556,\"#d8576b\"],[0.6666666666666666,\"#ed7953\"],[0.7777777777777778,\"#fb9f3a\"],[0.8888888888888888,\"#fdca26\"],[1.0,\"#f0f921\"]],\"sequentialminus\":[[0.0,\"#0d0887\"],[0.1111111111111111,\"#46039f\"],[0.2222222222222222,\"#7201a8\"],[0.3333333333333333,\"#9c179e\"],[0.4444444444444444,\"#bd3786\"],[0.5555555555555556,\"#d8576b\"],[0.6666666666666666,\"#ed7953\"],[0.7777777777777778,\"#fb9f3a\"],[0.8888888888888888,\"#fdca26\"],[1.0,\"#f0f921\"]]},\"colorway\":[\"#636efa\",\"#EF553B\",\"#00cc96\",\"#ab63fa\",\"#FFA15A\",\"#19d3f3\",\"#FF6692\",\"#B6E880\",\"#FF97FF\",\"#FECB52\"],\"font\":{\"color\":\"#2a3f5f\"},\"geo\":{\"bgcolor\":\"white\",\"lakecolor\":\"white\",\"landcolor\":\"#E5ECF6\",\"showlakes\":true,\"showland\":true,\"subunitcolor\":\"white\"},\"hoverlabel\":{\"align\":\"left\"},\"hovermode\":\"closest\",\"mapbox\":{\"style\":\"light\"},\"paper_bgcolor\":\"white\",\"plot_bgcolor\":\"#E5ECF6\",\"polar\":{\"angularaxis\":{\"gridcolor\":\"white\",\"linecolor\":\"white\",\"ticks\":\"\"},\"bgcolor\":\"#E5ECF6\",\"radialaxis\":{\"gridcolor\":\"white\",\"linecolor\":\"white\",\"ticks\":\"\"}},\"scene\":{\"xaxis\":{\"backgroundcolor\":\"#E5ECF6\",\"gridcolor\":\"white\",\"gridwidth\":2,\"linecolor\":\"white\",\"showbackground\":true,\"ticks\":\"\",\"zerolinecolor\":\"white\"},\"yaxis\":{\"backgroundcolor\":\"#E5ECF6\",\"gridcolor\":\"white\",\"gridwidth\":2,\"linecolor\":\"white\",\"showbackground\":true,\"ticks\":\"\",\"zerolinecolor\":\"white\"},\"zaxis\":{\"backgroundcolor\":\"#E5ECF6\",\"gridcolor\":\"white\",\"gridwidth\":2,\"linecolor\":\"white\",\"showbackground\":true,\"ticks\":\"\",\"zerolinecolor\":\"white\"}},\"shapedefaults\":{\"line\":{\"color\":\"#2a3f5f\"}},\"ternary\":{\"aaxis\":{\"gridcolor\":\"white\",\"linecolor\":\"white\",\"ticks\":\"\"},\"baxis\":{\"gridcolor\":\"white\",\"linecolor\":\"white\",\"ticks\":\"\"},\"bgcolor\":\"#E5ECF6\",\"caxis\":{\"gridcolor\":\"white\",\"linecolor\":\"white\",\"ticks\":\"\"}},\"title\":{\"x\":0.05},\"xaxis\":{\"automargin\":true,\"gridcolor\":\"white\",\"linecolor\":\"white\",\"ticks\":\"\",\"title\":{\"standoff\":15},\"zerolinecolor\":\"white\",\"zerolinewidth\":2},\"yaxis\":{\"automargin\":true,\"gridcolor\":\"white\",\"linecolor\":\"white\",\"ticks\":\"\",\"title\":{\"standoff\":15},\"zerolinecolor\":\"white\",\"zerolinewidth\":2}}},\"xaxis\":{\"anchor\":\"y\",\"domain\":[0.0,1.0],\"title\":{\"text\":\"Rating\"}},\"yaxis\":{\"anchor\":\"x\",\"domain\":[0.0,1.0],\"title\":{\"text\":\"Salary\"}},\"legend\":{\"title\":{\"text\":\"Size\"},\"tracegroupgap\":0},\"margin\":{\"t\":60}},                        {\"responsive\": true}                    ).then(function(){\n",
       "                            \n",
       "var gd = document.getElementById('e8cf960b-298b-4296-9932-a6b88c5d844b');\n",
       "var x = new MutationObserver(function (mutations, observer) {{\n",
       "        var display = window.getComputedStyle(gd).display;\n",
       "        if (!display || display === 'none') {{\n",
       "            console.log([gd, 'removed!']);\n",
       "            Plotly.purge(gd);\n",
       "            observer.disconnect();\n",
       "        }}\n",
       "}});\n",
       "\n",
       "// Listen for the removal of the full notebook cells\n",
       "var notebookContainer = gd.closest('#notebook-container');\n",
       "if (notebookContainer) {{\n",
       "    x.observe(notebookContainer, {childList: true});\n",
       "}}\n",
       "\n",
       "// Listen for the clearing of the current output cell\n",
       "var outputEl = gd.closest('.output');\n",
       "if (outputEl) {{\n",
       "    x.observe(outputEl, {childList: true});\n",
       "}}\n",
       "\n",
       "                        })                };                });            </script>        </div>"
      ]
     },
     "metadata": {},
     "output_type": "display_data"
    }
   ],
   "source": [
    "fig = px.scatter(df, y=\"Salary\", x=\"Rating\", color=\"Size\",trendline=\"ols\")\n",
    "fig.update_traces(marker_size=10)\n",
    "fig.show()\n",
    "dp.Report(\n",
    "   dp.Plot(fig5)\n",
    ").upload(name=\"Ds_Plot3_ByKuan\")"
   ]
  },
  {
   "cell_type": "code",
   "execution_count": 350,
   "id": "8ec72db5",
   "metadata": {},
   "outputs": [],
   "source": [
    "def Revenue(x):\n",
    "    if x == '$25 to $50 million (USD)':\n",
    "        return 37.5 #median\n",
    "    elif x == '$10+ billion (USD)':\n",
    "        return 10000\n",
    "    elif x == '$100 to $500 million (USD)':\n",
    "        return 300\n",
    "    elif x == '$5 to $10 billion (USD)':\n",
    "        return 7500\n",
    "    elif x == '$2 to $5 billion (USD)':\n",
    "        return 3500\n",
    "    elif x == '$50 to $100 million (USD)':\n",
    "        return 75\n",
    "    elif x == '$10 to $25 million (USD)':\n",
    "        return 17.5\n",
    "    elif x == '$5 to $10 million (USD)':\n",
    "        return 7.5\n",
    "    elif x == '$500 million to $1 billion (USD)':\n",
    "        return 5250\n",
    "    elif x == '$1 to $5 million (USD)':\n",
    "        return 30000\n",
    "    else:\n",
    "        return np.nan\n",
    "    \n",
    "df['Revenue'] = df['Revenue'].apply(lambda x: Revenue(x))\n",
    "df['Revenue'].fillna(df['Revenue'].median(),inplace=True)"
   ]
  },
  {
   "cell_type": "code",
   "execution_count": 333,
   "id": "8f022a53",
   "metadata": {},
   "outputs": [
    {
     "data": {
      "application/vnd.plotly.v1+json": {
       "config": {
        "plotlyServerURL": "https://plot.ly"
       },
       "data": [
        {
         "hovertemplate": "Industry=Grantmaking Foundations<br>X=Job1<br>Rating=%{x}<br>Salary=%{y}<extra></extra>",
         "legendgroup": "Grantmaking Foundations",
         "marker": {
          "color": "#636efa",
          "symbol": "circle"
         },
         "mode": "markers",
         "name": "Grantmaking Foundations",
         "showlegend": true,
         "type": "scattergl",
         "x": [
          4.5,
          4.5,
          4.5,
          4.5,
          4.5,
          4.5,
          4.5,
          4.5,
          4.5
         ],
         "xaxis": "x2",
         "y": [
          132500,
          132500,
          132500,
          132500,
          132500,
          132500,
          132500,
          132500,
          132500
         ],
         "yaxis": "y2"
        },
        {
         "hovertemplate": "Industry=Aerospace & Defense<br>X=Job1<br>Rating=%{x}<br>Salary=%{y}<extra></extra>",
         "legendgroup": "Aerospace & Defense",
         "marker": {
          "color": "#EF553B",
          "symbol": "circle"
         },
         "mode": "markers",
         "name": "Aerospace & Defense",
         "showlegend": true,
         "type": "scattergl",
         "x": [
          4,
          4,
          3.8,
          4,
          3.8,
          3.8,
          3.8,
          4,
          4,
          3.8,
          4,
          3.8,
          4,
          3.8,
          4,
          4,
          4,
          3.8,
          4,
          3.8,
          4,
          3.8,
          4,
          3.8,
          4,
          4,
          3.8,
          4,
          3.8,
          4,
          4,
          3.8,
          4,
          4,
          4,
          3.8,
          4,
          4,
          4,
          4,
          4,
          4,
          4,
          4,
          3.8,
          4,
          4,
          4,
          3.8,
          4,
          3.8,
          4,
          3.8,
          4,
          4,
          3.8,
          4,
          3.8,
          4,
          3.8,
          4,
          3.8,
          4,
          3.8,
          4,
          3.8,
          4,
          3.8,
          4,
          3.8,
          4,
          3.8,
          4,
          3.8,
          4,
          3.8,
          4,
          3.8,
          4,
          3.8,
          4,
          3.8,
          4,
          4,
          4,
          3.8,
          4,
          4,
          4,
          4
         ],
         "xaxis": "x2",
         "y": [
          120500,
          89200,
          158611,
          89200,
          158611,
          158611,
          158611,
          139500,
          172600,
          158611,
          172600,
          158611,
          172600,
          158611,
          120500,
          120500,
          172600,
          158611,
          172600,
          158611,
          172600,
          158611,
          172600,
          158611,
          103127,
          120500,
          178000,
          126800,
          178000,
          126800,
          157200,
          178000,
          126800,
          157200,
          120500,
          178000,
          126800,
          157200,
          157200,
          126800,
          157200,
          126800,
          126800,
          157200,
          178000,
          126800,
          126800,
          157200,
          178000,
          157200,
          178000,
          157200,
          178000,
          126800,
          157200,
          178000,
          157200,
          178000,
          157200,
          178000,
          157200,
          178000,
          157200,
          178000,
          157200,
          178000,
          157200,
          178000,
          157200,
          178000,
          157200,
          178000,
          157200,
          178000,
          157200,
          178000,
          157200,
          178000,
          157200,
          178000,
          157200,
          178000,
          103127,
          157200,
          103127,
          178000,
          157200,
          103127,
          157200,
          103127
         ],
         "yaxis": "y2"
        },
        {
         "hovertemplate": "Industry=Consulting<br>X=Job1<br>Rating=%{x}<br>Salary=%{y}<extra></extra>",
         "legendgroup": "Consulting",
         "marker": {
          "color": "#00cc96",
          "symbol": "circle"
         },
         "mode": "markers",
         "name": "Consulting",
         "showlegend": true,
         "type": "scattergl",
         "x": [
          4.7,
          3.4,
          3.4,
          3.4,
          3.4,
          3.4,
          3.4,
          3.4,
          3.4,
          3.4,
          3.4,
          3.4,
          3.4,
          3.4,
          3.4,
          3.4,
          3.4,
          3.4,
          3.4,
          3.4,
          3.4,
          3.4,
          3.4,
          4.7,
          3.4
         ],
         "xaxis": "x2",
         "y": [
          115000,
          150000,
          150000,
          150000,
          150000,
          150000,
          150000,
          150000,
          150000,
          150000,
          150000,
          150000,
          150000,
          150000,
          150000,
          150000,
          150000,
          150000,
          150000,
          150000,
          150000,
          150000,
          150000,
          115000,
          150000
         ],
         "yaxis": "y2"
        },
        {
         "hovertemplate": "Industry=Staffing & Outsourcing<br>X=Job1<br>Rating=%{x}<br>Salary=%{y}<extra></extra>",
         "legendgroup": "Staffing & Outsourcing",
         "marker": {
          "color": "#ab63fa",
          "symbol": "circle"
         },
         "mode": "markers",
         "name": "Staffing & Outsourcing",
         "showlegend": true,
         "type": "scattergl",
         "x": [
          3.8,
          4.1,
          4.1,
          3.9,
          4.1,
          4.9,
          5,
          3.9,
          4.3,
          3.9,
          4,
          3.8,
          4.5,
          3.8,
          3.8,
          3.8,
          3.8,
          3.8,
          3.8,
          3.8,
          3.9,
          5,
          3.9,
          3.9,
          5,
          5,
          4.1,
          3.9,
          3.8,
          3.8,
          3.8,
          3.8,
          3.8,
          3.8,
          3.9,
          3.8,
          3.8,
          3.9,
          3.8,
          3.8,
          3.8,
          3.8,
          3.8,
          3.9,
          3.8,
          3.9,
          3.9,
          3.8,
          3.9,
          3.8,
          3.8,
          3.9,
          3.8,
          3.8,
          3.9,
          3.8,
          4.4,
          5,
          4,
          4,
          4.1,
          4.1,
          4.1,
          3.5,
          5,
          4.3,
          4,
          3.9,
          3.9,
          4.1,
          3.5,
          3.9,
          5,
          5,
          4,
          3.9,
          3.9,
          5,
          5,
          4,
          3.9,
          4.3,
          3.9,
          4.1,
          4.4,
          4,
          4.1,
          4,
          3.9,
          5,
          4.3,
          4.4,
          4.1,
          4,
          3.9,
          4.1,
          5,
          4,
          4,
          5,
          5,
          4.4,
          4.1,
          4,
          4,
          4.1,
          4.4,
          5,
          4.1,
          4.4,
          4.4,
          5,
          4.4,
          4.1,
          4,
          4.1,
          5,
          4.3
         ],
         "xaxis": "x2",
         "y": [
          129770,
          140000,
          110400,
          144000,
          165000,
          150000,
          175000,
          190000,
          140000,
          117500,
          163200,
          125000,
          120000,
          129770,
          129770,
          129770,
          129770,
          129770,
          129770,
          129770,
          144000,
          155000,
          144000,
          144000,
          155000,
          155000,
          135000,
          144000,
          129770,
          129770,
          129770,
          129770,
          129770,
          125000,
          107500,
          129770,
          125000,
          107500,
          129770,
          129770,
          125000,
          125000,
          129770,
          144000,
          125000,
          107500,
          144000,
          129770,
          107500,
          125000,
          129770,
          144000,
          125000,
          129770,
          144000,
          125000,
          104102.4,
          155000,
          105600,
          130000,
          110400,
          165000,
          140000,
          110290,
          130000,
          140000,
          155000,
          144000,
          91852.8,
          165000,
          110290,
          107500,
          155000,
          175000,
          163200,
          146000,
          78720,
          155000,
          175000,
          163200,
          146000,
          120000,
          107500,
          165000,
          104102.4,
          105600,
          140000,
          150000,
          146000,
          175000,
          140000,
          104102.4,
          140000,
          105600,
          120000,
          165000,
          175000,
          150000,
          163200,
          155000,
          155000,
          104102.4,
          140000,
          105600,
          150000,
          165000,
          104102.4,
          155000,
          140000,
          104102.4,
          104102.4,
          155000,
          104102.4,
          165000,
          105600,
          140000,
          155000,
          140000
         ],
         "yaxis": "y2"
        },
        {
         "hovertemplate": "Industry=Investment Banking & Asset Management<br>X=Job1<br>Rating=%{x}<br>Salary=%{y}<extra></extra>",
         "legendgroup": "Investment Banking & Asset Management",
         "marker": {
          "color": "#FFA15A",
          "symbol": "circle"
         },
         "mode": "markers",
         "name": "Investment Banking & Asset Management",
         "showlegend": true,
         "type": "scattergl",
         "x": [
          4,
          4,
          4,
          4,
          4,
          4,
          4,
          4,
          4,
          4,
          4,
          4,
          4,
          4,
          4,
          4,
          4,
          4,
          4,
          4,
          4,
          4,
          4,
          4,
          4,
          4,
          4,
          4,
          4,
          4,
          4,
          4,
          4,
          4,
          4,
          4,
          4,
          4,
          4,
          4,
          4,
          4
         ],
         "xaxis": "x2",
         "y": [
          142910,
          142910,
          142910,
          142910,
          142910,
          142910,
          142910,
          142910,
          142910,
          142910,
          142910,
          142910,
          142910,
          102652,
          142910,
          142910,
          142910,
          142910,
          142910,
          142910,
          142910,
          142910,
          142910,
          142910,
          142910,
          142910,
          142910,
          142910,
          142910,
          142910,
          142910,
          142910,
          142910,
          142910,
          142910,
          142910,
          142910,
          142910,
          142910,
          142910,
          142910,
          142910
         ],
         "yaxis": "y2"
        },
        {
         "hovertemplate": "Industry=Internet<br>X=Job1<br>Rating=%{x}<br>Salary=%{y}<extra></extra>",
         "legendgroup": "Internet",
         "marker": {
          "color": "#19d3f3",
          "symbol": "circle"
         },
         "mode": "markers",
         "name": "Internet",
         "showlegend": true,
         "type": "scattergl",
         "x": [
          4.4,
          4.4,
          4.4,
          4.4,
          4.4,
          4.4,
          4.4,
          4.4,
          4.4,
          4.4,
          4.4,
          4.4,
          4.4,
          4.4,
          4.4,
          4.4,
          4.4,
          4.4,
          4.4,
          4.4,
          4.4,
          4.4,
          4.4,
          4.4,
          4.4,
          4.4,
          4.4,
          4.4,
          4.4,
          4.4,
          4.4,
          4.4,
          4.4,
          4.4,
          4.4,
          4.4,
          4.4,
          4.4,
          4.4,
          4.4,
          4.4,
          4.4,
          4.4,
          4.4,
          4.4,
          4.4,
          4.4,
          4.4,
          4.4,
          4.4,
          4.4,
          4.4,
          4.4,
          4.4,
          4.4,
          4.4,
          4.4,
          4.4,
          4.4,
          4.4,
          4.4,
          4.4,
          4.4,
          4.4,
          4.4,
          4.4,
          4.4,
          4.4,
          4.4,
          4.4,
          4.4,
          4.4,
          4.4,
          4.4,
          4.4,
          4.4,
          4.4,
          4.4,
          4.4,
          4.4,
          4.4,
          4.4,
          4.4,
          4.4,
          4.4,
          4.4,
          4.4,
          4.4,
          4.4,
          4.4,
          4.4,
          3.8,
          4.4,
          4.4,
          3.8,
          4.4,
          4.4,
          4.4,
          4.4,
          4.4,
          4.4,
          4.4,
          4.4,
          4.4,
          4.4,
          4.4,
          4.4,
          4.4,
          4.4,
          4.4,
          4.4,
          4.4,
          4.4,
          4.4,
          4.4,
          4.4,
          4.4,
          4.4,
          4.4,
          4.4,
          4.4,
          4.4,
          4.4,
          4.4,
          4.4,
          4.4,
          4.4,
          4.4,
          4.4,
          4.4,
          4.4,
          4.4,
          4.4,
          4.4,
          4.4,
          4.4,
          4.4,
          4.4,
          4.4,
          4.4,
          4.4,
          4.4,
          4.4,
          4.4,
          4.4,
          4.4,
          4.4,
          4.4,
          4.4,
          4.4,
          4.4,
          4.4,
          4.4,
          4.4,
          4.4,
          4.4,
          4.4,
          4.4,
          4.4,
          4.4,
          4.4,
          4.4,
          4.4,
          4.4,
          4.4,
          4.4
         ],
         "xaxis": "x2",
         "y": [
          125000,
          188000,
          115000,
          144000,
          115000,
          144000,
          201500,
          115000,
          144000,
          115000,
          144000,
          201500,
          115000,
          273500,
          144000,
          125000,
          188000,
          273500,
          115000,
          125000,
          188000,
          273500,
          115000,
          125000,
          188000,
          115000,
          273500,
          125000,
          188000,
          115000,
          273500,
          125000,
          188000,
          115000,
          273500,
          125000,
          188000,
          115000,
          273500,
          125000,
          188000,
          273500,
          115000,
          125000,
          188000,
          188000,
          273500,
          125000,
          144000,
          201500,
          115000,
          125000,
          188000,
          125000,
          188000,
          188000,
          125000,
          144000,
          188000,
          125000,
          188000,
          125000,
          188000,
          125000,
          125000,
          188000,
          125000,
          188000,
          188000,
          125000,
          115000,
          125000,
          188000,
          125000,
          188000,
          228500,
          188000,
          115000,
          144000,
          228500,
          188000,
          115000,
          144000,
          228500,
          188000,
          188000,
          125000,
          115000,
          151000,
          219500,
          219500,
          126350,
          273500,
          219500,
          126350,
          273500,
          219500,
          273500,
          219500,
          273500,
          219500,
          273500,
          219500,
          273500,
          219500,
          273500,
          219500,
          201500,
          151000,
          273500,
          219500,
          151000,
          201500,
          273500,
          219500,
          151000,
          273500,
          219500,
          295000,
          151000,
          201500,
          273500,
          219500,
          295000,
          151000,
          201500,
          273500,
          219500,
          295000,
          151000,
          201500,
          273500,
          219500,
          295000,
          151000,
          219500,
          295000,
          273500,
          219500,
          295000,
          151000,
          273500,
          219500,
          295000,
          273500,
          219500,
          295000,
          273500,
          219500,
          273500,
          219500,
          273500,
          219500,
          273500,
          219500,
          295000,
          219500,
          273500,
          219500,
          151000,
          273500,
          219500,
          273500,
          219500,
          273500,
          219500
         ],
         "yaxis": "y2"
        },
        {
         "hovertemplate": "Industry=Advertising & Marketing<br>X=Job1<br>Rating=%{x}<br>Salary=%{y}<extra></extra>",
         "legendgroup": "Advertising & Marketing",
         "marker": {
          "color": "#FF6692",
          "symbol": "circle"
         },
         "mode": "markers",
         "name": "Advertising & Marketing",
         "showlegend": true,
         "type": "scattergl",
         "x": [
          4,
          3.7,
          4,
          3.7,
          3.7,
          3.7,
          3.7,
          3.7,
          3.7,
          3.7,
          3.7,
          3.7
         ],
         "xaxis": "x2",
         "y": [
          105000,
          104000,
          105000,
          104000,
          104000,
          104000,
          104000,
          104000,
          104000,
          104000,
          104000,
          104000
         ],
         "yaxis": "y2"
        },
        {
         "hovertemplate": "Industry=Health Care Products Manufacturing<br>X=Job1<br>Rating=%{x}<br>Salary=%{y}<extra></extra>",
         "legendgroup": "Health Care Products Manufacturing",
         "marker": {
          "color": "#B6E880",
          "symbol": "circle"
         },
         "mode": "markers",
         "name": "Health Care Products Manufacturing",
         "showlegend": true,
         "type": "scattergl",
         "x": [
          3.8,
          3.8,
          3.8,
          3.8,
          3.8,
          3.8,
          3.8,
          3.8,
          3.8,
          3.8,
          3.8,
          3.8
         ],
         "xaxis": "x2",
         "y": [
          120000,
          120000,
          120000,
          120000,
          120000,
          120000,
          120000,
          120000,
          120000,
          120000,
          120000,
          120000
         ],
         "yaxis": "y2"
        },
        {
         "hovertemplate": "Industry=Insurance Carriers<br>X=Job1<br>Rating=%{x}<br>Salary=%{y}<extra></extra>",
         "legendgroup": "Insurance Carriers",
         "marker": {
          "color": "#FF97FF",
          "symbol": "circle"
         },
         "mode": "markers",
         "name": "Insurance Carriers",
         "showlegend": true,
         "type": "scattergl",
         "x": [
          3.3,
          3.9,
          3.9,
          3.9,
          3.9,
          3.3,
          3.3,
          3.9,
          3.3,
          3.9,
          3.3,
          3.9,
          3.3,
          3.9,
          3.3,
          3.9,
          3.9,
          3.3,
          3.9,
          3.3,
          3.9,
          3.9,
          3.9,
          3.3,
          3.9,
          3.9,
          3.3,
          3.9,
          3.3,
          3.9,
          3.9,
          3.3,
          3.9,
          3.9,
          3.3,
          3.9,
          3.9,
          3.3,
          3.9,
          3.9,
          3.3,
          3.9,
          3.9,
          3.3,
          3.9,
          3.9,
          3.3,
          3.9,
          3.9,
          3.3,
          3.9,
          3.9,
          3.3,
          3.9,
          3.3,
          3.3,
          3.3,
          3.3,
          3.3,
          3.9,
          3.9,
          3.9,
          3.9,
          3.9,
          3.9,
          3.9,
          3.9,
          3.9,
          3.9,
          3.9,
          3.9,
          3.9,
          3.9,
          3.9,
          3.9,
          3.9,
          3.9,
          3.9,
          3.9,
          3.9,
          3.9,
          3.9,
          3.3,
          3.9,
          3.9,
          3.3,
          3.9,
          3.9,
          3.3,
          3.9,
          3.9,
          3.9,
          3.3,
          3.9,
          3.3,
          3.9,
          3.3,
          3.9,
          3.9,
          3.3,
          3.9,
          3.9,
          3.9,
          3.9,
          3.9,
          3.9,
          3.9,
          3.9,
          3.9,
          3.3,
          3.9,
          3.3,
          3.7,
          3.3,
          3.7,
          3.3,
          3.9,
          3.3,
          3.9,
          3.3,
          3.9
         ],
         "xaxis": "x2",
         "y": [
          100000,
          156800,
          125500,
          125500,
          156800,
          100000,
          100000,
          156800,
          100000,
          156800,
          100000,
          156800,
          100000,
          156800,
          100000,
          156800,
          156800,
          100000,
          156800,
          100000,
          125500,
          156800,
          156800,
          100000,
          125500,
          156800,
          100000,
          125500,
          100000,
          156800,
          125500,
          100000,
          156800,
          125500,
          100000,
          156800,
          125500,
          100000,
          156800,
          125500,
          100000,
          156800,
          125500,
          100000,
          156800,
          125500,
          100000,
          156800,
          125500,
          100000,
          156800,
          125500,
          100000,
          125500,
          100000,
          100000,
          100000,
          100000,
          100000,
          125500,
          156800,
          156800,
          156800,
          156800,
          125500,
          156800,
          156800,
          125500,
          156800,
          125500,
          156800,
          125500,
          156800,
          125500,
          156800,
          125500,
          156800,
          125500,
          156800,
          156800,
          125500,
          156800,
          100000,
          125500,
          156800,
          100000,
          125500,
          156800,
          100000,
          125500,
          125500,
          156800,
          100000,
          125500,
          100000,
          125500,
          100000,
          125500,
          156800,
          100000,
          125500,
          156800,
          125500,
          156800,
          156800,
          125500,
          156800,
          125500,
          156800,
          100000,
          125500,
          100000,
          125500,
          100000,
          125500,
          100000,
          125500,
          100000,
          125500,
          100000,
          125500
         ],
         "yaxis": "y2"
        },
        {
         "hovertemplate": "Industry=Federal Agencies<br>X=Job2<br>Rating=%{x}<br>Salary=%{y}<extra></extra>",
         "legendgroup": "Federal Agencies",
         "marker": {
          "color": "#FECB52",
          "symbol": "circle"
         },
         "mode": "markers",
         "name": "Federal Agencies",
         "showlegend": true,
         "type": "scattergl",
         "x": [
          3.5,
          3.5,
          3.5,
          3.5,
          3.5,
          3.5,
          3.5,
          3.5,
          3.5,
          3.5,
          3.5,
          3.5,
          3.5,
          3.5,
          3.5,
          3.5,
          3.5,
          3.5,
          3.5,
          3.5,
          3.5,
          3.5,
          3.3,
          3.3,
          3.5,
          3.5,
          3.5,
          3.5,
          3.5,
          3.5,
          3.5,
          3.5,
          3.5,
          3.5,
          3.5,
          3.5,
          3.5,
          3.5,
          3.5,
          3.5,
          3.5,
          3.5
         ],
         "xaxis": "x",
         "y": [
          101589,
          101589,
          101589,
          101589,
          101589,
          101589,
          101589,
          101589,
          101589,
          101589,
          101589,
          101589,
          101589,
          101589,
          101589,
          101589,
          101589,
          101589,
          101589,
          101589,
          101589,
          101589,
          85410,
          85410,
          101589,
          101589,
          101589,
          101589,
          101589,
          101589,
          101589,
          101589,
          101589,
          101589,
          101589,
          101589,
          101589,
          101589,
          101589,
          101589,
          101589,
          101589
         ],
         "yaxis": "y"
        },
        {
         "hovertemplate": "Industry=IT Services<br>X=Job2<br>Rating=%{x}<br>Salary=%{y}<extra></extra>",
         "legendgroup": "IT Services",
         "marker": {
          "color": "#636efa",
          "symbol": "circle"
         },
         "mode": "markers",
         "name": "IT Services",
         "showlegend": true,
         "type": "scattergl",
         "x": [
          3.2,
          3.4
         ],
         "xaxis": "x",
         "y": [
          115000,
          74880
         ],
         "yaxis": "y"
        },
        {
         "hovertemplate": "Industry=Insurance Agencies & Brokerages<br>X=Job2<br>Rating=%{x}<br>Salary=%{y}<extra></extra>",
         "legendgroup": "Insurance Agencies & Brokerages",
         "marker": {
          "color": "#EF553B",
          "symbol": "circle"
         },
         "mode": "markers",
         "name": "Insurance Agencies & Brokerages",
         "showlegend": true,
         "type": "scattergl",
         "x": [
          3.5,
          3.5,
          3.5,
          3.5,
          3.5,
          3.5,
          3.5,
          3.5,
          3.5,
          3.8,
          3.5,
          3.8,
          3.5,
          3.8,
          3.5,
          3.8,
          3.5,
          3.5,
          3.5,
          3.5,
          3.8,
          3.5,
          3.5,
          3.5,
          3.5,
          3.5,
          3.5,
          3.8,
          3.5,
          3.5,
          3.8,
          3.8,
          3.5,
          3.5,
          3.8,
          3.5,
          3.5,
          3.5,
          3.5,
          3.5,
          3.5,
          3.5,
          3.5,
          3.5,
          3.8,
          3.5,
          3.5,
          3.5,
          3.5,
          3.5,
          3.5,
          3.5,
          3.5,
          3.5
         ],
         "xaxis": "x",
         "y": [
          140350,
          140350,
          138500,
          113600,
          140350,
          138500,
          113600,
          138500,
          138500,
          138500,
          138500,
          138500,
          138500,
          138500,
          138500,
          138500,
          138500,
          138500,
          149850,
          124000,
          124000,
          149850,
          149850,
          138500,
          149850,
          149850,
          149850,
          138500,
          124000,
          149850,
          138500,
          124000,
          149850,
          149850,
          149850,
          138500,
          149850,
          138500,
          149850,
          138500,
          124000,
          149850,
          138500,
          124000,
          149850,
          138500,
          124000,
          149850,
          149850,
          149850,
          138500,
          149850,
          149850,
          149850
         ],
         "yaxis": "y"
        },
        {
         "hovertemplate": "Industry=Accounting<br>X=Job2<br>Rating=%{x}<br>Salary=%{y}<extra></extra>",
         "legendgroup": "Accounting",
         "marker": {
          "color": "#00cc96",
          "symbol": "circle"
         },
         "mode": "markers",
         "name": "Accounting",
         "showlegend": true,
         "type": "scattergl",
         "x": [
          4.1,
          4.1,
          4.1,
          4.1
         ],
         "xaxis": "x",
         "y": [
          115200,
          115200,
          115200,
          115200
         ],
         "yaxis": "y"
        },
        {
         "hovertemplate": "Industry=Health Care Services & Hospitals<br>X=Job2<br>Rating=%{x}<br>Salary=%{y}<extra></extra>",
         "legendgroup": "Health Care Services & Hospitals",
         "marker": {
          "color": "#ab63fa",
          "symbol": "circle"
         },
         "mode": "markers",
         "name": "Health Care Services & Hospitals",
         "showlegend": true,
         "type": "scattergl",
         "x": [
          3.9,
          4,
          4,
          4.2,
          4.2,
          4,
          4,
          4,
          4,
          4,
          4,
          4
         ],
         "xaxis": "x",
         "y": [
          127300,
          127300,
          127300,
          103123.2,
          103123.2,
          127300,
          127300,
          127300,
          127300,
          127300,
          127300,
          127300
         ],
         "yaxis": "y"
        },
        {
         "hovertemplate": "Industry=Banks & Credit Unions<br>X=Job2<br>Rating=%{x}<br>Salary=%{y}<extra></extra>",
         "legendgroup": "Banks & Credit Unions",
         "marker": {
          "color": "#FFA15A",
          "symbol": "circle"
         },
         "mode": "markers",
         "name": "Banks & Credit Unions",
         "showlegend": true,
         "type": "scattergl",
         "x": [
          4,
          4,
          4,
          4,
          4,
          4,
          4,
          4,
          4,
          4,
          4,
          4
         ],
         "xaxis": "x",
         "y": [
          110100,
          126650,
          126650,
          126650,
          126650,
          126650,
          126650,
          110100,
          126650,
          126650,
          110100,
          126650
         ],
         "yaxis": "y"
        },
        {
         "hovertemplate": "Industry=Financial Transaction Processing<br>X=Job2<br>Rating=%{x}<br>Salary=%{y}<extra></extra>",
         "legendgroup": "Financial Transaction Processing",
         "marker": {
          "color": "#19d3f3",
          "symbol": "circle"
         },
         "mode": "markers",
         "name": "Financial Transaction Processing",
         "showlegend": true,
         "type": "scattergl",
         "x": [
          3.5
         ],
         "xaxis": "x",
         "y": [
          107500
         ],
         "yaxis": "y"
        },
        {
         "hovertemplate": "Industry=Consumer Products Manufacturing<br>X=Job2<br>Rating=%{x}<br>Salary=%{y}<extra></extra>",
         "legendgroup": "Consumer Products Manufacturing",
         "marker": {
          "color": "#FF6692",
          "symbol": "circle"
         },
         "mode": "markers",
         "name": "Consumer Products Manufacturing",
         "showlegend": true,
         "type": "scattergl",
         "x": [
          4.1,
          4.1,
          4.1,
          4.1,
          4.1,
          4.1,
          4.1,
          4.1,
          4.1,
          4.1,
          4.1,
          4.1,
          4.1,
          4.1,
          4.1,
          4.1,
          4.1,
          4.1,
          4.1,
          4.1,
          4.1,
          4.1,
          4.1,
          4.1,
          4.1,
          4.1,
          4.1,
          4.1,
          4.1,
          4.1,
          4.1,
          4.1,
          4.1,
          4.1,
          4.1,
          4.1,
          4.1,
          4.1,
          4.1,
          4.1
         ],
         "xaxis": "x",
         "y": [
          140000,
          157500,
          140000,
          140000,
          157500,
          157500,
          140000,
          157500,
          157500,
          140000,
          157500,
          140000,
          157500,
          140000,
          157500,
          140000,
          157500,
          140000,
          157500,
          140000,
          157500,
          140000,
          157500,
          140000,
          157500,
          140000,
          157500,
          140000,
          157500,
          140000,
          157500,
          140000,
          157500,
          140000,
          157500,
          140000,
          157500,
          140000,
          157500,
          157500
         ],
         "yaxis": "y"
        },
        {
         "hovertemplate": "Industry=Telecommunications Services<br>X=Job2<br>Rating=%{x}<br>Salary=%{y}<extra></extra>",
         "legendgroup": "Telecommunications Services",
         "marker": {
          "color": "#B6E880",
          "symbol": "circle"
         },
         "mode": "markers",
         "name": "Telecommunications Services",
         "showlegend": true,
         "type": "scattergl",
         "x": [
          3.9,
          3.9,
          4,
          4,
          1,
          4,
          3,
          4,
          4,
          4,
          4,
          4,
          4,
          4,
          4,
          4,
          4,
          4,
          4,
          4,
          4,
          4,
          4,
          4,
          4,
          4,
          4,
          4,
          3,
          4,
          4,
          4,
          4,
          3,
          4,
          4,
          4,
          4,
          3,
          4,
          4,
          4,
          4,
          3,
          4,
          4,
          4,
          3,
          4,
          4,
          4,
          4,
          3,
          4,
          4,
          4,
          4,
          4,
          3,
          4,
          4,
          4,
          4,
          3,
          4,
          4,
          4,
          4,
          3,
          4,
          4,
          4,
          3,
          4,
          4,
          4,
          4,
          3,
          4,
          4,
          4,
          4,
          3,
          4,
          4,
          4,
          3,
          4,
          4,
          4,
          4,
          3,
          4,
          4,
          4,
          4,
          3,
          4,
          4,
          4,
          3,
          4,
          4,
          3,
          4,
          4,
          4,
          3,
          4,
          4,
          4,
          4,
          4,
          4,
          4,
          3,
          4,
          4,
          4,
          4,
          4,
          3,
          4,
          4,
          4,
          4,
          4,
          3,
          4,
          4,
          4,
          4,
          4,
          3,
          4,
          4,
          4,
          4,
          4,
          1,
          4,
          4,
          3,
          4,
          4,
          4,
          4,
          4,
          4,
          1,
          4,
          4,
          4,
          4,
          3,
          4,
          4,
          4,
          4,
          4,
          4,
          4,
          4,
          4,
          4,
          4,
          4,
          4,
          2.6,
          4,
          4,
          4,
          4,
          4,
          4,
          4,
          4,
          4,
          4,
          4,
          4,
          4,
          4,
          4,
          4,
          4,
          4,
          4,
          4,
          4,
          4,
          4,
          4,
          4,
          4,
          4,
          4,
          4,
          4,
          4,
          4,
          4,
          4,
          4,
          4,
          4,
          4,
          4,
          4,
          4,
          4,
          4,
          4,
          4,
          4,
          4,
          4,
          4,
          4,
          4,
          4,
          4,
          4,
          4,
          4,
          4,
          4,
          4,
          4,
          4,
          4,
          4,
          4,
          4,
          4,
          4,
          4,
          4,
          4,
          4,
          4,
          4,
          4,
          4,
          4,
          4,
          4,
          4,
          4,
          4,
          4,
          4,
          4,
          4,
          4,
          4,
          4,
          4,
          4,
          4,
          4,
          4,
          4,
          4,
          4,
          4,
          4,
          4,
          4,
          4
         ],
         "xaxis": "x",
         "y": [
          170000,
          170000,
          95000,
          202500,
          130000,
          125000,
          150000,
          125000,
          70000,
          100442,
          125000,
          145000,
          125000,
          125000,
          75319,
          115000,
          157500,
          80000,
          90000,
          157500,
          80000,
          90000,
          157500,
          80000,
          157500,
          157500,
          80000,
          157500,
          150000,
          125000,
          145000,
          125000,
          125000,
          150000,
          125000,
          145000,
          125000,
          125000,
          150000,
          125000,
          145000,
          125000,
          125000,
          150000,
          145000,
          125000,
          125000,
          150000,
          125000,
          145000,
          125000,
          125000,
          150000,
          125000,
          145000,
          125000,
          125000,
          115000,
          150000,
          125000,
          145000,
          125000,
          125000,
          150000,
          125000,
          125000,
          145000,
          115000,
          150000,
          125000,
          125000,
          145000,
          150000,
          125000,
          125000,
          145000,
          130000,
          150000,
          125000,
          125000,
          145000,
          125000,
          150000,
          125000,
          125000,
          145000,
          150000,
          125000,
          145000,
          125000,
          130000,
          150000,
          125000,
          145000,
          125000,
          130000,
          150000,
          125000,
          145000,
          125000,
          150000,
          125000,
          145000,
          150000,
          125000,
          145000,
          125000,
          150000,
          125000,
          125000,
          145000,
          125000,
          125000,
          90000,
          125000,
          150000,
          125000,
          145000,
          130000,
          125000,
          90000,
          150000,
          145000,
          130000,
          90000,
          100442,
          125000,
          150000,
          125000,
          125000,
          145000,
          125000,
          90000,
          150000,
          125000,
          100442,
          145000,
          125000,
          125000,
          130000,
          125000,
          90000,
          150000,
          125000,
          100442,
          145000,
          125000,
          125000,
          130000,
          130000,
          125000,
          125000,
          90000,
          100442,
          150000,
          145000,
          125000,
          125000,
          130000,
          76881,
          130000,
          182500,
          190000,
          208000,
          187000,
          125000,
          130000,
          72960,
          145000,
          208000,
          187000,
          125000,
          130000,
          208000,
          208000,
          137500,
          208000,
          125000,
          208000,
          208000,
          187000,
          208000,
          187000,
          208000,
          187000,
          182500,
          208000,
          187000,
          182500,
          187000,
          182500,
          208000,
          187000,
          182500,
          208000,
          187000,
          208000,
          187000,
          182500,
          208000,
          187000,
          182500,
          208000,
          145000,
          187000,
          125000,
          182500,
          208000,
          145000,
          187000,
          125000,
          182500,
          208000,
          145000,
          187000,
          125000,
          182500,
          208000,
          145000,
          187000,
          125000,
          182500,
          208000,
          145000,
          187000,
          125000,
          182500,
          208000,
          145000,
          187000,
          125000,
          182500,
          208000,
          145000,
          187000,
          125000,
          182500,
          208000,
          145000,
          187000,
          125000,
          182500,
          208000,
          145000,
          187000,
          125000,
          182500,
          208000,
          145000,
          187000,
          125000,
          182500,
          75319,
          208000,
          145000,
          187000,
          125000,
          182500,
          208000,
          145000,
          187000,
          125000,
          182500,
          75319,
          208000,
          145000,
          187000,
          125000,
          182500,
          75319
         ],
         "yaxis": "y"
        },
        {
         "hovertemplate": "Industry=Computer Hardware & Software<br>X=Job2<br>Rating=%{x}<br>Salary=%{y}<extra></extra>",
         "legendgroup": "Computer Hardware & Software",
         "marker": {
          "color": "#FF97FF",
          "symbol": "circle"
         },
         "mode": "markers",
         "name": "Computer Hardware & Software",
         "showlegend": true,
         "type": "scattergl",
         "x": [
          3.5,
          3.5,
          3.5,
          3.5,
          3.5,
          3.5,
          3.5,
          3.5,
          3.5,
          3.5,
          3.5,
          3.5
         ],
         "xaxis": "x",
         "y": [
          79680,
          79680,
          79680,
          79680,
          79680,
          79680,
          79680,
          79680,
          79680,
          79680,
          79680,
          79680
         ],
         "yaxis": "y"
        }
       ],
       "layout": {
        "annotations": [
         {
          "font": {},
          "showarrow": false,
          "text": "X=Job2",
          "textangle": 90,
          "x": 0.98,
          "xanchor": "left",
          "xref": "paper",
          "y": 0.2425,
          "yanchor": "middle",
          "yref": "paper"
         },
         {
          "font": {},
          "showarrow": false,
          "text": "X=Job1",
          "textangle": 90,
          "x": 0.98,
          "xanchor": "left",
          "xref": "paper",
          "y": 0.7575000000000001,
          "yanchor": "middle",
          "yref": "paper"
         }
        ],
        "legend": {
         "title": {
          "text": "Industry"
         },
         "tracegroupgap": 0
        },
        "margin": {
         "t": 60
        },
        "template": {
         "data": {
          "bar": [
           {
            "error_x": {
             "color": "#2a3f5f"
            },
            "error_y": {
             "color": "#2a3f5f"
            },
            "marker": {
             "line": {
              "color": "#E5ECF6",
              "width": 0.5
             },
             "pattern": {
              "fillmode": "overlay",
              "size": 10,
              "solidity": 0.2
             }
            },
            "type": "bar"
           }
          ],
          "barpolar": [
           {
            "marker": {
             "line": {
              "color": "#E5ECF6",
              "width": 0.5
             },
             "pattern": {
              "fillmode": "overlay",
              "size": 10,
              "solidity": 0.2
             }
            },
            "type": "barpolar"
           }
          ],
          "carpet": [
           {
            "aaxis": {
             "endlinecolor": "#2a3f5f",
             "gridcolor": "white",
             "linecolor": "white",
             "minorgridcolor": "white",
             "startlinecolor": "#2a3f5f"
            },
            "baxis": {
             "endlinecolor": "#2a3f5f",
             "gridcolor": "white",
             "linecolor": "white",
             "minorgridcolor": "white",
             "startlinecolor": "#2a3f5f"
            },
            "type": "carpet"
           }
          ],
          "choropleth": [
           {
            "colorbar": {
             "outlinewidth": 0,
             "ticks": ""
            },
            "type": "choropleth"
           }
          ],
          "contour": [
           {
            "colorbar": {
             "outlinewidth": 0,
             "ticks": ""
            },
            "colorscale": [
             [
              0,
              "#0d0887"
             ],
             [
              0.1111111111111111,
              "#46039f"
             ],
             [
              0.2222222222222222,
              "#7201a8"
             ],
             [
              0.3333333333333333,
              "#9c179e"
             ],
             [
              0.4444444444444444,
              "#bd3786"
             ],
             [
              0.5555555555555556,
              "#d8576b"
             ],
             [
              0.6666666666666666,
              "#ed7953"
             ],
             [
              0.7777777777777778,
              "#fb9f3a"
             ],
             [
              0.8888888888888888,
              "#fdca26"
             ],
             [
              1,
              "#f0f921"
             ]
            ],
            "type": "contour"
           }
          ],
          "contourcarpet": [
           {
            "colorbar": {
             "outlinewidth": 0,
             "ticks": ""
            },
            "type": "contourcarpet"
           }
          ],
          "heatmap": [
           {
            "colorbar": {
             "outlinewidth": 0,
             "ticks": ""
            },
            "colorscale": [
             [
              0,
              "#0d0887"
             ],
             [
              0.1111111111111111,
              "#46039f"
             ],
             [
              0.2222222222222222,
              "#7201a8"
             ],
             [
              0.3333333333333333,
              "#9c179e"
             ],
             [
              0.4444444444444444,
              "#bd3786"
             ],
             [
              0.5555555555555556,
              "#d8576b"
             ],
             [
              0.6666666666666666,
              "#ed7953"
             ],
             [
              0.7777777777777778,
              "#fb9f3a"
             ],
             [
              0.8888888888888888,
              "#fdca26"
             ],
             [
              1,
              "#f0f921"
             ]
            ],
            "type": "heatmap"
           }
          ],
          "heatmapgl": [
           {
            "colorbar": {
             "outlinewidth": 0,
             "ticks": ""
            },
            "colorscale": [
             [
              0,
              "#0d0887"
             ],
             [
              0.1111111111111111,
              "#46039f"
             ],
             [
              0.2222222222222222,
              "#7201a8"
             ],
             [
              0.3333333333333333,
              "#9c179e"
             ],
             [
              0.4444444444444444,
              "#bd3786"
             ],
             [
              0.5555555555555556,
              "#d8576b"
             ],
             [
              0.6666666666666666,
              "#ed7953"
             ],
             [
              0.7777777777777778,
              "#fb9f3a"
             ],
             [
              0.8888888888888888,
              "#fdca26"
             ],
             [
              1,
              "#f0f921"
             ]
            ],
            "type": "heatmapgl"
           }
          ],
          "histogram": [
           {
            "marker": {
             "pattern": {
              "fillmode": "overlay",
              "size": 10,
              "solidity": 0.2
             }
            },
            "type": "histogram"
           }
          ],
          "histogram2d": [
           {
            "colorbar": {
             "outlinewidth": 0,
             "ticks": ""
            },
            "colorscale": [
             [
              0,
              "#0d0887"
             ],
             [
              0.1111111111111111,
              "#46039f"
             ],
             [
              0.2222222222222222,
              "#7201a8"
             ],
             [
              0.3333333333333333,
              "#9c179e"
             ],
             [
              0.4444444444444444,
              "#bd3786"
             ],
             [
              0.5555555555555556,
              "#d8576b"
             ],
             [
              0.6666666666666666,
              "#ed7953"
             ],
             [
              0.7777777777777778,
              "#fb9f3a"
             ],
             [
              0.8888888888888888,
              "#fdca26"
             ],
             [
              1,
              "#f0f921"
             ]
            ],
            "type": "histogram2d"
           }
          ],
          "histogram2dcontour": [
           {
            "colorbar": {
             "outlinewidth": 0,
             "ticks": ""
            },
            "colorscale": [
             [
              0,
              "#0d0887"
             ],
             [
              0.1111111111111111,
              "#46039f"
             ],
             [
              0.2222222222222222,
              "#7201a8"
             ],
             [
              0.3333333333333333,
              "#9c179e"
             ],
             [
              0.4444444444444444,
              "#bd3786"
             ],
             [
              0.5555555555555556,
              "#d8576b"
             ],
             [
              0.6666666666666666,
              "#ed7953"
             ],
             [
              0.7777777777777778,
              "#fb9f3a"
             ],
             [
              0.8888888888888888,
              "#fdca26"
             ],
             [
              1,
              "#f0f921"
             ]
            ],
            "type": "histogram2dcontour"
           }
          ],
          "mesh3d": [
           {
            "colorbar": {
             "outlinewidth": 0,
             "ticks": ""
            },
            "type": "mesh3d"
           }
          ],
          "parcoords": [
           {
            "line": {
             "colorbar": {
              "outlinewidth": 0,
              "ticks": ""
             }
            },
            "type": "parcoords"
           }
          ],
          "pie": [
           {
            "automargin": true,
            "type": "pie"
           }
          ],
          "scatter": [
           {
            "marker": {
             "colorbar": {
              "outlinewidth": 0,
              "ticks": ""
             }
            },
            "type": "scatter"
           }
          ],
          "scatter3d": [
           {
            "line": {
             "colorbar": {
              "outlinewidth": 0,
              "ticks": ""
             }
            },
            "marker": {
             "colorbar": {
              "outlinewidth": 0,
              "ticks": ""
             }
            },
            "type": "scatter3d"
           }
          ],
          "scattercarpet": [
           {
            "marker": {
             "colorbar": {
              "outlinewidth": 0,
              "ticks": ""
             }
            },
            "type": "scattercarpet"
           }
          ],
          "scattergeo": [
           {
            "marker": {
             "colorbar": {
              "outlinewidth": 0,
              "ticks": ""
             }
            },
            "type": "scattergeo"
           }
          ],
          "scattergl": [
           {
            "marker": {
             "colorbar": {
              "outlinewidth": 0,
              "ticks": ""
             }
            },
            "type": "scattergl"
           }
          ],
          "scattermapbox": [
           {
            "marker": {
             "colorbar": {
              "outlinewidth": 0,
              "ticks": ""
             }
            },
            "type": "scattermapbox"
           }
          ],
          "scatterpolar": [
           {
            "marker": {
             "colorbar": {
              "outlinewidth": 0,
              "ticks": ""
             }
            },
            "type": "scatterpolar"
           }
          ],
          "scatterpolargl": [
           {
            "marker": {
             "colorbar": {
              "outlinewidth": 0,
              "ticks": ""
             }
            },
            "type": "scatterpolargl"
           }
          ],
          "scatterternary": [
           {
            "marker": {
             "colorbar": {
              "outlinewidth": 0,
              "ticks": ""
             }
            },
            "type": "scatterternary"
           }
          ],
          "surface": [
           {
            "colorbar": {
             "outlinewidth": 0,
             "ticks": ""
            },
            "colorscale": [
             [
              0,
              "#0d0887"
             ],
             [
              0.1111111111111111,
              "#46039f"
             ],
             [
              0.2222222222222222,
              "#7201a8"
             ],
             [
              0.3333333333333333,
              "#9c179e"
             ],
             [
              0.4444444444444444,
              "#bd3786"
             ],
             [
              0.5555555555555556,
              "#d8576b"
             ],
             [
              0.6666666666666666,
              "#ed7953"
             ],
             [
              0.7777777777777778,
              "#fb9f3a"
             ],
             [
              0.8888888888888888,
              "#fdca26"
             ],
             [
              1,
              "#f0f921"
             ]
            ],
            "type": "surface"
           }
          ],
          "table": [
           {
            "cells": {
             "fill": {
              "color": "#EBF0F8"
             },
             "line": {
              "color": "white"
             }
            },
            "header": {
             "fill": {
              "color": "#C8D4E3"
             },
             "line": {
              "color": "white"
             }
            },
            "type": "table"
           }
          ]
         },
         "layout": {
          "annotationdefaults": {
           "arrowcolor": "#2a3f5f",
           "arrowhead": 0,
           "arrowwidth": 1
          },
          "autotypenumbers": "strict",
          "coloraxis": {
           "colorbar": {
            "outlinewidth": 0,
            "ticks": ""
           }
          },
          "colorscale": {
           "diverging": [
            [
             0,
             "#8e0152"
            ],
            [
             0.1,
             "#c51b7d"
            ],
            [
             0.2,
             "#de77ae"
            ],
            [
             0.3,
             "#f1b6da"
            ],
            [
             0.4,
             "#fde0ef"
            ],
            [
             0.5,
             "#f7f7f7"
            ],
            [
             0.6,
             "#e6f5d0"
            ],
            [
             0.7,
             "#b8e186"
            ],
            [
             0.8,
             "#7fbc41"
            ],
            [
             0.9,
             "#4d9221"
            ],
            [
             1,
             "#276419"
            ]
           ],
           "sequential": [
            [
             0,
             "#0d0887"
            ],
            [
             0.1111111111111111,
             "#46039f"
            ],
            [
             0.2222222222222222,
             "#7201a8"
            ],
            [
             0.3333333333333333,
             "#9c179e"
            ],
            [
             0.4444444444444444,
             "#bd3786"
            ],
            [
             0.5555555555555556,
             "#d8576b"
            ],
            [
             0.6666666666666666,
             "#ed7953"
            ],
            [
             0.7777777777777778,
             "#fb9f3a"
            ],
            [
             0.8888888888888888,
             "#fdca26"
            ],
            [
             1,
             "#f0f921"
            ]
           ],
           "sequentialminus": [
            [
             0,
             "#0d0887"
            ],
            [
             0.1111111111111111,
             "#46039f"
            ],
            [
             0.2222222222222222,
             "#7201a8"
            ],
            [
             0.3333333333333333,
             "#9c179e"
            ],
            [
             0.4444444444444444,
             "#bd3786"
            ],
            [
             0.5555555555555556,
             "#d8576b"
            ],
            [
             0.6666666666666666,
             "#ed7953"
            ],
            [
             0.7777777777777778,
             "#fb9f3a"
            ],
            [
             0.8888888888888888,
             "#fdca26"
            ],
            [
             1,
             "#f0f921"
            ]
           ]
          },
          "colorway": [
           "#636efa",
           "#EF553B",
           "#00cc96",
           "#ab63fa",
           "#FFA15A",
           "#19d3f3",
           "#FF6692",
           "#B6E880",
           "#FF97FF",
           "#FECB52"
          ],
          "font": {
           "color": "#2a3f5f"
          },
          "geo": {
           "bgcolor": "white",
           "lakecolor": "white",
           "landcolor": "#E5ECF6",
           "showlakes": true,
           "showland": true,
           "subunitcolor": "white"
          },
          "hoverlabel": {
           "align": "left"
          },
          "hovermode": "closest",
          "mapbox": {
           "style": "light"
          },
          "paper_bgcolor": "white",
          "plot_bgcolor": "#E5ECF6",
          "polar": {
           "angularaxis": {
            "gridcolor": "white",
            "linecolor": "white",
            "ticks": ""
           },
           "bgcolor": "#E5ECF6",
           "radialaxis": {
            "gridcolor": "white",
            "linecolor": "white",
            "ticks": ""
           }
          },
          "scene": {
           "xaxis": {
            "backgroundcolor": "#E5ECF6",
            "gridcolor": "white",
            "gridwidth": 2,
            "linecolor": "white",
            "showbackground": true,
            "ticks": "",
            "zerolinecolor": "white"
           },
           "yaxis": {
            "backgroundcolor": "#E5ECF6",
            "gridcolor": "white",
            "gridwidth": 2,
            "linecolor": "white",
            "showbackground": true,
            "ticks": "",
            "zerolinecolor": "white"
           },
           "zaxis": {
            "backgroundcolor": "#E5ECF6",
            "gridcolor": "white",
            "gridwidth": 2,
            "linecolor": "white",
            "showbackground": true,
            "ticks": "",
            "zerolinecolor": "white"
           }
          },
          "shapedefaults": {
           "line": {
            "color": "#2a3f5f"
           }
          },
          "ternary": {
           "aaxis": {
            "gridcolor": "white",
            "linecolor": "white",
            "ticks": ""
           },
           "baxis": {
            "gridcolor": "white",
            "linecolor": "white",
            "ticks": ""
           },
           "bgcolor": "#E5ECF6",
           "caxis": {
            "gridcolor": "white",
            "linecolor": "white",
            "ticks": ""
           }
          },
          "title": {
           "x": 0.05
          },
          "xaxis": {
           "automargin": true,
           "gridcolor": "white",
           "linecolor": "white",
           "ticks": "",
           "title": {
            "standoff": 15
           },
           "zerolinecolor": "white",
           "zerolinewidth": 2
          },
          "yaxis": {
           "automargin": true,
           "gridcolor": "white",
           "linecolor": "white",
           "ticks": "",
           "title": {
            "standoff": 15
           },
           "zerolinecolor": "white",
           "zerolinewidth": 2
          }
         }
        },
        "xaxis": {
         "anchor": "y",
         "domain": [
          0,
          0.98
         ],
         "title": {
          "text": "Rating"
         }
        },
        "xaxis2": {
         "anchor": "y2",
         "domain": [
          0,
          0.98
         ],
         "matches": "x",
         "showticklabels": false
        },
        "yaxis": {
         "anchor": "x",
         "domain": [
          0,
          0.485
         ],
         "title": {
          "text": "Salary"
         }
        },
        "yaxis2": {
         "anchor": "x2",
         "domain": [
          0.515,
          1
         ],
         "matches": "y",
         "title": {
          "text": "Salary"
         }
        }
       }
      },
      "text/html": [
       "<div>                            <div id=\"074a2001-daf6-4489-9cc8-e6da7cb4850d\" class=\"plotly-graph-div\" style=\"height:525px; width:100%;\"></div>            <script type=\"text/javascript\">                require([\"plotly\"], function(Plotly) {                    window.PLOTLYENV=window.PLOTLYENV || {};                                    if (document.getElementById(\"074a2001-daf6-4489-9cc8-e6da7cb4850d\")) {                    Plotly.newPlot(                        \"074a2001-daf6-4489-9cc8-e6da7cb4850d\",                        [{\"hovertemplate\":\"Industry=Grantmaking Foundations<br>X=Job1<br>Rating=%{x}<br>Salary=%{y}<extra></extra>\",\"legendgroup\":\"Grantmaking Foundations\",\"marker\":{\"color\":\"#636efa\",\"symbol\":\"circle\"},\"mode\":\"markers\",\"name\":\"Grantmaking Foundations\",\"showlegend\":true,\"x\":[4.5,4.5,4.5,4.5,4.5,4.5,4.5,4.5,4.5],\"xaxis\":\"x2\",\"y\":[132500.0,132500.0,132500.0,132500.0,132500.0,132500.0,132500.0,132500.0,132500.0],\"yaxis\":\"y2\",\"type\":\"scattergl\"},{\"hovertemplate\":\"Industry=Aerospace & Defense<br>X=Job1<br>Rating=%{x}<br>Salary=%{y}<extra></extra>\",\"legendgroup\":\"Aerospace & Defense\",\"marker\":{\"color\":\"#EF553B\",\"symbol\":\"circle\"},\"mode\":\"markers\",\"name\":\"Aerospace & Defense\",\"showlegend\":true,\"x\":[4.0,4.0,3.8,4.0,3.8,3.8,3.8,4.0,4.0,3.8,4.0,3.8,4.0,3.8,4.0,4.0,4.0,3.8,4.0,3.8,4.0,3.8,4.0,3.8,4.0,4.0,3.8,4.0,3.8,4.0,4.0,3.8,4.0,4.0,4.0,3.8,4.0,4.0,4.0,4.0,4.0,4.0,4.0,4.0,3.8,4.0,4.0,4.0,3.8,4.0,3.8,4.0,3.8,4.0,4.0,3.8,4.0,3.8,4.0,3.8,4.0,3.8,4.0,3.8,4.0,3.8,4.0,3.8,4.0,3.8,4.0,3.8,4.0,3.8,4.0,3.8,4.0,3.8,4.0,3.8,4.0,3.8,4.0,4.0,4.0,3.8,4.0,4.0,4.0,4.0],\"xaxis\":\"x2\",\"y\":[120500.0,89200.0,158611.0,89200.0,158611.0,158611.0,158611.0,139500.0,172600.0,158611.0,172600.0,158611.0,172600.0,158611.0,120500.0,120500.0,172600.0,158611.0,172600.0,158611.0,172600.0,158611.0,172600.0,158611.0,103127.0,120500.0,178000.0,126800.0,178000.0,126800.0,157200.0,178000.0,126800.0,157200.0,120500.0,178000.0,126800.0,157200.0,157200.0,126800.0,157200.0,126800.0,126800.0,157200.0,178000.0,126800.0,126800.0,157200.0,178000.0,157200.0,178000.0,157200.0,178000.0,126800.0,157200.0,178000.0,157200.0,178000.0,157200.0,178000.0,157200.0,178000.0,157200.0,178000.0,157200.0,178000.0,157200.0,178000.0,157200.0,178000.0,157200.0,178000.0,157200.0,178000.0,157200.0,178000.0,157200.0,178000.0,157200.0,178000.0,157200.0,178000.0,103127.0,157200.0,103127.0,178000.0,157200.0,103127.0,157200.0,103127.0],\"yaxis\":\"y2\",\"type\":\"scattergl\"},{\"hovertemplate\":\"Industry=Consulting<br>X=Job1<br>Rating=%{x}<br>Salary=%{y}<extra></extra>\",\"legendgroup\":\"Consulting\",\"marker\":{\"color\":\"#00cc96\",\"symbol\":\"circle\"},\"mode\":\"markers\",\"name\":\"Consulting\",\"showlegend\":true,\"x\":[4.7,3.4,3.4,3.4,3.4,3.4,3.4,3.4,3.4,3.4,3.4,3.4,3.4,3.4,3.4,3.4,3.4,3.4,3.4,3.4,3.4,3.4,3.4,4.7,3.4],\"xaxis\":\"x2\",\"y\":[115000.0,150000.0,150000.0,150000.0,150000.0,150000.0,150000.0,150000.0,150000.0,150000.0,150000.0,150000.0,150000.0,150000.0,150000.0,150000.0,150000.0,150000.0,150000.0,150000.0,150000.0,150000.0,150000.0,115000.0,150000.0],\"yaxis\":\"y2\",\"type\":\"scattergl\"},{\"hovertemplate\":\"Industry=Staffing & Outsourcing<br>X=Job1<br>Rating=%{x}<br>Salary=%{y}<extra></extra>\",\"legendgroup\":\"Staffing & Outsourcing\",\"marker\":{\"color\":\"#ab63fa\",\"symbol\":\"circle\"},\"mode\":\"markers\",\"name\":\"Staffing & Outsourcing\",\"showlegend\":true,\"x\":[3.8,4.1,4.1,3.9,4.1,4.9,5.0,3.9,4.3,3.9,4.0,3.8,4.5,3.8,3.8,3.8,3.8,3.8,3.8,3.8,3.9,5.0,3.9,3.9,5.0,5.0,4.1,3.9,3.8,3.8,3.8,3.8,3.8,3.8,3.9,3.8,3.8,3.9,3.8,3.8,3.8,3.8,3.8,3.9,3.8,3.9,3.9,3.8,3.9,3.8,3.8,3.9,3.8,3.8,3.9,3.8,4.4,5.0,4.0,4.0,4.1,4.1,4.1,3.5,5.0,4.3,4.0,3.9,3.9,4.1,3.5,3.9,5.0,5.0,4.0,3.9,3.9,5.0,5.0,4.0,3.9,4.3,3.9,4.1,4.4,4.0,4.1,4.0,3.9,5.0,4.3,4.4,4.1,4.0,3.9,4.1,5.0,4.0,4.0,5.0,5.0,4.4,4.1,4.0,4.0,4.1,4.4,5.0,4.1,4.4,4.4,5.0,4.4,4.1,4.0,4.1,5.0,4.3],\"xaxis\":\"x2\",\"y\":[129770.0,140000.0,110400.0,144000.0,165000.0,150000.0,175000.0,190000.0,140000.0,117500.0,163200.0,125000.0,120000.0,129770.0,129770.0,129770.0,129770.0,129770.0,129770.0,129770.0,144000.0,155000.0,144000.0,144000.0,155000.0,155000.0,135000.0,144000.0,129770.0,129770.0,129770.0,129770.0,129770.0,125000.0,107500.0,129770.0,125000.0,107500.0,129770.0,129770.0,125000.0,125000.0,129770.0,144000.0,125000.0,107500.0,144000.0,129770.0,107500.0,125000.0,129770.0,144000.0,125000.0,129770.0,144000.0,125000.0,104102.4,155000.0,105600.0,130000.0,110400.0,165000.0,140000.0,110290.0,130000.0,140000.0,155000.0,144000.0,91852.8,165000.0,110290.0,107500.0,155000.0,175000.0,163200.0,146000.0,78720.0,155000.0,175000.0,163200.0,146000.0,120000.0,107500.0,165000.0,104102.4,105600.0,140000.0,150000.0,146000.0,175000.0,140000.0,104102.4,140000.0,105600.0,120000.0,165000.0,175000.0,150000.0,163200.0,155000.0,155000.0,104102.4,140000.0,105600.0,150000.0,165000.0,104102.4,155000.0,140000.0,104102.4,104102.4,155000.0,104102.4,165000.0,105600.0,140000.0,155000.0,140000.0],\"yaxis\":\"y2\",\"type\":\"scattergl\"},{\"hovertemplate\":\"Industry=Investment Banking & Asset Management<br>X=Job1<br>Rating=%{x}<br>Salary=%{y}<extra></extra>\",\"legendgroup\":\"Investment Banking & Asset Management\",\"marker\":{\"color\":\"#FFA15A\",\"symbol\":\"circle\"},\"mode\":\"markers\",\"name\":\"Investment Banking & Asset Management\",\"showlegend\":true,\"x\":[4.0,4.0,4.0,4.0,4.0,4.0,4.0,4.0,4.0,4.0,4.0,4.0,4.0,4.0,4.0,4.0,4.0,4.0,4.0,4.0,4.0,4.0,4.0,4.0,4.0,4.0,4.0,4.0,4.0,4.0,4.0,4.0,4.0,4.0,4.0,4.0,4.0,4.0,4.0,4.0,4.0,4.0],\"xaxis\":\"x2\",\"y\":[142910.0,142910.0,142910.0,142910.0,142910.0,142910.0,142910.0,142910.0,142910.0,142910.0,142910.0,142910.0,142910.0,102652.0,142910.0,142910.0,142910.0,142910.0,142910.0,142910.0,142910.0,142910.0,142910.0,142910.0,142910.0,142910.0,142910.0,142910.0,142910.0,142910.0,142910.0,142910.0,142910.0,142910.0,142910.0,142910.0,142910.0,142910.0,142910.0,142910.0,142910.0,142910.0],\"yaxis\":\"y2\",\"type\":\"scattergl\"},{\"hovertemplate\":\"Industry=Internet<br>X=Job1<br>Rating=%{x}<br>Salary=%{y}<extra></extra>\",\"legendgroup\":\"Internet\",\"marker\":{\"color\":\"#19d3f3\",\"symbol\":\"circle\"},\"mode\":\"markers\",\"name\":\"Internet\",\"showlegend\":true,\"x\":[4.4,4.4,4.4,4.4,4.4,4.4,4.4,4.4,4.4,4.4,4.4,4.4,4.4,4.4,4.4,4.4,4.4,4.4,4.4,4.4,4.4,4.4,4.4,4.4,4.4,4.4,4.4,4.4,4.4,4.4,4.4,4.4,4.4,4.4,4.4,4.4,4.4,4.4,4.4,4.4,4.4,4.4,4.4,4.4,4.4,4.4,4.4,4.4,4.4,4.4,4.4,4.4,4.4,4.4,4.4,4.4,4.4,4.4,4.4,4.4,4.4,4.4,4.4,4.4,4.4,4.4,4.4,4.4,4.4,4.4,4.4,4.4,4.4,4.4,4.4,4.4,4.4,4.4,4.4,4.4,4.4,4.4,4.4,4.4,4.4,4.4,4.4,4.4,4.4,4.4,4.4,3.8,4.4,4.4,3.8,4.4,4.4,4.4,4.4,4.4,4.4,4.4,4.4,4.4,4.4,4.4,4.4,4.4,4.4,4.4,4.4,4.4,4.4,4.4,4.4,4.4,4.4,4.4,4.4,4.4,4.4,4.4,4.4,4.4,4.4,4.4,4.4,4.4,4.4,4.4,4.4,4.4,4.4,4.4,4.4,4.4,4.4,4.4,4.4,4.4,4.4,4.4,4.4,4.4,4.4,4.4,4.4,4.4,4.4,4.4,4.4,4.4,4.4,4.4,4.4,4.4,4.4,4.4,4.4,4.4,4.4,4.4,4.4,4.4,4.4,4.4],\"xaxis\":\"x2\",\"y\":[125000.0,188000.0,115000.0,144000.0,115000.0,144000.0,201500.0,115000.0,144000.0,115000.0,144000.0,201500.0,115000.0,273500.0,144000.0,125000.0,188000.0,273500.0,115000.0,125000.0,188000.0,273500.0,115000.0,125000.0,188000.0,115000.0,273500.0,125000.0,188000.0,115000.0,273500.0,125000.0,188000.0,115000.0,273500.0,125000.0,188000.0,115000.0,273500.0,125000.0,188000.0,273500.0,115000.0,125000.0,188000.0,188000.0,273500.0,125000.0,144000.0,201500.0,115000.0,125000.0,188000.0,125000.0,188000.0,188000.0,125000.0,144000.0,188000.0,125000.0,188000.0,125000.0,188000.0,125000.0,125000.0,188000.0,125000.0,188000.0,188000.0,125000.0,115000.0,125000.0,188000.0,125000.0,188000.0,228500.0,188000.0,115000.0,144000.0,228500.0,188000.0,115000.0,144000.0,228500.0,188000.0,188000.0,125000.0,115000.0,151000.0,219500.0,219500.0,126350.0,273500.0,219500.0,126350.0,273500.0,219500.0,273500.0,219500.0,273500.0,219500.0,273500.0,219500.0,273500.0,219500.0,273500.0,219500.0,201500.0,151000.0,273500.0,219500.0,151000.0,201500.0,273500.0,219500.0,151000.0,273500.0,219500.0,295000.0,151000.0,201500.0,273500.0,219500.0,295000.0,151000.0,201500.0,273500.0,219500.0,295000.0,151000.0,201500.0,273500.0,219500.0,295000.0,151000.0,219500.0,295000.0,273500.0,219500.0,295000.0,151000.0,273500.0,219500.0,295000.0,273500.0,219500.0,295000.0,273500.0,219500.0,273500.0,219500.0,273500.0,219500.0,273500.0,219500.0,295000.0,219500.0,273500.0,219500.0,151000.0,273500.0,219500.0,273500.0,219500.0,273500.0,219500.0],\"yaxis\":\"y2\",\"type\":\"scattergl\"},{\"hovertemplate\":\"Industry=Advertising & Marketing<br>X=Job1<br>Rating=%{x}<br>Salary=%{y}<extra></extra>\",\"legendgroup\":\"Advertising & Marketing\",\"marker\":{\"color\":\"#FF6692\",\"symbol\":\"circle\"},\"mode\":\"markers\",\"name\":\"Advertising & Marketing\",\"showlegend\":true,\"x\":[4.0,3.7,4.0,3.7,3.7,3.7,3.7,3.7,3.7,3.7,3.7,3.7],\"xaxis\":\"x2\",\"y\":[105000.0,104000.0,105000.0,104000.0,104000.0,104000.0,104000.0,104000.0,104000.0,104000.0,104000.0,104000.0],\"yaxis\":\"y2\",\"type\":\"scattergl\"},{\"hovertemplate\":\"Industry=Health Care Products Manufacturing<br>X=Job1<br>Rating=%{x}<br>Salary=%{y}<extra></extra>\",\"legendgroup\":\"Health Care Products Manufacturing\",\"marker\":{\"color\":\"#B6E880\",\"symbol\":\"circle\"},\"mode\":\"markers\",\"name\":\"Health Care Products Manufacturing\",\"showlegend\":true,\"x\":[3.8,3.8,3.8,3.8,3.8,3.8,3.8,3.8,3.8,3.8,3.8,3.8],\"xaxis\":\"x2\",\"y\":[120000.0,120000.0,120000.0,120000.0,120000.0,120000.0,120000.0,120000.0,120000.0,120000.0,120000.0,120000.0],\"yaxis\":\"y2\",\"type\":\"scattergl\"},{\"hovertemplate\":\"Industry=Insurance Carriers<br>X=Job1<br>Rating=%{x}<br>Salary=%{y}<extra></extra>\",\"legendgroup\":\"Insurance Carriers\",\"marker\":{\"color\":\"#FF97FF\",\"symbol\":\"circle\"},\"mode\":\"markers\",\"name\":\"Insurance Carriers\",\"showlegend\":true,\"x\":[3.3,3.9,3.9,3.9,3.9,3.3,3.3,3.9,3.3,3.9,3.3,3.9,3.3,3.9,3.3,3.9,3.9,3.3,3.9,3.3,3.9,3.9,3.9,3.3,3.9,3.9,3.3,3.9,3.3,3.9,3.9,3.3,3.9,3.9,3.3,3.9,3.9,3.3,3.9,3.9,3.3,3.9,3.9,3.3,3.9,3.9,3.3,3.9,3.9,3.3,3.9,3.9,3.3,3.9,3.3,3.3,3.3,3.3,3.3,3.9,3.9,3.9,3.9,3.9,3.9,3.9,3.9,3.9,3.9,3.9,3.9,3.9,3.9,3.9,3.9,3.9,3.9,3.9,3.9,3.9,3.9,3.9,3.3,3.9,3.9,3.3,3.9,3.9,3.3,3.9,3.9,3.9,3.3,3.9,3.3,3.9,3.3,3.9,3.9,3.3,3.9,3.9,3.9,3.9,3.9,3.9,3.9,3.9,3.9,3.3,3.9,3.3,3.7,3.3,3.7,3.3,3.9,3.3,3.9,3.3,3.9],\"xaxis\":\"x2\",\"y\":[100000.0,156800.0,125500.0,125500.0,156800.0,100000.0,100000.0,156800.0,100000.0,156800.0,100000.0,156800.0,100000.0,156800.0,100000.0,156800.0,156800.0,100000.0,156800.0,100000.0,125500.0,156800.0,156800.0,100000.0,125500.0,156800.0,100000.0,125500.0,100000.0,156800.0,125500.0,100000.0,156800.0,125500.0,100000.0,156800.0,125500.0,100000.0,156800.0,125500.0,100000.0,156800.0,125500.0,100000.0,156800.0,125500.0,100000.0,156800.0,125500.0,100000.0,156800.0,125500.0,100000.0,125500.0,100000.0,100000.0,100000.0,100000.0,100000.0,125500.0,156800.0,156800.0,156800.0,156800.0,125500.0,156800.0,156800.0,125500.0,156800.0,125500.0,156800.0,125500.0,156800.0,125500.0,156800.0,125500.0,156800.0,125500.0,156800.0,156800.0,125500.0,156800.0,100000.0,125500.0,156800.0,100000.0,125500.0,156800.0,100000.0,125500.0,125500.0,156800.0,100000.0,125500.0,100000.0,125500.0,100000.0,125500.0,156800.0,100000.0,125500.0,156800.0,125500.0,156800.0,156800.0,125500.0,156800.0,125500.0,156800.0,100000.0,125500.0,100000.0,125500.0,100000.0,125500.0,100000.0,125500.0,100000.0,125500.0,100000.0,125500.0],\"yaxis\":\"y2\",\"type\":\"scattergl\"},{\"hovertemplate\":\"Industry=Federal Agencies<br>X=Job2<br>Rating=%{x}<br>Salary=%{y}<extra></extra>\",\"legendgroup\":\"Federal Agencies\",\"marker\":{\"color\":\"#FECB52\",\"symbol\":\"circle\"},\"mode\":\"markers\",\"name\":\"Federal Agencies\",\"showlegend\":true,\"x\":[3.5,3.5,3.5,3.5,3.5,3.5,3.5,3.5,3.5,3.5,3.5,3.5,3.5,3.5,3.5,3.5,3.5,3.5,3.5,3.5,3.5,3.5,3.3,3.3,3.5,3.5,3.5,3.5,3.5,3.5,3.5,3.5,3.5,3.5,3.5,3.5,3.5,3.5,3.5,3.5,3.5,3.5],\"xaxis\":\"x\",\"y\":[101589.0,101589.0,101589.0,101589.0,101589.0,101589.0,101589.0,101589.0,101589.0,101589.0,101589.0,101589.0,101589.0,101589.0,101589.0,101589.0,101589.0,101589.0,101589.0,101589.0,101589.0,101589.0,85410.0,85410.0,101589.0,101589.0,101589.0,101589.0,101589.0,101589.0,101589.0,101589.0,101589.0,101589.0,101589.0,101589.0,101589.0,101589.0,101589.0,101589.0,101589.0,101589.0],\"yaxis\":\"y\",\"type\":\"scattergl\"},{\"hovertemplate\":\"Industry=IT Services<br>X=Job2<br>Rating=%{x}<br>Salary=%{y}<extra></extra>\",\"legendgroup\":\"IT Services\",\"marker\":{\"color\":\"#636efa\",\"symbol\":\"circle\"},\"mode\":\"markers\",\"name\":\"IT Services\",\"showlegend\":true,\"x\":[3.2,3.4],\"xaxis\":\"x\",\"y\":[115000.0,74880.0],\"yaxis\":\"y\",\"type\":\"scattergl\"},{\"hovertemplate\":\"Industry=Insurance Agencies & Brokerages<br>X=Job2<br>Rating=%{x}<br>Salary=%{y}<extra></extra>\",\"legendgroup\":\"Insurance Agencies & Brokerages\",\"marker\":{\"color\":\"#EF553B\",\"symbol\":\"circle\"},\"mode\":\"markers\",\"name\":\"Insurance Agencies & Brokerages\",\"showlegend\":true,\"x\":[3.5,3.5,3.5,3.5,3.5,3.5,3.5,3.5,3.5,3.8,3.5,3.8,3.5,3.8,3.5,3.8,3.5,3.5,3.5,3.5,3.8,3.5,3.5,3.5,3.5,3.5,3.5,3.8,3.5,3.5,3.8,3.8,3.5,3.5,3.8,3.5,3.5,3.5,3.5,3.5,3.5,3.5,3.5,3.5,3.8,3.5,3.5,3.5,3.5,3.5,3.5,3.5,3.5,3.5],\"xaxis\":\"x\",\"y\":[140350.0,140350.0,138500.0,113600.0,140350.0,138500.0,113600.0,138500.0,138500.0,138500.0,138500.0,138500.0,138500.0,138500.0,138500.0,138500.0,138500.0,138500.0,149850.0,124000.0,124000.0,149850.0,149850.0,138500.0,149850.0,149850.0,149850.0,138500.0,124000.0,149850.0,138500.0,124000.0,149850.0,149850.0,149850.0,138500.0,149850.0,138500.0,149850.0,138500.0,124000.0,149850.0,138500.0,124000.0,149850.0,138500.0,124000.0,149850.0,149850.0,149850.0,138500.0,149850.0,149850.0,149850.0],\"yaxis\":\"y\",\"type\":\"scattergl\"},{\"hovertemplate\":\"Industry=Accounting<br>X=Job2<br>Rating=%{x}<br>Salary=%{y}<extra></extra>\",\"legendgroup\":\"Accounting\",\"marker\":{\"color\":\"#00cc96\",\"symbol\":\"circle\"},\"mode\":\"markers\",\"name\":\"Accounting\",\"showlegend\":true,\"x\":[4.1,4.1,4.1,4.1],\"xaxis\":\"x\",\"y\":[115200.0,115200.0,115200.0,115200.0],\"yaxis\":\"y\",\"type\":\"scattergl\"},{\"hovertemplate\":\"Industry=Health Care Services & Hospitals<br>X=Job2<br>Rating=%{x}<br>Salary=%{y}<extra></extra>\",\"legendgroup\":\"Health Care Services & Hospitals\",\"marker\":{\"color\":\"#ab63fa\",\"symbol\":\"circle\"},\"mode\":\"markers\",\"name\":\"Health Care Services & Hospitals\",\"showlegend\":true,\"x\":[3.9,4.0,4.0,4.2,4.2,4.0,4.0,4.0,4.0,4.0,4.0,4.0],\"xaxis\":\"x\",\"y\":[127300.0,127300.0,127300.0,103123.2,103123.2,127300.0,127300.0,127300.0,127300.0,127300.0,127300.0,127300.0],\"yaxis\":\"y\",\"type\":\"scattergl\"},{\"hovertemplate\":\"Industry=Banks & Credit Unions<br>X=Job2<br>Rating=%{x}<br>Salary=%{y}<extra></extra>\",\"legendgroup\":\"Banks & Credit Unions\",\"marker\":{\"color\":\"#FFA15A\",\"symbol\":\"circle\"},\"mode\":\"markers\",\"name\":\"Banks & Credit Unions\",\"showlegend\":true,\"x\":[4.0,4.0,4.0,4.0,4.0,4.0,4.0,4.0,4.0,4.0,4.0,4.0],\"xaxis\":\"x\",\"y\":[110100.0,126650.0,126650.0,126650.0,126650.0,126650.0,126650.0,110100.0,126650.0,126650.0,110100.0,126650.0],\"yaxis\":\"y\",\"type\":\"scattergl\"},{\"hovertemplate\":\"Industry=Financial Transaction Processing<br>X=Job2<br>Rating=%{x}<br>Salary=%{y}<extra></extra>\",\"legendgroup\":\"Financial Transaction Processing\",\"marker\":{\"color\":\"#19d3f3\",\"symbol\":\"circle\"},\"mode\":\"markers\",\"name\":\"Financial Transaction Processing\",\"showlegend\":true,\"x\":[3.5],\"xaxis\":\"x\",\"y\":[107500.0],\"yaxis\":\"y\",\"type\":\"scattergl\"},{\"hovertemplate\":\"Industry=Consumer Products Manufacturing<br>X=Job2<br>Rating=%{x}<br>Salary=%{y}<extra></extra>\",\"legendgroup\":\"Consumer Products Manufacturing\",\"marker\":{\"color\":\"#FF6692\",\"symbol\":\"circle\"},\"mode\":\"markers\",\"name\":\"Consumer Products Manufacturing\",\"showlegend\":true,\"x\":[4.1,4.1,4.1,4.1,4.1,4.1,4.1,4.1,4.1,4.1,4.1,4.1,4.1,4.1,4.1,4.1,4.1,4.1,4.1,4.1,4.1,4.1,4.1,4.1,4.1,4.1,4.1,4.1,4.1,4.1,4.1,4.1,4.1,4.1,4.1,4.1,4.1,4.1,4.1,4.1],\"xaxis\":\"x\",\"y\":[140000.0,157500.0,140000.0,140000.0,157500.0,157500.0,140000.0,157500.0,157500.0,140000.0,157500.0,140000.0,157500.0,140000.0,157500.0,140000.0,157500.0,140000.0,157500.0,140000.0,157500.0,140000.0,157500.0,140000.0,157500.0,140000.0,157500.0,140000.0,157500.0,140000.0,157500.0,140000.0,157500.0,140000.0,157500.0,140000.0,157500.0,140000.0,157500.0,157500.0],\"yaxis\":\"y\",\"type\":\"scattergl\"},{\"hovertemplate\":\"Industry=Telecommunications Services<br>X=Job2<br>Rating=%{x}<br>Salary=%{y}<extra></extra>\",\"legendgroup\":\"Telecommunications Services\",\"marker\":{\"color\":\"#B6E880\",\"symbol\":\"circle\"},\"mode\":\"markers\",\"name\":\"Telecommunications Services\",\"showlegend\":true,\"x\":[3.9,3.9,4.0,4.0,1.0,4.0,3.0,4.0,4.0,4.0,4.0,4.0,4.0,4.0,4.0,4.0,4.0,4.0,4.0,4.0,4.0,4.0,4.0,4.0,4.0,4.0,4.0,4.0,3.0,4.0,4.0,4.0,4.0,3.0,4.0,4.0,4.0,4.0,3.0,4.0,4.0,4.0,4.0,3.0,4.0,4.0,4.0,3.0,4.0,4.0,4.0,4.0,3.0,4.0,4.0,4.0,4.0,4.0,3.0,4.0,4.0,4.0,4.0,3.0,4.0,4.0,4.0,4.0,3.0,4.0,4.0,4.0,3.0,4.0,4.0,4.0,4.0,3.0,4.0,4.0,4.0,4.0,3.0,4.0,4.0,4.0,3.0,4.0,4.0,4.0,4.0,3.0,4.0,4.0,4.0,4.0,3.0,4.0,4.0,4.0,3.0,4.0,4.0,3.0,4.0,4.0,4.0,3.0,4.0,4.0,4.0,4.0,4.0,4.0,4.0,3.0,4.0,4.0,4.0,4.0,4.0,3.0,4.0,4.0,4.0,4.0,4.0,3.0,4.0,4.0,4.0,4.0,4.0,3.0,4.0,4.0,4.0,4.0,4.0,1.0,4.0,4.0,3.0,4.0,4.0,4.0,4.0,4.0,4.0,1.0,4.0,4.0,4.0,4.0,3.0,4.0,4.0,4.0,4.0,4.0,4.0,4.0,4.0,4.0,4.0,4.0,4.0,4.0,2.6,4.0,4.0,4.0,4.0,4.0,4.0,4.0,4.0,4.0,4.0,4.0,4.0,4.0,4.0,4.0,4.0,4.0,4.0,4.0,4.0,4.0,4.0,4.0,4.0,4.0,4.0,4.0,4.0,4.0,4.0,4.0,4.0,4.0,4.0,4.0,4.0,4.0,4.0,4.0,4.0,4.0,4.0,4.0,4.0,4.0,4.0,4.0,4.0,4.0,4.0,4.0,4.0,4.0,4.0,4.0,4.0,4.0,4.0,4.0,4.0,4.0,4.0,4.0,4.0,4.0,4.0,4.0,4.0,4.0,4.0,4.0,4.0,4.0,4.0,4.0,4.0,4.0,4.0,4.0,4.0,4.0,4.0,4.0,4.0,4.0,4.0,4.0,4.0,4.0,4.0,4.0,4.0,4.0,4.0,4.0,4.0,4.0,4.0,4.0,4.0,4.0],\"xaxis\":\"x\",\"y\":[170000.0,170000.0,95000.0,202500.0,130000.0,125000.0,150000.0,125000.0,70000.0,100442.0,125000.0,145000.0,125000.0,125000.0,75319.0,115000.0,157500.0,80000.0,90000.0,157500.0,80000.0,90000.0,157500.0,80000.0,157500.0,157500.0,80000.0,157500.0,150000.0,125000.0,145000.0,125000.0,125000.0,150000.0,125000.0,145000.0,125000.0,125000.0,150000.0,125000.0,145000.0,125000.0,125000.0,150000.0,145000.0,125000.0,125000.0,150000.0,125000.0,145000.0,125000.0,125000.0,150000.0,125000.0,145000.0,125000.0,125000.0,115000.0,150000.0,125000.0,145000.0,125000.0,125000.0,150000.0,125000.0,125000.0,145000.0,115000.0,150000.0,125000.0,125000.0,145000.0,150000.0,125000.0,125000.0,145000.0,130000.0,150000.0,125000.0,125000.0,145000.0,125000.0,150000.0,125000.0,125000.0,145000.0,150000.0,125000.0,145000.0,125000.0,130000.0,150000.0,125000.0,145000.0,125000.0,130000.0,150000.0,125000.0,145000.0,125000.0,150000.0,125000.0,145000.0,150000.0,125000.0,145000.0,125000.0,150000.0,125000.0,125000.0,145000.0,125000.0,125000.0,90000.0,125000.0,150000.0,125000.0,145000.0,130000.0,125000.0,90000.0,150000.0,145000.0,130000.0,90000.0,100442.0,125000.0,150000.0,125000.0,125000.0,145000.0,125000.0,90000.0,150000.0,125000.0,100442.0,145000.0,125000.0,125000.0,130000.0,125000.0,90000.0,150000.0,125000.0,100442.0,145000.0,125000.0,125000.0,130000.0,130000.0,125000.0,125000.0,90000.0,100442.0,150000.0,145000.0,125000.0,125000.0,130000.0,76881.0,130000.0,182500.0,190000.0,208000.0,187000.0,125000.0,130000.0,72960.0,145000.0,208000.0,187000.0,125000.0,130000.0,208000.0,208000.0,137500.0,208000.0,125000.0,208000.0,208000.0,187000.0,208000.0,187000.0,208000.0,187000.0,182500.0,208000.0,187000.0,182500.0,187000.0,182500.0,208000.0,187000.0,182500.0,208000.0,187000.0,208000.0,187000.0,182500.0,208000.0,187000.0,182500.0,208000.0,145000.0,187000.0,125000.0,182500.0,208000.0,145000.0,187000.0,125000.0,182500.0,208000.0,145000.0,187000.0,125000.0,182500.0,208000.0,145000.0,187000.0,125000.0,182500.0,208000.0,145000.0,187000.0,125000.0,182500.0,208000.0,145000.0,187000.0,125000.0,182500.0,208000.0,145000.0,187000.0,125000.0,182500.0,208000.0,145000.0,187000.0,125000.0,182500.0,208000.0,145000.0,187000.0,125000.0,182500.0,208000.0,145000.0,187000.0,125000.0,182500.0,75319.0,208000.0,145000.0,187000.0,125000.0,182500.0,208000.0,145000.0,187000.0,125000.0,182500.0,75319.0,208000.0,145000.0,187000.0,125000.0,182500.0,75319.0],\"yaxis\":\"y\",\"type\":\"scattergl\"},{\"hovertemplate\":\"Industry=Computer Hardware & Software<br>X=Job2<br>Rating=%{x}<br>Salary=%{y}<extra></extra>\",\"legendgroup\":\"Computer Hardware & Software\",\"marker\":{\"color\":\"#FF97FF\",\"symbol\":\"circle\"},\"mode\":\"markers\",\"name\":\"Computer Hardware & Software\",\"showlegend\":true,\"x\":[3.5,3.5,3.5,3.5,3.5,3.5,3.5,3.5,3.5,3.5,3.5,3.5],\"xaxis\":\"x\",\"y\":[79680.0,79680.0,79680.0,79680.0,79680.0,79680.0,79680.0,79680.0,79680.0,79680.0,79680.0,79680.0],\"yaxis\":\"y\",\"type\":\"scattergl\"}],                        {\"template\":{\"data\":{\"bar\":[{\"error_x\":{\"color\":\"#2a3f5f\"},\"error_y\":{\"color\":\"#2a3f5f\"},\"marker\":{\"line\":{\"color\":\"#E5ECF6\",\"width\":0.5},\"pattern\":{\"fillmode\":\"overlay\",\"size\":10,\"solidity\":0.2}},\"type\":\"bar\"}],\"barpolar\":[{\"marker\":{\"line\":{\"color\":\"#E5ECF6\",\"width\":0.5},\"pattern\":{\"fillmode\":\"overlay\",\"size\":10,\"solidity\":0.2}},\"type\":\"barpolar\"}],\"carpet\":[{\"aaxis\":{\"endlinecolor\":\"#2a3f5f\",\"gridcolor\":\"white\",\"linecolor\":\"white\",\"minorgridcolor\":\"white\",\"startlinecolor\":\"#2a3f5f\"},\"baxis\":{\"endlinecolor\":\"#2a3f5f\",\"gridcolor\":\"white\",\"linecolor\":\"white\",\"minorgridcolor\":\"white\",\"startlinecolor\":\"#2a3f5f\"},\"type\":\"carpet\"}],\"choropleth\":[{\"colorbar\":{\"outlinewidth\":0,\"ticks\":\"\"},\"type\":\"choropleth\"}],\"contour\":[{\"colorbar\":{\"outlinewidth\":0,\"ticks\":\"\"},\"colorscale\":[[0.0,\"#0d0887\"],[0.1111111111111111,\"#46039f\"],[0.2222222222222222,\"#7201a8\"],[0.3333333333333333,\"#9c179e\"],[0.4444444444444444,\"#bd3786\"],[0.5555555555555556,\"#d8576b\"],[0.6666666666666666,\"#ed7953\"],[0.7777777777777778,\"#fb9f3a\"],[0.8888888888888888,\"#fdca26\"],[1.0,\"#f0f921\"]],\"type\":\"contour\"}],\"contourcarpet\":[{\"colorbar\":{\"outlinewidth\":0,\"ticks\":\"\"},\"type\":\"contourcarpet\"}],\"heatmap\":[{\"colorbar\":{\"outlinewidth\":0,\"ticks\":\"\"},\"colorscale\":[[0.0,\"#0d0887\"],[0.1111111111111111,\"#46039f\"],[0.2222222222222222,\"#7201a8\"],[0.3333333333333333,\"#9c179e\"],[0.4444444444444444,\"#bd3786\"],[0.5555555555555556,\"#d8576b\"],[0.6666666666666666,\"#ed7953\"],[0.7777777777777778,\"#fb9f3a\"],[0.8888888888888888,\"#fdca26\"],[1.0,\"#f0f921\"]],\"type\":\"heatmap\"}],\"heatmapgl\":[{\"colorbar\":{\"outlinewidth\":0,\"ticks\":\"\"},\"colorscale\":[[0.0,\"#0d0887\"],[0.1111111111111111,\"#46039f\"],[0.2222222222222222,\"#7201a8\"],[0.3333333333333333,\"#9c179e\"],[0.4444444444444444,\"#bd3786\"],[0.5555555555555556,\"#d8576b\"],[0.6666666666666666,\"#ed7953\"],[0.7777777777777778,\"#fb9f3a\"],[0.8888888888888888,\"#fdca26\"],[1.0,\"#f0f921\"]],\"type\":\"heatmapgl\"}],\"histogram\":[{\"marker\":{\"pattern\":{\"fillmode\":\"overlay\",\"size\":10,\"solidity\":0.2}},\"type\":\"histogram\"}],\"histogram2d\":[{\"colorbar\":{\"outlinewidth\":0,\"ticks\":\"\"},\"colorscale\":[[0.0,\"#0d0887\"],[0.1111111111111111,\"#46039f\"],[0.2222222222222222,\"#7201a8\"],[0.3333333333333333,\"#9c179e\"],[0.4444444444444444,\"#bd3786\"],[0.5555555555555556,\"#d8576b\"],[0.6666666666666666,\"#ed7953\"],[0.7777777777777778,\"#fb9f3a\"],[0.8888888888888888,\"#fdca26\"],[1.0,\"#f0f921\"]],\"type\":\"histogram2d\"}],\"histogram2dcontour\":[{\"colorbar\":{\"outlinewidth\":0,\"ticks\":\"\"},\"colorscale\":[[0.0,\"#0d0887\"],[0.1111111111111111,\"#46039f\"],[0.2222222222222222,\"#7201a8\"],[0.3333333333333333,\"#9c179e\"],[0.4444444444444444,\"#bd3786\"],[0.5555555555555556,\"#d8576b\"],[0.6666666666666666,\"#ed7953\"],[0.7777777777777778,\"#fb9f3a\"],[0.8888888888888888,\"#fdca26\"],[1.0,\"#f0f921\"]],\"type\":\"histogram2dcontour\"}],\"mesh3d\":[{\"colorbar\":{\"outlinewidth\":0,\"ticks\":\"\"},\"type\":\"mesh3d\"}],\"parcoords\":[{\"line\":{\"colorbar\":{\"outlinewidth\":0,\"ticks\":\"\"}},\"type\":\"parcoords\"}],\"pie\":[{\"automargin\":true,\"type\":\"pie\"}],\"scatter\":[{\"marker\":{\"colorbar\":{\"outlinewidth\":0,\"ticks\":\"\"}},\"type\":\"scatter\"}],\"scatter3d\":[{\"line\":{\"colorbar\":{\"outlinewidth\":0,\"ticks\":\"\"}},\"marker\":{\"colorbar\":{\"outlinewidth\":0,\"ticks\":\"\"}},\"type\":\"scatter3d\"}],\"scattercarpet\":[{\"marker\":{\"colorbar\":{\"outlinewidth\":0,\"ticks\":\"\"}},\"type\":\"scattercarpet\"}],\"scattergeo\":[{\"marker\":{\"colorbar\":{\"outlinewidth\":0,\"ticks\":\"\"}},\"type\":\"scattergeo\"}],\"scattergl\":[{\"marker\":{\"colorbar\":{\"outlinewidth\":0,\"ticks\":\"\"}},\"type\":\"scattergl\"}],\"scattermapbox\":[{\"marker\":{\"colorbar\":{\"outlinewidth\":0,\"ticks\":\"\"}},\"type\":\"scattermapbox\"}],\"scatterpolar\":[{\"marker\":{\"colorbar\":{\"outlinewidth\":0,\"ticks\":\"\"}},\"type\":\"scatterpolar\"}],\"scatterpolargl\":[{\"marker\":{\"colorbar\":{\"outlinewidth\":0,\"ticks\":\"\"}},\"type\":\"scatterpolargl\"}],\"scatterternary\":[{\"marker\":{\"colorbar\":{\"outlinewidth\":0,\"ticks\":\"\"}},\"type\":\"scatterternary\"}],\"surface\":[{\"colorbar\":{\"outlinewidth\":0,\"ticks\":\"\"},\"colorscale\":[[0.0,\"#0d0887\"],[0.1111111111111111,\"#46039f\"],[0.2222222222222222,\"#7201a8\"],[0.3333333333333333,\"#9c179e\"],[0.4444444444444444,\"#bd3786\"],[0.5555555555555556,\"#d8576b\"],[0.6666666666666666,\"#ed7953\"],[0.7777777777777778,\"#fb9f3a\"],[0.8888888888888888,\"#fdca26\"],[1.0,\"#f0f921\"]],\"type\":\"surface\"}],\"table\":[{\"cells\":{\"fill\":{\"color\":\"#EBF0F8\"},\"line\":{\"color\":\"white\"}},\"header\":{\"fill\":{\"color\":\"#C8D4E3\"},\"line\":{\"color\":\"white\"}},\"type\":\"table\"}]},\"layout\":{\"annotationdefaults\":{\"arrowcolor\":\"#2a3f5f\",\"arrowhead\":0,\"arrowwidth\":1},\"autotypenumbers\":\"strict\",\"coloraxis\":{\"colorbar\":{\"outlinewidth\":0,\"ticks\":\"\"}},\"colorscale\":{\"diverging\":[[0,\"#8e0152\"],[0.1,\"#c51b7d\"],[0.2,\"#de77ae\"],[0.3,\"#f1b6da\"],[0.4,\"#fde0ef\"],[0.5,\"#f7f7f7\"],[0.6,\"#e6f5d0\"],[0.7,\"#b8e186\"],[0.8,\"#7fbc41\"],[0.9,\"#4d9221\"],[1,\"#276419\"]],\"sequential\":[[0.0,\"#0d0887\"],[0.1111111111111111,\"#46039f\"],[0.2222222222222222,\"#7201a8\"],[0.3333333333333333,\"#9c179e\"],[0.4444444444444444,\"#bd3786\"],[0.5555555555555556,\"#d8576b\"],[0.6666666666666666,\"#ed7953\"],[0.7777777777777778,\"#fb9f3a\"],[0.8888888888888888,\"#fdca26\"],[1.0,\"#f0f921\"]],\"sequentialminus\":[[0.0,\"#0d0887\"],[0.1111111111111111,\"#46039f\"],[0.2222222222222222,\"#7201a8\"],[0.3333333333333333,\"#9c179e\"],[0.4444444444444444,\"#bd3786\"],[0.5555555555555556,\"#d8576b\"],[0.6666666666666666,\"#ed7953\"],[0.7777777777777778,\"#fb9f3a\"],[0.8888888888888888,\"#fdca26\"],[1.0,\"#f0f921\"]]},\"colorway\":[\"#636efa\",\"#EF553B\",\"#00cc96\",\"#ab63fa\",\"#FFA15A\",\"#19d3f3\",\"#FF6692\",\"#B6E880\",\"#FF97FF\",\"#FECB52\"],\"font\":{\"color\":\"#2a3f5f\"},\"geo\":{\"bgcolor\":\"white\",\"lakecolor\":\"white\",\"landcolor\":\"#E5ECF6\",\"showlakes\":true,\"showland\":true,\"subunitcolor\":\"white\"},\"hoverlabel\":{\"align\":\"left\"},\"hovermode\":\"closest\",\"mapbox\":{\"style\":\"light\"},\"paper_bgcolor\":\"white\",\"plot_bgcolor\":\"#E5ECF6\",\"polar\":{\"angularaxis\":{\"gridcolor\":\"white\",\"linecolor\":\"white\",\"ticks\":\"\"},\"bgcolor\":\"#E5ECF6\",\"radialaxis\":{\"gridcolor\":\"white\",\"linecolor\":\"white\",\"ticks\":\"\"}},\"scene\":{\"xaxis\":{\"backgroundcolor\":\"#E5ECF6\",\"gridcolor\":\"white\",\"gridwidth\":2,\"linecolor\":\"white\",\"showbackground\":true,\"ticks\":\"\",\"zerolinecolor\":\"white\"},\"yaxis\":{\"backgroundcolor\":\"#E5ECF6\",\"gridcolor\":\"white\",\"gridwidth\":2,\"linecolor\":\"white\",\"showbackground\":true,\"ticks\":\"\",\"zerolinecolor\":\"white\"},\"zaxis\":{\"backgroundcolor\":\"#E5ECF6\",\"gridcolor\":\"white\",\"gridwidth\":2,\"linecolor\":\"white\",\"showbackground\":true,\"ticks\":\"\",\"zerolinecolor\":\"white\"}},\"shapedefaults\":{\"line\":{\"color\":\"#2a3f5f\"}},\"ternary\":{\"aaxis\":{\"gridcolor\":\"white\",\"linecolor\":\"white\",\"ticks\":\"\"},\"baxis\":{\"gridcolor\":\"white\",\"linecolor\":\"white\",\"ticks\":\"\"},\"bgcolor\":\"#E5ECF6\",\"caxis\":{\"gridcolor\":\"white\",\"linecolor\":\"white\",\"ticks\":\"\"}},\"title\":{\"x\":0.05},\"xaxis\":{\"automargin\":true,\"gridcolor\":\"white\",\"linecolor\":\"white\",\"ticks\":\"\",\"title\":{\"standoff\":15},\"zerolinecolor\":\"white\",\"zerolinewidth\":2},\"yaxis\":{\"automargin\":true,\"gridcolor\":\"white\",\"linecolor\":\"white\",\"ticks\":\"\",\"title\":{\"standoff\":15},\"zerolinecolor\":\"white\",\"zerolinewidth\":2}}},\"xaxis\":{\"anchor\":\"y\",\"domain\":[0.0,0.98],\"title\":{\"text\":\"Rating\"}},\"yaxis\":{\"anchor\":\"x\",\"domain\":[0.0,0.485],\"title\":{\"text\":\"Salary\"}},\"xaxis2\":{\"anchor\":\"y2\",\"domain\":[0.0,0.98],\"matches\":\"x\",\"showticklabels\":false},\"yaxis2\":{\"anchor\":\"x2\",\"domain\":[0.515,1.0],\"matches\":\"y\",\"title\":{\"text\":\"Salary\"}},\"annotations\":[{\"font\":{},\"showarrow\":false,\"text\":\"X=Job2\",\"textangle\":90,\"x\":0.98,\"xanchor\":\"left\",\"xref\":\"paper\",\"y\":0.2425,\"yanchor\":\"middle\",\"yref\":\"paper\"},{\"font\":{},\"showarrow\":false,\"text\":\"X=Job1\",\"textangle\":90,\"x\":0.98,\"xanchor\":\"left\",\"xref\":\"paper\",\"y\":0.7575000000000001,\"yanchor\":\"middle\",\"yref\":\"paper\"}],\"legend\":{\"title\":{\"text\":\"Industry\"},\"tracegroupgap\":0},\"margin\":{\"t\":60}},                        {\"responsive\": true}                    ).then(function(){\n",
       "                            \n",
       "var gd = document.getElementById('074a2001-daf6-4489-9cc8-e6da7cb4850d');\n",
       "var x = new MutationObserver(function (mutations, observer) {{\n",
       "        var display = window.getComputedStyle(gd).display;\n",
       "        if (!display || display === 'none') {{\n",
       "            console.log([gd, 'removed!']);\n",
       "            Plotly.purge(gd);\n",
       "            observer.disconnect();\n",
       "        }}\n",
       "}});\n",
       "\n",
       "// Listen for the removal of the full notebook cells\n",
       "var notebookContainer = gd.closest('#notebook-container');\n",
       "if (notebookContainer) {{\n",
       "    x.observe(notebookContainer, {childList: true});\n",
       "}}\n",
       "\n",
       "// Listen for the clearing of the current output cell\n",
       "var outputEl = gd.closest('.output');\n",
       "if (outputEl) {{\n",
       "    x.observe(outputEl, {childList: true});\n",
       "}}\n",
       "\n",
       "                        })                };                });            </script>        </div>"
      ]
     },
     "metadata": {},
     "output_type": "display_data"
    }
   ],
   "source": [
    "df['X'] = np.where(df['Industry'].isin(df['Industry'].unique()[:9]),'Job1','Job2')\n",
    "fig = px.scatter(df, y=\"Salary\", x=\"Rating\", color=\"Industry\",facet_row='X')\n",
    "fig.show()"
   ]
  },
  {
   "cell_type": "code",
   "execution_count": 320,
   "id": "86bc42bc",
   "metadata": {},
   "outputs": [
    {
     "data": {
      "text/plain": [
       "Index(['Name', 'Title', 'Location', 'Salary', 'Rating', 'Size', 'Founded',\n",
       "       'Type', 'Industry', 'Sector', 'Revenue', 'Dscrb', 'Seniority', 'Python',\n",
       "       'R', 'SQL', 'Spark', 'Aws', 'Excel', 'PowerBI', 'Tableau', 'X'],\n",
       "      dtype='object')"
      ]
     },
     "execution_count": 320,
     "metadata": {},
     "output_type": "execute_result"
    }
   ],
   "source": [
    "symbols = ['circle', 'x','square','triangle-up']\n",
    ",symbol_sequence = symbols"
   ]
  },
  {
   "cell_type": "code",
   "execution_count": 387,
   "id": "761af8cd",
   "metadata": {},
   "outputs": [
    {
     "data": {
      "application/vnd.plotly.v1+json": {
       "config": {
        "plotlyServerURL": "https://plot.ly"
       },
       "data": [
        {
         "hovertemplate": "Seniority=none<br>Title=%{x}<br>Salary=%{y}<extra></extra>",
         "legendgroup": "none",
         "marker": {
          "color": "#636efa",
          "symbol": "circle"
         },
         "mode": "markers",
         "name": "none",
         "showlegend": true,
         "type": "scattergl",
         "x": [
          "Data Scietist",
          "Data Scietist",
          "Data Scietist",
          "Data Scietist",
          "Data Scietist",
          "Data Engineer",
          "Data Scietist",
          "Data Scietist",
          "Data Scietist",
          "Data Engineer",
          "Data Scietist",
          "Data Analyst",
          "Data Scietist",
          "Data Scietist",
          "Data Scietist",
          "Data Analyst",
          "Data Scietist",
          "Data Engineer",
          "Data Scietist",
          "Data Scietist",
          "Data Scietist",
          "Data Engineer",
          "Data Scietist",
          "Data Scietist",
          "Data Scietist",
          "Data Scietist",
          "Data Engineer",
          "Data Scietist",
          "Data Scietist",
          "Data Scietist",
          "Data Scietist",
          "Data Scietist",
          "Data Scietist",
          "Data Engineer",
          "Data Scietist",
          "Data Scietist",
          "Data Scietist",
          "Data Scietist",
          "Data Scietist",
          "Data Scietist",
          "Data Scietist",
          "Data Scietist",
          "Data Scietist",
          "Data Scietist",
          "Data Engineer",
          "Data Scietist",
          "Data Scietist",
          "Data Scietist",
          "Data Scietist",
          "Data Scietist",
          "Data Scietist",
          "Data Scietist",
          "Data Scietist",
          "Data Engineer",
          "Data Scietist",
          "Data Scietist",
          "Data Scietist",
          "Data Scietist",
          "Data Scietist",
          "Data Scietist",
          "Data Scietist",
          "Data Engineer",
          "Data Scietist",
          "Data Scietist",
          "Data Scietist",
          "Data Scietist",
          "Data Scietist",
          "Data Scietist",
          "Data Scietist",
          "Data Engineer",
          "Data Scietist",
          "Data Scietist",
          "Data Scietist",
          "Data Scietist",
          "Data Scietist",
          "Data Scietist",
          "Data Scietist",
          "Data Engineer",
          "Data Scietist",
          "Data Scietist",
          "Data Scietist",
          "Data Scietist",
          "Data Scietist",
          "Data Scietist",
          "Data Scietist",
          "Data Engineer",
          "Data Scietist",
          "Data Scietist",
          "Data Scietist",
          "Data Scietist",
          "Data Scietist",
          "Data Scietist",
          "Data Scietist",
          "Data Engineer",
          "Data Scietist",
          "Data Scietist",
          "Data Scietist",
          "Data Scietist",
          "Data Scietist",
          "Data Engineer",
          "Data Scietist",
          "Data Scietist",
          "Data Scietist",
          "Data Analyst",
          "Data Scietist",
          "Data Scietist",
          "Data Scietist",
          "Data Scietist",
          "Data Scietist",
          "Data Scietist",
          "Data Scietist",
          "Data Scietist",
          "Data Scietist",
          "Data Scietist",
          "Data Scietist",
          "Data Analyst",
          "Data Scietist",
          "Data Scietist",
          "Data Scietist",
          "Data Scietist",
          "Data Analyst",
          "Data Scietist",
          "Data Scietist",
          "Data Scietist",
          "Data Scietist",
          "Data Scietist",
          "Data Scietist",
          "Data Scietist",
          "Data Scietist",
          "Data Analyst",
          "Data Scietist",
          "Data Scietist",
          "Data Scietist",
          "Data Scietist",
          "Data Scietist",
          "Data Analyst",
          "Data Scietist",
          "Data Scietist",
          "Data Scietist",
          "Data Scietist",
          "Data Scietist",
          "Data Scietist",
          "Data Analyst",
          "Data Scietist",
          "Data Scietist",
          "Data Scietist",
          "Data Scietist",
          "Data Scietist",
          "Data Scietist",
          "Data Scietist",
          "Data Scietist",
          "Data Analyst",
          "Data Scietist",
          "Data Scietist",
          "Data Scietist",
          "Data Scietist",
          "Data Scietist",
          "Data Scietist",
          "Data Scietist",
          "Data Analyst",
          "Data Scietist",
          "Data Scietist",
          "Data Scietist",
          "Data Scietist",
          "Data Scietist",
          "Data Scietist",
          "Data Scietist",
          "Data Scietist",
          "Data Scietist",
          "Data Analyst",
          "Data Scietist",
          "Data Scietist",
          "Data Scietist",
          "Data Scietist",
          "Data Scietist",
          "Data Scietist",
          "Data Scietist",
          "Data Scietist",
          "Data Scietist",
          "Data Scietist",
          "Data Scietist",
          "Data Analyst",
          "Data Scietist",
          "Data Scietist",
          "Data Scietist",
          "Data Scietist",
          "Data Scietist",
          "Data Scietist",
          "Data Scietist",
          "Data Scietist",
          "Data Analyst",
          "Data Scietist",
          "Data Scietist",
          "Data Scietist",
          "Data Scietist",
          "Data Scietist",
          "Data Scietist",
          "Data Analyst",
          "Data Scietist",
          "Data Scietist",
          "Data Scietist",
          "Data Scietist",
          "Data Scietist",
          "Data Scietist",
          "Data Scietist",
          "Data Scietist",
          "Data Scietist",
          "Data Scietist",
          "Data Scietist",
          "Data Scietist",
          "Data Scietist",
          "Data Scietist",
          "Data Scietist",
          "Data Scietist",
          "Data Scietist",
          "Data Scietist",
          "Data Scietist",
          "Data Scietist",
          "Data Scietist",
          "Data Scietist",
          "Data Scietist",
          "Data Scietist",
          "Data Scietist",
          "Data Scietist",
          "Data Scietist",
          "Data Scietist",
          "Data Scietist",
          "Data Scietist",
          "Data Scietist",
          "Data Scietist",
          "Data Scietist",
          "Data Scietist",
          "Data Analyst",
          "Data Scietist",
          "Data Scietist",
          "Data Scietist",
          "Data Scietist",
          "Data Scietist",
          "Data Scietist",
          "Data Scietist",
          "Data Scietist",
          "Data Scietist",
          "Data Scietist",
          "Data Scietist",
          "Data Scietist",
          "Data Scietist",
          "Data Scietist",
          "Data Scietist",
          "Data Scietist",
          "Data Scietist",
          "Data Scietist",
          "Data Scietist",
          "Data Scietist",
          "Data Scietist",
          "Data Scietist",
          "Data Scietist",
          "Data Scietist",
          "Data Scietist",
          "Data Engineer",
          "Data Scietist",
          "Data Scietist",
          "Data Scietist",
          "Data Scietist",
          "Data Scietist",
          "Data Scietist",
          "Data Scietist",
          "Data Scietist",
          "Data Engineer",
          "Data Scietist",
          "Data Analyst",
          "Data Scietist",
          "Data Scietist",
          "Data Scietist",
          "Data Scietist",
          "Data Scietist",
          "Data Scietist",
          "Data Analyst",
          "Data Scietist",
          "Data Scietist",
          "Data Scietist",
          "Data Scietist",
          "Data Scietist",
          "Data Scietist",
          "Data Scietist",
          "Data Analyst",
          "Data Scietist",
          "Data Scietist",
          "Data Scietist",
          "Data Scietist",
          "Data Scietist",
          "Data Scietist",
          "Data Scietist",
          "Data Scietist",
          "Data Scietist",
          "Data Analyst",
          "Data Scietist",
          "Data Scietist",
          "Data Scietist",
          "Data Scietist",
          "Data Scietist",
          "Data Scietist",
          "Data Scietist",
          "Data Analyst",
          "Data Scietist",
          "Data Scietist",
          "Data Scietist",
          "Data Scietist",
          "Data Scietist",
          "Data Scietist",
          "Data Scietist",
          "Data Scietist",
          "Data Scietist",
          "Data Analyst",
          "Data Scietist",
          "Data Scietist",
          "Data Scietist",
          "Data Scietist",
          "Data Analyst",
          "Data Scietist",
          "Data Scietist",
          "Data Scietist",
          "Data Scietist",
          "Data Scietist",
          "Data Scietist",
          "Data Scietist",
          "Data Analyst",
          "Data Scietist",
          "Data Scietist",
          "Data Scietist",
          "Data Scietist",
          "Data Scietist",
          "Data Scietist",
          "Data Scietist",
          "Data Scietist",
          "Data Scietist",
          "Data Scietist",
          "Data Scietist",
          "Data Analyst",
          "Data Scietist",
          "Data Scietist",
          "Data Scietist",
          "Data Analyst",
          "Data Scietist",
          "Data Scietist",
          "Data Scietist",
          "Data Scietist",
          "Data Scietist",
          "Data Scietist",
          "Data Analyst",
          "Data Scietist",
          "Data Scietist",
          "Data Scietist",
          "Data Scietist",
          "Data Analyst",
          "Data Scietist",
          "Data Scietist",
          "Data Scietist",
          "Data Scietist",
          "Data Scietist",
          "Data Analyst",
          "Data Scietist",
          "Data Scietist",
          "Data Scietist",
          "Data Analyst",
          "Data Scietist",
          "Data Scietist",
          "Data Scietist",
          "Data Scietist",
          "Data Analyst",
          "Data Scietist",
          "Data Scietist",
          "Data Scietist",
          "Data Analyst",
          "Data Scietist",
          "Data Scietist",
          "Data Scietist",
          "Data Analyst",
          "Data Scietist",
          "Data Scietist",
          "Data Scietist",
          "Data Analyst",
          "Data Scietist",
          "Data Scietist",
          "Data Scietist",
          "Data Analyst",
          "Data Scietist",
          "Data Scietist",
          "Data Scietist",
          "Data Scietist",
          "Data Analyst",
          "Data Scietist",
          "Data Scietist",
          "Data Analyst",
          "Data Scietist",
          "Data Scietist",
          "Data Scietist",
          "Data Analyst",
          "Data Scietist",
          "Data Scietist",
          "Data Scietist",
          "Data Scietist",
          "Data Analyst",
          "Data Scietist",
          "Data Scietist",
          "Data Scietist",
          "Data Scietist",
          "Data Analyst",
          "Data Scietist",
          "Data Scietist",
          "Data Scietist",
          "Data Scietist",
          "Data Analyst",
          "Data Scietist",
          "Data Scietist",
          "Data Scietist",
          "Data Scietist",
          "Data Scietist",
          "Data Scietist",
          "Data Scietist",
          "ML",
          "Data Analyst",
          "Data Analyst",
          "Data Scietist",
          "Data Analyst",
          "Data Scietist",
          "Data Analyst",
          "Data Scietist",
          "Data Analyst",
          "Data Scietist",
          "Data Scietist",
          "ML",
          "Data Scietist",
          "ML",
          "Data Scietist",
          "ML",
          "Data Scietist",
          "ML",
          "Data Scietist",
          "ML",
          "Data Scietist",
          "ML",
          "Data Analyst",
          "Data Scietist",
          "ML",
          "Data Scietist",
          "Data Analyst",
          "Data Scietist",
          "Data Scietist",
          "Data Scietist",
          "Data Scietist",
          "Data Scietist",
          "Data Scietist",
          "Data Scietist",
          "Data Scietist",
          "Data Scietist",
          "Data Scietist",
          "Data Scietist",
          "ML",
          "Data Scietist",
          "Data Scietist",
          "ML",
          "Data Scietist",
          "Data Scietist",
          "Data Scietist",
          "Data Scietist",
          "ML",
          "Data Scietist",
          "Data Scietist",
          "ML",
          "Data Scietist",
          "Data Scietist",
          "Data Scietist",
          "ML",
          "Data Scietist",
          "Data Scietist",
          "Data Scietist",
          "ML",
          "Data Scietist",
          "Data Scietist",
          "Data Scietist",
          "Data Scietist",
          "ML",
          "Data Scietist",
          "Data Scietist",
          "ML",
          "Data Scietist",
          "ML",
          "Data Scietist",
          "Data Scietist",
          "Data Scietist",
          "Data Scietist",
          "Data Scietist",
          "Data Scietist",
          "Data Scietist",
          "ML",
          "Data Scietist",
          "Data Scietist",
          "ML",
          "Data Scietist",
          "Data Scietist",
          "ML",
          "Data Scietist",
          "Data Scietist",
          "ML",
          "Data Scietist",
          "Data Scietist",
          "ML",
          "Data Scietist",
          "Data Scietist",
          "ML",
          "Data Scietist",
          "Data Scietist",
          "ML",
          "Data Scietist",
          "Data Scietist",
          "ML",
          "Data Scietist",
          "Data Scietist",
          "ML",
          "Data Scietist",
          "Data Scietist",
          "ML",
          "Data Scietist",
          "Data Scietist",
          "ML",
          "Data Scietist",
          "Data Scietist",
          "ML",
          "Data Scietist",
          "Data Scietist",
          "ML",
          "Data Scietist"
         ],
         "xaxis": "x",
         "y": [
          132500,
          129770,
          142910,
          125000,
          105000,
          120000,
          100000,
          101589,
          115000,
          89200,
          144000,
          125500,
          104000,
          115000,
          144000,
          125500,
          115000,
          89200,
          140000,
          110400,
          150000,
          120000,
          115000,
          144000,
          150000,
          150000,
          120000,
          115000,
          144000,
          113600,
          115200,
          117500,
          150000,
          120000,
          115000,
          144000,
          113600,
          125000,
          120000,
          150000,
          129770,
          142910,
          125000,
          105000,
          120000,
          101589,
          100000,
          115000,
          150000,
          132500,
          129770,
          142910,
          125000,
          120000,
          101589,
          100000,
          115000,
          150000,
          129770,
          142910,
          125000,
          120000,
          101589,
          100000,
          115000,
          150000,
          129770,
          142910,
          125000,
          120000,
          101589,
          100000,
          115000,
          150000,
          129770,
          142910,
          125000,
          120000,
          101589,
          100000,
          115000,
          150000,
          129770,
          142910,
          125000,
          120000,
          101589,
          100000,
          115000,
          150000,
          142910,
          125000,
          101589,
          120000,
          100000,
          115000,
          142910,
          125000,
          129770,
          120000,
          101589,
          100000,
          104000,
          125500,
          142910,
          125000,
          144000,
          101589,
          115000,
          155000,
          142910,
          125000,
          101589,
          100000,
          155000,
          125500,
          100000,
          142910,
          125000,
          101589,
          125500,
          155000,
          135000,
          150000,
          125000,
          100000,
          101589,
          129770,
          144000,
          125500,
          150000,
          101589,
          125000,
          100000,
          129770,
          125500,
          104000,
          150000,
          101589,
          125000,
          100000,
          129770,
          125500,
          104000,
          150000,
          132500,
          125000,
          101589,
          100000,
          129770,
          104000,
          125500,
          150000,
          132500,
          125000,
          101589,
          100000,
          129770,
          104000,
          125500,
          125000,
          107500,
          150000,
          132500,
          125000,
          101589,
          100000,
          129770,
          104000,
          125500,
          125000,
          107500,
          150000,
          132500,
          100000,
          142910,
          101589,
          129770,
          125000,
          115000,
          104000,
          125500,
          150000,
          132500,
          125000,
          100000,
          101589,
          129770,
          104000,
          125000,
          125500,
          150000,
          125000,
          100000,
          101589,
          125000,
          104000,
          125500,
          150000,
          129770,
          115000,
          100000,
          144000,
          125000,
          127300,
          107500,
          150000,
          129770,
          115000,
          100000,
          144000,
          107500,
          125000,
          150000,
          132500,
          129770,
          100000,
          125000,
          150000,
          132500,
          129770,
          125000,
          100000,
          115000,
          125000,
          102652,
          100000,
          103127,
          110100,
          104102.4,
          155000,
          101589,
          125500,
          107500,
          105600,
          130000,
          127300,
          110400,
          140000,
          110290,
          130000,
          155000,
          115200,
          142910,
          157500,
          127300,
          110290,
          126800,
          142910,
          126650,
          107500,
          126800,
          155000,
          146000,
          103123.2,
          78720,
          126350,
          85410,
          170000,
          142910,
          126800,
          155000,
          146000,
          120000,
          103123.2,
          126350,
          85410,
          170000,
          142910,
          125500,
          107500,
          126800,
          156800,
          127300,
          142910,
          126650,
          125500,
          104102.4,
          115200,
          105600,
          140000,
          146000,
          142910,
          126650,
          125500,
          127300,
          126800,
          104102.4,
          140000,
          105600,
          120000,
          115200,
          155000,
          142910,
          125500,
          126650,
          127300,
          155000,
          126800,
          104102.4,
          140000,
          105600,
          125500,
          142910,
          126650,
          127300,
          101589,
          104102.4,
          155000,
          126800,
          140000,
          142910,
          125500,
          126650,
          101589,
          127300,
          104102.4,
          125500,
          142910,
          110100,
          127300,
          104102.4,
          155000,
          156800,
          142910,
          125500,
          126650,
          101589,
          104102.4,
          105600,
          140000,
          127300,
          126800,
          155000,
          142910,
          100000,
          295000,
          125500,
          101589,
          142910,
          100000,
          125500,
          295000,
          101589,
          126650,
          100000,
          142910,
          295000,
          125500,
          101589,
          110100,
          142910,
          295000,
          125500,
          101589,
          126650,
          100000,
          142910,
          295000,
          125500,
          100000,
          142910,
          295000,
          125500,
          101589,
          100000,
          142910,
          295000,
          125500,
          101589,
          100000,
          142910,
          125500,
          295000,
          101589,
          142910,
          125500,
          101589,
          156800,
          142910,
          125500,
          101589,
          142910,
          219500,
          125500,
          101589,
          100000,
          142910,
          295000,
          125500,
          100000,
          142910,
          125500,
          101589,
          100000,
          142910,
          125500,
          101589,
          103127,
          100000,
          142910,
          125500,
          101589,
          103127,
          100000,
          142910,
          125500,
          101589,
          103127,
          100000,
          142910,
          125500,
          101589,
          103127,
          95000,
          125000,
          125000,
          100442,
          145000,
          125000,
          115000,
          157500,
          80000,
          157500,
          80000,
          157500,
          80000,
          157500,
          80000,
          145000,
          125000,
          145000,
          125000,
          145000,
          125000,
          145000,
          125000,
          145000,
          125000,
          145000,
          125000,
          115000,
          145000,
          125000,
          145000,
          115000,
          145000,
          145000,
          145000,
          125000,
          145000,
          145000,
          145000,
          145000,
          145000,
          145000,
          125000,
          125000,
          145000,
          125000,
          125000,
          145000,
          125000,
          145000,
          100442,
          125000,
          145000,
          125000,
          125000,
          100442,
          145000,
          125000,
          125000,
          100442,
          145000,
          125000,
          125000,
          100442,
          145000,
          76881,
          182500,
          125000,
          72960,
          145000,
          125000,
          137500,
          125000,
          182500,
          182500,
          182500,
          182500,
          182500,
          182500,
          145000,
          125000,
          182500,
          145000,
          125000,
          182500,
          145000,
          125000,
          182500,
          145000,
          125000,
          182500,
          145000,
          125000,
          182500,
          145000,
          125000,
          182500,
          145000,
          125000,
          182500,
          145000,
          125000,
          182500,
          145000,
          125000,
          182500,
          145000,
          125000,
          182500,
          145000,
          125000,
          182500,
          145000,
          125000,
          182500,
          145000,
          125000,
          182500
         ],
         "yaxis": "y"
        },
        {
         "hovertemplate": "Seniority=1<br>Title=%{x}<br>Salary=%{y}<extra></extra>",
         "legendgroup": "1",
         "marker": {
          "color": "#EF553B",
          "symbol": "circle"
         },
         "mode": "markers",
         "name": "1",
         "showlegend": true,
         "type": "scattergl",
         "x": [
          "Data Scietist",
          "Data Scietist",
          "Data Scietist",
          "Data Scietist",
          "Data Scietist",
          "Data Scietist",
          "Data Scietist",
          "Data Scietist",
          "Data Scietist",
          "Data Scietist",
          "Data Scietist",
          "Data Scietist",
          "Data Scietist",
          "Data Scietist",
          "Data Scietist",
          "Data Scietist",
          "Data Scietist",
          "Data Scietist",
          "Data Scietist",
          "Data Scietist",
          "Data Scietist",
          "Data Scietist",
          "Data Scietist",
          "Data Scietist",
          "Data Scietist",
          "Data Scietist",
          "Data Scietist",
          "Data Scietist",
          "Data Scietist",
          "Data Scietist",
          "Data Scietist",
          "Data Scietist",
          "Data Scietist",
          "Data Scietist",
          "Data Scietist",
          "Data Scietist",
          "Data Scietist",
          "Data Scietist",
          "Data Scietist",
          "Data Scietist",
          "Data Scietist",
          "Data Scietist",
          "Data Scietist",
          "Data Scietist",
          "Data Scietist",
          "Data Scietist",
          "Data Scietist",
          "Data Scietist",
          "Data Scietist",
          "Data Scietist",
          "Data Scietist",
          "Data Scietist",
          "Data Scietist",
          "Data Scietist",
          "Data Scietist",
          "Data Scietist",
          "Data Scietist",
          "Data Scietist",
          "Data Scietist",
          "Data Scietist",
          "Data Scietist",
          "Data Scietist",
          "Data Scietist",
          "Data Scietist",
          "Data Scietist",
          "Data Scietist",
          "Data Scietist",
          "Data Scietist",
          "Data Scietist",
          "Data Scietist",
          "Data Scietist",
          "Data Scietist",
          "Data Scietist",
          "Data Scietist",
          "Data Scietist",
          "Data Scietist",
          "Data Scietist",
          "Data Scietist",
          "Data Scietist",
          "Data Scietist",
          "Data Scietist",
          "Data Scietist",
          "Data Scietist",
          "Data Scietist",
          "Data Scietist",
          "Data Scietist",
          "Data Scietist",
          "Data Scietist",
          "Data Scietist",
          "Data Scietist",
          "Data Scietist",
          "Data Scietist",
          "Data Scietist",
          "Data Scietist",
          "Data Scietist",
          "Data Scietist",
          "Data Scietist",
          "Data Scietist",
          "Data Scietist",
          "Data Scietist",
          "Data Scietist",
          "Data Scietist",
          "Data Scietist",
          "Data Scietist",
          "Data Scietist",
          "Data Scietist",
          "Data Scietist",
          "Data Scietist",
          "Data Scietist",
          "Data Scietist",
          "Data Scietist",
          "Data Scietist",
          "Data Scietist",
          "Data Scietist",
          "Data Scietist",
          "Data Scietist",
          "Data Scietist",
          "Data Scietist",
          "Data Scietist",
          "Data Scietist",
          "Data Scietist",
          "Data Scietist",
          "Data Scietist",
          "Data Scietist",
          "Data Scietist",
          "Data Scietist",
          "Data Scietist",
          "Data Scietist",
          "Data Scietist",
          "Data Scietist",
          "Data Scietist",
          "Data Scietist",
          "Data Scietist",
          "Data Scietist",
          "Data Scietist",
          "Data Scietist",
          "Data Scietist",
          "Data Scietist",
          "Data Scietist",
          "Data Scietist",
          "Data Scietist",
          "Data Scietist",
          "Data Scietist",
          "Data Scietist",
          "Data Scietist",
          "Data Scietist",
          "Data Scietist",
          "Data Scietist",
          "Data Scietist",
          "Data Scietist",
          "Data Scietist",
          "Data Scietist",
          "Data Scietist",
          "Data Scietist",
          "Data Scietist",
          "Data Scietist",
          "Data Scietist",
          "Data Scietist",
          "Data Scietist",
          "Data Scietist",
          "Data Scietist",
          "Data Scietist",
          "Data Scietist",
          "Data Scietist",
          "Data Scietist",
          "Data Scietist",
          "Data Scietist",
          "Data Scietist",
          "Data Scietist",
          "Data Scietist",
          "Data Scietist",
          "Data Scietist",
          "Data Scietist",
          "Data Scietist",
          "Data Scietist",
          "Data Scietist",
          "Data Scietist",
          "Data Scietist",
          "Data Scietist",
          "Data Scietist",
          "Data Scietist",
          "Data Scietist",
          "Data Scietist",
          "Data Scietist",
          "Data Scietist",
          "Data Scietist",
          "Data Scietist",
          "Data Scietist",
          "Data Scietist",
          "Data Scietist",
          "Data Scietist",
          "Data Scietist",
          "Data Scietist",
          "Data Scietist",
          "Data Scietist",
          "Data Scietist",
          "Data Scietist",
          "Data Scietist",
          "Data Scietist",
          "Data Scietist",
          "Data Scietist",
          "Data Scietist",
          "Data Scietist",
          "Data Scietist",
          "Data Scietist",
          "Data Scietist",
          "Data Scietist",
          "Data Scietist",
          "Data Scietist",
          "Data Scietist",
          "Data Scietist",
          "Data Scietist",
          "Data Scietist",
          "Data Scietist",
          "Data Scietist",
          "Data Scietist",
          "Data Scietist",
          "Data Scietist",
          "Data Scietist",
          "Data Scietist",
          "Data Scietist",
          "Data Scietist",
          "Data Scietist",
          "Data Scietist",
          "Data Scietist",
          "Data Scietist",
          "Data Scietist",
          "Data Scietist",
          "Data Scietist",
          "Data Scietist",
          "Data Scietist",
          "Data Scietist",
          "Data Scietist",
          "Data Scietist",
          "Data Scietist",
          "Data Scietist",
          "Data Scietist",
          "Data Scietist",
          "Data Scietist",
          "Data Scietist",
          "Data Scietist",
          "Data Scietist",
          "Data Scietist",
          "Data Scietist",
          "Data Scietist",
          "Data Scietist",
          "Data Scietist",
          "Data Scietist",
          "Data Scietist",
          "Data Scietist",
          "Data Scietist",
          "Data Scietist",
          "Data Scietist",
          "Data Scietist",
          "Data Scietist",
          "Data Scietist",
          "Data Scietist",
          "Data Scietist",
          "Data Scietist",
          "Data Scietist",
          "Data Scietist",
          "Data Scietist",
          "Data Scietist",
          "Data Scietist",
          "Data Scietist",
          "Data Scietist",
          "Data Scietist",
          "Data Scietist",
          "Data Scietist",
          "Data Scietist",
          "Data Scietist",
          "Data Scietist",
          "Data Scietist",
          "Data Scietist",
          "Data Scietist",
          "Data Scietist",
          "Data Scietist",
          "Data Scietist",
          "Data Scietist",
          "Data Scietist",
          "Data Scietist",
          "Data Scietist",
          "Data Scietist",
          "Data Scietist",
          "Data Scietist",
          "Data Scietist",
          "Data Scietist",
          "Data Scietist",
          "Data Scietist",
          "Data Scietist",
          "Data Scietist",
          "Data Scietist",
          "Data Scietist",
          "Data Scietist",
          "Data Scietist",
          "Data Scietist",
          "Data Scietist",
          "Data Scietist",
          "Data Scietist",
          "Data Scietist",
          "Data Scietist",
          "Data Scietist",
          "Data Scietist",
          "Data Scietist",
          "Data Scietist",
          "Data Scietist",
          "Data Scietist",
          "Data Scietist",
          "Data Scietist",
          "Data Scietist",
          "Data Scietist",
          "Data Scietist",
          "Data Scietist",
          "Data Scietist",
          "Data Scietist",
          "Data Scietist",
          "Data Scietist",
          "Data Scietist",
          "Data Scietist",
          "Data Scietist",
          "Data Scietist",
          "Data Scietist",
          "Data Scietist",
          "Data Scietist",
          "Data Scietist",
          "Data Scietist",
          "Data Scietist",
          "Data Scietist",
          "Data Scietist",
          "Data Scietist",
          "Data Scietist",
          "Data Scietist",
          "Data Scietist",
          "Data Scietist",
          "Data Scietist",
          "Data Scietist",
          "Data Scietist",
          "Data Scietist",
          "Data Scietist",
          "Data Scietist",
          "Data Scietist",
          "Data Scietist",
          "Data Scietist",
          "Data Scietist",
          "Data Scietist",
          "Data Scietist",
          "Data Scietist",
          "Data Scietist",
          "Data Scietist",
          "Data Scietist",
          "Data Scietist",
          "Data Scietist",
          "Data Scietist",
          "Data Scietist",
          "Data Scietist",
          "Data Scietist",
          "Data Scietist",
          "Data Scietist",
          "Data Scietist",
          "Data Scietist",
          "Data Scietist",
          "Data Scietist",
          "Data Scietist",
          "Data Scietist",
          "Data Scietist",
          "Data Scietist",
          "ML",
          "ML",
          "Data Scietist",
          "Data Scietist",
          "Data Scietist",
          "Data Scietist",
          "Data Scietist",
          "Data Scietist",
          "Data Scietist",
          "Data Scietist",
          "Data Scietist",
          "Data Scietist",
          "Data Scietist",
          "Data Scietist",
          "Data Scietist",
          "Data Scietist",
          "Data Scietist",
          "Data Scietist",
          "Data Scietist",
          "Data Scietist",
          "Data Scietist",
          "Data Scietist",
          "Data Scietist",
          "Data Scietist",
          "Data Scietist",
          "Data Scietist",
          "Data Scietist",
          "Data Scietist",
          "Data Scietist",
          "Data Scietist",
          "Data Scietist",
          "Data Scietist",
          "Data Scietist",
          "Data Scietist",
          "Data Scietist",
          "Data Scietist",
          "Data Scietist",
          "Data Scietist",
          "Data Scietist",
          "Data Scietist",
          "Data Scietist",
          "Data Scietist",
          "Data Scietist",
          "Data Scietist",
          "Data Scietist",
          "Data Scietist",
          "Data Scietist",
          "Data Scietist",
          "Data Scietist",
          "Data Scietist",
          "Data Scietist",
          "Data Scietist",
          "Data Scietist",
          "Data Scietist",
          "Data Scietist",
          "Data Scietist",
          "Data Scietist",
          "Data Scietist",
          "ML",
          "Data Scietist",
          "Data Scietist",
          "Data Scietist",
          "ML",
          "Data Scietist",
          "Data Scietist",
          "ML",
          "Data Scietist",
          "Data Scietist",
          "Data Scietist",
          "ML",
          "Data Scietist",
          "Data Scietist",
          "Data Scietist",
          "Data Scietist",
          "ML",
          "Data Scietist",
          "Data Scietist",
          "Data Scietist",
          "Data Scietist",
          "Data Scietist",
          "ML",
          "Data Scietist",
          "Data Scietist",
          "Data Scietist",
          "Data Scietist",
          "Data Scietist",
          "Data Scietist",
          "Data Scietist",
          "Data Scietist",
          "Data Scietist",
          "Data Scietist",
          "Data Scietist",
          "Data Scietist",
          "Data Scietist",
          "Data Scietist",
          "Data Scietist",
          "Data Scietist",
          "Data Scietist",
          "Data Scietist",
          "Data Scietist",
          "Data Scietist",
          "Data Scietist",
          "Data Scietist",
          "Data Scietist",
          "Data Scietist",
          "Data Scietist",
          "Data Scietist",
          "Data Scietist",
          "Data Scietist",
          "Data Scietist",
          "Data Scietist",
          "Data Scietist",
          "Data Scietist",
          "Data Scietist",
          "Data Scietist",
          "Data Scietist",
          "Data Scietist",
          "Data Scietist",
          "Data Scietist",
          "Data Scietist",
          "Data Scietist",
          "Data Scietist",
          "Data Scietist",
          "Data Scietist",
          "Data Scietist",
          "Data Scietist",
          "Data Scietist",
          "Data Scietist",
          "Data Scietist",
          "Data Scietist",
          "Data Scietist",
          "Data Scietist",
          "Data Scietist",
          "Data Scietist",
          "Data Scietist",
          "Data Scietist",
          "Data Scietist",
          "Data Scietist",
          "Data Scietist",
          "Data Scietist"
         ],
         "xaxis": "x",
         "y": [
          120500,
          115000,
          188000,
          156800,
          158611,
          201500,
          140350,
          158611,
          144000,
          140350,
          165000,
          175000,
          190000,
          158611,
          201500,
          138500,
          140350,
          140000,
          163200,
          74880,
          158611,
          273500,
          139500,
          138500,
          172600,
          158611,
          188000,
          156800,
          273500,
          172600,
          158611,
          188000,
          273500,
          156800,
          172600,
          158611,
          188000,
          273500,
          156800,
          120500,
          188000,
          156800,
          273500,
          120500,
          188000,
          156800,
          273500,
          172600,
          188000,
          156800,
          273500,
          158611,
          188000,
          156800,
          273500,
          172600,
          158611,
          188000,
          156800,
          138500,
          144000,
          172600,
          158611,
          156800,
          188000,
          273500,
          201500,
          144000,
          138500,
          172600,
          158611,
          156800,
          188000,
          144000,
          138500,
          156800,
          188000,
          138500,
          144000,
          188000,
          156800,
          138500,
          188000,
          156800,
          138500,
          188000,
          156800,
          138500,
          188000,
          156800,
          138500,
          188000,
          156800,
          138500,
          188000,
          156800,
          138500,
          188000,
          156800,
          188000,
          156800,
          188000,
          228500,
          188000,
          144000,
          228500,
          188000,
          144000,
          115000,
          228500,
          144000,
          188000,
          144000,
          188000,
          151000,
          138500,
          140000,
          156800,
          165000,
          140000,
          144000,
          120500,
          219500,
          178000,
          156800,
          140000,
          149850,
          165000,
          219500,
          178000,
          156800,
          175000,
          163200,
          157200,
          273500,
          219500,
          178000,
          156800,
          175000,
          163200,
          157200,
          120500,
          178000,
          273500,
          219500,
          156800,
          124000,
          157200,
          273500,
          219500,
          156800,
          165000,
          150000,
          175000,
          140000,
          157200,
          273500,
          219500,
          156800,
          165000,
          175000,
          150000,
          163200,
          157200,
          273500,
          219500,
          156800,
          150000,
          165000,
          126800,
          157200,
          273500,
          219500,
          178000,
          156800,
          140000,
          126800,
          157200,
          273500,
          219500,
          156800,
          157500,
          201500,
          178000,
          151000,
          124000,
          157200,
          273500,
          219500,
          156800,
          157500,
          151000,
          201500,
          178000,
          140000,
          149850,
          157200,
          273500,
          219500,
          157500,
          151000,
          178000,
          156800,
          149850,
          165000,
          140000,
          157200,
          273500,
          219500,
          157500,
          151000,
          156800,
          178000,
          201500,
          140000,
          138500,
          149850,
          157200,
          273500,
          219500,
          157500,
          151000,
          156800,
          178000,
          201500,
          140000,
          149850,
          157200,
          273500,
          219500,
          157500,
          140000,
          149850,
          178000,
          151000,
          201500,
          138500,
          157200,
          273500,
          219500,
          157500,
          124000,
          140000,
          149850,
          151000,
          178000,
          138500,
          156800,
          157200,
          79680,
          219500,
          178000,
          157500,
          124000,
          140000,
          149850,
          157200,
          273500,
          79680,
          219500,
          178000,
          157500,
          140000,
          149850,
          151000,
          157200,
          273500,
          79680,
          219500,
          178000,
          157500,
          140000,
          149850,
          138500,
          156800,
          157200,
          273500,
          219500,
          79680,
          178000,
          157500,
          149850,
          140000,
          138500,
          156800,
          157200,
          273500,
          219500,
          79680,
          178000,
          157500,
          149850,
          140000,
          138500,
          156800,
          157200,
          273500,
          219500,
          79680,
          178000,
          157500,
          124000,
          149850,
          140000,
          138500,
          156800,
          157200,
          273500,
          79680,
          178000,
          157500,
          124000,
          149850,
          140000,
          138500,
          156800,
          157200,
          273500,
          219500,
          79680,
          178000,
          157500,
          124000,
          149850,
          140000,
          157200,
          219500,
          79680,
          178000,
          157500,
          149850,
          140000,
          157200,
          273500,
          219500,
          157500,
          149850,
          178000,
          140000,
          151000,
          138500,
          157200,
          273500,
          219500,
          79680,
          157500,
          149850,
          140000,
          178000,
          157200,
          273500,
          79680,
          219500,
          157500,
          149850,
          157200,
          273500,
          79680,
          219500,
          157500,
          149850,
          202500,
          130000,
          150000,
          125000,
          125000,
          90000,
          90000,
          157500,
          157500,
          150000,
          125000,
          125000,
          150000,
          125000,
          125000,
          150000,
          125000,
          125000,
          150000,
          125000,
          150000,
          125000,
          125000,
          150000,
          125000,
          125000,
          150000,
          125000,
          125000,
          150000,
          125000,
          125000,
          150000,
          125000,
          125000,
          150000,
          125000,
          125000,
          130000,
          150000,
          125000,
          125000,
          150000,
          125000,
          125000,
          150000,
          125000,
          125000,
          130000,
          150000,
          125000,
          125000,
          130000,
          150000,
          125000,
          125000,
          150000,
          125000,
          150000,
          125000,
          150000,
          125000,
          125000,
          90000,
          150000,
          125000,
          130000,
          90000,
          150000,
          130000,
          90000,
          150000,
          125000,
          125000,
          90000,
          150000,
          125000,
          125000,
          130000,
          90000,
          150000,
          125000,
          125000,
          130000,
          130000,
          90000,
          150000,
          125000,
          125000,
          130000,
          130000,
          190000,
          208000,
          187000,
          130000,
          208000,
          187000,
          130000,
          208000,
          208000,
          208000,
          208000,
          208000,
          187000,
          208000,
          187000,
          208000,
          187000,
          208000,
          187000,
          187000,
          208000,
          187000,
          208000,
          187000,
          208000,
          187000,
          208000,
          187000,
          208000,
          187000,
          208000,
          187000,
          208000,
          187000,
          208000,
          187000,
          208000,
          187000,
          208000,
          187000,
          208000,
          187000,
          208000,
          187000,
          208000,
          187000,
          208000,
          187000,
          208000,
          187000,
          208000,
          187000,
          208000,
          187000
         ],
         "yaxis": "y"
        },
        {
         "hovertemplate": "Seniority=0<br>Title=%{x}<br>Salary=%{y}<extra></extra>",
         "legendgroup": "0",
         "marker": {
          "color": "#00cc96",
          "symbol": "circle"
         },
         "mode": "markers",
         "name": "0",
         "showlegend": true,
         "type": "scattergl",
         "x": [
          "Data Scietist",
          "Data Scietist",
          "Data Scietist",
          "Data Scietist",
          "Data Scietist",
          "Data Scietist"
         ],
         "xaxis": "x",
         "y": [
          91852.8,
          70000,
          75319,
          75319,
          75319,
          75319
         ],
         "yaxis": "y"
        }
       ],
       "layout": {
        "legend": {
         "title": {
          "text": "Seniority"
         },
         "tracegroupgap": 0
        },
        "margin": {
         "t": 60
        },
        "template": {
         "data": {
          "bar": [
           {
            "error_x": {
             "color": "#2a3f5f"
            },
            "error_y": {
             "color": "#2a3f5f"
            },
            "marker": {
             "line": {
              "color": "#E5ECF6",
              "width": 0.5
             },
             "pattern": {
              "fillmode": "overlay",
              "size": 10,
              "solidity": 0.2
             }
            },
            "type": "bar"
           }
          ],
          "barpolar": [
           {
            "marker": {
             "line": {
              "color": "#E5ECF6",
              "width": 0.5
             },
             "pattern": {
              "fillmode": "overlay",
              "size": 10,
              "solidity": 0.2
             }
            },
            "type": "barpolar"
           }
          ],
          "carpet": [
           {
            "aaxis": {
             "endlinecolor": "#2a3f5f",
             "gridcolor": "white",
             "linecolor": "white",
             "minorgridcolor": "white",
             "startlinecolor": "#2a3f5f"
            },
            "baxis": {
             "endlinecolor": "#2a3f5f",
             "gridcolor": "white",
             "linecolor": "white",
             "minorgridcolor": "white",
             "startlinecolor": "#2a3f5f"
            },
            "type": "carpet"
           }
          ],
          "choropleth": [
           {
            "colorbar": {
             "outlinewidth": 0,
             "ticks": ""
            },
            "type": "choropleth"
           }
          ],
          "contour": [
           {
            "colorbar": {
             "outlinewidth": 0,
             "ticks": ""
            },
            "colorscale": [
             [
              0,
              "#0d0887"
             ],
             [
              0.1111111111111111,
              "#46039f"
             ],
             [
              0.2222222222222222,
              "#7201a8"
             ],
             [
              0.3333333333333333,
              "#9c179e"
             ],
             [
              0.4444444444444444,
              "#bd3786"
             ],
             [
              0.5555555555555556,
              "#d8576b"
             ],
             [
              0.6666666666666666,
              "#ed7953"
             ],
             [
              0.7777777777777778,
              "#fb9f3a"
             ],
             [
              0.8888888888888888,
              "#fdca26"
             ],
             [
              1,
              "#f0f921"
             ]
            ],
            "type": "contour"
           }
          ],
          "contourcarpet": [
           {
            "colorbar": {
             "outlinewidth": 0,
             "ticks": ""
            },
            "type": "contourcarpet"
           }
          ],
          "heatmap": [
           {
            "colorbar": {
             "outlinewidth": 0,
             "ticks": ""
            },
            "colorscale": [
             [
              0,
              "#0d0887"
             ],
             [
              0.1111111111111111,
              "#46039f"
             ],
             [
              0.2222222222222222,
              "#7201a8"
             ],
             [
              0.3333333333333333,
              "#9c179e"
             ],
             [
              0.4444444444444444,
              "#bd3786"
             ],
             [
              0.5555555555555556,
              "#d8576b"
             ],
             [
              0.6666666666666666,
              "#ed7953"
             ],
             [
              0.7777777777777778,
              "#fb9f3a"
             ],
             [
              0.8888888888888888,
              "#fdca26"
             ],
             [
              1,
              "#f0f921"
             ]
            ],
            "type": "heatmap"
           }
          ],
          "heatmapgl": [
           {
            "colorbar": {
             "outlinewidth": 0,
             "ticks": ""
            },
            "colorscale": [
             [
              0,
              "#0d0887"
             ],
             [
              0.1111111111111111,
              "#46039f"
             ],
             [
              0.2222222222222222,
              "#7201a8"
             ],
             [
              0.3333333333333333,
              "#9c179e"
             ],
             [
              0.4444444444444444,
              "#bd3786"
             ],
             [
              0.5555555555555556,
              "#d8576b"
             ],
             [
              0.6666666666666666,
              "#ed7953"
             ],
             [
              0.7777777777777778,
              "#fb9f3a"
             ],
             [
              0.8888888888888888,
              "#fdca26"
             ],
             [
              1,
              "#f0f921"
             ]
            ],
            "type": "heatmapgl"
           }
          ],
          "histogram": [
           {
            "marker": {
             "pattern": {
              "fillmode": "overlay",
              "size": 10,
              "solidity": 0.2
             }
            },
            "type": "histogram"
           }
          ],
          "histogram2d": [
           {
            "colorbar": {
             "outlinewidth": 0,
             "ticks": ""
            },
            "colorscale": [
             [
              0,
              "#0d0887"
             ],
             [
              0.1111111111111111,
              "#46039f"
             ],
             [
              0.2222222222222222,
              "#7201a8"
             ],
             [
              0.3333333333333333,
              "#9c179e"
             ],
             [
              0.4444444444444444,
              "#bd3786"
             ],
             [
              0.5555555555555556,
              "#d8576b"
             ],
             [
              0.6666666666666666,
              "#ed7953"
             ],
             [
              0.7777777777777778,
              "#fb9f3a"
             ],
             [
              0.8888888888888888,
              "#fdca26"
             ],
             [
              1,
              "#f0f921"
             ]
            ],
            "type": "histogram2d"
           }
          ],
          "histogram2dcontour": [
           {
            "colorbar": {
             "outlinewidth": 0,
             "ticks": ""
            },
            "colorscale": [
             [
              0,
              "#0d0887"
             ],
             [
              0.1111111111111111,
              "#46039f"
             ],
             [
              0.2222222222222222,
              "#7201a8"
             ],
             [
              0.3333333333333333,
              "#9c179e"
             ],
             [
              0.4444444444444444,
              "#bd3786"
             ],
             [
              0.5555555555555556,
              "#d8576b"
             ],
             [
              0.6666666666666666,
              "#ed7953"
             ],
             [
              0.7777777777777778,
              "#fb9f3a"
             ],
             [
              0.8888888888888888,
              "#fdca26"
             ],
             [
              1,
              "#f0f921"
             ]
            ],
            "type": "histogram2dcontour"
           }
          ],
          "mesh3d": [
           {
            "colorbar": {
             "outlinewidth": 0,
             "ticks": ""
            },
            "type": "mesh3d"
           }
          ],
          "parcoords": [
           {
            "line": {
             "colorbar": {
              "outlinewidth": 0,
              "ticks": ""
             }
            },
            "type": "parcoords"
           }
          ],
          "pie": [
           {
            "automargin": true,
            "type": "pie"
           }
          ],
          "scatter": [
           {
            "marker": {
             "colorbar": {
              "outlinewidth": 0,
              "ticks": ""
             }
            },
            "type": "scatter"
           }
          ],
          "scatter3d": [
           {
            "line": {
             "colorbar": {
              "outlinewidth": 0,
              "ticks": ""
             }
            },
            "marker": {
             "colorbar": {
              "outlinewidth": 0,
              "ticks": ""
             }
            },
            "type": "scatter3d"
           }
          ],
          "scattercarpet": [
           {
            "marker": {
             "colorbar": {
              "outlinewidth": 0,
              "ticks": ""
             }
            },
            "type": "scattercarpet"
           }
          ],
          "scattergeo": [
           {
            "marker": {
             "colorbar": {
              "outlinewidth": 0,
              "ticks": ""
             }
            },
            "type": "scattergeo"
           }
          ],
          "scattergl": [
           {
            "marker": {
             "colorbar": {
              "outlinewidth": 0,
              "ticks": ""
             }
            },
            "type": "scattergl"
           }
          ],
          "scattermapbox": [
           {
            "marker": {
             "colorbar": {
              "outlinewidth": 0,
              "ticks": ""
             }
            },
            "type": "scattermapbox"
           }
          ],
          "scatterpolar": [
           {
            "marker": {
             "colorbar": {
              "outlinewidth": 0,
              "ticks": ""
             }
            },
            "type": "scatterpolar"
           }
          ],
          "scatterpolargl": [
           {
            "marker": {
             "colorbar": {
              "outlinewidth": 0,
              "ticks": ""
             }
            },
            "type": "scatterpolargl"
           }
          ],
          "scatterternary": [
           {
            "marker": {
             "colorbar": {
              "outlinewidth": 0,
              "ticks": ""
             }
            },
            "type": "scatterternary"
           }
          ],
          "surface": [
           {
            "colorbar": {
             "outlinewidth": 0,
             "ticks": ""
            },
            "colorscale": [
             [
              0,
              "#0d0887"
             ],
             [
              0.1111111111111111,
              "#46039f"
             ],
             [
              0.2222222222222222,
              "#7201a8"
             ],
             [
              0.3333333333333333,
              "#9c179e"
             ],
             [
              0.4444444444444444,
              "#bd3786"
             ],
             [
              0.5555555555555556,
              "#d8576b"
             ],
             [
              0.6666666666666666,
              "#ed7953"
             ],
             [
              0.7777777777777778,
              "#fb9f3a"
             ],
             [
              0.8888888888888888,
              "#fdca26"
             ],
             [
              1,
              "#f0f921"
             ]
            ],
            "type": "surface"
           }
          ],
          "table": [
           {
            "cells": {
             "fill": {
              "color": "#EBF0F8"
             },
             "line": {
              "color": "white"
             }
            },
            "header": {
             "fill": {
              "color": "#C8D4E3"
             },
             "line": {
              "color": "white"
             }
            },
            "type": "table"
           }
          ]
         },
         "layout": {
          "annotationdefaults": {
           "arrowcolor": "#2a3f5f",
           "arrowhead": 0,
           "arrowwidth": 1
          },
          "autotypenumbers": "strict",
          "coloraxis": {
           "colorbar": {
            "outlinewidth": 0,
            "ticks": ""
           }
          },
          "colorscale": {
           "diverging": [
            [
             0,
             "#8e0152"
            ],
            [
             0.1,
             "#c51b7d"
            ],
            [
             0.2,
             "#de77ae"
            ],
            [
             0.3,
             "#f1b6da"
            ],
            [
             0.4,
             "#fde0ef"
            ],
            [
             0.5,
             "#f7f7f7"
            ],
            [
             0.6,
             "#e6f5d0"
            ],
            [
             0.7,
             "#b8e186"
            ],
            [
             0.8,
             "#7fbc41"
            ],
            [
             0.9,
             "#4d9221"
            ],
            [
             1,
             "#276419"
            ]
           ],
           "sequential": [
            [
             0,
             "#0d0887"
            ],
            [
             0.1111111111111111,
             "#46039f"
            ],
            [
             0.2222222222222222,
             "#7201a8"
            ],
            [
             0.3333333333333333,
             "#9c179e"
            ],
            [
             0.4444444444444444,
             "#bd3786"
            ],
            [
             0.5555555555555556,
             "#d8576b"
            ],
            [
             0.6666666666666666,
             "#ed7953"
            ],
            [
             0.7777777777777778,
             "#fb9f3a"
            ],
            [
             0.8888888888888888,
             "#fdca26"
            ],
            [
             1,
             "#f0f921"
            ]
           ],
           "sequentialminus": [
            [
             0,
             "#0d0887"
            ],
            [
             0.1111111111111111,
             "#46039f"
            ],
            [
             0.2222222222222222,
             "#7201a8"
            ],
            [
             0.3333333333333333,
             "#9c179e"
            ],
            [
             0.4444444444444444,
             "#bd3786"
            ],
            [
             0.5555555555555556,
             "#d8576b"
            ],
            [
             0.6666666666666666,
             "#ed7953"
            ],
            [
             0.7777777777777778,
             "#fb9f3a"
            ],
            [
             0.8888888888888888,
             "#fdca26"
            ],
            [
             1,
             "#f0f921"
            ]
           ]
          },
          "colorway": [
           "#636efa",
           "#EF553B",
           "#00cc96",
           "#ab63fa",
           "#FFA15A",
           "#19d3f3",
           "#FF6692",
           "#B6E880",
           "#FF97FF",
           "#FECB52"
          ],
          "font": {
           "color": "#2a3f5f"
          },
          "geo": {
           "bgcolor": "white",
           "lakecolor": "white",
           "landcolor": "#E5ECF6",
           "showlakes": true,
           "showland": true,
           "subunitcolor": "white"
          },
          "hoverlabel": {
           "align": "left"
          },
          "hovermode": "closest",
          "mapbox": {
           "style": "light"
          },
          "paper_bgcolor": "white",
          "plot_bgcolor": "#E5ECF6",
          "polar": {
           "angularaxis": {
            "gridcolor": "white",
            "linecolor": "white",
            "ticks": ""
           },
           "bgcolor": "#E5ECF6",
           "radialaxis": {
            "gridcolor": "white",
            "linecolor": "white",
            "ticks": ""
           }
          },
          "scene": {
           "xaxis": {
            "backgroundcolor": "#E5ECF6",
            "gridcolor": "white",
            "gridwidth": 2,
            "linecolor": "white",
            "showbackground": true,
            "ticks": "",
            "zerolinecolor": "white"
           },
           "yaxis": {
            "backgroundcolor": "#E5ECF6",
            "gridcolor": "white",
            "gridwidth": 2,
            "linecolor": "white",
            "showbackground": true,
            "ticks": "",
            "zerolinecolor": "white"
           },
           "zaxis": {
            "backgroundcolor": "#E5ECF6",
            "gridcolor": "white",
            "gridwidth": 2,
            "linecolor": "white",
            "showbackground": true,
            "ticks": "",
            "zerolinecolor": "white"
           }
          },
          "shapedefaults": {
           "line": {
            "color": "#2a3f5f"
           }
          },
          "ternary": {
           "aaxis": {
            "gridcolor": "white",
            "linecolor": "white",
            "ticks": ""
           },
           "baxis": {
            "gridcolor": "white",
            "linecolor": "white",
            "ticks": ""
           },
           "bgcolor": "#E5ECF6",
           "caxis": {
            "gridcolor": "white",
            "linecolor": "white",
            "ticks": ""
           }
          },
          "title": {
           "x": 0.05
          },
          "xaxis": {
           "automargin": true,
           "gridcolor": "white",
           "linecolor": "white",
           "ticks": "",
           "title": {
            "standoff": 15
           },
           "zerolinecolor": "white",
           "zerolinewidth": 2
          },
          "yaxis": {
           "automargin": true,
           "gridcolor": "white",
           "linecolor": "white",
           "ticks": "",
           "title": {
            "standoff": 15
           },
           "zerolinecolor": "white",
           "zerolinewidth": 2
          }
         }
        },
        "xaxis": {
         "anchor": "y",
         "domain": [
          0,
          1
         ],
         "title": {
          "text": "Title"
         }
        },
        "yaxis": {
         "anchor": "x",
         "domain": [
          0,
          1
         ],
         "title": {
          "text": "Salary"
         }
        }
       }
      },
      "text/html": [
       "<div>                            <div id=\"730f1651-8ed4-420c-be4d-5937ee02c40e\" class=\"plotly-graph-div\" style=\"height:525px; width:100%;\"></div>            <script type=\"text/javascript\">                require([\"plotly\"], function(Plotly) {                    window.PLOTLYENV=window.PLOTLYENV || {};                                    if (document.getElementById(\"730f1651-8ed4-420c-be4d-5937ee02c40e\")) {                    Plotly.newPlot(                        \"730f1651-8ed4-420c-be4d-5937ee02c40e\",                        [{\"hovertemplate\":\"Seniority=none<br>Title=%{x}<br>Salary=%{y}<extra></extra>\",\"legendgroup\":\"none\",\"marker\":{\"color\":\"#636efa\",\"symbol\":\"circle\"},\"mode\":\"markers\",\"name\":\"none\",\"showlegend\":true,\"x\":[\"Data Scietist\",\"Data Scietist\",\"Data Scietist\",\"Data Scietist\",\"Data Scietist\",\"Data Engineer\",\"Data Scietist\",\"Data Scietist\",\"Data Scietist\",\"Data Engineer\",\"Data Scietist\",\"Data Analyst\",\"Data Scietist\",\"Data Scietist\",\"Data Scietist\",\"Data Analyst\",\"Data Scietist\",\"Data Engineer\",\"Data Scietist\",\"Data Scietist\",\"Data Scietist\",\"Data Engineer\",\"Data Scietist\",\"Data Scietist\",\"Data Scietist\",\"Data Scietist\",\"Data Engineer\",\"Data Scietist\",\"Data Scietist\",\"Data Scietist\",\"Data Scietist\",\"Data Scietist\",\"Data Scietist\",\"Data Engineer\",\"Data Scietist\",\"Data Scietist\",\"Data Scietist\",\"Data Scietist\",\"Data Scietist\",\"Data Scietist\",\"Data Scietist\",\"Data Scietist\",\"Data Scietist\",\"Data Scietist\",\"Data Engineer\",\"Data Scietist\",\"Data Scietist\",\"Data Scietist\",\"Data Scietist\",\"Data Scietist\",\"Data Scietist\",\"Data Scietist\",\"Data Scietist\",\"Data Engineer\",\"Data Scietist\",\"Data Scietist\",\"Data Scietist\",\"Data Scietist\",\"Data Scietist\",\"Data Scietist\",\"Data Scietist\",\"Data Engineer\",\"Data Scietist\",\"Data Scietist\",\"Data Scietist\",\"Data Scietist\",\"Data Scietist\",\"Data Scietist\",\"Data Scietist\",\"Data Engineer\",\"Data Scietist\",\"Data Scietist\",\"Data Scietist\",\"Data Scietist\",\"Data Scietist\",\"Data Scietist\",\"Data Scietist\",\"Data Engineer\",\"Data Scietist\",\"Data Scietist\",\"Data Scietist\",\"Data Scietist\",\"Data Scietist\",\"Data Scietist\",\"Data Scietist\",\"Data Engineer\",\"Data Scietist\",\"Data Scietist\",\"Data Scietist\",\"Data Scietist\",\"Data Scietist\",\"Data Scietist\",\"Data Scietist\",\"Data Engineer\",\"Data Scietist\",\"Data Scietist\",\"Data Scietist\",\"Data Scietist\",\"Data Scietist\",\"Data Engineer\",\"Data Scietist\",\"Data Scietist\",\"Data Scietist\",\"Data Analyst\",\"Data Scietist\",\"Data Scietist\",\"Data Scietist\",\"Data Scietist\",\"Data Scietist\",\"Data Scietist\",\"Data Scietist\",\"Data Scietist\",\"Data Scietist\",\"Data Scietist\",\"Data Scietist\",\"Data Analyst\",\"Data Scietist\",\"Data Scietist\",\"Data Scietist\",\"Data Scietist\",\"Data Analyst\",\"Data Scietist\",\"Data Scietist\",\"Data Scietist\",\"Data Scietist\",\"Data Scietist\",\"Data Scietist\",\"Data Scietist\",\"Data Scietist\",\"Data Analyst\",\"Data Scietist\",\"Data Scietist\",\"Data Scietist\",\"Data Scietist\",\"Data Scietist\",\"Data Analyst\",\"Data Scietist\",\"Data Scietist\",\"Data Scietist\",\"Data Scietist\",\"Data Scietist\",\"Data Scietist\",\"Data Analyst\",\"Data Scietist\",\"Data Scietist\",\"Data Scietist\",\"Data Scietist\",\"Data Scietist\",\"Data Scietist\",\"Data Scietist\",\"Data Scietist\",\"Data Analyst\",\"Data Scietist\",\"Data Scietist\",\"Data Scietist\",\"Data Scietist\",\"Data Scietist\",\"Data Scietist\",\"Data Scietist\",\"Data Analyst\",\"Data Scietist\",\"Data Scietist\",\"Data Scietist\",\"Data Scietist\",\"Data Scietist\",\"Data Scietist\",\"Data Scietist\",\"Data Scietist\",\"Data Scietist\",\"Data Analyst\",\"Data Scietist\",\"Data Scietist\",\"Data Scietist\",\"Data Scietist\",\"Data Scietist\",\"Data Scietist\",\"Data Scietist\",\"Data Scietist\",\"Data Scietist\",\"Data Scietist\",\"Data Scietist\",\"Data Analyst\",\"Data Scietist\",\"Data Scietist\",\"Data Scietist\",\"Data Scietist\",\"Data Scietist\",\"Data Scietist\",\"Data Scietist\",\"Data Scietist\",\"Data Analyst\",\"Data Scietist\",\"Data Scietist\",\"Data Scietist\",\"Data Scietist\",\"Data Scietist\",\"Data Scietist\",\"Data Analyst\",\"Data Scietist\",\"Data Scietist\",\"Data Scietist\",\"Data Scietist\",\"Data Scietist\",\"Data Scietist\",\"Data Scietist\",\"Data Scietist\",\"Data Scietist\",\"Data Scietist\",\"Data Scietist\",\"Data Scietist\",\"Data Scietist\",\"Data Scietist\",\"Data Scietist\",\"Data Scietist\",\"Data Scietist\",\"Data Scietist\",\"Data Scietist\",\"Data Scietist\",\"Data Scietist\",\"Data Scietist\",\"Data Scietist\",\"Data Scietist\",\"Data Scietist\",\"Data Scietist\",\"Data Scietist\",\"Data Scietist\",\"Data Scietist\",\"Data Scietist\",\"Data Scietist\",\"Data Scietist\",\"Data Scietist\",\"Data Scietist\",\"Data Analyst\",\"Data Scietist\",\"Data Scietist\",\"Data Scietist\",\"Data Scietist\",\"Data Scietist\",\"Data Scietist\",\"Data Scietist\",\"Data Scietist\",\"Data Scietist\",\"Data Scietist\",\"Data Scietist\",\"Data Scietist\",\"Data Scietist\",\"Data Scietist\",\"Data Scietist\",\"Data Scietist\",\"Data Scietist\",\"Data Scietist\",\"Data Scietist\",\"Data Scietist\",\"Data Scietist\",\"Data Scietist\",\"Data Scietist\",\"Data Scietist\",\"Data Scietist\",\"Data Engineer\",\"Data Scietist\",\"Data Scietist\",\"Data Scietist\",\"Data Scietist\",\"Data Scietist\",\"Data Scietist\",\"Data Scietist\",\"Data Scietist\",\"Data Engineer\",\"Data Scietist\",\"Data Analyst\",\"Data Scietist\",\"Data Scietist\",\"Data Scietist\",\"Data Scietist\",\"Data Scietist\",\"Data Scietist\",\"Data Analyst\",\"Data Scietist\",\"Data Scietist\",\"Data Scietist\",\"Data Scietist\",\"Data Scietist\",\"Data Scietist\",\"Data Scietist\",\"Data Analyst\",\"Data Scietist\",\"Data Scietist\",\"Data Scietist\",\"Data Scietist\",\"Data Scietist\",\"Data Scietist\",\"Data Scietist\",\"Data Scietist\",\"Data Scietist\",\"Data Analyst\",\"Data Scietist\",\"Data Scietist\",\"Data Scietist\",\"Data Scietist\",\"Data Scietist\",\"Data Scietist\",\"Data Scietist\",\"Data Analyst\",\"Data Scietist\",\"Data Scietist\",\"Data Scietist\",\"Data Scietist\",\"Data Scietist\",\"Data Scietist\",\"Data Scietist\",\"Data Scietist\",\"Data Scietist\",\"Data Analyst\",\"Data Scietist\",\"Data Scietist\",\"Data Scietist\",\"Data Scietist\",\"Data Analyst\",\"Data Scietist\",\"Data Scietist\",\"Data Scietist\",\"Data Scietist\",\"Data Scietist\",\"Data Scietist\",\"Data Scietist\",\"Data Analyst\",\"Data Scietist\",\"Data Scietist\",\"Data Scietist\",\"Data Scietist\",\"Data Scietist\",\"Data Scietist\",\"Data Scietist\",\"Data Scietist\",\"Data Scietist\",\"Data Scietist\",\"Data Scietist\",\"Data Analyst\",\"Data Scietist\",\"Data Scietist\",\"Data Scietist\",\"Data Analyst\",\"Data Scietist\",\"Data Scietist\",\"Data Scietist\",\"Data Scietist\",\"Data Scietist\",\"Data Scietist\",\"Data Analyst\",\"Data Scietist\",\"Data Scietist\",\"Data Scietist\",\"Data Scietist\",\"Data Analyst\",\"Data Scietist\",\"Data Scietist\",\"Data Scietist\",\"Data Scietist\",\"Data Scietist\",\"Data Analyst\",\"Data Scietist\",\"Data Scietist\",\"Data Scietist\",\"Data Analyst\",\"Data Scietist\",\"Data Scietist\",\"Data Scietist\",\"Data Scietist\",\"Data Analyst\",\"Data Scietist\",\"Data Scietist\",\"Data Scietist\",\"Data Analyst\",\"Data Scietist\",\"Data Scietist\",\"Data Scietist\",\"Data Analyst\",\"Data Scietist\",\"Data Scietist\",\"Data Scietist\",\"Data Analyst\",\"Data Scietist\",\"Data Scietist\",\"Data Scietist\",\"Data Analyst\",\"Data Scietist\",\"Data Scietist\",\"Data Scietist\",\"Data Scietist\",\"Data Analyst\",\"Data Scietist\",\"Data Scietist\",\"Data Analyst\",\"Data Scietist\",\"Data Scietist\",\"Data Scietist\",\"Data Analyst\",\"Data Scietist\",\"Data Scietist\",\"Data Scietist\",\"Data Scietist\",\"Data Analyst\",\"Data Scietist\",\"Data Scietist\",\"Data Scietist\",\"Data Scietist\",\"Data Analyst\",\"Data Scietist\",\"Data Scietist\",\"Data Scietist\",\"Data Scietist\",\"Data Analyst\",\"Data Scietist\",\"Data Scietist\",\"Data Scietist\",\"Data Scietist\",\"Data Scietist\",\"Data Scietist\",\"Data Scietist\",\"ML\",\"Data Analyst\",\"Data Analyst\",\"Data Scietist\",\"Data Analyst\",\"Data Scietist\",\"Data Analyst\",\"Data Scietist\",\"Data Analyst\",\"Data Scietist\",\"Data Scietist\",\"ML\",\"Data Scietist\",\"ML\",\"Data Scietist\",\"ML\",\"Data Scietist\",\"ML\",\"Data Scietist\",\"ML\",\"Data Scietist\",\"ML\",\"Data Analyst\",\"Data Scietist\",\"ML\",\"Data Scietist\",\"Data Analyst\",\"Data Scietist\",\"Data Scietist\",\"Data Scietist\",\"Data Scietist\",\"Data Scietist\",\"Data Scietist\",\"Data Scietist\",\"Data Scietist\",\"Data Scietist\",\"Data Scietist\",\"Data Scietist\",\"ML\",\"Data Scietist\",\"Data Scietist\",\"ML\",\"Data Scietist\",\"Data Scietist\",\"Data Scietist\",\"Data Scietist\",\"ML\",\"Data Scietist\",\"Data Scietist\",\"ML\",\"Data Scietist\",\"Data Scietist\",\"Data Scietist\",\"ML\",\"Data Scietist\",\"Data Scietist\",\"Data Scietist\",\"ML\",\"Data Scietist\",\"Data Scietist\",\"Data Scietist\",\"Data Scietist\",\"ML\",\"Data Scietist\",\"Data Scietist\",\"ML\",\"Data Scietist\",\"ML\",\"Data Scietist\",\"Data Scietist\",\"Data Scietist\",\"Data Scietist\",\"Data Scietist\",\"Data Scietist\",\"Data Scietist\",\"ML\",\"Data Scietist\",\"Data Scietist\",\"ML\",\"Data Scietist\",\"Data Scietist\",\"ML\",\"Data Scietist\",\"Data Scietist\",\"ML\",\"Data Scietist\",\"Data Scietist\",\"ML\",\"Data Scietist\",\"Data Scietist\",\"ML\",\"Data Scietist\",\"Data Scietist\",\"ML\",\"Data Scietist\",\"Data Scietist\",\"ML\",\"Data Scietist\",\"Data Scietist\",\"ML\",\"Data Scietist\",\"Data Scietist\",\"ML\",\"Data Scietist\",\"Data Scietist\",\"ML\",\"Data Scietist\",\"Data Scietist\",\"ML\",\"Data Scietist\",\"Data Scietist\",\"ML\",\"Data Scietist\"],\"xaxis\":\"x\",\"y\":[132500.0,129770.0,142910.0,125000.0,105000.0,120000.0,100000.0,101589.0,115000.0,89200.0,144000.0,125500.0,104000.0,115000.0,144000.0,125500.0,115000.0,89200.0,140000.0,110400.0,150000.0,120000.0,115000.0,144000.0,150000.0,150000.0,120000.0,115000.0,144000.0,113600.0,115200.0,117500.0,150000.0,120000.0,115000.0,144000.0,113600.0,125000.0,120000.0,150000.0,129770.0,142910.0,125000.0,105000.0,120000.0,101589.0,100000.0,115000.0,150000.0,132500.0,129770.0,142910.0,125000.0,120000.0,101589.0,100000.0,115000.0,150000.0,129770.0,142910.0,125000.0,120000.0,101589.0,100000.0,115000.0,150000.0,129770.0,142910.0,125000.0,120000.0,101589.0,100000.0,115000.0,150000.0,129770.0,142910.0,125000.0,120000.0,101589.0,100000.0,115000.0,150000.0,129770.0,142910.0,125000.0,120000.0,101589.0,100000.0,115000.0,150000.0,142910.0,125000.0,101589.0,120000.0,100000.0,115000.0,142910.0,125000.0,129770.0,120000.0,101589.0,100000.0,104000.0,125500.0,142910.0,125000.0,144000.0,101589.0,115000.0,155000.0,142910.0,125000.0,101589.0,100000.0,155000.0,125500.0,100000.0,142910.0,125000.0,101589.0,125500.0,155000.0,135000.0,150000.0,125000.0,100000.0,101589.0,129770.0,144000.0,125500.0,150000.0,101589.0,125000.0,100000.0,129770.0,125500.0,104000.0,150000.0,101589.0,125000.0,100000.0,129770.0,125500.0,104000.0,150000.0,132500.0,125000.0,101589.0,100000.0,129770.0,104000.0,125500.0,150000.0,132500.0,125000.0,101589.0,100000.0,129770.0,104000.0,125500.0,125000.0,107500.0,150000.0,132500.0,125000.0,101589.0,100000.0,129770.0,104000.0,125500.0,125000.0,107500.0,150000.0,132500.0,100000.0,142910.0,101589.0,129770.0,125000.0,115000.0,104000.0,125500.0,150000.0,132500.0,125000.0,100000.0,101589.0,129770.0,104000.0,125000.0,125500.0,150000.0,125000.0,100000.0,101589.0,125000.0,104000.0,125500.0,150000.0,129770.0,115000.0,100000.0,144000.0,125000.0,127300.0,107500.0,150000.0,129770.0,115000.0,100000.0,144000.0,107500.0,125000.0,150000.0,132500.0,129770.0,100000.0,125000.0,150000.0,132500.0,129770.0,125000.0,100000.0,115000.0,125000.0,102652.0,100000.0,103127.0,110100.0,104102.4,155000.0,101589.0,125500.0,107500.0,105600.0,130000.0,127300.0,110400.0,140000.0,110290.0,130000.0,155000.0,115200.0,142910.0,157500.0,127300.0,110290.0,126800.0,142910.0,126650.0,107500.0,126800.0,155000.0,146000.0,103123.2,78720.0,126350.0,85410.0,170000.0,142910.0,126800.0,155000.0,146000.0,120000.0,103123.2,126350.0,85410.0,170000.0,142910.0,125500.0,107500.0,126800.0,156800.0,127300.0,142910.0,126650.0,125500.0,104102.4,115200.0,105600.0,140000.0,146000.0,142910.0,126650.0,125500.0,127300.0,126800.0,104102.4,140000.0,105600.0,120000.0,115200.0,155000.0,142910.0,125500.0,126650.0,127300.0,155000.0,126800.0,104102.4,140000.0,105600.0,125500.0,142910.0,126650.0,127300.0,101589.0,104102.4,155000.0,126800.0,140000.0,142910.0,125500.0,126650.0,101589.0,127300.0,104102.4,125500.0,142910.0,110100.0,127300.0,104102.4,155000.0,156800.0,142910.0,125500.0,126650.0,101589.0,104102.4,105600.0,140000.0,127300.0,126800.0,155000.0,142910.0,100000.0,295000.0,125500.0,101589.0,142910.0,100000.0,125500.0,295000.0,101589.0,126650.0,100000.0,142910.0,295000.0,125500.0,101589.0,110100.0,142910.0,295000.0,125500.0,101589.0,126650.0,100000.0,142910.0,295000.0,125500.0,100000.0,142910.0,295000.0,125500.0,101589.0,100000.0,142910.0,295000.0,125500.0,101589.0,100000.0,142910.0,125500.0,295000.0,101589.0,142910.0,125500.0,101589.0,156800.0,142910.0,125500.0,101589.0,142910.0,219500.0,125500.0,101589.0,100000.0,142910.0,295000.0,125500.0,100000.0,142910.0,125500.0,101589.0,100000.0,142910.0,125500.0,101589.0,103127.0,100000.0,142910.0,125500.0,101589.0,103127.0,100000.0,142910.0,125500.0,101589.0,103127.0,100000.0,142910.0,125500.0,101589.0,103127.0,95000.0,125000.0,125000.0,100442.0,145000.0,125000.0,115000.0,157500.0,80000.0,157500.0,80000.0,157500.0,80000.0,157500.0,80000.0,145000.0,125000.0,145000.0,125000.0,145000.0,125000.0,145000.0,125000.0,145000.0,125000.0,145000.0,125000.0,115000.0,145000.0,125000.0,145000.0,115000.0,145000.0,145000.0,145000.0,125000.0,145000.0,145000.0,145000.0,145000.0,145000.0,145000.0,125000.0,125000.0,145000.0,125000.0,125000.0,145000.0,125000.0,145000.0,100442.0,125000.0,145000.0,125000.0,125000.0,100442.0,145000.0,125000.0,125000.0,100442.0,145000.0,125000.0,125000.0,100442.0,145000.0,76881.0,182500.0,125000.0,72960.0,145000.0,125000.0,137500.0,125000.0,182500.0,182500.0,182500.0,182500.0,182500.0,182500.0,145000.0,125000.0,182500.0,145000.0,125000.0,182500.0,145000.0,125000.0,182500.0,145000.0,125000.0,182500.0,145000.0,125000.0,182500.0,145000.0,125000.0,182500.0,145000.0,125000.0,182500.0,145000.0,125000.0,182500.0,145000.0,125000.0,182500.0,145000.0,125000.0,182500.0,145000.0,125000.0,182500.0,145000.0,125000.0,182500.0,145000.0,125000.0,182500.0],\"yaxis\":\"y\",\"type\":\"scattergl\"},{\"hovertemplate\":\"Seniority=1<br>Title=%{x}<br>Salary=%{y}<extra></extra>\",\"legendgroup\":\"1\",\"marker\":{\"color\":\"#EF553B\",\"symbol\":\"circle\"},\"mode\":\"markers\",\"name\":\"1\",\"showlegend\":true,\"x\":[\"Data Scietist\",\"Data Scietist\",\"Data Scietist\",\"Data Scietist\",\"Data Scietist\",\"Data Scietist\",\"Data Scietist\",\"Data Scietist\",\"Data Scietist\",\"Data Scietist\",\"Data Scietist\",\"Data Scietist\",\"Data Scietist\",\"Data Scietist\",\"Data Scietist\",\"Data Scietist\",\"Data Scietist\",\"Data Scietist\",\"Data Scietist\",\"Data Scietist\",\"Data Scietist\",\"Data Scietist\",\"Data Scietist\",\"Data Scietist\",\"Data Scietist\",\"Data Scietist\",\"Data Scietist\",\"Data Scietist\",\"Data Scietist\",\"Data Scietist\",\"Data Scietist\",\"Data Scietist\",\"Data Scietist\",\"Data Scietist\",\"Data Scietist\",\"Data Scietist\",\"Data Scietist\",\"Data Scietist\",\"Data Scietist\",\"Data Scietist\",\"Data Scietist\",\"Data Scietist\",\"Data Scietist\",\"Data Scietist\",\"Data Scietist\",\"Data Scietist\",\"Data Scietist\",\"Data Scietist\",\"Data Scietist\",\"Data Scietist\",\"Data Scietist\",\"Data Scietist\",\"Data Scietist\",\"Data Scietist\",\"Data Scietist\",\"Data Scietist\",\"Data Scietist\",\"Data Scietist\",\"Data Scietist\",\"Data Scietist\",\"Data Scietist\",\"Data Scietist\",\"Data Scietist\",\"Data Scietist\",\"Data Scietist\",\"Data Scietist\",\"Data Scietist\",\"Data Scietist\",\"Data Scietist\",\"Data Scietist\",\"Data Scietist\",\"Data Scietist\",\"Data Scietist\",\"Data Scietist\",\"Data Scietist\",\"Data Scietist\",\"Data Scietist\",\"Data Scietist\",\"Data Scietist\",\"Data Scietist\",\"Data Scietist\",\"Data Scietist\",\"Data Scietist\",\"Data Scietist\",\"Data Scietist\",\"Data Scietist\",\"Data Scietist\",\"Data Scietist\",\"Data Scietist\",\"Data Scietist\",\"Data Scietist\",\"Data Scietist\",\"Data Scietist\",\"Data Scietist\",\"Data Scietist\",\"Data Scietist\",\"Data Scietist\",\"Data Scietist\",\"Data Scietist\",\"Data Scietist\",\"Data Scietist\",\"Data Scietist\",\"Data Scietist\",\"Data Scietist\",\"Data Scietist\",\"Data Scietist\",\"Data Scietist\",\"Data Scietist\",\"Data Scietist\",\"Data Scietist\",\"Data Scietist\",\"Data Scietist\",\"Data Scietist\",\"Data Scietist\",\"Data Scietist\",\"Data Scietist\",\"Data Scietist\",\"Data Scietist\",\"Data Scietist\",\"Data Scietist\",\"Data Scietist\",\"Data Scietist\",\"Data Scietist\",\"Data Scietist\",\"Data Scietist\",\"Data Scietist\",\"Data Scietist\",\"Data Scietist\",\"Data Scietist\",\"Data Scietist\",\"Data Scietist\",\"Data Scietist\",\"Data Scietist\",\"Data Scietist\",\"Data Scietist\",\"Data Scietist\",\"Data Scietist\",\"Data Scietist\",\"Data Scietist\",\"Data Scietist\",\"Data Scietist\",\"Data Scietist\",\"Data Scietist\",\"Data Scietist\",\"Data Scietist\",\"Data Scietist\",\"Data Scietist\",\"Data Scietist\",\"Data Scietist\",\"Data Scietist\",\"Data Scietist\",\"Data Scietist\",\"Data Scietist\",\"Data Scietist\",\"Data Scietist\",\"Data Scietist\",\"Data Scietist\",\"Data Scietist\",\"Data Scietist\",\"Data Scietist\",\"Data Scietist\",\"Data Scietist\",\"Data Scietist\",\"Data Scietist\",\"Data Scietist\",\"Data Scietist\",\"Data Scietist\",\"Data Scietist\",\"Data Scietist\",\"Data Scietist\",\"Data Scietist\",\"Data Scietist\",\"Data Scietist\",\"Data Scietist\",\"Data Scietist\",\"Data Scietist\",\"Data Scietist\",\"Data Scietist\",\"Data Scietist\",\"Data Scietist\",\"Data Scietist\",\"Data Scietist\",\"Data Scietist\",\"Data Scietist\",\"Data Scietist\",\"Data Scietist\",\"Data Scietist\",\"Data Scietist\",\"Data Scietist\",\"Data Scietist\",\"Data Scietist\",\"Data Scietist\",\"Data Scietist\",\"Data Scietist\",\"Data Scietist\",\"Data Scietist\",\"Data Scietist\",\"Data Scietist\",\"Data Scietist\",\"Data Scietist\",\"Data Scietist\",\"Data Scietist\",\"Data Scietist\",\"Data Scietist\",\"Data Scietist\",\"Data Scietist\",\"Data Scietist\",\"Data Scietist\",\"Data Scietist\",\"Data Scietist\",\"Data Scietist\",\"Data Scietist\",\"Data Scietist\",\"Data Scietist\",\"Data Scietist\",\"Data Scietist\",\"Data Scietist\",\"Data Scietist\",\"Data Scietist\",\"Data Scietist\",\"Data Scietist\",\"Data Scietist\",\"Data Scietist\",\"Data Scietist\",\"Data Scietist\",\"Data Scietist\",\"Data Scietist\",\"Data Scietist\",\"Data Scietist\",\"Data Scietist\",\"Data Scietist\",\"Data Scietist\",\"Data Scietist\",\"Data Scietist\",\"Data Scietist\",\"Data Scietist\",\"Data Scietist\",\"Data Scietist\",\"Data Scietist\",\"Data Scietist\",\"Data Scietist\",\"Data Scietist\",\"Data Scietist\",\"Data Scietist\",\"Data Scietist\",\"Data Scietist\",\"Data Scietist\",\"Data Scietist\",\"Data Scietist\",\"Data Scietist\",\"Data Scietist\",\"Data Scietist\",\"Data Scietist\",\"Data Scietist\",\"Data Scietist\",\"Data Scietist\",\"Data Scietist\",\"Data Scietist\",\"Data Scietist\",\"Data Scietist\",\"Data Scietist\",\"Data Scietist\",\"Data Scietist\",\"Data Scietist\",\"Data Scietist\",\"Data Scietist\",\"Data Scietist\",\"Data Scietist\",\"Data Scietist\",\"Data Scietist\",\"Data Scietist\",\"Data Scietist\",\"Data Scietist\",\"Data Scietist\",\"Data Scietist\",\"Data Scietist\",\"Data Scietist\",\"Data Scietist\",\"Data Scietist\",\"Data Scietist\",\"Data Scietist\",\"Data Scietist\",\"Data Scietist\",\"Data Scietist\",\"Data Scietist\",\"Data Scietist\",\"Data Scietist\",\"Data Scietist\",\"Data Scietist\",\"Data Scietist\",\"Data Scietist\",\"Data Scietist\",\"Data Scietist\",\"Data Scietist\",\"Data Scietist\",\"Data Scietist\",\"Data Scietist\",\"Data Scietist\",\"Data Scietist\",\"Data Scietist\",\"Data Scietist\",\"Data Scietist\",\"Data Scietist\",\"Data Scietist\",\"Data Scietist\",\"Data Scietist\",\"Data Scietist\",\"Data Scietist\",\"Data Scietist\",\"Data Scietist\",\"Data Scietist\",\"Data Scietist\",\"Data Scietist\",\"Data Scietist\",\"Data Scietist\",\"Data Scietist\",\"Data Scietist\",\"Data Scietist\",\"Data Scietist\",\"Data Scietist\",\"Data Scietist\",\"Data Scietist\",\"Data Scietist\",\"Data Scietist\",\"Data Scietist\",\"Data Scietist\",\"Data Scietist\",\"Data Scietist\",\"Data Scietist\",\"Data Scietist\",\"Data Scietist\",\"Data Scietist\",\"Data Scietist\",\"Data Scietist\",\"Data Scietist\",\"Data Scietist\",\"Data Scietist\",\"Data Scietist\",\"Data Scietist\",\"Data Scietist\",\"Data Scietist\",\"Data Scietist\",\"Data Scietist\",\"Data Scietist\",\"Data Scietist\",\"Data Scietist\",\"Data Scietist\",\"Data Scietist\",\"Data Scietist\",\"Data Scietist\",\"Data Scietist\",\"Data Scietist\",\"Data Scietist\",\"Data Scietist\",\"Data Scietist\",\"Data Scietist\",\"Data Scietist\",\"Data Scietist\",\"Data Scietist\",\"Data Scietist\",\"Data Scietist\",\"Data Scietist\",\"Data Scietist\",\"Data Scietist\",\"Data Scietist\",\"Data Scietist\",\"ML\",\"ML\",\"Data Scietist\",\"Data Scietist\",\"Data Scietist\",\"Data Scietist\",\"Data Scietist\",\"Data Scietist\",\"Data Scietist\",\"Data Scietist\",\"Data Scietist\",\"Data Scietist\",\"Data Scietist\",\"Data Scietist\",\"Data Scietist\",\"Data Scietist\",\"Data Scietist\",\"Data Scietist\",\"Data Scietist\",\"Data Scietist\",\"Data Scietist\",\"Data Scietist\",\"Data Scietist\",\"Data Scietist\",\"Data Scietist\",\"Data Scietist\",\"Data Scietist\",\"Data Scietist\",\"Data Scietist\",\"Data Scietist\",\"Data Scietist\",\"Data Scietist\",\"Data Scietist\",\"Data Scietist\",\"Data Scietist\",\"Data Scietist\",\"Data Scietist\",\"Data Scietist\",\"Data Scietist\",\"Data Scietist\",\"Data Scietist\",\"Data Scietist\",\"Data Scietist\",\"Data Scietist\",\"Data Scietist\",\"Data Scietist\",\"Data Scietist\",\"Data Scietist\",\"Data Scietist\",\"Data Scietist\",\"Data Scietist\",\"Data Scietist\",\"Data Scietist\",\"Data Scietist\",\"Data Scietist\",\"Data Scietist\",\"Data Scietist\",\"Data Scietist\",\"ML\",\"Data Scietist\",\"Data Scietist\",\"Data Scietist\",\"ML\",\"Data Scietist\",\"Data Scietist\",\"ML\",\"Data Scietist\",\"Data Scietist\",\"Data Scietist\",\"ML\",\"Data Scietist\",\"Data Scietist\",\"Data Scietist\",\"Data Scietist\",\"ML\",\"Data Scietist\",\"Data Scietist\",\"Data Scietist\",\"Data Scietist\",\"Data Scietist\",\"ML\",\"Data Scietist\",\"Data Scietist\",\"Data Scietist\",\"Data Scietist\",\"Data Scietist\",\"Data Scietist\",\"Data Scietist\",\"Data Scietist\",\"Data Scietist\",\"Data Scietist\",\"Data Scietist\",\"Data Scietist\",\"Data Scietist\",\"Data Scietist\",\"Data Scietist\",\"Data Scietist\",\"Data Scietist\",\"Data Scietist\",\"Data Scietist\",\"Data Scietist\",\"Data Scietist\",\"Data Scietist\",\"Data Scietist\",\"Data Scietist\",\"Data Scietist\",\"Data Scietist\",\"Data Scietist\",\"Data Scietist\",\"Data Scietist\",\"Data Scietist\",\"Data Scietist\",\"Data Scietist\",\"Data Scietist\",\"Data Scietist\",\"Data Scietist\",\"Data Scietist\",\"Data Scietist\",\"Data Scietist\",\"Data Scietist\",\"Data Scietist\",\"Data Scietist\",\"Data Scietist\",\"Data Scietist\",\"Data Scietist\",\"Data Scietist\",\"Data Scietist\",\"Data Scietist\",\"Data Scietist\",\"Data Scietist\",\"Data Scietist\",\"Data Scietist\",\"Data Scietist\",\"Data Scietist\",\"Data Scietist\",\"Data Scietist\",\"Data Scietist\",\"Data Scietist\",\"Data Scietist\",\"Data Scietist\"],\"xaxis\":\"x\",\"y\":[120500.0,115000.0,188000.0,156800.0,158611.0,201500.0,140350.0,158611.0,144000.0,140350.0,165000.0,175000.0,190000.0,158611.0,201500.0,138500.0,140350.0,140000.0,163200.0,74880.0,158611.0,273500.0,139500.0,138500.0,172600.0,158611.0,188000.0,156800.0,273500.0,172600.0,158611.0,188000.0,273500.0,156800.0,172600.0,158611.0,188000.0,273500.0,156800.0,120500.0,188000.0,156800.0,273500.0,120500.0,188000.0,156800.0,273500.0,172600.0,188000.0,156800.0,273500.0,158611.0,188000.0,156800.0,273500.0,172600.0,158611.0,188000.0,156800.0,138500.0,144000.0,172600.0,158611.0,156800.0,188000.0,273500.0,201500.0,144000.0,138500.0,172600.0,158611.0,156800.0,188000.0,144000.0,138500.0,156800.0,188000.0,138500.0,144000.0,188000.0,156800.0,138500.0,188000.0,156800.0,138500.0,188000.0,156800.0,138500.0,188000.0,156800.0,138500.0,188000.0,156800.0,138500.0,188000.0,156800.0,138500.0,188000.0,156800.0,188000.0,156800.0,188000.0,228500.0,188000.0,144000.0,228500.0,188000.0,144000.0,115000.0,228500.0,144000.0,188000.0,144000.0,188000.0,151000.0,138500.0,140000.0,156800.0,165000.0,140000.0,144000.0,120500.0,219500.0,178000.0,156800.0,140000.0,149850.0,165000.0,219500.0,178000.0,156800.0,175000.0,163200.0,157200.0,273500.0,219500.0,178000.0,156800.0,175000.0,163200.0,157200.0,120500.0,178000.0,273500.0,219500.0,156800.0,124000.0,157200.0,273500.0,219500.0,156800.0,165000.0,150000.0,175000.0,140000.0,157200.0,273500.0,219500.0,156800.0,165000.0,175000.0,150000.0,163200.0,157200.0,273500.0,219500.0,156800.0,150000.0,165000.0,126800.0,157200.0,273500.0,219500.0,178000.0,156800.0,140000.0,126800.0,157200.0,273500.0,219500.0,156800.0,157500.0,201500.0,178000.0,151000.0,124000.0,157200.0,273500.0,219500.0,156800.0,157500.0,151000.0,201500.0,178000.0,140000.0,149850.0,157200.0,273500.0,219500.0,157500.0,151000.0,178000.0,156800.0,149850.0,165000.0,140000.0,157200.0,273500.0,219500.0,157500.0,151000.0,156800.0,178000.0,201500.0,140000.0,138500.0,149850.0,157200.0,273500.0,219500.0,157500.0,151000.0,156800.0,178000.0,201500.0,140000.0,149850.0,157200.0,273500.0,219500.0,157500.0,140000.0,149850.0,178000.0,151000.0,201500.0,138500.0,157200.0,273500.0,219500.0,157500.0,124000.0,140000.0,149850.0,151000.0,178000.0,138500.0,156800.0,157200.0,79680.0,219500.0,178000.0,157500.0,124000.0,140000.0,149850.0,157200.0,273500.0,79680.0,219500.0,178000.0,157500.0,140000.0,149850.0,151000.0,157200.0,273500.0,79680.0,219500.0,178000.0,157500.0,140000.0,149850.0,138500.0,156800.0,157200.0,273500.0,219500.0,79680.0,178000.0,157500.0,149850.0,140000.0,138500.0,156800.0,157200.0,273500.0,219500.0,79680.0,178000.0,157500.0,149850.0,140000.0,138500.0,156800.0,157200.0,273500.0,219500.0,79680.0,178000.0,157500.0,124000.0,149850.0,140000.0,138500.0,156800.0,157200.0,273500.0,79680.0,178000.0,157500.0,124000.0,149850.0,140000.0,138500.0,156800.0,157200.0,273500.0,219500.0,79680.0,178000.0,157500.0,124000.0,149850.0,140000.0,157200.0,219500.0,79680.0,178000.0,157500.0,149850.0,140000.0,157200.0,273500.0,219500.0,157500.0,149850.0,178000.0,140000.0,151000.0,138500.0,157200.0,273500.0,219500.0,79680.0,157500.0,149850.0,140000.0,178000.0,157200.0,273500.0,79680.0,219500.0,157500.0,149850.0,157200.0,273500.0,79680.0,219500.0,157500.0,149850.0,202500.0,130000.0,150000.0,125000.0,125000.0,90000.0,90000.0,157500.0,157500.0,150000.0,125000.0,125000.0,150000.0,125000.0,125000.0,150000.0,125000.0,125000.0,150000.0,125000.0,150000.0,125000.0,125000.0,150000.0,125000.0,125000.0,150000.0,125000.0,125000.0,150000.0,125000.0,125000.0,150000.0,125000.0,125000.0,150000.0,125000.0,125000.0,130000.0,150000.0,125000.0,125000.0,150000.0,125000.0,125000.0,150000.0,125000.0,125000.0,130000.0,150000.0,125000.0,125000.0,130000.0,150000.0,125000.0,125000.0,150000.0,125000.0,150000.0,125000.0,150000.0,125000.0,125000.0,90000.0,150000.0,125000.0,130000.0,90000.0,150000.0,130000.0,90000.0,150000.0,125000.0,125000.0,90000.0,150000.0,125000.0,125000.0,130000.0,90000.0,150000.0,125000.0,125000.0,130000.0,130000.0,90000.0,150000.0,125000.0,125000.0,130000.0,130000.0,190000.0,208000.0,187000.0,130000.0,208000.0,187000.0,130000.0,208000.0,208000.0,208000.0,208000.0,208000.0,187000.0,208000.0,187000.0,208000.0,187000.0,208000.0,187000.0,187000.0,208000.0,187000.0,208000.0,187000.0,208000.0,187000.0,208000.0,187000.0,208000.0,187000.0,208000.0,187000.0,208000.0,187000.0,208000.0,187000.0,208000.0,187000.0,208000.0,187000.0,208000.0,187000.0,208000.0,187000.0,208000.0,187000.0,208000.0,187000.0,208000.0,187000.0,208000.0,187000.0,208000.0,187000.0],\"yaxis\":\"y\",\"type\":\"scattergl\"},{\"hovertemplate\":\"Seniority=0<br>Title=%{x}<br>Salary=%{y}<extra></extra>\",\"legendgroup\":\"0\",\"marker\":{\"color\":\"#00cc96\",\"symbol\":\"circle\"},\"mode\":\"markers\",\"name\":\"0\",\"showlegend\":true,\"x\":[\"Data Scietist\",\"Data Scietist\",\"Data Scietist\",\"Data Scietist\",\"Data Scietist\",\"Data Scietist\"],\"xaxis\":\"x\",\"y\":[91852.8,70000.0,75319.0,75319.0,75319.0,75319.0],\"yaxis\":\"y\",\"type\":\"scattergl\"}],                        {\"template\":{\"data\":{\"bar\":[{\"error_x\":{\"color\":\"#2a3f5f\"},\"error_y\":{\"color\":\"#2a3f5f\"},\"marker\":{\"line\":{\"color\":\"#E5ECF6\",\"width\":0.5},\"pattern\":{\"fillmode\":\"overlay\",\"size\":10,\"solidity\":0.2}},\"type\":\"bar\"}],\"barpolar\":[{\"marker\":{\"line\":{\"color\":\"#E5ECF6\",\"width\":0.5},\"pattern\":{\"fillmode\":\"overlay\",\"size\":10,\"solidity\":0.2}},\"type\":\"barpolar\"}],\"carpet\":[{\"aaxis\":{\"endlinecolor\":\"#2a3f5f\",\"gridcolor\":\"white\",\"linecolor\":\"white\",\"minorgridcolor\":\"white\",\"startlinecolor\":\"#2a3f5f\"},\"baxis\":{\"endlinecolor\":\"#2a3f5f\",\"gridcolor\":\"white\",\"linecolor\":\"white\",\"minorgridcolor\":\"white\",\"startlinecolor\":\"#2a3f5f\"},\"type\":\"carpet\"}],\"choropleth\":[{\"colorbar\":{\"outlinewidth\":0,\"ticks\":\"\"},\"type\":\"choropleth\"}],\"contour\":[{\"colorbar\":{\"outlinewidth\":0,\"ticks\":\"\"},\"colorscale\":[[0.0,\"#0d0887\"],[0.1111111111111111,\"#46039f\"],[0.2222222222222222,\"#7201a8\"],[0.3333333333333333,\"#9c179e\"],[0.4444444444444444,\"#bd3786\"],[0.5555555555555556,\"#d8576b\"],[0.6666666666666666,\"#ed7953\"],[0.7777777777777778,\"#fb9f3a\"],[0.8888888888888888,\"#fdca26\"],[1.0,\"#f0f921\"]],\"type\":\"contour\"}],\"contourcarpet\":[{\"colorbar\":{\"outlinewidth\":0,\"ticks\":\"\"},\"type\":\"contourcarpet\"}],\"heatmap\":[{\"colorbar\":{\"outlinewidth\":0,\"ticks\":\"\"},\"colorscale\":[[0.0,\"#0d0887\"],[0.1111111111111111,\"#46039f\"],[0.2222222222222222,\"#7201a8\"],[0.3333333333333333,\"#9c179e\"],[0.4444444444444444,\"#bd3786\"],[0.5555555555555556,\"#d8576b\"],[0.6666666666666666,\"#ed7953\"],[0.7777777777777778,\"#fb9f3a\"],[0.8888888888888888,\"#fdca26\"],[1.0,\"#f0f921\"]],\"type\":\"heatmap\"}],\"heatmapgl\":[{\"colorbar\":{\"outlinewidth\":0,\"ticks\":\"\"},\"colorscale\":[[0.0,\"#0d0887\"],[0.1111111111111111,\"#46039f\"],[0.2222222222222222,\"#7201a8\"],[0.3333333333333333,\"#9c179e\"],[0.4444444444444444,\"#bd3786\"],[0.5555555555555556,\"#d8576b\"],[0.6666666666666666,\"#ed7953\"],[0.7777777777777778,\"#fb9f3a\"],[0.8888888888888888,\"#fdca26\"],[1.0,\"#f0f921\"]],\"type\":\"heatmapgl\"}],\"histogram\":[{\"marker\":{\"pattern\":{\"fillmode\":\"overlay\",\"size\":10,\"solidity\":0.2}},\"type\":\"histogram\"}],\"histogram2d\":[{\"colorbar\":{\"outlinewidth\":0,\"ticks\":\"\"},\"colorscale\":[[0.0,\"#0d0887\"],[0.1111111111111111,\"#46039f\"],[0.2222222222222222,\"#7201a8\"],[0.3333333333333333,\"#9c179e\"],[0.4444444444444444,\"#bd3786\"],[0.5555555555555556,\"#d8576b\"],[0.6666666666666666,\"#ed7953\"],[0.7777777777777778,\"#fb9f3a\"],[0.8888888888888888,\"#fdca26\"],[1.0,\"#f0f921\"]],\"type\":\"histogram2d\"}],\"histogram2dcontour\":[{\"colorbar\":{\"outlinewidth\":0,\"ticks\":\"\"},\"colorscale\":[[0.0,\"#0d0887\"],[0.1111111111111111,\"#46039f\"],[0.2222222222222222,\"#7201a8\"],[0.3333333333333333,\"#9c179e\"],[0.4444444444444444,\"#bd3786\"],[0.5555555555555556,\"#d8576b\"],[0.6666666666666666,\"#ed7953\"],[0.7777777777777778,\"#fb9f3a\"],[0.8888888888888888,\"#fdca26\"],[1.0,\"#f0f921\"]],\"type\":\"histogram2dcontour\"}],\"mesh3d\":[{\"colorbar\":{\"outlinewidth\":0,\"ticks\":\"\"},\"type\":\"mesh3d\"}],\"parcoords\":[{\"line\":{\"colorbar\":{\"outlinewidth\":0,\"ticks\":\"\"}},\"type\":\"parcoords\"}],\"pie\":[{\"automargin\":true,\"type\":\"pie\"}],\"scatter\":[{\"marker\":{\"colorbar\":{\"outlinewidth\":0,\"ticks\":\"\"}},\"type\":\"scatter\"}],\"scatter3d\":[{\"line\":{\"colorbar\":{\"outlinewidth\":0,\"ticks\":\"\"}},\"marker\":{\"colorbar\":{\"outlinewidth\":0,\"ticks\":\"\"}},\"type\":\"scatter3d\"}],\"scattercarpet\":[{\"marker\":{\"colorbar\":{\"outlinewidth\":0,\"ticks\":\"\"}},\"type\":\"scattercarpet\"}],\"scattergeo\":[{\"marker\":{\"colorbar\":{\"outlinewidth\":0,\"ticks\":\"\"}},\"type\":\"scattergeo\"}],\"scattergl\":[{\"marker\":{\"colorbar\":{\"outlinewidth\":0,\"ticks\":\"\"}},\"type\":\"scattergl\"}],\"scattermapbox\":[{\"marker\":{\"colorbar\":{\"outlinewidth\":0,\"ticks\":\"\"}},\"type\":\"scattermapbox\"}],\"scatterpolar\":[{\"marker\":{\"colorbar\":{\"outlinewidth\":0,\"ticks\":\"\"}},\"type\":\"scatterpolar\"}],\"scatterpolargl\":[{\"marker\":{\"colorbar\":{\"outlinewidth\":0,\"ticks\":\"\"}},\"type\":\"scatterpolargl\"}],\"scatterternary\":[{\"marker\":{\"colorbar\":{\"outlinewidth\":0,\"ticks\":\"\"}},\"type\":\"scatterternary\"}],\"surface\":[{\"colorbar\":{\"outlinewidth\":0,\"ticks\":\"\"},\"colorscale\":[[0.0,\"#0d0887\"],[0.1111111111111111,\"#46039f\"],[0.2222222222222222,\"#7201a8\"],[0.3333333333333333,\"#9c179e\"],[0.4444444444444444,\"#bd3786\"],[0.5555555555555556,\"#d8576b\"],[0.6666666666666666,\"#ed7953\"],[0.7777777777777778,\"#fb9f3a\"],[0.8888888888888888,\"#fdca26\"],[1.0,\"#f0f921\"]],\"type\":\"surface\"}],\"table\":[{\"cells\":{\"fill\":{\"color\":\"#EBF0F8\"},\"line\":{\"color\":\"white\"}},\"header\":{\"fill\":{\"color\":\"#C8D4E3\"},\"line\":{\"color\":\"white\"}},\"type\":\"table\"}]},\"layout\":{\"annotationdefaults\":{\"arrowcolor\":\"#2a3f5f\",\"arrowhead\":0,\"arrowwidth\":1},\"autotypenumbers\":\"strict\",\"coloraxis\":{\"colorbar\":{\"outlinewidth\":0,\"ticks\":\"\"}},\"colorscale\":{\"diverging\":[[0,\"#8e0152\"],[0.1,\"#c51b7d\"],[0.2,\"#de77ae\"],[0.3,\"#f1b6da\"],[0.4,\"#fde0ef\"],[0.5,\"#f7f7f7\"],[0.6,\"#e6f5d0\"],[0.7,\"#b8e186\"],[0.8,\"#7fbc41\"],[0.9,\"#4d9221\"],[1,\"#276419\"]],\"sequential\":[[0.0,\"#0d0887\"],[0.1111111111111111,\"#46039f\"],[0.2222222222222222,\"#7201a8\"],[0.3333333333333333,\"#9c179e\"],[0.4444444444444444,\"#bd3786\"],[0.5555555555555556,\"#d8576b\"],[0.6666666666666666,\"#ed7953\"],[0.7777777777777778,\"#fb9f3a\"],[0.8888888888888888,\"#fdca26\"],[1.0,\"#f0f921\"]],\"sequentialminus\":[[0.0,\"#0d0887\"],[0.1111111111111111,\"#46039f\"],[0.2222222222222222,\"#7201a8\"],[0.3333333333333333,\"#9c179e\"],[0.4444444444444444,\"#bd3786\"],[0.5555555555555556,\"#d8576b\"],[0.6666666666666666,\"#ed7953\"],[0.7777777777777778,\"#fb9f3a\"],[0.8888888888888888,\"#fdca26\"],[1.0,\"#f0f921\"]]},\"colorway\":[\"#636efa\",\"#EF553B\",\"#00cc96\",\"#ab63fa\",\"#FFA15A\",\"#19d3f3\",\"#FF6692\",\"#B6E880\",\"#FF97FF\",\"#FECB52\"],\"font\":{\"color\":\"#2a3f5f\"},\"geo\":{\"bgcolor\":\"white\",\"lakecolor\":\"white\",\"landcolor\":\"#E5ECF6\",\"showlakes\":true,\"showland\":true,\"subunitcolor\":\"white\"},\"hoverlabel\":{\"align\":\"left\"},\"hovermode\":\"closest\",\"mapbox\":{\"style\":\"light\"},\"paper_bgcolor\":\"white\",\"plot_bgcolor\":\"#E5ECF6\",\"polar\":{\"angularaxis\":{\"gridcolor\":\"white\",\"linecolor\":\"white\",\"ticks\":\"\"},\"bgcolor\":\"#E5ECF6\",\"radialaxis\":{\"gridcolor\":\"white\",\"linecolor\":\"white\",\"ticks\":\"\"}},\"scene\":{\"xaxis\":{\"backgroundcolor\":\"#E5ECF6\",\"gridcolor\":\"white\",\"gridwidth\":2,\"linecolor\":\"white\",\"showbackground\":true,\"ticks\":\"\",\"zerolinecolor\":\"white\"},\"yaxis\":{\"backgroundcolor\":\"#E5ECF6\",\"gridcolor\":\"white\",\"gridwidth\":2,\"linecolor\":\"white\",\"showbackground\":true,\"ticks\":\"\",\"zerolinecolor\":\"white\"},\"zaxis\":{\"backgroundcolor\":\"#E5ECF6\",\"gridcolor\":\"white\",\"gridwidth\":2,\"linecolor\":\"white\",\"showbackground\":true,\"ticks\":\"\",\"zerolinecolor\":\"white\"}},\"shapedefaults\":{\"line\":{\"color\":\"#2a3f5f\"}},\"ternary\":{\"aaxis\":{\"gridcolor\":\"white\",\"linecolor\":\"white\",\"ticks\":\"\"},\"baxis\":{\"gridcolor\":\"white\",\"linecolor\":\"white\",\"ticks\":\"\"},\"bgcolor\":\"#E5ECF6\",\"caxis\":{\"gridcolor\":\"white\",\"linecolor\":\"white\",\"ticks\":\"\"}},\"title\":{\"x\":0.05},\"xaxis\":{\"automargin\":true,\"gridcolor\":\"white\",\"linecolor\":\"white\",\"ticks\":\"\",\"title\":{\"standoff\":15},\"zerolinecolor\":\"white\",\"zerolinewidth\":2},\"yaxis\":{\"automargin\":true,\"gridcolor\":\"white\",\"linecolor\":\"white\",\"ticks\":\"\",\"title\":{\"standoff\":15},\"zerolinecolor\":\"white\",\"zerolinewidth\":2}}},\"xaxis\":{\"anchor\":\"y\",\"domain\":[0.0,1.0],\"title\":{\"text\":\"Title\"}},\"yaxis\":{\"anchor\":\"x\",\"domain\":[0.0,1.0],\"title\":{\"text\":\"Salary\"}},\"legend\":{\"title\":{\"text\":\"Seniority\"},\"tracegroupgap\":0},\"margin\":{\"t\":60}},                        {\"responsive\": true}                    ).then(function(){\n",
       "                            \n",
       "var gd = document.getElementById('730f1651-8ed4-420c-be4d-5937ee02c40e');\n",
       "var x = new MutationObserver(function (mutations, observer) {{\n",
       "        var display = window.getComputedStyle(gd).display;\n",
       "        if (!display || display === 'none') {{\n",
       "            console.log([gd, 'removed!']);\n",
       "            Plotly.purge(gd);\n",
       "            observer.disconnect();\n",
       "        }}\n",
       "}});\n",
       "\n",
       "// Listen for the removal of the full notebook cells\n",
       "var notebookContainer = gd.closest('#notebook-container');\n",
       "if (notebookContainer) {{\n",
       "    x.observe(notebookContainer, {childList: true});\n",
       "}}\n",
       "\n",
       "// Listen for the clearing of the current output cell\n",
       "var outputEl = gd.closest('.output');\n",
       "if (outputEl) {{\n",
       "    x.observe(outputEl, {childList: true});\n",
       "}}\n",
       "\n",
       "                        })                };                });            </script>        </div>"
      ]
     },
     "metadata": {},
     "output_type": "display_data"
    }
   ],
   "source": [
    "px.scatter(df,x='Title',y='Salary',color='Seniority')"
   ]
  }
 ],
 "metadata": {
  "kernelspec": {
   "display_name": "Python 3 (ipykernel)",
   "language": "python",
   "name": "python3"
  },
  "language_info": {
   "codemirror_mode": {
    "name": "ipython",
    "version": 3
   },
   "file_extension": ".py",
   "mimetype": "text/x-python",
   "name": "python",
   "nbconvert_exporter": "python",
   "pygments_lexer": "ipython3",
   "version": "3.9.7"
  }
 },
 "nbformat": 4,
 "nbformat_minor": 5
}
